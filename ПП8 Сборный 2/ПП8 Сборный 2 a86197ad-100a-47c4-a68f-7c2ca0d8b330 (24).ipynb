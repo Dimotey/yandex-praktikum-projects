{
 "cells": [
  {
   "cell_type": "markdown",
   "metadata": {},
   "source": [
    "# Оглавление <a id='start'></a>\n",
    "   *(кликабельное)* \n",
    "1. Глава\n",
    "    1. Параграф\n",
    "        1. Пункт\n",
    "            1. Подпункт\n",
    "\n",
    "\n",
    "1. [Предобработка данных](#chapter1)\n",
    "    1. [Подключение необходимых библиотек](#chapter1.A)\n",
    "    2. [Исследование данных](#chapter1.B)\n",
    "    3. [Подготовка данных, признаков и функций](#chapter1.С)\n",
    "        1. [Расчёт эффективности](#chapter1.С.а)\n",
    "            1. [Функция расчёта эффективности](#chapter1.С.а.i)\n",
    "            2. [Проверка правильности уже расчитаной эффективности](#chapter1.С.а.ii)\n",
    "        2. [Анализ признаков, недоступных в тестовой выборке](#chapter1.С.b)\n",
    "        3. [Подготовка данных](#chapter1.С.c)\n",
    "            1. [Преобразоваения *date*](#chapter1.С.c.i)\n",
    "            2. [Подготовка признаков](#chapter1.С.c.ii)\n",
    "            2. [Масштабирование даннных](#chapter1.С.c.iii)\n",
    "        4. [Выводы по параграфу \"Подготовка данных, признаков и функций\"](#chapter1.С.d)\n",
    "    4. [Выводы о главе \"Предобработка данных\"](#chapter1.D)\n",
    "2. [Анализ данных](#chapter2)\n",
    "    1. [Изменение концентрации металлов (`Au`, `Ag`, `Pb`) на различных этапах очистки](#chapter2.A)\n",
    "    2. [Сравнение распределения размеров гранул сырья на обучающей и тестовой выборках](#chapter2.B)\n",
    "    3. [Исследование суммарной концентрации всех веществ на разных стадиях: в сырье, в черновом и финальном концентратах](#chapter2.C)\n",
    "3. [Модель](#chapter3)\n",
    "    1. [Функция для вычисления итоговой sMAPE](#chapter3.A)\n",
    "    2. [Проверка работы функции sMAPE и itog_sMAPE.](#chapter3.B)\n",
    "    3. [Кросс-Валидация](#chapter3.C)\n",
    "        1. [Линейная регресиия](#chapter3.C.a)\n",
    "        2. [Случайный лес](#chapter3.C.b)\n",
    "        3. [Решающее древо](#chapter3.C.с)\n",
    "        4. [Сравнение моделей](#chapter3.C.d)\n",
    "    4. [Выводы о главе \"Модель\"](#chapter3.D)\n"
   ]
  },
  {
   "cell_type": "markdown",
   "metadata": {},
   "source": [
    "# 1. Подготовка данных <a id='chapter1'></a>"
   ]
  },
  {
   "cell_type": "markdown",
   "metadata": {},
   "source": [
    "## 1.А Подключение необходимых библиотек и загрузка данных <a id='chapter1.A'>\n",
    "[К оглавлению](#start)    "
   ]
  },
  {
   "cell_type": "code",
   "execution_count": 71,
   "metadata": {},
   "outputs": [],
   "source": [
    "# Импортирую необходимые библиотеки\n",
    "import pandas as pd\n",
    "import numpy as np\n",
    "\n",
    "from sklearn.model_selection import train_test_split\n",
    "from sklearn.preprocessing import StandardScaler\n",
    "\n",
    "from sklearn.tree import DecisionTreeRegressor\n",
    "from sklearn.ensemble import RandomForestRegressor\n",
    "from sklearn.linear_model import LinearRegression\n",
    "\n",
    "from sklearn.model_selection import cross_val_score\n",
    "\n",
    "from sklearn.metrics import mean_absolute_error\n",
    "from sklearn.metrics import mean_squared_error\n",
    "from sklearn.metrics import r2_score\n",
    "\n",
    "import matplotlib.pyplot as plt\n",
    "import seaborn as sb\n",
    "sb.set_style('darkgrid') # Задаю стиль граффического отбражения данных\n",
    "sb.set_context('notebook') # Задаю стиль граффического отбражения данных"
   ]
  },
  {
   "cell_type": "code",
   "execution_count": 72,
   "metadata": {},
   "outputs": [],
   "source": [
    "# загружаю датасет для работы на сервере практикума\n",
    "gr_train = pd.read_csv('/datasets/gold_recovery_train.csv')\n",
    "gr_test = pd.read_csv('/datasets/gold_recovery_test.csv')\n",
    "gr = pd.read_csv('/datasets/gold_recovery_full.csv')"
   ]
  },
  {
   "cell_type": "markdown",
   "metadata": {},
   "source": [
    "\n",
    "gr_train = pd.read_csv('gold_recovery_train.csv')\n",
    "gr_test = pd.read_csv('gold_recovery_test.csv')\n",
    "gr = pd.read_csv('gold_recovery_full.csv')"
   ]
  },
  {
   "cell_type": "markdown",
   "metadata": {},
   "source": [
    "######  Вывод о загрузке данных и библиотек\n",
    "1. Библиотеки собраны все в одной ячейке\n",
    "2. Данные очень большие "
   ]
  },
  {
   "cell_type": "markdown",
   "metadata": {},
   "source": [
    "## 1.B Исследование данных <a id='chapter1.B'>\n",
    "[К оглавлению](#start)    "
   ]
  },
  {
   "cell_type": "markdown",
   "metadata": {},
   "source": [
    "При работе с данными стоит заранее убедиться в:\n",
    "1. Наимедовании признаков\n",
    "2. Наличии в датасете\n",
    "    - пропусков\n",
    "    - несоответствия типов данных\n",
    "    - дубликатов\n",
    "    - выбросов\n",
    "    - всех признаков, (в тестовой и в обучающей не все признаки)"
   ]
  },
  {
   "cell_type": "markdown",
   "metadata": {},
   "source": [
    "#### Наименование признаков:\n",
    "     \n",
    " * [этап].[тип_параметра].[название_параметра]\n",
    " * Пример: rougher.input.feed_ag\n",
    " * Возможные значения для блока [этап]:\n",
    "     * rougher — флотация\n",
    "     * primary_cleaner — первичная очистка\n",
    "     * secondary_cleaner — вторичная очистка\n",
    "     * final — финальные характеристики\n",
    " * Возможные значения для блока [тип_параметра]:\n",
    "     * input — параметры сырья\n",
    "     * output — параметры продукта\n",
    "     * state — параметры, характеризующие текущее состояние этапа\n",
    "     * calculation — расчётные характеристики"
   ]
  },
  {
   "cell_type": "markdown",
   "metadata": {},
   "source": [
    "Осмотр первых строк и распределении значенийдатасета на предмет:\n",
    "* Необходимости приводить к целочисленому типу\n",
    "* Необходимости в масштабировании данных для обучения"
   ]
  },
  {
   "cell_type": "code",
   "execution_count": 73,
   "metadata": {},
   "outputs": [
    {
     "data": {
      "text/html": [
       "<div>\n",
       "<style scoped>\n",
       "    .dataframe tbody tr th:only-of-type {\n",
       "        vertical-align: middle;\n",
       "    }\n",
       "\n",
       "    .dataframe tbody tr th {\n",
       "        vertical-align: top;\n",
       "    }\n",
       "\n",
       "    .dataframe thead th {\n",
       "        text-align: right;\n",
       "    }\n",
       "</style>\n",
       "<table border=\"1\" class=\"dataframe\">\n",
       "  <thead>\n",
       "    <tr style=\"text-align: right;\">\n",
       "      <th></th>\n",
       "      <th>date</th>\n",
       "      <th>final.output.concentrate_ag</th>\n",
       "      <th>final.output.concentrate_pb</th>\n",
       "      <th>final.output.concentrate_sol</th>\n",
       "      <th>final.output.concentrate_au</th>\n",
       "      <th>final.output.recovery</th>\n",
       "      <th>final.output.tail_ag</th>\n",
       "      <th>final.output.tail_pb</th>\n",
       "      <th>final.output.tail_sol</th>\n",
       "      <th>final.output.tail_au</th>\n",
       "      <th>...</th>\n",
       "      <th>secondary_cleaner.state.floatbank4_a_air</th>\n",
       "      <th>secondary_cleaner.state.floatbank4_a_level</th>\n",
       "      <th>secondary_cleaner.state.floatbank4_b_air</th>\n",
       "      <th>secondary_cleaner.state.floatbank4_b_level</th>\n",
       "      <th>secondary_cleaner.state.floatbank5_a_air</th>\n",
       "      <th>secondary_cleaner.state.floatbank5_a_level</th>\n",
       "      <th>secondary_cleaner.state.floatbank5_b_air</th>\n",
       "      <th>secondary_cleaner.state.floatbank5_b_level</th>\n",
       "      <th>secondary_cleaner.state.floatbank6_a_air</th>\n",
       "      <th>secondary_cleaner.state.floatbank6_a_level</th>\n",
       "    </tr>\n",
       "  </thead>\n",
       "  <tbody>\n",
       "    <tr>\n",
       "      <td>0</td>\n",
       "      <td>2016-01-15 00:00:00</td>\n",
       "      <td>6.055403</td>\n",
       "      <td>9.889648</td>\n",
       "      <td>5.507324</td>\n",
       "      <td>42.192020</td>\n",
       "      <td>70.541216</td>\n",
       "      <td>10.411962</td>\n",
       "      <td>0.895447</td>\n",
       "      <td>16.904297</td>\n",
       "      <td>2.143149</td>\n",
       "      <td>...</td>\n",
       "      <td>14.016835</td>\n",
       "      <td>-502.488007</td>\n",
       "      <td>12.099931</td>\n",
       "      <td>-504.715942</td>\n",
       "      <td>9.925633</td>\n",
       "      <td>-498.310211</td>\n",
       "      <td>8.079666</td>\n",
       "      <td>-500.470978</td>\n",
       "      <td>14.151341</td>\n",
       "      <td>-605.841980</td>\n",
       "    </tr>\n",
       "    <tr>\n",
       "      <td>1</td>\n",
       "      <td>2016-01-15 01:00:00</td>\n",
       "      <td>6.029369</td>\n",
       "      <td>9.968944</td>\n",
       "      <td>5.257781</td>\n",
       "      <td>42.701629</td>\n",
       "      <td>69.266198</td>\n",
       "      <td>10.462676</td>\n",
       "      <td>0.927452</td>\n",
       "      <td>16.634514</td>\n",
       "      <td>2.224930</td>\n",
       "      <td>...</td>\n",
       "      <td>13.992281</td>\n",
       "      <td>-505.503262</td>\n",
       "      <td>11.950531</td>\n",
       "      <td>-501.331529</td>\n",
       "      <td>10.039245</td>\n",
       "      <td>-500.169983</td>\n",
       "      <td>7.984757</td>\n",
       "      <td>-500.582168</td>\n",
       "      <td>13.998353</td>\n",
       "      <td>-599.787184</td>\n",
       "    </tr>\n",
       "    <tr>\n",
       "      <td>2</td>\n",
       "      <td>2016-01-15 02:00:00</td>\n",
       "      <td>6.055926</td>\n",
       "      <td>10.213995</td>\n",
       "      <td>5.383759</td>\n",
       "      <td>42.657501</td>\n",
       "      <td>68.116445</td>\n",
       "      <td>10.507046</td>\n",
       "      <td>0.953716</td>\n",
       "      <td>16.208849</td>\n",
       "      <td>2.257889</td>\n",
       "      <td>...</td>\n",
       "      <td>14.015015</td>\n",
       "      <td>-502.520901</td>\n",
       "      <td>11.912783</td>\n",
       "      <td>-501.133383</td>\n",
       "      <td>10.070913</td>\n",
       "      <td>-500.129135</td>\n",
       "      <td>8.013877</td>\n",
       "      <td>-500.517572</td>\n",
       "      <td>14.028663</td>\n",
       "      <td>-601.427363</td>\n",
       "    </tr>\n",
       "    <tr>\n",
       "      <td>3</td>\n",
       "      <td>2016-01-15 03:00:00</td>\n",
       "      <td>6.047977</td>\n",
       "      <td>9.977019</td>\n",
       "      <td>4.858634</td>\n",
       "      <td>42.689819</td>\n",
       "      <td>68.347543</td>\n",
       "      <td>10.422762</td>\n",
       "      <td>0.883763</td>\n",
       "      <td>16.532835</td>\n",
       "      <td>2.146849</td>\n",
       "      <td>...</td>\n",
       "      <td>14.036510</td>\n",
       "      <td>-500.857308</td>\n",
       "      <td>11.999550</td>\n",
       "      <td>-501.193686</td>\n",
       "      <td>9.970366</td>\n",
       "      <td>-499.201640</td>\n",
       "      <td>7.977324</td>\n",
       "      <td>-500.255908</td>\n",
       "      <td>14.005551</td>\n",
       "      <td>-599.996129</td>\n",
       "    </tr>\n",
       "    <tr>\n",
       "      <td>4</td>\n",
       "      <td>2016-01-15 04:00:00</td>\n",
       "      <td>6.148599</td>\n",
       "      <td>10.142511</td>\n",
       "      <td>4.939416</td>\n",
       "      <td>42.774141</td>\n",
       "      <td>66.927016</td>\n",
       "      <td>10.360302</td>\n",
       "      <td>0.792826</td>\n",
       "      <td>16.525686</td>\n",
       "      <td>2.055292</td>\n",
       "      <td>...</td>\n",
       "      <td>14.027298</td>\n",
       "      <td>-499.838632</td>\n",
       "      <td>11.953070</td>\n",
       "      <td>-501.053894</td>\n",
       "      <td>9.925709</td>\n",
       "      <td>-501.686727</td>\n",
       "      <td>7.894242</td>\n",
       "      <td>-500.356035</td>\n",
       "      <td>13.996647</td>\n",
       "      <td>-601.496691</td>\n",
       "    </tr>\n",
       "  </tbody>\n",
       "</table>\n",
       "<p>5 rows × 87 columns</p>\n",
       "</div>"
      ],
      "text/plain": [
       "                  date  final.output.concentrate_ag  \\\n",
       "0  2016-01-15 00:00:00                     6.055403   \n",
       "1  2016-01-15 01:00:00                     6.029369   \n",
       "2  2016-01-15 02:00:00                     6.055926   \n",
       "3  2016-01-15 03:00:00                     6.047977   \n",
       "4  2016-01-15 04:00:00                     6.148599   \n",
       "\n",
       "   final.output.concentrate_pb  final.output.concentrate_sol  \\\n",
       "0                     9.889648                      5.507324   \n",
       "1                     9.968944                      5.257781   \n",
       "2                    10.213995                      5.383759   \n",
       "3                     9.977019                      4.858634   \n",
       "4                    10.142511                      4.939416   \n",
       "\n",
       "   final.output.concentrate_au  final.output.recovery  final.output.tail_ag  \\\n",
       "0                    42.192020              70.541216             10.411962   \n",
       "1                    42.701629              69.266198             10.462676   \n",
       "2                    42.657501              68.116445             10.507046   \n",
       "3                    42.689819              68.347543             10.422762   \n",
       "4                    42.774141              66.927016             10.360302   \n",
       "\n",
       "   final.output.tail_pb  final.output.tail_sol  final.output.tail_au  ...  \\\n",
       "0              0.895447              16.904297              2.143149  ...   \n",
       "1              0.927452              16.634514              2.224930  ...   \n",
       "2              0.953716              16.208849              2.257889  ...   \n",
       "3              0.883763              16.532835              2.146849  ...   \n",
       "4              0.792826              16.525686              2.055292  ...   \n",
       "\n",
       "   secondary_cleaner.state.floatbank4_a_air  \\\n",
       "0                                 14.016835   \n",
       "1                                 13.992281   \n",
       "2                                 14.015015   \n",
       "3                                 14.036510   \n",
       "4                                 14.027298   \n",
       "\n",
       "   secondary_cleaner.state.floatbank4_a_level  \\\n",
       "0                                 -502.488007   \n",
       "1                                 -505.503262   \n",
       "2                                 -502.520901   \n",
       "3                                 -500.857308   \n",
       "4                                 -499.838632   \n",
       "\n",
       "   secondary_cleaner.state.floatbank4_b_air  \\\n",
       "0                                 12.099931   \n",
       "1                                 11.950531   \n",
       "2                                 11.912783   \n",
       "3                                 11.999550   \n",
       "4                                 11.953070   \n",
       "\n",
       "   secondary_cleaner.state.floatbank4_b_level  \\\n",
       "0                                 -504.715942   \n",
       "1                                 -501.331529   \n",
       "2                                 -501.133383   \n",
       "3                                 -501.193686   \n",
       "4                                 -501.053894   \n",
       "\n",
       "   secondary_cleaner.state.floatbank5_a_air  \\\n",
       "0                                  9.925633   \n",
       "1                                 10.039245   \n",
       "2                                 10.070913   \n",
       "3                                  9.970366   \n",
       "4                                  9.925709   \n",
       "\n",
       "   secondary_cleaner.state.floatbank5_a_level  \\\n",
       "0                                 -498.310211   \n",
       "1                                 -500.169983   \n",
       "2                                 -500.129135   \n",
       "3                                 -499.201640   \n",
       "4                                 -501.686727   \n",
       "\n",
       "   secondary_cleaner.state.floatbank5_b_air  \\\n",
       "0                                  8.079666   \n",
       "1                                  7.984757   \n",
       "2                                  8.013877   \n",
       "3                                  7.977324   \n",
       "4                                  7.894242   \n",
       "\n",
       "   secondary_cleaner.state.floatbank5_b_level  \\\n",
       "0                                 -500.470978   \n",
       "1                                 -500.582168   \n",
       "2                                 -500.517572   \n",
       "3                                 -500.255908   \n",
       "4                                 -500.356035   \n",
       "\n",
       "   secondary_cleaner.state.floatbank6_a_air  \\\n",
       "0                                 14.151341   \n",
       "1                                 13.998353   \n",
       "2                                 14.028663   \n",
       "3                                 14.005551   \n",
       "4                                 13.996647   \n",
       "\n",
       "   secondary_cleaner.state.floatbank6_a_level  \n",
       "0                                 -605.841980  \n",
       "1                                 -599.787184  \n",
       "2                                 -601.427363  \n",
       "3                                 -599.996129  \n",
       "4                                 -601.496691  \n",
       "\n",
       "[5 rows x 87 columns]"
      ]
     },
     "execution_count": 73,
     "metadata": {},
     "output_type": "execute_result"
    }
   ],
   "source": [
    "gr.head()"
   ]
  },
  {
   "cell_type": "markdown",
   "metadata": {},
   "source": [
    "###### Вывод промежуточный об осмотре  первых строк\n",
    "1. Данные представлены с высокой точностью, но неясен их разброс, уточним этот момент методом describe().\n",
    "2. Данные стоит промасштабировать потому что присутсвуют признаки значения которых разнятся на 2 порядка. \n",
    "\n",
    "[В начало параграфа](#chapter1.B)   "
   ]
  },
  {
   "cell_type": "code",
   "execution_count": 74,
   "metadata": {},
   "outputs": [
    {
     "data": {
      "text/html": [
       "<div>\n",
       "<style scoped>\n",
       "    .dataframe tbody tr th:only-of-type {\n",
       "        vertical-align: middle;\n",
       "    }\n",
       "\n",
       "    .dataframe tbody tr th {\n",
       "        vertical-align: top;\n",
       "    }\n",
       "\n",
       "    .dataframe thead th {\n",
       "        text-align: right;\n",
       "    }\n",
       "</style>\n",
       "<table border=\"1\" class=\"dataframe\">\n",
       "  <thead>\n",
       "    <tr style=\"text-align: right;\">\n",
       "      <th></th>\n",
       "      <th>final.output.concentrate_ag</th>\n",
       "      <th>final.output.concentrate_pb</th>\n",
       "      <th>final.output.concentrate_sol</th>\n",
       "      <th>final.output.concentrate_au</th>\n",
       "      <th>final.output.recovery</th>\n",
       "      <th>final.output.tail_ag</th>\n",
       "      <th>final.output.tail_pb</th>\n",
       "      <th>final.output.tail_sol</th>\n",
       "      <th>final.output.tail_au</th>\n",
       "      <th>primary_cleaner.input.sulfate</th>\n",
       "      <th>...</th>\n",
       "      <th>secondary_cleaner.state.floatbank4_a_air</th>\n",
       "      <th>secondary_cleaner.state.floatbank4_a_level</th>\n",
       "      <th>secondary_cleaner.state.floatbank4_b_air</th>\n",
       "      <th>secondary_cleaner.state.floatbank4_b_level</th>\n",
       "      <th>secondary_cleaner.state.floatbank5_a_air</th>\n",
       "      <th>secondary_cleaner.state.floatbank5_a_level</th>\n",
       "      <th>secondary_cleaner.state.floatbank5_b_air</th>\n",
       "      <th>secondary_cleaner.state.floatbank5_b_level</th>\n",
       "      <th>secondary_cleaner.state.floatbank6_a_air</th>\n",
       "      <th>secondary_cleaner.state.floatbank6_a_level</th>\n",
       "    </tr>\n",
       "  </thead>\n",
       "  <tbody>\n",
       "    <tr>\n",
       "      <td>count</td>\n",
       "      <td>22627.000000</td>\n",
       "      <td>22629.000000</td>\n",
       "      <td>22331.000000</td>\n",
       "      <td>22630.000000</td>\n",
       "      <td>20753.000000</td>\n",
       "      <td>22633.000000</td>\n",
       "      <td>22516.000000</td>\n",
       "      <td>22445.000000</td>\n",
       "      <td>22635.000000</td>\n",
       "      <td>21107.000000</td>\n",
       "      <td>...</td>\n",
       "      <td>22571.000000</td>\n",
       "      <td>22587.000000</td>\n",
       "      <td>22608.000000</td>\n",
       "      <td>22607.000000</td>\n",
       "      <td>22615.000000</td>\n",
       "      <td>22615.000000</td>\n",
       "      <td>22615.000000</td>\n",
       "      <td>22616.000000</td>\n",
       "      <td>22597.000000</td>\n",
       "      <td>22615.000000</td>\n",
       "    </tr>\n",
       "    <tr>\n",
       "      <td>mean</td>\n",
       "      <td>4.781559</td>\n",
       "      <td>9.095308</td>\n",
       "      <td>8.640317</td>\n",
       "      <td>40.001172</td>\n",
       "      <td>67.447488</td>\n",
       "      <td>8.923690</td>\n",
       "      <td>2.488252</td>\n",
       "      <td>9.523632</td>\n",
       "      <td>2.827459</td>\n",
       "      <td>140.277672</td>\n",
       "      <td>...</td>\n",
       "      <td>18.205125</td>\n",
       "      <td>-499.878977</td>\n",
       "      <td>14.356474</td>\n",
       "      <td>-476.532613</td>\n",
       "      <td>14.883276</td>\n",
       "      <td>-503.323288</td>\n",
       "      <td>11.626743</td>\n",
       "      <td>-500.521502</td>\n",
       "      <td>17.976810</td>\n",
       "      <td>-519.361465</td>\n",
       "    </tr>\n",
       "    <tr>\n",
       "      <td>std</td>\n",
       "      <td>2.030128</td>\n",
       "      <td>3.230797</td>\n",
       "      <td>3.785035</td>\n",
       "      <td>13.398062</td>\n",
       "      <td>11.616034</td>\n",
       "      <td>3.517917</td>\n",
       "      <td>1.189407</td>\n",
       "      <td>4.079739</td>\n",
       "      <td>1.262834</td>\n",
       "      <td>49.919004</td>\n",
       "      <td>...</td>\n",
       "      <td>6.560700</td>\n",
       "      <td>80.273964</td>\n",
       "      <td>5.655791</td>\n",
       "      <td>93.822791</td>\n",
       "      <td>6.372811</td>\n",
       "      <td>72.925589</td>\n",
       "      <td>5.757449</td>\n",
       "      <td>78.956292</td>\n",
       "      <td>6.636203</td>\n",
       "      <td>75.477151</td>\n",
       "    </tr>\n",
       "    <tr>\n",
       "      <td>min</td>\n",
       "      <td>0.000000</td>\n",
       "      <td>0.000000</td>\n",
       "      <td>0.000000</td>\n",
       "      <td>0.000000</td>\n",
       "      <td>0.000000</td>\n",
       "      <td>0.000000</td>\n",
       "      <td>0.000000</td>\n",
       "      <td>0.000000</td>\n",
       "      <td>0.000000</td>\n",
       "      <td>0.000003</td>\n",
       "      <td>...</td>\n",
       "      <td>0.000000</td>\n",
       "      <td>-799.920713</td>\n",
       "      <td>0.000000</td>\n",
       "      <td>-800.836914</td>\n",
       "      <td>-0.423260</td>\n",
       "      <td>-799.741097</td>\n",
       "      <td>0.427084</td>\n",
       "      <td>-800.258209</td>\n",
       "      <td>-0.079426</td>\n",
       "      <td>-810.473526</td>\n",
       "    </tr>\n",
       "    <tr>\n",
       "      <td>25%</td>\n",
       "      <td>4.018525</td>\n",
       "      <td>8.750171</td>\n",
       "      <td>7.116799</td>\n",
       "      <td>42.383721</td>\n",
       "      <td>63.282393</td>\n",
       "      <td>7.684016</td>\n",
       "      <td>1.805376</td>\n",
       "      <td>8.143576</td>\n",
       "      <td>2.303108</td>\n",
       "      <td>110.177081</td>\n",
       "      <td>...</td>\n",
       "      <td>14.095940</td>\n",
       "      <td>-500.896232</td>\n",
       "      <td>10.882675</td>\n",
       "      <td>-500.309169</td>\n",
       "      <td>10.941299</td>\n",
       "      <td>-500.628697</td>\n",
       "      <td>8.037533</td>\n",
       "      <td>-500.167897</td>\n",
       "      <td>13.968418</td>\n",
       "      <td>-500.981671</td>\n",
       "    </tr>\n",
       "    <tr>\n",
       "      <td>50%</td>\n",
       "      <td>4.953729</td>\n",
       "      <td>9.914519</td>\n",
       "      <td>8.908792</td>\n",
       "      <td>44.653436</td>\n",
       "      <td>68.322258</td>\n",
       "      <td>9.484369</td>\n",
       "      <td>2.653001</td>\n",
       "      <td>10.212998</td>\n",
       "      <td>2.913794</td>\n",
       "      <td>141.330501</td>\n",
       "      <td>...</td>\n",
       "      <td>18.007326</td>\n",
       "      <td>-499.917108</td>\n",
       "      <td>14.947646</td>\n",
       "      <td>-499.612292</td>\n",
       "      <td>14.859117</td>\n",
       "      <td>-499.865158</td>\n",
       "      <td>10.989756</td>\n",
       "      <td>-499.951980</td>\n",
       "      <td>18.004215</td>\n",
       "      <td>-500.095463</td>\n",
       "    </tr>\n",
       "    <tr>\n",
       "      <td>75%</td>\n",
       "      <td>5.862593</td>\n",
       "      <td>10.929839</td>\n",
       "      <td>10.705824</td>\n",
       "      <td>46.111999</td>\n",
       "      <td>72.950836</td>\n",
       "      <td>11.084557</td>\n",
       "      <td>3.287790</td>\n",
       "      <td>11.860824</td>\n",
       "      <td>3.555077</td>\n",
       "      <td>174.049914</td>\n",
       "      <td>...</td>\n",
       "      <td>22.998194</td>\n",
       "      <td>-498.361545</td>\n",
       "      <td>17.977502</td>\n",
       "      <td>-400.224147</td>\n",
       "      <td>18.014914</td>\n",
       "      <td>-498.489381</td>\n",
       "      <td>14.001193</td>\n",
       "      <td>-499.492354</td>\n",
       "      <td>23.009704</td>\n",
       "      <td>-499.526388</td>\n",
       "    </tr>\n",
       "    <tr>\n",
       "      <td>max</td>\n",
       "      <td>16.001945</td>\n",
       "      <td>17.031899</td>\n",
       "      <td>19.615720</td>\n",
       "      <td>53.611374</td>\n",
       "      <td>100.000000</td>\n",
       "      <td>19.552149</td>\n",
       "      <td>6.086532</td>\n",
       "      <td>22.861749</td>\n",
       "      <td>9.789625</td>\n",
       "      <td>274.409626</td>\n",
       "      <td>...</td>\n",
       "      <td>60.000000</td>\n",
       "      <td>-127.692333</td>\n",
       "      <td>31.269706</td>\n",
       "      <td>-6.506986</td>\n",
       "      <td>63.116298</td>\n",
       "      <td>-244.483566</td>\n",
       "      <td>39.846228</td>\n",
       "      <td>-120.190931</td>\n",
       "      <td>54.876806</td>\n",
       "      <td>-29.093593</td>\n",
       "    </tr>\n",
       "  </tbody>\n",
       "</table>\n",
       "<p>8 rows × 86 columns</p>\n",
       "</div>"
      ],
      "text/plain": [
       "       final.output.concentrate_ag  final.output.concentrate_pb  \\\n",
       "count                 22627.000000                 22629.000000   \n",
       "mean                      4.781559                     9.095308   \n",
       "std                       2.030128                     3.230797   \n",
       "min                       0.000000                     0.000000   \n",
       "25%                       4.018525                     8.750171   \n",
       "50%                       4.953729                     9.914519   \n",
       "75%                       5.862593                    10.929839   \n",
       "max                      16.001945                    17.031899   \n",
       "\n",
       "       final.output.concentrate_sol  final.output.concentrate_au  \\\n",
       "count                  22331.000000                 22630.000000   \n",
       "mean                       8.640317                    40.001172   \n",
       "std                        3.785035                    13.398062   \n",
       "min                        0.000000                     0.000000   \n",
       "25%                        7.116799                    42.383721   \n",
       "50%                        8.908792                    44.653436   \n",
       "75%                       10.705824                    46.111999   \n",
       "max                       19.615720                    53.611374   \n",
       "\n",
       "       final.output.recovery  final.output.tail_ag  final.output.tail_pb  \\\n",
       "count           20753.000000          22633.000000          22516.000000   \n",
       "mean               67.447488              8.923690              2.488252   \n",
       "std                11.616034              3.517917              1.189407   \n",
       "min                 0.000000              0.000000              0.000000   \n",
       "25%                63.282393              7.684016              1.805376   \n",
       "50%                68.322258              9.484369              2.653001   \n",
       "75%                72.950836             11.084557              3.287790   \n",
       "max               100.000000             19.552149              6.086532   \n",
       "\n",
       "       final.output.tail_sol  final.output.tail_au  \\\n",
       "count           22445.000000          22635.000000   \n",
       "mean                9.523632              2.827459   \n",
       "std                 4.079739              1.262834   \n",
       "min                 0.000000              0.000000   \n",
       "25%                 8.143576              2.303108   \n",
       "50%                10.212998              2.913794   \n",
       "75%                11.860824              3.555077   \n",
       "max                22.861749              9.789625   \n",
       "\n",
       "       primary_cleaner.input.sulfate  ...  \\\n",
       "count                   21107.000000  ...   \n",
       "mean                      140.277672  ...   \n",
       "std                        49.919004  ...   \n",
       "min                         0.000003  ...   \n",
       "25%                       110.177081  ...   \n",
       "50%                       141.330501  ...   \n",
       "75%                       174.049914  ...   \n",
       "max                       274.409626  ...   \n",
       "\n",
       "       secondary_cleaner.state.floatbank4_a_air  \\\n",
       "count                              22571.000000   \n",
       "mean                                  18.205125   \n",
       "std                                    6.560700   \n",
       "min                                    0.000000   \n",
       "25%                                   14.095940   \n",
       "50%                                   18.007326   \n",
       "75%                                   22.998194   \n",
       "max                                   60.000000   \n",
       "\n",
       "       secondary_cleaner.state.floatbank4_a_level  \\\n",
       "count                                22587.000000   \n",
       "mean                                  -499.878977   \n",
       "std                                     80.273964   \n",
       "min                                   -799.920713   \n",
       "25%                                   -500.896232   \n",
       "50%                                   -499.917108   \n",
       "75%                                   -498.361545   \n",
       "max                                   -127.692333   \n",
       "\n",
       "       secondary_cleaner.state.floatbank4_b_air  \\\n",
       "count                              22608.000000   \n",
       "mean                                  14.356474   \n",
       "std                                    5.655791   \n",
       "min                                    0.000000   \n",
       "25%                                   10.882675   \n",
       "50%                                   14.947646   \n",
       "75%                                   17.977502   \n",
       "max                                   31.269706   \n",
       "\n",
       "       secondary_cleaner.state.floatbank4_b_level  \\\n",
       "count                                22607.000000   \n",
       "mean                                  -476.532613   \n",
       "std                                     93.822791   \n",
       "min                                   -800.836914   \n",
       "25%                                   -500.309169   \n",
       "50%                                   -499.612292   \n",
       "75%                                   -400.224147   \n",
       "max                                     -6.506986   \n",
       "\n",
       "       secondary_cleaner.state.floatbank5_a_air  \\\n",
       "count                              22615.000000   \n",
       "mean                                  14.883276   \n",
       "std                                    6.372811   \n",
       "min                                   -0.423260   \n",
       "25%                                   10.941299   \n",
       "50%                                   14.859117   \n",
       "75%                                   18.014914   \n",
       "max                                   63.116298   \n",
       "\n",
       "       secondary_cleaner.state.floatbank5_a_level  \\\n",
       "count                                22615.000000   \n",
       "mean                                  -503.323288   \n",
       "std                                     72.925589   \n",
       "min                                   -799.741097   \n",
       "25%                                   -500.628697   \n",
       "50%                                   -499.865158   \n",
       "75%                                   -498.489381   \n",
       "max                                   -244.483566   \n",
       "\n",
       "       secondary_cleaner.state.floatbank5_b_air  \\\n",
       "count                              22615.000000   \n",
       "mean                                  11.626743   \n",
       "std                                    5.757449   \n",
       "min                                    0.427084   \n",
       "25%                                    8.037533   \n",
       "50%                                   10.989756   \n",
       "75%                                   14.001193   \n",
       "max                                   39.846228   \n",
       "\n",
       "       secondary_cleaner.state.floatbank5_b_level  \\\n",
       "count                                22616.000000   \n",
       "mean                                  -500.521502   \n",
       "std                                     78.956292   \n",
       "min                                   -800.258209   \n",
       "25%                                   -500.167897   \n",
       "50%                                   -499.951980   \n",
       "75%                                   -499.492354   \n",
       "max                                   -120.190931   \n",
       "\n",
       "       secondary_cleaner.state.floatbank6_a_air  \\\n",
       "count                              22597.000000   \n",
       "mean                                  17.976810   \n",
       "std                                    6.636203   \n",
       "min                                   -0.079426   \n",
       "25%                                   13.968418   \n",
       "50%                                   18.004215   \n",
       "75%                                   23.009704   \n",
       "max                                   54.876806   \n",
       "\n",
       "       secondary_cleaner.state.floatbank6_a_level  \n",
       "count                                22615.000000  \n",
       "mean                                  -519.361465  \n",
       "std                                     75.477151  \n",
       "min                                   -810.473526  \n",
       "25%                                   -500.981671  \n",
       "50%                                   -500.095463  \n",
       "75%                                   -499.526388  \n",
       "max                                    -29.093593  \n",
       "\n",
       "[8 rows x 86 columns]"
      ]
     },
     "execution_count": 74,
     "metadata": {},
     "output_type": "execute_result"
    }
   ],
   "source": [
    "gr.describe()"
   ]
  },
  {
   "cell_type": "markdown",
   "metadata": {},
   "source": [
    "##### Вывод промежуточный об осмотре  первых строк\n",
    "1. Данные не нужно приводить к целому типу\n",
    "2. Данные необходимо **промасштабировать**\n",
    "3. Признак `date` показывает значения вплоть до часов, стоит **преобразовать `(date)`** его к типу date_time.\n",
    "\n",
    "[В начало параграфа](#chapter1.B)    "
   ]
  },
  {
   "cell_type": "markdown",
   "metadata": {},
   "source": [
    "Осмотр данных методом info(). Он позволит понять есть ли в датасете:\n",
    "* пропуски\n",
    "* несоответствие типов данных\n",
    "* также он продемонстрирует неодинаковое количество признаков в датасете\n",
    "    "
   ]
  },
  {
   "cell_type": "code",
   "execution_count": 75,
   "metadata": {},
   "outputs": [
    {
     "name": "stdout",
     "output_type": "stream",
     "text": [
      "<class 'pandas.core.frame.DataFrame'>\n",
      "RangeIndex: 22716 entries, 0 to 22715\n",
      "Data columns (total 87 columns):\n",
      "date                                                  22716 non-null object\n",
      "final.output.concentrate_ag                           22627 non-null float64\n",
      "final.output.concentrate_pb                           22629 non-null float64\n",
      "final.output.concentrate_sol                          22331 non-null float64\n",
      "final.output.concentrate_au                           22630 non-null float64\n",
      "final.output.recovery                                 20753 non-null float64\n",
      "final.output.tail_ag                                  22633 non-null float64\n",
      "final.output.tail_pb                                  22516 non-null float64\n",
      "final.output.tail_sol                                 22445 non-null float64\n",
      "final.output.tail_au                                  22635 non-null float64\n",
      "primary_cleaner.input.sulfate                         21107 non-null float64\n",
      "primary_cleaner.input.depressant                      21170 non-null float64\n",
      "primary_cleaner.input.feed_size                       22716 non-null float64\n",
      "primary_cleaner.input.xanthate                        21565 non-null float64\n",
      "primary_cleaner.output.concentrate_ag                 22618 non-null float64\n",
      "primary_cleaner.output.concentrate_pb                 22268 non-null float64\n",
      "primary_cleaner.output.concentrate_sol                21918 non-null float64\n",
      "primary_cleaner.output.concentrate_au                 22618 non-null float64\n",
      "primary_cleaner.output.tail_ag                        22614 non-null float64\n",
      "primary_cleaner.output.tail_pb                        22594 non-null float64\n",
      "primary_cleaner.output.tail_sol                       22365 non-null float64\n",
      "primary_cleaner.output.tail_au                        22617 non-null float64\n",
      "primary_cleaner.state.floatbank8_a_air                22660 non-null float64\n",
      "primary_cleaner.state.floatbank8_a_level              22667 non-null float64\n",
      "primary_cleaner.state.floatbank8_b_air                22660 non-null float64\n",
      "primary_cleaner.state.floatbank8_b_level              22673 non-null float64\n",
      "primary_cleaner.state.floatbank8_c_air                22662 non-null float64\n",
      "primary_cleaner.state.floatbank8_c_level              22673 non-null float64\n",
      "primary_cleaner.state.floatbank8_d_air                22661 non-null float64\n",
      "primary_cleaner.state.floatbank8_d_level              22673 non-null float64\n",
      "rougher.calculation.sulfate_to_au_concentrate         22672 non-null float64\n",
      "rougher.calculation.floatbank10_sulfate_to_au_feed    22672 non-null float64\n",
      "rougher.calculation.floatbank11_sulfate_to_au_feed    22672 non-null float64\n",
      "rougher.calculation.au_pb_ratio                       21089 non-null float64\n",
      "rougher.input.feed_ag                                 22618 non-null float64\n",
      "rougher.input.feed_pb                                 22472 non-null float64\n",
      "rougher.input.feed_rate                               22163 non-null float64\n",
      "rougher.input.feed_size                               22277 non-null float64\n",
      "rougher.input.feed_sol                                22357 non-null float64\n",
      "rougher.input.feed_au                                 22617 non-null float64\n",
      "rougher.input.floatbank10_sulfate                     21415 non-null float64\n",
      "rougher.input.floatbank10_xanthate                    22247 non-null float64\n",
      "rougher.input.floatbank11_sulfate                     22038 non-null float64\n",
      "rougher.input.floatbank11_xanthate                    20459 non-null float64\n",
      "rougher.output.concentrate_ag                         22618 non-null float64\n",
      "rougher.output.concentrate_pb                         22618 non-null float64\n",
      "rougher.output.concentrate_sol                        22526 non-null float64\n",
      "rougher.output.concentrate_au                         22618 non-null float64\n",
      "rougher.output.recovery                               19597 non-null float64\n",
      "rougher.output.tail_ag                                19979 non-null float64\n",
      "rougher.output.tail_pb                                22618 non-null float64\n",
      "rougher.output.tail_sol                               19980 non-null float64\n",
      "rougher.output.tail_au                                19980 non-null float64\n",
      "rougher.state.floatbank10_a_air                       22646 non-null float64\n",
      "rougher.state.floatbank10_a_level                     22647 non-null float64\n",
      "rougher.state.floatbank10_b_air                       22646 non-null float64\n",
      "rougher.state.floatbank10_b_level                     22647 non-null float64\n",
      "rougher.state.floatbank10_c_air                       22646 non-null float64\n",
      "rougher.state.floatbank10_c_level                     22654 non-null float64\n",
      "rougher.state.floatbank10_d_air                       22641 non-null float64\n",
      "rougher.state.floatbank10_d_level                     22649 non-null float64\n",
      "rougher.state.floatbank10_e_air                       22096 non-null float64\n",
      "rougher.state.floatbank10_e_level                     22649 non-null float64\n",
      "rougher.state.floatbank10_f_air                       22641 non-null float64\n",
      "rougher.state.floatbank10_f_level                     22642 non-null float64\n",
      "secondary_cleaner.output.tail_ag                      22616 non-null float64\n",
      "secondary_cleaner.output.tail_pb                      22600 non-null float64\n",
      "secondary_cleaner.output.tail_sol                     20501 non-null float64\n",
      "secondary_cleaner.output.tail_au                      22618 non-null float64\n",
      "secondary_cleaner.state.floatbank2_a_air              22333 non-null float64\n",
      "secondary_cleaner.state.floatbank2_a_level            22591 non-null float64\n",
      "secondary_cleaner.state.floatbank2_b_air              22538 non-null float64\n",
      "secondary_cleaner.state.floatbank2_b_level            22588 non-null float64\n",
      "secondary_cleaner.state.floatbank3_a_air              22585 non-null float64\n",
      "secondary_cleaner.state.floatbank3_a_level            22587 non-null float64\n",
      "secondary_cleaner.state.floatbank3_b_air              22592 non-null float64\n",
      "secondary_cleaner.state.floatbank3_b_level            22590 non-null float64\n",
      "secondary_cleaner.state.floatbank4_a_air              22571 non-null float64\n",
      "secondary_cleaner.state.floatbank4_a_level            22587 non-null float64\n",
      "secondary_cleaner.state.floatbank4_b_air              22608 non-null float64\n",
      "secondary_cleaner.state.floatbank4_b_level            22607 non-null float64\n",
      "secondary_cleaner.state.floatbank5_a_air              22615 non-null float64\n",
      "secondary_cleaner.state.floatbank5_a_level            22615 non-null float64\n",
      "secondary_cleaner.state.floatbank5_b_air              22615 non-null float64\n",
      "secondary_cleaner.state.floatbank5_b_level            22616 non-null float64\n",
      "secondary_cleaner.state.floatbank6_a_air              22597 non-null float64\n",
      "secondary_cleaner.state.floatbank6_a_level            22615 non-null float64\n",
      "dtypes: float64(86), object(1)\n",
      "memory usage: 15.1+ MB\n"
     ]
    }
   ],
   "source": [
    "gr.info()"
   ]
  },
  {
   "cell_type": "code",
   "execution_count": 76,
   "metadata": {},
   "outputs": [
    {
     "name": "stdout",
     "output_type": "stream",
     "text": [
      "В обучающей выборке 87 столбцов.\n",
      "В тестовой выборке 53 столбца.\n",
      "В исходном в датасете 87 столбцов.\n",
      "Всего не хватает  34 столбца в тестовой выборке.\n"
     ]
    }
   ],
   "source": [
    "print('В обучающей выборке' , len(gr_train.columns) , 'столбцов.')\n",
    "print('В тестовой выборке' , len(gr_test.columns) , 'столбца.')\n",
    "print('В исходном в датасете' , len(gr.columns) , 'столбцов.')\n",
    "print('Всего не хватает ' , len(gr.columns) - len(gr_test.columns) , 'столбца в тестовой выборке.')"
   ]
  },
  {
   "cell_type": "markdown",
   "metadata": {},
   "source": [
    "##### Вывод промежуточный об осмотре методом info\n",
    "1. В датасете действительно есть пропуски, далее исследуем их, посмотрим как они распределены\n",
    "    - Их не так много, на первый взгляд для обучения модели можно просто избавиться от них\n",
    "2. Все признаки типа float, кроме `data`. Его нужно преобразовать в date_time. \n",
    "3. Разное количество признаков(столбцов). В тестовой нет 34 штук. \n",
    "\n",
    "[В начало параграфа](#chapter1.B)    "
   ]
  },
  {
   "cell_type": "code",
   "execution_count": 77,
   "metadata": {},
   "outputs": [
    {
     "data": {
      "text/plain": [
       "0"
      ]
     },
     "execution_count": 77,
     "metadata": {},
     "output_type": "execute_result"
    }
   ],
   "source": [
    "\"\"\"поиск дубликатов\"\"\"\n",
    "gr.duplicated().sum()"
   ]
  },
  {
   "cell_type": "markdown",
   "metadata": {},
   "source": [
    "Количество пропусков в датасете"
   ]
  },
  {
   "cell_type": "code",
   "execution_count": 78,
   "metadata": {},
   "outputs": [
    {
     "data": {
      "image/png": "[encoded data removed]",
      "text/plain": [
       "<Figure size 432x288 with 1 Axes>"
      ]
     },
     "metadata": {},
     "output_type": "display_data"
    }
   ],
   "source": [
    "N_NaN=pd.Series(gr.isna().sum())\n",
    "N_NaN.hist(bins = 10)\n",
    "\n",
    "plt.ylabel('Кол-во попадний')\n",
    "plt.xlabel('Кол-во NaN')\n",
    "plt.title('Распределение NaN в полном датасете')\n",
    "plt.show()"
   ]
  },
  {
   "cell_type": "markdown",
   "metadata": {},
   "source": [
    "Посмотрим что останется от данных если выкинуть все строчки с NaN"
   ]
  },
  {
   "cell_type": "code",
   "execution_count": 79,
   "metadata": {},
   "outputs": [
    {
     "name": "stdout",
     "output_type": "stream",
     "text": [
      "Размер всего датасета без NaN: 16094\n",
      "Размер обучающей выборки без NaN 11017\n",
      "Размер тестовой выборки без NaN: 5383\n",
      "Размер тестовой + обучающей выбоки: 16400\n"
     ]
    }
   ],
   "source": [
    "print('Размер всего датасета без NaN:',len(gr.dropna()))\n",
    "print('Размер обучающей выборки без NaN',len(gr_train.dropna()))\n",
    "print('Размер тестовой выборки без NaN:',len(gr_test.dropna()))\n",
    "print('Размер тестовой + обучающей выбоки:', (len(gr_test.dropna())+len(gr_train.dropna())))"
   ]
  },
  {
   "cell_type": "markdown",
   "metadata": {},
   "source": [
    "1. Каким то образом Тестовая + Обучающая больше чем весь датасет. Такое может быть потому, что:\n",
    "    - В исходном датасете есть все признаки а в тестовой выборке не все. Это недостающее кол-во NaN - от туда.\n",
    "2. Причина пропущенных значений может быть в:\n",
    "    - не на каждом этапе регистрируются все признаки"
   ]
  },
  {
   "cell_type": "markdown",
   "metadata": {},
   "source": [
    "######  Вывод о исследовании данных\n",
    "На следующем этапе подготовки данных необходимо:\n",
    "- Промасштабировать данные\n",
    "- Преобразовать date в date_time\n",
    "- NaN. В данных имеются пропуски.\n",
    "\n",
    "[В начало параграфа \"Исследование данных\"](#chapter1.B)   \n",
    "[К оглавлению](#start)    "
   ]
  },
  {
   "cell_type": "markdown",
   "metadata": {},
   "source": [
    "# 1.С Подготовка данных, признаков и функций <a id='chapter1.C'>\n",
    "[К оглавлению](#start)    "
   ]
  },
  {
   "cell_type": "markdown",
   "metadata": {},
   "source": [
    "1. [Расчёт эффективности](#chapter1.С.а)\n",
    "    1. [Функция расчёта эффективности](#chapter1.С.а.i)\n",
    "    2. [Проверка правильности уже расчитаной эффективности](#chapter1.С.а.ii)\n",
    "2. [Анализ признаков, недоступных в тестовой выборке](#chapter1.С.b)\n",
    "3. [Подготовка данных](#chapter1.С.c)\n",
    "    1. [Преобразоваения *date*](#chapter1.С.c.i)\n",
    "    2. [Подготовка признаков](#chapter1.С.c.ii)\n",
    "    2. [Масштабирование даннных](#chapter1.С.c.iii)\n",
    "    4. [Выводы о подготовке данных](#chapter1.С.c.iiii) \n",
    "    \n",
    "    Перед тем как подготавливать данные стоит посмотреть на все 87 признаков."
   ]
  },
  {
   "cell_type": "code",
   "execution_count": 80,
   "metadata": {},
   "outputs": [
    {
     "data": {
      "text/html": [
       "<div>\n",
       "<style scoped>\n",
       "    .dataframe tbody tr th:only-of-type {\n",
       "        vertical-align: middle;\n",
       "    }\n",
       "\n",
       "    .dataframe tbody tr th {\n",
       "        vertical-align: top;\n",
       "    }\n",
       "\n",
       "    .dataframe thead th {\n",
       "        text-align: right;\n",
       "    }\n",
       "</style>\n",
       "<table border=\"1\" class=\"dataframe\">\n",
       "  <thead>\n",
       "    <tr style=\"text-align: right;\">\n",
       "      <th></th>\n",
       "      <th>rougher</th>\n",
       "      <th>primary_cleaner</th>\n",
       "      <th>secondary_cleaner</th>\n",
       "      <th>final</th>\n",
       "    </tr>\n",
       "  </thead>\n",
       "  <tbody>\n",
       "  </tbody>\n",
       "</table>\n",
       "</div>"
      ],
      "text/plain": [
       "Empty DataFrame\n",
       "Columns: [rougher, primary_cleaner, secondary_cleaner, final]\n",
       "Index: []"
      ]
     },
     "execution_count": 80,
     "metadata": {},
     "output_type": "execute_result"
    }
   ],
   "source": [
    "stage = [ 'rougher' , 'primary_cleaner' , 'secondary_cleaner', 'final' ]\n",
    "type_of_par = [ 'input' , 'output' , 'state' , 'calculation' ]\n",
    "df_stage=pd.DataFrame(columns = stage)\n",
    "df_stage"
   ]
  },
  {
   "cell_type": "code",
   "execution_count": 81,
   "metadata": {},
   "outputs": [
    {
     "data": {
      "text/html": [
       "<div>\n",
       "<style scoped>\n",
       "    .dataframe tbody tr th:only-of-type {\n",
       "        vertical-align: middle;\n",
       "    }\n",
       "\n",
       "    .dataframe tbody tr th {\n",
       "        vertical-align: top;\n",
       "    }\n",
       "\n",
       "    .dataframe thead th {\n",
       "        text-align: right;\n",
       "    }\n",
       "</style>\n",
       "<table border=\"1\" class=\"dataframe\">\n",
       "  <thead>\n",
       "    <tr style=\"text-align: right;\">\n",
       "      <th></th>\n",
       "      <th>rougher</th>\n",
       "      <th>primary_cleaner</th>\n",
       "      <th>secondary_cleaner</th>\n",
       "      <th>final</th>\n",
       "    </tr>\n",
       "  </thead>\n",
       "  <tbody>\n",
       "    <tr>\n",
       "      <td>0</td>\n",
       "      <td>rougher.calculation.sulfate_to_au_concentrate</td>\n",
       "      <td>primary_cleaner.input.sulfate</td>\n",
       "      <td>secondary_cleaner.output.tail_ag</td>\n",
       "      <td>final.output.concentrate_ag</td>\n",
       "    </tr>\n",
       "    <tr>\n",
       "      <td>1</td>\n",
       "      <td>rougher.calculation.floatbank10_sulfate_to_au_...</td>\n",
       "      <td>primary_cleaner.input.depressant</td>\n",
       "      <td>secondary_cleaner.output.tail_pb</td>\n",
       "      <td>final.output.concentrate_pb</td>\n",
       "    </tr>\n",
       "    <tr>\n",
       "      <td>2</td>\n",
       "      <td>rougher.calculation.floatbank11_sulfate_to_au_...</td>\n",
       "      <td>primary_cleaner.input.feed_size</td>\n",
       "      <td>secondary_cleaner.output.tail_sol</td>\n",
       "      <td>final.output.concentrate_sol</td>\n",
       "    </tr>\n",
       "    <tr>\n",
       "      <td>3</td>\n",
       "      <td>rougher.calculation.au_pb_ratio</td>\n",
       "      <td>primary_cleaner.input.xanthate</td>\n",
       "      <td>secondary_cleaner.output.tail_au</td>\n",
       "      <td>final.output.concentrate_au</td>\n",
       "    </tr>\n",
       "    <tr>\n",
       "      <td>4</td>\n",
       "      <td>rougher.input.feed_ag</td>\n",
       "      <td>primary_cleaner.output.concentrate_ag</td>\n",
       "      <td>secondary_cleaner.state.floatbank2_a_air</td>\n",
       "      <td>final.output.recovery</td>\n",
       "    </tr>\n",
       "    <tr>\n",
       "      <td>5</td>\n",
       "      <td>rougher.input.feed_pb</td>\n",
       "      <td>primary_cleaner.output.concentrate_pb</td>\n",
       "      <td>secondary_cleaner.state.floatbank2_a_level</td>\n",
       "      <td>final.output.tail_ag</td>\n",
       "    </tr>\n",
       "    <tr>\n",
       "      <td>6</td>\n",
       "      <td>rougher.input.feed_rate</td>\n",
       "      <td>primary_cleaner.output.concentrate_sol</td>\n",
       "      <td>secondary_cleaner.state.floatbank2_b_air</td>\n",
       "      <td>final.output.tail_pb</td>\n",
       "    </tr>\n",
       "    <tr>\n",
       "      <td>7</td>\n",
       "      <td>rougher.input.feed_size</td>\n",
       "      <td>primary_cleaner.output.concentrate_au</td>\n",
       "      <td>secondary_cleaner.state.floatbank2_b_level</td>\n",
       "      <td>final.output.tail_sol</td>\n",
       "    </tr>\n",
       "    <tr>\n",
       "      <td>8</td>\n",
       "      <td>rougher.input.feed_sol</td>\n",
       "      <td>primary_cleaner.output.tail_ag</td>\n",
       "      <td>secondary_cleaner.state.floatbank3_a_air</td>\n",
       "      <td>final.output.tail_au</td>\n",
       "    </tr>\n",
       "    <tr>\n",
       "      <td>9</td>\n",
       "      <td>rougher.input.feed_au</td>\n",
       "      <td>primary_cleaner.output.tail_pb</td>\n",
       "      <td>secondary_cleaner.state.floatbank3_a_level</td>\n",
       "      <td>NaN</td>\n",
       "    </tr>\n",
       "    <tr>\n",
       "      <td>10</td>\n",
       "      <td>rougher.input.floatbank10_sulfate</td>\n",
       "      <td>primary_cleaner.output.tail_sol</td>\n",
       "      <td>secondary_cleaner.state.floatbank3_b_air</td>\n",
       "      <td>NaN</td>\n",
       "    </tr>\n",
       "    <tr>\n",
       "      <td>11</td>\n",
       "      <td>rougher.input.floatbank10_xanthate</td>\n",
       "      <td>primary_cleaner.output.tail_au</td>\n",
       "      <td>secondary_cleaner.state.floatbank3_b_level</td>\n",
       "      <td>NaN</td>\n",
       "    </tr>\n",
       "    <tr>\n",
       "      <td>12</td>\n",
       "      <td>rougher.input.floatbank11_sulfate</td>\n",
       "      <td>primary_cleaner.state.floatbank8_a_air</td>\n",
       "      <td>secondary_cleaner.state.floatbank4_a_air</td>\n",
       "      <td>NaN</td>\n",
       "    </tr>\n",
       "    <tr>\n",
       "      <td>13</td>\n",
       "      <td>rougher.input.floatbank11_xanthate</td>\n",
       "      <td>primary_cleaner.state.floatbank8_a_level</td>\n",
       "      <td>secondary_cleaner.state.floatbank4_a_level</td>\n",
       "      <td>NaN</td>\n",
       "    </tr>\n",
       "    <tr>\n",
       "      <td>14</td>\n",
       "      <td>rougher.output.concentrate_ag</td>\n",
       "      <td>primary_cleaner.state.floatbank8_b_air</td>\n",
       "      <td>secondary_cleaner.state.floatbank4_b_air</td>\n",
       "      <td>NaN</td>\n",
       "    </tr>\n",
       "    <tr>\n",
       "      <td>15</td>\n",
       "      <td>rougher.output.concentrate_pb</td>\n",
       "      <td>primary_cleaner.state.floatbank8_b_level</td>\n",
       "      <td>secondary_cleaner.state.floatbank4_b_level</td>\n",
       "      <td>NaN</td>\n",
       "    </tr>\n",
       "    <tr>\n",
       "      <td>16</td>\n",
       "      <td>rougher.output.concentrate_sol</td>\n",
       "      <td>primary_cleaner.state.floatbank8_c_air</td>\n",
       "      <td>secondary_cleaner.state.floatbank5_a_air</td>\n",
       "      <td>NaN</td>\n",
       "    </tr>\n",
       "    <tr>\n",
       "      <td>17</td>\n",
       "      <td>rougher.output.concentrate_au</td>\n",
       "      <td>primary_cleaner.state.floatbank8_c_level</td>\n",
       "      <td>secondary_cleaner.state.floatbank5_a_level</td>\n",
       "      <td>NaN</td>\n",
       "    </tr>\n",
       "    <tr>\n",
       "      <td>18</td>\n",
       "      <td>rougher.output.recovery</td>\n",
       "      <td>primary_cleaner.state.floatbank8_d_air</td>\n",
       "      <td>secondary_cleaner.state.floatbank5_b_air</td>\n",
       "      <td>NaN</td>\n",
       "    </tr>\n",
       "    <tr>\n",
       "      <td>19</td>\n",
       "      <td>rougher.output.tail_ag</td>\n",
       "      <td>primary_cleaner.state.floatbank8_d_level</td>\n",
       "      <td>secondary_cleaner.state.floatbank5_b_level</td>\n",
       "      <td>NaN</td>\n",
       "    </tr>\n",
       "    <tr>\n",
       "      <td>20</td>\n",
       "      <td>rougher.output.tail_pb</td>\n",
       "      <td>NaN</td>\n",
       "      <td>secondary_cleaner.state.floatbank6_a_air</td>\n",
       "      <td>NaN</td>\n",
       "    </tr>\n",
       "    <tr>\n",
       "      <td>21</td>\n",
       "      <td>rougher.output.tail_sol</td>\n",
       "      <td>NaN</td>\n",
       "      <td>secondary_cleaner.state.floatbank6_a_level</td>\n",
       "      <td>NaN</td>\n",
       "    </tr>\n",
       "    <tr>\n",
       "      <td>22</td>\n",
       "      <td>rougher.output.tail_au</td>\n",
       "      <td>NaN</td>\n",
       "      <td>NaN</td>\n",
       "      <td>NaN</td>\n",
       "    </tr>\n",
       "    <tr>\n",
       "      <td>23</td>\n",
       "      <td>rougher.state.floatbank10_a_air</td>\n",
       "      <td>NaN</td>\n",
       "      <td>NaN</td>\n",
       "      <td>NaN</td>\n",
       "    </tr>\n",
       "    <tr>\n",
       "      <td>24</td>\n",
       "      <td>rougher.state.floatbank10_a_level</td>\n",
       "      <td>NaN</td>\n",
       "      <td>NaN</td>\n",
       "      <td>NaN</td>\n",
       "    </tr>\n",
       "    <tr>\n",
       "      <td>25</td>\n",
       "      <td>rougher.state.floatbank10_b_air</td>\n",
       "      <td>NaN</td>\n",
       "      <td>NaN</td>\n",
       "      <td>NaN</td>\n",
       "    </tr>\n",
       "    <tr>\n",
       "      <td>26</td>\n",
       "      <td>rougher.state.floatbank10_b_level</td>\n",
       "      <td>NaN</td>\n",
       "      <td>NaN</td>\n",
       "      <td>NaN</td>\n",
       "    </tr>\n",
       "    <tr>\n",
       "      <td>27</td>\n",
       "      <td>rougher.state.floatbank10_c_air</td>\n",
       "      <td>NaN</td>\n",
       "      <td>NaN</td>\n",
       "      <td>NaN</td>\n",
       "    </tr>\n",
       "    <tr>\n",
       "      <td>28</td>\n",
       "      <td>rougher.state.floatbank10_c_level</td>\n",
       "      <td>NaN</td>\n",
       "      <td>NaN</td>\n",
       "      <td>NaN</td>\n",
       "    </tr>\n",
       "    <tr>\n",
       "      <td>29</td>\n",
       "      <td>rougher.state.floatbank10_d_air</td>\n",
       "      <td>NaN</td>\n",
       "      <td>NaN</td>\n",
       "      <td>NaN</td>\n",
       "    </tr>\n",
       "    <tr>\n",
       "      <td>30</td>\n",
       "      <td>rougher.state.floatbank10_d_level</td>\n",
       "      <td>NaN</td>\n",
       "      <td>NaN</td>\n",
       "      <td>NaN</td>\n",
       "    </tr>\n",
       "    <tr>\n",
       "      <td>31</td>\n",
       "      <td>rougher.state.floatbank10_e_air</td>\n",
       "      <td>NaN</td>\n",
       "      <td>NaN</td>\n",
       "      <td>NaN</td>\n",
       "    </tr>\n",
       "    <tr>\n",
       "      <td>32</td>\n",
       "      <td>rougher.state.floatbank10_e_level</td>\n",
       "      <td>NaN</td>\n",
       "      <td>NaN</td>\n",
       "      <td>NaN</td>\n",
       "    </tr>\n",
       "    <tr>\n",
       "      <td>33</td>\n",
       "      <td>rougher.state.floatbank10_f_air</td>\n",
       "      <td>NaN</td>\n",
       "      <td>NaN</td>\n",
       "      <td>NaN</td>\n",
       "    </tr>\n",
       "    <tr>\n",
       "      <td>34</td>\n",
       "      <td>rougher.state.floatbank10_f_level</td>\n",
       "      <td>NaN</td>\n",
       "      <td>NaN</td>\n",
       "      <td>NaN</td>\n",
       "    </tr>\n",
       "  </tbody>\n",
       "</table>\n",
       "</div>"
      ],
      "text/plain": [
       "                                              rougher  \\\n",
       "0       rougher.calculation.sulfate_to_au_concentrate   \n",
       "1   rougher.calculation.floatbank10_sulfate_to_au_...   \n",
       "2   rougher.calculation.floatbank11_sulfate_to_au_...   \n",
       "3                     rougher.calculation.au_pb_ratio   \n",
       "4                               rougher.input.feed_ag   \n",
       "5                               rougher.input.feed_pb   \n",
       "6                             rougher.input.feed_rate   \n",
       "7                             rougher.input.feed_size   \n",
       "8                              rougher.input.feed_sol   \n",
       "9                               rougher.input.feed_au   \n",
       "10                  rougher.input.floatbank10_sulfate   \n",
       "11                 rougher.input.floatbank10_xanthate   \n",
       "12                  rougher.input.floatbank11_sulfate   \n",
       "13                 rougher.input.floatbank11_xanthate   \n",
       "14                      rougher.output.concentrate_ag   \n",
       "15                      rougher.output.concentrate_pb   \n",
       "16                     rougher.output.concentrate_sol   \n",
       "17                      rougher.output.concentrate_au   \n",
       "18                            rougher.output.recovery   \n",
       "19                             rougher.output.tail_ag   \n",
       "20                             rougher.output.tail_pb   \n",
       "21                            rougher.output.tail_sol   \n",
       "22                             rougher.output.tail_au   \n",
       "23                    rougher.state.floatbank10_a_air   \n",
       "24                  rougher.state.floatbank10_a_level   \n",
       "25                    rougher.state.floatbank10_b_air   \n",
       "26                  rougher.state.floatbank10_b_level   \n",
       "27                    rougher.state.floatbank10_c_air   \n",
       "28                  rougher.state.floatbank10_c_level   \n",
       "29                    rougher.state.floatbank10_d_air   \n",
       "30                  rougher.state.floatbank10_d_level   \n",
       "31                    rougher.state.floatbank10_e_air   \n",
       "32                  rougher.state.floatbank10_e_level   \n",
       "33                    rougher.state.floatbank10_f_air   \n",
       "34                  rougher.state.floatbank10_f_level   \n",
       "\n",
       "                             primary_cleaner  \\\n",
       "0              primary_cleaner.input.sulfate   \n",
       "1           primary_cleaner.input.depressant   \n",
       "2            primary_cleaner.input.feed_size   \n",
       "3             primary_cleaner.input.xanthate   \n",
       "4      primary_cleaner.output.concentrate_ag   \n",
       "5      primary_cleaner.output.concentrate_pb   \n",
       "6     primary_cleaner.output.concentrate_sol   \n",
       "7      primary_cleaner.output.concentrate_au   \n",
       "8             primary_cleaner.output.tail_ag   \n",
       "9             primary_cleaner.output.tail_pb   \n",
       "10           primary_cleaner.output.tail_sol   \n",
       "11            primary_cleaner.output.tail_au   \n",
       "12    primary_cleaner.state.floatbank8_a_air   \n",
       "13  primary_cleaner.state.floatbank8_a_level   \n",
       "14    primary_cleaner.state.floatbank8_b_air   \n",
       "15  primary_cleaner.state.floatbank8_b_level   \n",
       "16    primary_cleaner.state.floatbank8_c_air   \n",
       "17  primary_cleaner.state.floatbank8_c_level   \n",
       "18    primary_cleaner.state.floatbank8_d_air   \n",
       "19  primary_cleaner.state.floatbank8_d_level   \n",
       "20                                       NaN   \n",
       "21                                       NaN   \n",
       "22                                       NaN   \n",
       "23                                       NaN   \n",
       "24                                       NaN   \n",
       "25                                       NaN   \n",
       "26                                       NaN   \n",
       "27                                       NaN   \n",
       "28                                       NaN   \n",
       "29                                       NaN   \n",
       "30                                       NaN   \n",
       "31                                       NaN   \n",
       "32                                       NaN   \n",
       "33                                       NaN   \n",
       "34                                       NaN   \n",
       "\n",
       "                             secondary_cleaner                         final  \n",
       "0             secondary_cleaner.output.tail_ag   final.output.concentrate_ag  \n",
       "1             secondary_cleaner.output.tail_pb   final.output.concentrate_pb  \n",
       "2            secondary_cleaner.output.tail_sol  final.output.concentrate_sol  \n",
       "3             secondary_cleaner.output.tail_au   final.output.concentrate_au  \n",
       "4     secondary_cleaner.state.floatbank2_a_air         final.output.recovery  \n",
       "5   secondary_cleaner.state.floatbank2_a_level          final.output.tail_ag  \n",
       "6     secondary_cleaner.state.floatbank2_b_air          final.output.tail_pb  \n",
       "7   secondary_cleaner.state.floatbank2_b_level         final.output.tail_sol  \n",
       "8     secondary_cleaner.state.floatbank3_a_air          final.output.tail_au  \n",
       "9   secondary_cleaner.state.floatbank3_a_level                           NaN  \n",
       "10    secondary_cleaner.state.floatbank3_b_air                           NaN  \n",
       "11  secondary_cleaner.state.floatbank3_b_level                           NaN  \n",
       "12    secondary_cleaner.state.floatbank4_a_air                           NaN  \n",
       "13  secondary_cleaner.state.floatbank4_a_level                           NaN  \n",
       "14    secondary_cleaner.state.floatbank4_b_air                           NaN  \n",
       "15  secondary_cleaner.state.floatbank4_b_level                           NaN  \n",
       "16    secondary_cleaner.state.floatbank5_a_air                           NaN  \n",
       "17  secondary_cleaner.state.floatbank5_a_level                           NaN  \n",
       "18    secondary_cleaner.state.floatbank5_b_air                           NaN  \n",
       "19  secondary_cleaner.state.floatbank5_b_level                           NaN  \n",
       "20    secondary_cleaner.state.floatbank6_a_air                           NaN  \n",
       "21  secondary_cleaner.state.floatbank6_a_level                           NaN  \n",
       "22                                         NaN                           NaN  \n",
       "23                                         NaN                           NaN  \n",
       "24                                         NaN                           NaN  \n",
       "25                                         NaN                           NaN  \n",
       "26                                         NaN                           NaN  \n",
       "27                                         NaN                           NaN  \n",
       "28                                         NaN                           NaN  \n",
       "29                                         NaN                           NaN  \n",
       "30                                         NaN                           NaN  \n",
       "31                                         NaN                           NaN  \n",
       "32                                         NaN                           NaN  \n",
       "33                                         NaN                           NaN  \n",
       "34                                         NaN                           NaN  "
      ]
     },
     "execution_count": 81,
     "metadata": {},
     "output_type": "execute_result"
    }
   ],
   "source": [
    "for st in stage:\n",
    "    li = []\n",
    "    for col in gr:\n",
    "        if st in col:\n",
    "            li.append(col)\n",
    "    df_stage[st] = pd.Series(li)       \n",
    "df_stage"
   ]
  },
  {
   "cell_type": "markdown",
   "metadata": {},
   "source": [
    "    Имена столбцов это этапы, и в них все переменные, которые относящиеся к этому этапу. \n",
    "\n",
    "Далее получим (4 шт) для каждого этапа таблицу с 4 типами параметров"
   ]
  },
  {
   "cell_type": "code",
   "execution_count": 82,
   "metadata": {},
   "outputs": [
    {
     "data": {
      "text/html": [
       "<div>\n",
       "<style scoped>\n",
       "    .dataframe tbody tr th:only-of-type {\n",
       "        vertical-align: middle;\n",
       "    }\n",
       "\n",
       "    .dataframe tbody tr th {\n",
       "        vertical-align: top;\n",
       "    }\n",
       "\n",
       "    .dataframe thead th {\n",
       "        text-align: right;\n",
       "    }\n",
       "</style>\n",
       "<table border=\"1\" class=\"dataframe\">\n",
       "  <thead>\n",
       "    <tr style=\"text-align: right;\">\n",
       "      <th></th>\n",
       "      <th>input</th>\n",
       "      <th>output</th>\n",
       "      <th>state</th>\n",
       "      <th>calculation</th>\n",
       "    </tr>\n",
       "  </thead>\n",
       "  <tbody>\n",
       "  </tbody>\n",
       "</table>\n",
       "</div>"
      ],
      "text/plain": [
       "Empty DataFrame\n",
       "Columns: [input, output, state, calculation]\n",
       "Index: []"
      ]
     },
     "execution_count": 82,
     "metadata": {},
     "output_type": "execute_result"
    }
   ],
   "source": [
    "df_rougher=pd.DataFrame(columns = type_of_par )\n",
    "df_primary_cleaner=pd.DataFrame(columns = type_of_par )\n",
    "df_secondary_cleaner=pd.DataFrame(columns = type_of_par )\n",
    "df_final=pd.DataFrame(columns = type_of_par )\n",
    "df_rougher"
   ]
  },
  {
   "cell_type": "code",
   "execution_count": 83,
   "metadata": {},
   "outputs": [
    {
     "name": "stdout",
     "output_type": "stream",
     "text": [
      "df_rougher\n"
     ]
    },
    {
     "data": {
      "text/html": [
       "<div>\n",
       "<style scoped>\n",
       "    .dataframe tbody tr th:only-of-type {\n",
       "        vertical-align: middle;\n",
       "    }\n",
       "\n",
       "    .dataframe tbody tr th {\n",
       "        vertical-align: top;\n",
       "    }\n",
       "\n",
       "    .dataframe thead th {\n",
       "        text-align: right;\n",
       "    }\n",
       "</style>\n",
       "<table border=\"1\" class=\"dataframe\">\n",
       "  <thead>\n",
       "    <tr style=\"text-align: right;\">\n",
       "      <th></th>\n",
       "      <th>input</th>\n",
       "      <th>output</th>\n",
       "      <th>state</th>\n",
       "      <th>calculation</th>\n",
       "    </tr>\n",
       "  </thead>\n",
       "  <tbody>\n",
       "    <tr>\n",
       "      <td>0</td>\n",
       "      <td>rougher.input.feed_ag</td>\n",
       "      <td>rougher.output.concentrate_ag</td>\n",
       "      <td>rougher.state.floatbank10_a_air</td>\n",
       "      <td>rougher.calculation.sulfate_to_au_concentrate</td>\n",
       "    </tr>\n",
       "    <tr>\n",
       "      <td>1</td>\n",
       "      <td>rougher.input.feed_pb</td>\n",
       "      <td>rougher.output.concentrate_pb</td>\n",
       "      <td>rougher.state.floatbank10_a_level</td>\n",
       "      <td>rougher.calculation.floatbank10_sulfate_to_au_...</td>\n",
       "    </tr>\n",
       "    <tr>\n",
       "      <td>2</td>\n",
       "      <td>rougher.input.feed_rate</td>\n",
       "      <td>rougher.output.concentrate_sol</td>\n",
       "      <td>rougher.state.floatbank10_b_air</td>\n",
       "      <td>rougher.calculation.floatbank11_sulfate_to_au_...</td>\n",
       "    </tr>\n",
       "    <tr>\n",
       "      <td>3</td>\n",
       "      <td>rougher.input.feed_size</td>\n",
       "      <td>rougher.output.concentrate_au</td>\n",
       "      <td>rougher.state.floatbank10_b_level</td>\n",
       "      <td>rougher.calculation.au_pb_ratio</td>\n",
       "    </tr>\n",
       "    <tr>\n",
       "      <td>4</td>\n",
       "      <td>rougher.input.feed_sol</td>\n",
       "      <td>rougher.output.recovery</td>\n",
       "      <td>rougher.state.floatbank10_c_air</td>\n",
       "      <td>NaN</td>\n",
       "    </tr>\n",
       "  </tbody>\n",
       "</table>\n",
       "</div>"
      ],
      "text/plain": [
       "                     input                          output  \\\n",
       "0    rougher.input.feed_ag   rougher.output.concentrate_ag   \n",
       "1    rougher.input.feed_pb   rougher.output.concentrate_pb   \n",
       "2  rougher.input.feed_rate  rougher.output.concentrate_sol   \n",
       "3  rougher.input.feed_size   rougher.output.concentrate_au   \n",
       "4   rougher.input.feed_sol         rougher.output.recovery   \n",
       "\n",
       "                               state  \\\n",
       "0    rougher.state.floatbank10_a_air   \n",
       "1  rougher.state.floatbank10_a_level   \n",
       "2    rougher.state.floatbank10_b_air   \n",
       "3  rougher.state.floatbank10_b_level   \n",
       "4    rougher.state.floatbank10_c_air   \n",
       "\n",
       "                                         calculation  \n",
       "0      rougher.calculation.sulfate_to_au_concentrate  \n",
       "1  rougher.calculation.floatbank10_sulfate_to_au_...  \n",
       "2  rougher.calculation.floatbank11_sulfate_to_au_...  \n",
       "3                    rougher.calculation.au_pb_ratio  \n",
       "4                                                NaN  "
      ]
     },
     "execution_count": 83,
     "metadata": {},
     "output_type": "execute_result"
    }
   ],
   "source": [
    "for tp in type_of_par:\n",
    "    li=[]\n",
    "    for col in df_stage['rougher']:\n",
    "        if tp in col:\n",
    "            li.append(col)\n",
    "    df_rougher[tp] = pd.Series(li)     \n",
    "print('df_rougher')\n",
    "df_rougher.head()    "
   ]
  },
  {
   "cell_type": "code",
   "execution_count": 84,
   "metadata": {},
   "outputs": [
    {
     "data": {
      "text/html": [
       "<div>\n",
       "<style scoped>\n",
       "    .dataframe tbody tr th:only-of-type {\n",
       "        vertical-align: middle;\n",
       "    }\n",
       "\n",
       "    .dataframe tbody tr th {\n",
       "        vertical-align: top;\n",
       "    }\n",
       "\n",
       "    .dataframe thead th {\n",
       "        text-align: right;\n",
       "    }\n",
       "</style>\n",
       "<table border=\"1\" class=\"dataframe\">\n",
       "  <thead>\n",
       "    <tr style=\"text-align: right;\">\n",
       "      <th></th>\n",
       "      <th>input</th>\n",
       "      <th>output</th>\n",
       "      <th>state</th>\n",
       "      <th>calculation</th>\n",
       "    </tr>\n",
       "  </thead>\n",
       "  <tbody>\n",
       "    <tr>\n",
       "      <td>0</td>\n",
       "      <td>primary_cleaner.input.sulfate</td>\n",
       "      <td>primary_cleaner.output.concentrate_ag</td>\n",
       "      <td>primary_cleaner.state.floatbank8_a_air</td>\n",
       "      <td>NaN</td>\n",
       "    </tr>\n",
       "    <tr>\n",
       "      <td>1</td>\n",
       "      <td>primary_cleaner.input.depressant</td>\n",
       "      <td>primary_cleaner.output.concentrate_pb</td>\n",
       "      <td>primary_cleaner.state.floatbank8_a_level</td>\n",
       "      <td>NaN</td>\n",
       "    </tr>\n",
       "    <tr>\n",
       "      <td>2</td>\n",
       "      <td>primary_cleaner.input.feed_size</td>\n",
       "      <td>primary_cleaner.output.concentrate_sol</td>\n",
       "      <td>primary_cleaner.state.floatbank8_b_air</td>\n",
       "      <td>NaN</td>\n",
       "    </tr>\n",
       "    <tr>\n",
       "      <td>3</td>\n",
       "      <td>primary_cleaner.input.xanthate</td>\n",
       "      <td>primary_cleaner.output.concentrate_au</td>\n",
       "      <td>primary_cleaner.state.floatbank8_b_level</td>\n",
       "      <td>NaN</td>\n",
       "    </tr>\n",
       "  </tbody>\n",
       "</table>\n",
       "</div>"
      ],
      "text/plain": [
       "                              input                                  output  \\\n",
       "0     primary_cleaner.input.sulfate   primary_cleaner.output.concentrate_ag   \n",
       "1  primary_cleaner.input.depressant   primary_cleaner.output.concentrate_pb   \n",
       "2   primary_cleaner.input.feed_size  primary_cleaner.output.concentrate_sol   \n",
       "3    primary_cleaner.input.xanthate   primary_cleaner.output.concentrate_au   \n",
       "\n",
       "                                      state  calculation  \n",
       "0    primary_cleaner.state.floatbank8_a_air          NaN  \n",
       "1  primary_cleaner.state.floatbank8_a_level          NaN  \n",
       "2    primary_cleaner.state.floatbank8_b_air          NaN  \n",
       "3  primary_cleaner.state.floatbank8_b_level          NaN  "
      ]
     },
     "execution_count": 84,
     "metadata": {},
     "output_type": "execute_result"
    }
   ],
   "source": [
    "for tp in type_of_par:\n",
    "    li=[]\n",
    "    for col in df_stage[df_stage['primary_cleaner'].notna()]['primary_cleaner']:\n",
    "        if tp in col:\n",
    "            li.append(col)\n",
    "    df_primary_cleaner[tp] = pd.Series(li)   \n",
    "df_primary_cleaner.head()    "
   ]
  },
  {
   "cell_type": "code",
   "execution_count": 85,
   "metadata": {},
   "outputs": [
    {
     "data": {
      "text/html": [
       "<div>\n",
       "<style scoped>\n",
       "    .dataframe tbody tr th:only-of-type {\n",
       "        vertical-align: middle;\n",
       "    }\n",
       "\n",
       "    .dataframe tbody tr th {\n",
       "        vertical-align: top;\n",
       "    }\n",
       "\n",
       "    .dataframe thead th {\n",
       "        text-align: right;\n",
       "    }\n",
       "</style>\n",
       "<table border=\"1\" class=\"dataframe\">\n",
       "  <thead>\n",
       "    <tr style=\"text-align: right;\">\n",
       "      <th></th>\n",
       "      <th>input</th>\n",
       "      <th>output</th>\n",
       "      <th>state</th>\n",
       "      <th>calculation</th>\n",
       "    </tr>\n",
       "  </thead>\n",
       "  <tbody>\n",
       "    <tr>\n",
       "      <td>0</td>\n",
       "      <td>NaN</td>\n",
       "      <td>secondary_cleaner.output.tail_ag</td>\n",
       "      <td>secondary_cleaner.state.floatbank2_a_air</td>\n",
       "      <td>NaN</td>\n",
       "    </tr>\n",
       "    <tr>\n",
       "      <td>1</td>\n",
       "      <td>NaN</td>\n",
       "      <td>secondary_cleaner.output.tail_pb</td>\n",
       "      <td>secondary_cleaner.state.floatbank2_a_level</td>\n",
       "      <td>NaN</td>\n",
       "    </tr>\n",
       "    <tr>\n",
       "      <td>2</td>\n",
       "      <td>NaN</td>\n",
       "      <td>secondary_cleaner.output.tail_sol</td>\n",
       "      <td>secondary_cleaner.state.floatbank2_b_air</td>\n",
       "      <td>NaN</td>\n",
       "    </tr>\n",
       "    <tr>\n",
       "      <td>3</td>\n",
       "      <td>NaN</td>\n",
       "      <td>secondary_cleaner.output.tail_au</td>\n",
       "      <td>secondary_cleaner.state.floatbank2_b_level</td>\n",
       "      <td>NaN</td>\n",
       "    </tr>\n",
       "  </tbody>\n",
       "</table>\n",
       "</div>"
      ],
      "text/plain": [
       "   input                             output  \\\n",
       "0    NaN   secondary_cleaner.output.tail_ag   \n",
       "1    NaN   secondary_cleaner.output.tail_pb   \n",
       "2    NaN  secondary_cleaner.output.tail_sol   \n",
       "3    NaN   secondary_cleaner.output.tail_au   \n",
       "\n",
       "                                        state  calculation  \n",
       "0    secondary_cleaner.state.floatbank2_a_air          NaN  \n",
       "1  secondary_cleaner.state.floatbank2_a_level          NaN  \n",
       "2    secondary_cleaner.state.floatbank2_b_air          NaN  \n",
       "3  secondary_cleaner.state.floatbank2_b_level          NaN  "
      ]
     },
     "execution_count": 85,
     "metadata": {},
     "output_type": "execute_result"
    }
   ],
   "source": [
    "for tp in type_of_par:\n",
    "    li=[]\n",
    "    for col in df_stage[df_stage['secondary_cleaner'].notna()]['secondary_cleaner']:\n",
    "        if tp in col:\n",
    "            li.append(col)\n",
    "    df_secondary_cleaner[tp] = pd.Series(li)   \n",
    "df_secondary_cleaner.head()"
   ]
  },
  {
   "cell_type": "code",
   "execution_count": 86,
   "metadata": {},
   "outputs": [
    {
     "data": {
      "text/html": [
       "<div>\n",
       "<style scoped>\n",
       "    .dataframe tbody tr th:only-of-type {\n",
       "        vertical-align: middle;\n",
       "    }\n",
       "\n",
       "    .dataframe tbody tr th {\n",
       "        vertical-align: top;\n",
       "    }\n",
       "\n",
       "    .dataframe thead th {\n",
       "        text-align: right;\n",
       "    }\n",
       "</style>\n",
       "<table border=\"1\" class=\"dataframe\">\n",
       "  <thead>\n",
       "    <tr style=\"text-align: right;\">\n",
       "      <th></th>\n",
       "      <th>input</th>\n",
       "      <th>output</th>\n",
       "      <th>state</th>\n",
       "      <th>calculation</th>\n",
       "    </tr>\n",
       "  </thead>\n",
       "  <tbody>\n",
       "    <tr>\n",
       "      <td>0</td>\n",
       "      <td>NaN</td>\n",
       "      <td>final.output.concentrate_ag</td>\n",
       "      <td>NaN</td>\n",
       "      <td>NaN</td>\n",
       "    </tr>\n",
       "    <tr>\n",
       "      <td>1</td>\n",
       "      <td>NaN</td>\n",
       "      <td>final.output.concentrate_pb</td>\n",
       "      <td>NaN</td>\n",
       "      <td>NaN</td>\n",
       "    </tr>\n",
       "    <tr>\n",
       "      <td>2</td>\n",
       "      <td>NaN</td>\n",
       "      <td>final.output.concentrate_sol</td>\n",
       "      <td>NaN</td>\n",
       "      <td>NaN</td>\n",
       "    </tr>\n",
       "    <tr>\n",
       "      <td>3</td>\n",
       "      <td>NaN</td>\n",
       "      <td>final.output.concentrate_au</td>\n",
       "      <td>NaN</td>\n",
       "      <td>NaN</td>\n",
       "    </tr>\n",
       "    <tr>\n",
       "      <td>4</td>\n",
       "      <td>NaN</td>\n",
       "      <td>final.output.recovery</td>\n",
       "      <td>NaN</td>\n",
       "      <td>NaN</td>\n",
       "    </tr>\n",
       "  </tbody>\n",
       "</table>\n",
       "</div>"
      ],
      "text/plain": [
       "   input                        output  state  calculation\n",
       "0    NaN   final.output.concentrate_ag    NaN          NaN\n",
       "1    NaN   final.output.concentrate_pb    NaN          NaN\n",
       "2    NaN  final.output.concentrate_sol    NaN          NaN\n",
       "3    NaN   final.output.concentrate_au    NaN          NaN\n",
       "4    NaN         final.output.recovery    NaN          NaN"
      ]
     },
     "execution_count": 86,
     "metadata": {},
     "output_type": "execute_result"
    }
   ],
   "source": [
    "for tp in type_of_par:\n",
    "    li=[]\n",
    "    for col in df_stage[df_stage['final'].notna()]['final']:\n",
    "        if tp in col:\n",
    "            li.append(col)\n",
    "    df_final[tp] = pd.Series(li)    \n",
    "df_final.head()"
   ]
  },
  {
   "cell_type": "markdown",
   "metadata": {},
   "source": [
    "### 1.С.а Расчёт эффективности <a id='chapter1.С.а'>\n",
    "    \n",
    "\n",
    "[К оглавлению](#start)    "
   ]
  },
  {
   "cell_type": "markdown",
   "metadata": {},
   "source": [
    "#### 1.С.а.i Функция расчёта эффективности <a id='chapter1.С.а.i'>\n",
    "[В начало параграфа \"Подготовка данных, признаков и функций\"](#chapter1.C)   \n",
    "[К оглавлению](#start)    "
   ]
  },
  {
   "cell_type": "code",
   "execution_count": 87,
   "metadata": {},
   "outputs": [],
   "source": [
    "\"\"\"\n",
    "C — доля золота в концентрате после флотации/очистки;\n",
    "F — доля золота в сырье/концентрате до флотации/очистки;\n",
    "T — доля золота в отвальных хвостах после флотации/очистки.\n",
    "\"\"\"\n",
    "def func_recovery(c,f,t):\n",
    "    return (c*(f-t))/(f*(c-t))*100"
   ]
  },
  {
   "cell_type": "code",
   "execution_count": 88,
   "metadata": {},
   "outputs": [
    {
     "data": {
      "text/plain": [
       "62.500000000000014"
      ]
     },
     "execution_count": 88,
     "metadata": {},
     "output_type": "execute_result"
    }
   ],
   "source": [
    "func_recovery(0.5, 0.4, 0.3) "
   ]
  },
  {
   "cell_type": "markdown",
   "metadata": {},
   "source": [
    "#### 1.С.а.i Проверка правильности уже расчитаной эффективности <a id='chapter1.С.а.ii'>\n",
    "[В начало параграфа \"Подготовка данных, признаков и функций\"](#chapter1.C)   \n",
    "[К оглавлению](#start)    "
   ]
  },
  {
   "cell_type": "markdown",
   "metadata": {},
   "source": [
    "Пересчитаем `rougher.output.recovery`\n",
    "* С - доля золота в концентрате после флотации/очистки - `rougher.output.concentrate_au`\n",
    "* F — доля золота в сырье/концентрате до флотации/очистки - `rougher.input.feed_ag`\n",
    "* T — доля золота в отвальных хвостах после флотации/очистки - `rougher.output.tail_au`"
   ]
  },
  {
   "cell_type": "code",
   "execution_count": 89,
   "metadata": {},
   "outputs": [
    {
     "data": {
      "text/html": [
       "<div>\n",
       "<style scoped>\n",
       "    .dataframe tbody tr th:only-of-type {\n",
       "        vertical-align: middle;\n",
       "    }\n",
       "\n",
       "    .dataframe tbody tr th {\n",
       "        vertical-align: top;\n",
       "    }\n",
       "\n",
       "    .dataframe thead th {\n",
       "        text-align: right;\n",
       "    }\n",
       "</style>\n",
       "<table border=\"1\" class=\"dataframe\">\n",
       "  <thead>\n",
       "    <tr style=\"text-align: right;\">\n",
       "      <th></th>\n",
       "      <th>input</th>\n",
       "      <th>output</th>\n",
       "      <th>state</th>\n",
       "      <th>calculation</th>\n",
       "    </tr>\n",
       "  </thead>\n",
       "  <tbody>\n",
       "    <tr>\n",
       "      <td>0</td>\n",
       "      <td>rougher.input.feed_ag</td>\n",
       "      <td>rougher.output.concentrate_ag</td>\n",
       "      <td>rougher.state.floatbank10_a_air</td>\n",
       "      <td>rougher.calculation.sulfate_to_au_concentrate</td>\n",
       "    </tr>\n",
       "    <tr>\n",
       "      <td>1</td>\n",
       "      <td>rougher.input.feed_pb</td>\n",
       "      <td>rougher.output.concentrate_pb</td>\n",
       "      <td>rougher.state.floatbank10_a_level</td>\n",
       "      <td>rougher.calculation.floatbank10_sulfate_to_au_...</td>\n",
       "    </tr>\n",
       "    <tr>\n",
       "      <td>2</td>\n",
       "      <td>rougher.input.feed_rate</td>\n",
       "      <td>rougher.output.concentrate_sol</td>\n",
       "      <td>rougher.state.floatbank10_b_air</td>\n",
       "      <td>rougher.calculation.floatbank11_sulfate_to_au_...</td>\n",
       "    </tr>\n",
       "    <tr>\n",
       "      <td>3</td>\n",
       "      <td>rougher.input.feed_size</td>\n",
       "      <td>rougher.output.concentrate_au</td>\n",
       "      <td>rougher.state.floatbank10_b_level</td>\n",
       "      <td>rougher.calculation.au_pb_ratio</td>\n",
       "    </tr>\n",
       "    <tr>\n",
       "      <td>4</td>\n",
       "      <td>rougher.input.feed_sol</td>\n",
       "      <td>rougher.output.recovery</td>\n",
       "      <td>rougher.state.floatbank10_c_air</td>\n",
       "      <td>NaN</td>\n",
       "    </tr>\n",
       "    <tr>\n",
       "      <td>5</td>\n",
       "      <td>rougher.input.feed_au</td>\n",
       "      <td>rougher.output.tail_ag</td>\n",
       "      <td>rougher.state.floatbank10_c_level</td>\n",
       "      <td>NaN</td>\n",
       "    </tr>\n",
       "    <tr>\n",
       "      <td>6</td>\n",
       "      <td>rougher.input.floatbank10_sulfate</td>\n",
       "      <td>rougher.output.tail_pb</td>\n",
       "      <td>rougher.state.floatbank10_d_air</td>\n",
       "      <td>NaN</td>\n",
       "    </tr>\n",
       "    <tr>\n",
       "      <td>7</td>\n",
       "      <td>rougher.input.floatbank10_xanthate</td>\n",
       "      <td>rougher.output.tail_sol</td>\n",
       "      <td>rougher.state.floatbank10_d_level</td>\n",
       "      <td>NaN</td>\n",
       "    </tr>\n",
       "    <tr>\n",
       "      <td>8</td>\n",
       "      <td>rougher.input.floatbank11_sulfate</td>\n",
       "      <td>rougher.output.tail_au</td>\n",
       "      <td>rougher.state.floatbank10_e_air</td>\n",
       "      <td>NaN</td>\n",
       "    </tr>\n",
       "    <tr>\n",
       "      <td>9</td>\n",
       "      <td>rougher.input.floatbank11_xanthate</td>\n",
       "      <td>NaN</td>\n",
       "      <td>rougher.state.floatbank10_e_level</td>\n",
       "      <td>NaN</td>\n",
       "    </tr>\n",
       "  </tbody>\n",
       "</table>\n",
       "</div>"
      ],
      "text/plain": [
       "                                input                          output  \\\n",
       "0               rougher.input.feed_ag   rougher.output.concentrate_ag   \n",
       "1               rougher.input.feed_pb   rougher.output.concentrate_pb   \n",
       "2             rougher.input.feed_rate  rougher.output.concentrate_sol   \n",
       "3             rougher.input.feed_size   rougher.output.concentrate_au   \n",
       "4              rougher.input.feed_sol         rougher.output.recovery   \n",
       "5               rougher.input.feed_au          rougher.output.tail_ag   \n",
       "6   rougher.input.floatbank10_sulfate          rougher.output.tail_pb   \n",
       "7  rougher.input.floatbank10_xanthate         rougher.output.tail_sol   \n",
       "8   rougher.input.floatbank11_sulfate          rougher.output.tail_au   \n",
       "9  rougher.input.floatbank11_xanthate                             NaN   \n",
       "\n",
       "                               state  \\\n",
       "0    rougher.state.floatbank10_a_air   \n",
       "1  rougher.state.floatbank10_a_level   \n",
       "2    rougher.state.floatbank10_b_air   \n",
       "3  rougher.state.floatbank10_b_level   \n",
       "4    rougher.state.floatbank10_c_air   \n",
       "5  rougher.state.floatbank10_c_level   \n",
       "6    rougher.state.floatbank10_d_air   \n",
       "7  rougher.state.floatbank10_d_level   \n",
       "8    rougher.state.floatbank10_e_air   \n",
       "9  rougher.state.floatbank10_e_level   \n",
       "\n",
       "                                         calculation  \n",
       "0      rougher.calculation.sulfate_to_au_concentrate  \n",
       "1  rougher.calculation.floatbank10_sulfate_to_au_...  \n",
       "2  rougher.calculation.floatbank11_sulfate_to_au_...  \n",
       "3                    rougher.calculation.au_pb_ratio  \n",
       "4                                                NaN  \n",
       "5                                                NaN  \n",
       "6                                                NaN  \n",
       "7                                                NaN  \n",
       "8                                                NaN  \n",
       "9                                                NaN  "
      ]
     },
     "execution_count": 89,
     "metadata": {},
     "output_type": "execute_result"
    }
   ],
   "source": [
    "df_rougher"
   ]
  },
  {
   "cell_type": "code",
   "execution_count": 90,
   "metadata": {},
   "outputs": [
    {
     "data": {
      "text/plain": [
       "87.10776292825425"
      ]
     },
     "execution_count": 90,
     "metadata": {},
     "output_type": "execute_result"
    }
   ],
   "source": [
    "gr.loc[0,'rougher.output.recovery']"
   ]
  },
  {
   "cell_type": "code",
   "execution_count": 91,
   "metadata": {},
   "outputs": [
    {
     "data": {
      "text/plain": [
       "85.89512911964422"
      ]
     },
     "execution_count": 91,
     "metadata": {},
     "output_type": "execute_result"
    }
   ],
   "source": [
    "func_recovery(gr.loc[0,'rougher.output.concentrate_au'],gr.loc[0,'rougher.input.feed_ag'],gr.loc[0,'rougher.output.tail_au'] )"
   ]
  },
  {
   "cell_type": "markdown",
   "metadata": {},
   "source": [
    "В первом приближении - работает. Порядки совпали."
   ]
  },
  {
   "cell_type": "code",
   "execution_count": 94,
   "metadata": {},
   "outputs": [
    {
     "name": "stdout",
     "output_type": "stream",
     "text": [
      "<class 'pandas.core.frame.DataFrame'>\n",
      "Int64Index: 19597 entries, 0 to 22715\n",
      "Data columns (total 2 columns):\n",
      "from_data    19597 non-null float64\n",
      "from_func    19597 non-null float64\n",
      "dtypes: float64(2)\n",
      "memory usage: 459.3 KB\n"
     ]
    }
   ],
   "source": [
    "rougher_recovery=pd.DataFrame(columns = ['from_data','from_func'])\n",
    "rougher_recovery['from_data'] = gr.loc[:,'rougher.output.recovery']\n",
    "rougher_recovery['from_func'] =pd.Series(func_recovery(gr.loc[:,'rougher.output.concentrate_au'],gr.loc[:,'rougher.input.feed_ag'],gr.loc[:,'rougher.output.tail_au'] ))\n",
    "rougher_recovery= rougher_recovery.dropna()\n",
    "rougher_recovery.info()"
   ]
  },
  {
   "cell_type": "code",
   "execution_count": 95,
   "metadata": {},
   "outputs": [
    {
     "name": "stdout",
     "output_type": "stream",
     "text": [
      "MAE= 2.613427706700887 RMSE= 4.380711377988536\n",
      "Средняя относительная ошибка в данных = : 3.1%\n"
     ]
    }
   ],
   "source": [
    "MAE_recovery = mean_absolute_error(rougher_recovery['from_data'] , rougher_recovery['from_func'])\n",
    "MSE_recovery = mean_squared_error(rougher_recovery['from_data'] , rougher_recovery['from_func'])\n",
    "RMSE_recovery = MSE_recovery**0.5\n",
    "print('MAE=' , MAE_recovery , 'RMSE=' , RMSE_recovery)\n",
    "print('Средняя относительная ошибка в данных = : {:.1%}'.format(MAE_recovery/rougher_recovery['from_data'].mean()))  \n"
   ]
  },
  {
   "cell_type": "markdown",
   "metadata": {},
   "source": [
    "###### 1.С.a Выводы о расчёте эффективности. \n",
    "- Эффективность расчитана правильно мною, и с погрешностью в 3.1% процента(от процентов обогощения) в исходных данных."
   ]
  },
  {
   "cell_type": "markdown",
   "metadata": {},
   "source": [
    "### 1.С.b Анализ признаков, недоступных в тестовой выборке<a id='chapter1.С.b'>\n",
    "[В начало параграфа \"Подготовка данных, признаков и функций\"](#chapter1.C)   \n",
    "[К оглавлению](#start)    "
   ]
  },
  {
   "cell_type": "markdown",
   "metadata": {},
   "source": [
    "Найдём все те признаки что есть в тестовой выборке."
   ]
  },
  {
   "cell_type": "code",
   "execution_count": 96,
   "metadata": {},
   "outputs": [
    {
     "data": {
      "text/html": [
       "<div>\n",
       "<style scoped>\n",
       "    .dataframe tbody tr th:only-of-type {\n",
       "        vertical-align: middle;\n",
       "    }\n",
       "\n",
       "    .dataframe tbody tr th {\n",
       "        vertical-align: top;\n",
       "    }\n",
       "\n",
       "    .dataframe thead th {\n",
       "        text-align: right;\n",
       "    }\n",
       "</style>\n",
       "<table border=\"1\" class=\"dataframe\">\n",
       "  <thead>\n",
       "    <tr style=\"text-align: right;\">\n",
       "      <th></th>\n",
       "      <th>rougher</th>\n",
       "      <th>primary_cleaner</th>\n",
       "      <th>secondary_cleaner</th>\n",
       "      <th>final</th>\n",
       "    </tr>\n",
       "  </thead>\n",
       "  <tbody>\n",
       "    <tr>\n",
       "      <td>0</td>\n",
       "      <td>rougher.input.feed_ag</td>\n",
       "      <td>primary_cleaner.input.sulfate</td>\n",
       "      <td>secondary_cleaner.state.floatbank2_a_air</td>\n",
       "      <td>NaN</td>\n",
       "    </tr>\n",
       "    <tr>\n",
       "      <td>1</td>\n",
       "      <td>rougher.input.feed_pb</td>\n",
       "      <td>primary_cleaner.input.depressant</td>\n",
       "      <td>secondary_cleaner.state.floatbank2_a_level</td>\n",
       "      <td>NaN</td>\n",
       "    </tr>\n",
       "    <tr>\n",
       "      <td>2</td>\n",
       "      <td>rougher.input.feed_rate</td>\n",
       "      <td>primary_cleaner.input.feed_size</td>\n",
       "      <td>secondary_cleaner.state.floatbank2_b_air</td>\n",
       "      <td>NaN</td>\n",
       "    </tr>\n",
       "    <tr>\n",
       "      <td>3</td>\n",
       "      <td>rougher.input.feed_size</td>\n",
       "      <td>primary_cleaner.input.xanthate</td>\n",
       "      <td>secondary_cleaner.state.floatbank2_b_level</td>\n",
       "      <td>NaN</td>\n",
       "    </tr>\n",
       "    <tr>\n",
       "      <td>4</td>\n",
       "      <td>rougher.input.feed_sol</td>\n",
       "      <td>primary_cleaner.state.floatbank8_a_air</td>\n",
       "      <td>secondary_cleaner.state.floatbank3_a_air</td>\n",
       "      <td>NaN</td>\n",
       "    </tr>\n",
       "    <tr>\n",
       "      <td>5</td>\n",
       "      <td>rougher.input.feed_au</td>\n",
       "      <td>primary_cleaner.state.floatbank8_a_level</td>\n",
       "      <td>secondary_cleaner.state.floatbank3_a_level</td>\n",
       "      <td>NaN</td>\n",
       "    </tr>\n",
       "    <tr>\n",
       "      <td>6</td>\n",
       "      <td>rougher.input.floatbank10_sulfate</td>\n",
       "      <td>primary_cleaner.state.floatbank8_b_air</td>\n",
       "      <td>secondary_cleaner.state.floatbank3_b_air</td>\n",
       "      <td>NaN</td>\n",
       "    </tr>\n",
       "    <tr>\n",
       "      <td>7</td>\n",
       "      <td>rougher.input.floatbank10_xanthate</td>\n",
       "      <td>primary_cleaner.state.floatbank8_b_level</td>\n",
       "      <td>secondary_cleaner.state.floatbank3_b_level</td>\n",
       "      <td>NaN</td>\n",
       "    </tr>\n",
       "    <tr>\n",
       "      <td>8</td>\n",
       "      <td>rougher.input.floatbank11_sulfate</td>\n",
       "      <td>primary_cleaner.state.floatbank8_c_air</td>\n",
       "      <td>secondary_cleaner.state.floatbank4_a_air</td>\n",
       "      <td>NaN</td>\n",
       "    </tr>\n",
       "    <tr>\n",
       "      <td>9</td>\n",
       "      <td>rougher.input.floatbank11_xanthate</td>\n",
       "      <td>primary_cleaner.state.floatbank8_c_level</td>\n",
       "      <td>secondary_cleaner.state.floatbank4_a_level</td>\n",
       "      <td>NaN</td>\n",
       "    </tr>\n",
       "    <tr>\n",
       "      <td>10</td>\n",
       "      <td>rougher.state.floatbank10_a_air</td>\n",
       "      <td>primary_cleaner.state.floatbank8_d_air</td>\n",
       "      <td>secondary_cleaner.state.floatbank4_b_air</td>\n",
       "      <td>NaN</td>\n",
       "    </tr>\n",
       "    <tr>\n",
       "      <td>11</td>\n",
       "      <td>rougher.state.floatbank10_a_level</td>\n",
       "      <td>primary_cleaner.state.floatbank8_d_level</td>\n",
       "      <td>secondary_cleaner.state.floatbank4_b_level</td>\n",
       "      <td>NaN</td>\n",
       "    </tr>\n",
       "    <tr>\n",
       "      <td>12</td>\n",
       "      <td>rougher.state.floatbank10_b_air</td>\n",
       "      <td>NaN</td>\n",
       "      <td>secondary_cleaner.state.floatbank5_a_air</td>\n",
       "      <td>NaN</td>\n",
       "    </tr>\n",
       "    <tr>\n",
       "      <td>13</td>\n",
       "      <td>rougher.state.floatbank10_b_level</td>\n",
       "      <td>NaN</td>\n",
       "      <td>secondary_cleaner.state.floatbank5_a_level</td>\n",
       "      <td>NaN</td>\n",
       "    </tr>\n",
       "    <tr>\n",
       "      <td>14</td>\n",
       "      <td>rougher.state.floatbank10_c_air</td>\n",
       "      <td>NaN</td>\n",
       "      <td>secondary_cleaner.state.floatbank5_b_air</td>\n",
       "      <td>NaN</td>\n",
       "    </tr>\n",
       "    <tr>\n",
       "      <td>15</td>\n",
       "      <td>rougher.state.floatbank10_c_level</td>\n",
       "      <td>NaN</td>\n",
       "      <td>secondary_cleaner.state.floatbank5_b_level</td>\n",
       "      <td>NaN</td>\n",
       "    </tr>\n",
       "    <tr>\n",
       "      <td>16</td>\n",
       "      <td>rougher.state.floatbank10_d_air</td>\n",
       "      <td>NaN</td>\n",
       "      <td>secondary_cleaner.state.floatbank6_a_air</td>\n",
       "      <td>NaN</td>\n",
       "    </tr>\n",
       "    <tr>\n",
       "      <td>17</td>\n",
       "      <td>rougher.state.floatbank10_d_level</td>\n",
       "      <td>NaN</td>\n",
       "      <td>secondary_cleaner.state.floatbank6_a_level</td>\n",
       "      <td>NaN</td>\n",
       "    </tr>\n",
       "    <tr>\n",
       "      <td>18</td>\n",
       "      <td>rougher.state.floatbank10_e_air</td>\n",
       "      <td>NaN</td>\n",
       "      <td>NaN</td>\n",
       "      <td>NaN</td>\n",
       "    </tr>\n",
       "    <tr>\n",
       "      <td>19</td>\n",
       "      <td>rougher.state.floatbank10_e_level</td>\n",
       "      <td>NaN</td>\n",
       "      <td>NaN</td>\n",
       "      <td>NaN</td>\n",
       "    </tr>\n",
       "    <tr>\n",
       "      <td>20</td>\n",
       "      <td>rougher.state.floatbank10_f_air</td>\n",
       "      <td>NaN</td>\n",
       "      <td>NaN</td>\n",
       "      <td>NaN</td>\n",
       "    </tr>\n",
       "    <tr>\n",
       "      <td>21</td>\n",
       "      <td>rougher.state.floatbank10_f_level</td>\n",
       "      <td>NaN</td>\n",
       "      <td>NaN</td>\n",
       "      <td>NaN</td>\n",
       "    </tr>\n",
       "  </tbody>\n",
       "</table>\n",
       "</div>"
      ],
      "text/plain": [
       "                               rougher  \\\n",
       "0                rougher.input.feed_ag   \n",
       "1                rougher.input.feed_pb   \n",
       "2              rougher.input.feed_rate   \n",
       "3              rougher.input.feed_size   \n",
       "4               rougher.input.feed_sol   \n",
       "5                rougher.input.feed_au   \n",
       "6    rougher.input.floatbank10_sulfate   \n",
       "7   rougher.input.floatbank10_xanthate   \n",
       "8    rougher.input.floatbank11_sulfate   \n",
       "9   rougher.input.floatbank11_xanthate   \n",
       "10     rougher.state.floatbank10_a_air   \n",
       "11   rougher.state.floatbank10_a_level   \n",
       "12     rougher.state.floatbank10_b_air   \n",
       "13   rougher.state.floatbank10_b_level   \n",
       "14     rougher.state.floatbank10_c_air   \n",
       "15   rougher.state.floatbank10_c_level   \n",
       "16     rougher.state.floatbank10_d_air   \n",
       "17   rougher.state.floatbank10_d_level   \n",
       "18     rougher.state.floatbank10_e_air   \n",
       "19   rougher.state.floatbank10_e_level   \n",
       "20     rougher.state.floatbank10_f_air   \n",
       "21   rougher.state.floatbank10_f_level   \n",
       "\n",
       "                             primary_cleaner  \\\n",
       "0              primary_cleaner.input.sulfate   \n",
       "1           primary_cleaner.input.depressant   \n",
       "2            primary_cleaner.input.feed_size   \n",
       "3             primary_cleaner.input.xanthate   \n",
       "4     primary_cleaner.state.floatbank8_a_air   \n",
       "5   primary_cleaner.state.floatbank8_a_level   \n",
       "6     primary_cleaner.state.floatbank8_b_air   \n",
       "7   primary_cleaner.state.floatbank8_b_level   \n",
       "8     primary_cleaner.state.floatbank8_c_air   \n",
       "9   primary_cleaner.state.floatbank8_c_level   \n",
       "10    primary_cleaner.state.floatbank8_d_air   \n",
       "11  primary_cleaner.state.floatbank8_d_level   \n",
       "12                                       NaN   \n",
       "13                                       NaN   \n",
       "14                                       NaN   \n",
       "15                                       NaN   \n",
       "16                                       NaN   \n",
       "17                                       NaN   \n",
       "18                                       NaN   \n",
       "19                                       NaN   \n",
       "20                                       NaN   \n",
       "21                                       NaN   \n",
       "\n",
       "                             secondary_cleaner  final  \n",
       "0     secondary_cleaner.state.floatbank2_a_air    NaN  \n",
       "1   secondary_cleaner.state.floatbank2_a_level    NaN  \n",
       "2     secondary_cleaner.state.floatbank2_b_air    NaN  \n",
       "3   secondary_cleaner.state.floatbank2_b_level    NaN  \n",
       "4     secondary_cleaner.state.floatbank3_a_air    NaN  \n",
       "5   secondary_cleaner.state.floatbank3_a_level    NaN  \n",
       "6     secondary_cleaner.state.floatbank3_b_air    NaN  \n",
       "7   secondary_cleaner.state.floatbank3_b_level    NaN  \n",
       "8     secondary_cleaner.state.floatbank4_a_air    NaN  \n",
       "9   secondary_cleaner.state.floatbank4_a_level    NaN  \n",
       "10    secondary_cleaner.state.floatbank4_b_air    NaN  \n",
       "11  secondary_cleaner.state.floatbank4_b_level    NaN  \n",
       "12    secondary_cleaner.state.floatbank5_a_air    NaN  \n",
       "13  secondary_cleaner.state.floatbank5_a_level    NaN  \n",
       "14    secondary_cleaner.state.floatbank5_b_air    NaN  \n",
       "15  secondary_cleaner.state.floatbank5_b_level    NaN  \n",
       "16    secondary_cleaner.state.floatbank6_a_air    NaN  \n",
       "17  secondary_cleaner.state.floatbank6_a_level    NaN  \n",
       "18                                         NaN    NaN  \n",
       "19                                         NaN    NaN  \n",
       "20                                         NaN    NaN  \n",
       "21                                         NaN    NaN  "
      ]
     },
     "execution_count": 96,
     "metadata": {},
     "output_type": "execute_result"
    }
   ],
   "source": [
    "df_test_stage=pd.DataFrame(columns = stage)\n",
    "df_test_stage_lost=pd.DataFrame(columns = stage)\n",
    "\n",
    "for st in stage:\n",
    "    li = []\n",
    "    for col in gr_test:\n",
    "        if st in col:\n",
    "            li.append(col)\n",
    "    df_test_stage[st] = pd.Series(li)       \n",
    "df_test_stage"
   ]
  },
  {
   "cell_type": "markdown",
   "metadata": {},
   "source": [
    "Найдём все те признаки, которых нет в тестовой выборке."
   ]
  },
  {
   "cell_type": "code",
   "execution_count": 97,
   "metadata": {},
   "outputs": [
    {
     "data": {
      "text/html": [
       "<div>\n",
       "<style scoped>\n",
       "    .dataframe tbody tr th:only-of-type {\n",
       "        vertical-align: middle;\n",
       "    }\n",
       "\n",
       "    .dataframe tbody tr th {\n",
       "        vertical-align: top;\n",
       "    }\n",
       "\n",
       "    .dataframe thead th {\n",
       "        text-align: right;\n",
       "    }\n",
       "</style>\n",
       "<table border=\"1\" class=\"dataframe\">\n",
       "  <thead>\n",
       "    <tr style=\"text-align: right;\">\n",
       "      <th></th>\n",
       "      <th>rougher</th>\n",
       "      <th>primary_cleaner</th>\n",
       "      <th>secondary_cleaner</th>\n",
       "      <th>final</th>\n",
       "    </tr>\n",
       "  </thead>\n",
       "  <tbody>\n",
       "    <tr>\n",
       "      <td>0</td>\n",
       "      <td>rougher.calculation.sulfate_to_au_concentrate</td>\n",
       "      <td>primary_cleaner.output.concentrate_ag</td>\n",
       "      <td>secondary_cleaner.output.tail_ag</td>\n",
       "      <td>final.output.concentrate_ag</td>\n",
       "    </tr>\n",
       "    <tr>\n",
       "      <td>1</td>\n",
       "      <td>rougher.calculation.floatbank10_sulfate_to_au_...</td>\n",
       "      <td>primary_cleaner.output.concentrate_pb</td>\n",
       "      <td>secondary_cleaner.output.tail_pb</td>\n",
       "      <td>final.output.concentrate_pb</td>\n",
       "    </tr>\n",
       "    <tr>\n",
       "      <td>2</td>\n",
       "      <td>rougher.calculation.floatbank11_sulfate_to_au_...</td>\n",
       "      <td>primary_cleaner.output.concentrate_sol</td>\n",
       "      <td>secondary_cleaner.output.tail_sol</td>\n",
       "      <td>final.output.concentrate_sol</td>\n",
       "    </tr>\n",
       "    <tr>\n",
       "      <td>3</td>\n",
       "      <td>rougher.calculation.au_pb_ratio</td>\n",
       "      <td>primary_cleaner.output.concentrate_au</td>\n",
       "      <td>secondary_cleaner.output.tail_au</td>\n",
       "      <td>final.output.concentrate_au</td>\n",
       "    </tr>\n",
       "    <tr>\n",
       "      <td>4</td>\n",
       "      <td>rougher.output.concentrate_ag</td>\n",
       "      <td>primary_cleaner.output.tail_ag</td>\n",
       "      <td>NaN</td>\n",
       "      <td>final.output.recovery</td>\n",
       "    </tr>\n",
       "    <tr>\n",
       "      <td>5</td>\n",
       "      <td>rougher.output.concentrate_pb</td>\n",
       "      <td>primary_cleaner.output.tail_pb</td>\n",
       "      <td>NaN</td>\n",
       "      <td>final.output.tail_ag</td>\n",
       "    </tr>\n",
       "    <tr>\n",
       "      <td>6</td>\n",
       "      <td>rougher.output.concentrate_sol</td>\n",
       "      <td>primary_cleaner.output.tail_sol</td>\n",
       "      <td>NaN</td>\n",
       "      <td>final.output.tail_pb</td>\n",
       "    </tr>\n",
       "    <tr>\n",
       "      <td>7</td>\n",
       "      <td>rougher.output.concentrate_au</td>\n",
       "      <td>primary_cleaner.output.tail_au</td>\n",
       "      <td>NaN</td>\n",
       "      <td>final.output.tail_sol</td>\n",
       "    </tr>\n",
       "    <tr>\n",
       "      <td>8</td>\n",
       "      <td>rougher.output.recovery</td>\n",
       "      <td>NaN</td>\n",
       "      <td>NaN</td>\n",
       "      <td>final.output.tail_au</td>\n",
       "    </tr>\n",
       "    <tr>\n",
       "      <td>9</td>\n",
       "      <td>rougher.output.tail_ag</td>\n",
       "      <td>NaN</td>\n",
       "      <td>NaN</td>\n",
       "      <td>NaN</td>\n",
       "    </tr>\n",
       "    <tr>\n",
       "      <td>10</td>\n",
       "      <td>rougher.output.tail_pb</td>\n",
       "      <td>NaN</td>\n",
       "      <td>NaN</td>\n",
       "      <td>NaN</td>\n",
       "    </tr>\n",
       "    <tr>\n",
       "      <td>11</td>\n",
       "      <td>rougher.output.tail_sol</td>\n",
       "      <td>NaN</td>\n",
       "      <td>NaN</td>\n",
       "      <td>NaN</td>\n",
       "    </tr>\n",
       "    <tr>\n",
       "      <td>12</td>\n",
       "      <td>rougher.output.tail_au</td>\n",
       "      <td>NaN</td>\n",
       "      <td>NaN</td>\n",
       "      <td>NaN</td>\n",
       "    </tr>\n",
       "  </tbody>\n",
       "</table>\n",
       "</div>"
      ],
      "text/plain": [
       "                                              rougher  \\\n",
       "0       rougher.calculation.sulfate_to_au_concentrate   \n",
       "1   rougher.calculation.floatbank10_sulfate_to_au_...   \n",
       "2   rougher.calculation.floatbank11_sulfate_to_au_...   \n",
       "3                     rougher.calculation.au_pb_ratio   \n",
       "4                       rougher.output.concentrate_ag   \n",
       "5                       rougher.output.concentrate_pb   \n",
       "6                      rougher.output.concentrate_sol   \n",
       "7                       rougher.output.concentrate_au   \n",
       "8                             rougher.output.recovery   \n",
       "9                              rougher.output.tail_ag   \n",
       "10                             rougher.output.tail_pb   \n",
       "11                            rougher.output.tail_sol   \n",
       "12                             rougher.output.tail_au   \n",
       "\n",
       "                           primary_cleaner                  secondary_cleaner  \\\n",
       "0    primary_cleaner.output.concentrate_ag   secondary_cleaner.output.tail_ag   \n",
       "1    primary_cleaner.output.concentrate_pb   secondary_cleaner.output.tail_pb   \n",
       "2   primary_cleaner.output.concentrate_sol  secondary_cleaner.output.tail_sol   \n",
       "3    primary_cleaner.output.concentrate_au   secondary_cleaner.output.tail_au   \n",
       "4           primary_cleaner.output.tail_ag                                NaN   \n",
       "5           primary_cleaner.output.tail_pb                                NaN   \n",
       "6          primary_cleaner.output.tail_sol                                NaN   \n",
       "7           primary_cleaner.output.tail_au                                NaN   \n",
       "8                                      NaN                                NaN   \n",
       "9                                      NaN                                NaN   \n",
       "10                                     NaN                                NaN   \n",
       "11                                     NaN                                NaN   \n",
       "12                                     NaN                                NaN   \n",
       "\n",
       "                           final  \n",
       "0    final.output.concentrate_ag  \n",
       "1    final.output.concentrate_pb  \n",
       "2   final.output.concentrate_sol  \n",
       "3    final.output.concentrate_au  \n",
       "4          final.output.recovery  \n",
       "5           final.output.tail_ag  \n",
       "6           final.output.tail_pb  \n",
       "7          final.output.tail_sol  \n",
       "8           final.output.tail_au  \n",
       "9                            NaN  \n",
       "10                           NaN  \n",
       "11                           NaN  \n",
       "12                           NaN  "
      ]
     },
     "execution_count": 97,
     "metadata": {},
     "output_type": "execute_result"
    }
   ],
   "source": [
    "ot=[]\n",
    "for col in gr.columns:\n",
    "    if col not in gr_test.columns:\n",
    "        ot.append(col)    \n",
    "ot        \n",
    "for st in stage:\n",
    "    li = []\n",
    "    for col in ot:\n",
    "        if st in col:\n",
    "            li.append(col)\n",
    "    df_test_stage_lost[st] = pd.Series(li)       \n",
    "df_test_stage_lost"
   ]
  },
  {
   "cell_type": "code",
   "execution_count": 98,
   "metadata": {},
   "outputs": [
    {
     "data": {
      "text/html": [
       "<div>\n",
       "<style scoped>\n",
       "    .dataframe tbody tr th:only-of-type {\n",
       "        vertical-align: middle;\n",
       "    }\n",
       "\n",
       "    .dataframe tbody tr th {\n",
       "        vertical-align: top;\n",
       "    }\n",
       "\n",
       "    .dataframe thead th {\n",
       "        text-align: right;\n",
       "    }\n",
       "</style>\n",
       "<table border=\"1\" class=\"dataframe\">\n",
       "  <thead>\n",
       "    <tr style=\"text-align: right;\">\n",
       "      <th></th>\n",
       "      <th>rougher</th>\n",
       "      <th>primary_cleaner</th>\n",
       "      <th>secondary_cleaner</th>\n",
       "      <th>final</th>\n",
       "    </tr>\n",
       "  </thead>\n",
       "  <tbody>\n",
       "    <tr>\n",
       "      <td>0</td>\n",
       "      <td>rougher.calculation.sulfate_to_au_concentrate</td>\n",
       "      <td>primary_cleaner.input.sulfate</td>\n",
       "      <td>secondary_cleaner.output.tail_ag</td>\n",
       "      <td>final.output.concentrate_ag</td>\n",
       "    </tr>\n",
       "    <tr>\n",
       "      <td>1</td>\n",
       "      <td>rougher.calculation.floatbank10_sulfate_to_au_...</td>\n",
       "      <td>primary_cleaner.input.depressant</td>\n",
       "      <td>secondary_cleaner.output.tail_pb</td>\n",
       "      <td>final.output.concentrate_pb</td>\n",
       "    </tr>\n",
       "    <tr>\n",
       "      <td>2</td>\n",
       "      <td>rougher.calculation.floatbank11_sulfate_to_au_...</td>\n",
       "      <td>primary_cleaner.input.feed_size</td>\n",
       "      <td>secondary_cleaner.output.tail_sol</td>\n",
       "      <td>final.output.concentrate_sol</td>\n",
       "    </tr>\n",
       "    <tr>\n",
       "      <td>3</td>\n",
       "      <td>rougher.calculation.au_pb_ratio</td>\n",
       "      <td>primary_cleaner.input.xanthate</td>\n",
       "      <td>secondary_cleaner.output.tail_au</td>\n",
       "      <td>final.output.concentrate_au</td>\n",
       "    </tr>\n",
       "    <tr>\n",
       "      <td>4</td>\n",
       "      <td>rougher.input.feed_ag</td>\n",
       "      <td>primary_cleaner.output.concentrate_ag</td>\n",
       "      <td>secondary_cleaner.state.floatbank2_a_air</td>\n",
       "      <td>final.output.recovery</td>\n",
       "    </tr>\n",
       "    <tr>\n",
       "      <td>5</td>\n",
       "      <td>rougher.input.feed_pb</td>\n",
       "      <td>primary_cleaner.output.concentrate_pb</td>\n",
       "      <td>secondary_cleaner.state.floatbank2_a_level</td>\n",
       "      <td>final.output.tail_ag</td>\n",
       "    </tr>\n",
       "    <tr>\n",
       "      <td>6</td>\n",
       "      <td>rougher.input.feed_rate</td>\n",
       "      <td>primary_cleaner.output.concentrate_sol</td>\n",
       "      <td>secondary_cleaner.state.floatbank2_b_air</td>\n",
       "      <td>final.output.tail_pb</td>\n",
       "    </tr>\n",
       "    <tr>\n",
       "      <td>7</td>\n",
       "      <td>rougher.input.feed_size</td>\n",
       "      <td>primary_cleaner.output.concentrate_au</td>\n",
       "      <td>secondary_cleaner.state.floatbank2_b_level</td>\n",
       "      <td>final.output.tail_sol</td>\n",
       "    </tr>\n",
       "    <tr>\n",
       "      <td>8</td>\n",
       "      <td>rougher.input.feed_sol</td>\n",
       "      <td>primary_cleaner.output.tail_ag</td>\n",
       "      <td>secondary_cleaner.state.floatbank3_a_air</td>\n",
       "      <td>final.output.tail_au</td>\n",
       "    </tr>\n",
       "    <tr>\n",
       "      <td>9</td>\n",
       "      <td>rougher.input.feed_au</td>\n",
       "      <td>primary_cleaner.output.tail_pb</td>\n",
       "      <td>secondary_cleaner.state.floatbank3_a_level</td>\n",
       "      <td>NaN</td>\n",
       "    </tr>\n",
       "    <tr>\n",
       "      <td>10</td>\n",
       "      <td>rougher.input.floatbank10_sulfate</td>\n",
       "      <td>primary_cleaner.output.tail_sol</td>\n",
       "      <td>secondary_cleaner.state.floatbank3_b_air</td>\n",
       "      <td>NaN</td>\n",
       "    </tr>\n",
       "    <tr>\n",
       "      <td>11</td>\n",
       "      <td>rougher.input.floatbank10_xanthate</td>\n",
       "      <td>primary_cleaner.output.tail_au</td>\n",
       "      <td>secondary_cleaner.state.floatbank3_b_level</td>\n",
       "      <td>NaN</td>\n",
       "    </tr>\n",
       "    <tr>\n",
       "      <td>12</td>\n",
       "      <td>rougher.input.floatbank11_sulfate</td>\n",
       "      <td>primary_cleaner.state.floatbank8_a_air</td>\n",
       "      <td>secondary_cleaner.state.floatbank4_a_air</td>\n",
       "      <td>NaN</td>\n",
       "    </tr>\n",
       "    <tr>\n",
       "      <td>13</td>\n",
       "      <td>rougher.input.floatbank11_xanthate</td>\n",
       "      <td>primary_cleaner.state.floatbank8_a_level</td>\n",
       "      <td>secondary_cleaner.state.floatbank4_a_level</td>\n",
       "      <td>NaN</td>\n",
       "    </tr>\n",
       "    <tr>\n",
       "      <td>14</td>\n",
       "      <td>rougher.output.concentrate_ag</td>\n",
       "      <td>primary_cleaner.state.floatbank8_b_air</td>\n",
       "      <td>secondary_cleaner.state.floatbank4_b_air</td>\n",
       "      <td>NaN</td>\n",
       "    </tr>\n",
       "    <tr>\n",
       "      <td>15</td>\n",
       "      <td>rougher.output.concentrate_pb</td>\n",
       "      <td>primary_cleaner.state.floatbank8_b_level</td>\n",
       "      <td>secondary_cleaner.state.floatbank4_b_level</td>\n",
       "      <td>NaN</td>\n",
       "    </tr>\n",
       "    <tr>\n",
       "      <td>16</td>\n",
       "      <td>rougher.output.concentrate_sol</td>\n",
       "      <td>primary_cleaner.state.floatbank8_c_air</td>\n",
       "      <td>secondary_cleaner.state.floatbank5_a_air</td>\n",
       "      <td>NaN</td>\n",
       "    </tr>\n",
       "    <tr>\n",
       "      <td>17</td>\n",
       "      <td>rougher.output.concentrate_au</td>\n",
       "      <td>primary_cleaner.state.floatbank8_c_level</td>\n",
       "      <td>secondary_cleaner.state.floatbank5_a_level</td>\n",
       "      <td>NaN</td>\n",
       "    </tr>\n",
       "    <tr>\n",
       "      <td>18</td>\n",
       "      <td>rougher.output.recovery</td>\n",
       "      <td>primary_cleaner.state.floatbank8_d_air</td>\n",
       "      <td>secondary_cleaner.state.floatbank5_b_air</td>\n",
       "      <td>NaN</td>\n",
       "    </tr>\n",
       "    <tr>\n",
       "      <td>19</td>\n",
       "      <td>rougher.output.tail_ag</td>\n",
       "      <td>primary_cleaner.state.floatbank8_d_level</td>\n",
       "      <td>secondary_cleaner.state.floatbank5_b_level</td>\n",
       "      <td>NaN</td>\n",
       "    </tr>\n",
       "    <tr>\n",
       "      <td>20</td>\n",
       "      <td>rougher.output.tail_pb</td>\n",
       "      <td>NaN</td>\n",
       "      <td>secondary_cleaner.state.floatbank6_a_air</td>\n",
       "      <td>NaN</td>\n",
       "    </tr>\n",
       "    <tr>\n",
       "      <td>21</td>\n",
       "      <td>rougher.output.tail_sol</td>\n",
       "      <td>NaN</td>\n",
       "      <td>secondary_cleaner.state.floatbank6_a_level</td>\n",
       "      <td>NaN</td>\n",
       "    </tr>\n",
       "    <tr>\n",
       "      <td>22</td>\n",
       "      <td>rougher.output.tail_au</td>\n",
       "      <td>NaN</td>\n",
       "      <td>NaN</td>\n",
       "      <td>NaN</td>\n",
       "    </tr>\n",
       "    <tr>\n",
       "      <td>23</td>\n",
       "      <td>rougher.state.floatbank10_a_air</td>\n",
       "      <td>NaN</td>\n",
       "      <td>NaN</td>\n",
       "      <td>NaN</td>\n",
       "    </tr>\n",
       "    <tr>\n",
       "      <td>24</td>\n",
       "      <td>rougher.state.floatbank10_a_level</td>\n",
       "      <td>NaN</td>\n",
       "      <td>NaN</td>\n",
       "      <td>NaN</td>\n",
       "    </tr>\n",
       "    <tr>\n",
       "      <td>25</td>\n",
       "      <td>rougher.state.floatbank10_b_air</td>\n",
       "      <td>NaN</td>\n",
       "      <td>NaN</td>\n",
       "      <td>NaN</td>\n",
       "    </tr>\n",
       "    <tr>\n",
       "      <td>26</td>\n",
       "      <td>rougher.state.floatbank10_b_level</td>\n",
       "      <td>NaN</td>\n",
       "      <td>NaN</td>\n",
       "      <td>NaN</td>\n",
       "    </tr>\n",
       "    <tr>\n",
       "      <td>27</td>\n",
       "      <td>rougher.state.floatbank10_c_air</td>\n",
       "      <td>NaN</td>\n",
       "      <td>NaN</td>\n",
       "      <td>NaN</td>\n",
       "    </tr>\n",
       "    <tr>\n",
       "      <td>28</td>\n",
       "      <td>rougher.state.floatbank10_c_level</td>\n",
       "      <td>NaN</td>\n",
       "      <td>NaN</td>\n",
       "      <td>NaN</td>\n",
       "    </tr>\n",
       "    <tr>\n",
       "      <td>29</td>\n",
       "      <td>rougher.state.floatbank10_d_air</td>\n",
       "      <td>NaN</td>\n",
       "      <td>NaN</td>\n",
       "      <td>NaN</td>\n",
       "    </tr>\n",
       "    <tr>\n",
       "      <td>30</td>\n",
       "      <td>rougher.state.floatbank10_d_level</td>\n",
       "      <td>NaN</td>\n",
       "      <td>NaN</td>\n",
       "      <td>NaN</td>\n",
       "    </tr>\n",
       "    <tr>\n",
       "      <td>31</td>\n",
       "      <td>rougher.state.floatbank10_e_air</td>\n",
       "      <td>NaN</td>\n",
       "      <td>NaN</td>\n",
       "      <td>NaN</td>\n",
       "    </tr>\n",
       "    <tr>\n",
       "      <td>32</td>\n",
       "      <td>rougher.state.floatbank10_e_level</td>\n",
       "      <td>NaN</td>\n",
       "      <td>NaN</td>\n",
       "      <td>NaN</td>\n",
       "    </tr>\n",
       "    <tr>\n",
       "      <td>33</td>\n",
       "      <td>rougher.state.floatbank10_f_air</td>\n",
       "      <td>NaN</td>\n",
       "      <td>NaN</td>\n",
       "      <td>NaN</td>\n",
       "    </tr>\n",
       "    <tr>\n",
       "      <td>34</td>\n",
       "      <td>rougher.state.floatbank10_f_level</td>\n",
       "      <td>NaN</td>\n",
       "      <td>NaN</td>\n",
       "      <td>NaN</td>\n",
       "    </tr>\n",
       "  </tbody>\n",
       "</table>\n",
       "</div>"
      ],
      "text/plain": [
       "                                              rougher  \\\n",
       "0       rougher.calculation.sulfate_to_au_concentrate   \n",
       "1   rougher.calculation.floatbank10_sulfate_to_au_...   \n",
       "2   rougher.calculation.floatbank11_sulfate_to_au_...   \n",
       "3                     rougher.calculation.au_pb_ratio   \n",
       "4                               rougher.input.feed_ag   \n",
       "5                               rougher.input.feed_pb   \n",
       "6                             rougher.input.feed_rate   \n",
       "7                             rougher.input.feed_size   \n",
       "8                              rougher.input.feed_sol   \n",
       "9                               rougher.input.feed_au   \n",
       "10                  rougher.input.floatbank10_sulfate   \n",
       "11                 rougher.input.floatbank10_xanthate   \n",
       "12                  rougher.input.floatbank11_sulfate   \n",
       "13                 rougher.input.floatbank11_xanthate   \n",
       "14                      rougher.output.concentrate_ag   \n",
       "15                      rougher.output.concentrate_pb   \n",
       "16                     rougher.output.concentrate_sol   \n",
       "17                      rougher.output.concentrate_au   \n",
       "18                            rougher.output.recovery   \n",
       "19                             rougher.output.tail_ag   \n",
       "20                             rougher.output.tail_pb   \n",
       "21                            rougher.output.tail_sol   \n",
       "22                             rougher.output.tail_au   \n",
       "23                    rougher.state.floatbank10_a_air   \n",
       "24                  rougher.state.floatbank10_a_level   \n",
       "25                    rougher.state.floatbank10_b_air   \n",
       "26                  rougher.state.floatbank10_b_level   \n",
       "27                    rougher.state.floatbank10_c_air   \n",
       "28                  rougher.state.floatbank10_c_level   \n",
       "29                    rougher.state.floatbank10_d_air   \n",
       "30                  rougher.state.floatbank10_d_level   \n",
       "31                    rougher.state.floatbank10_e_air   \n",
       "32                  rougher.state.floatbank10_e_level   \n",
       "33                    rougher.state.floatbank10_f_air   \n",
       "34                  rougher.state.floatbank10_f_level   \n",
       "\n",
       "                             primary_cleaner  \\\n",
       "0              primary_cleaner.input.sulfate   \n",
       "1           primary_cleaner.input.depressant   \n",
       "2            primary_cleaner.input.feed_size   \n",
       "3             primary_cleaner.input.xanthate   \n",
       "4      primary_cleaner.output.concentrate_ag   \n",
       "5      primary_cleaner.output.concentrate_pb   \n",
       "6     primary_cleaner.output.concentrate_sol   \n",
       "7      primary_cleaner.output.concentrate_au   \n",
       "8             primary_cleaner.output.tail_ag   \n",
       "9             primary_cleaner.output.tail_pb   \n",
       "10           primary_cleaner.output.tail_sol   \n",
       "11            primary_cleaner.output.tail_au   \n",
       "12    primary_cleaner.state.floatbank8_a_air   \n",
       "13  primary_cleaner.state.floatbank8_a_level   \n",
       "14    primary_cleaner.state.floatbank8_b_air   \n",
       "15  primary_cleaner.state.floatbank8_b_level   \n",
       "16    primary_cleaner.state.floatbank8_c_air   \n",
       "17  primary_cleaner.state.floatbank8_c_level   \n",
       "18    primary_cleaner.state.floatbank8_d_air   \n",
       "19  primary_cleaner.state.floatbank8_d_level   \n",
       "20                                       NaN   \n",
       "21                                       NaN   \n",
       "22                                       NaN   \n",
       "23                                       NaN   \n",
       "24                                       NaN   \n",
       "25                                       NaN   \n",
       "26                                       NaN   \n",
       "27                                       NaN   \n",
       "28                                       NaN   \n",
       "29                                       NaN   \n",
       "30                                       NaN   \n",
       "31                                       NaN   \n",
       "32                                       NaN   \n",
       "33                                       NaN   \n",
       "34                                       NaN   \n",
       "\n",
       "                             secondary_cleaner                         final  \n",
       "0             secondary_cleaner.output.tail_ag   final.output.concentrate_ag  \n",
       "1             secondary_cleaner.output.tail_pb   final.output.concentrate_pb  \n",
       "2            secondary_cleaner.output.tail_sol  final.output.concentrate_sol  \n",
       "3             secondary_cleaner.output.tail_au   final.output.concentrate_au  \n",
       "4     secondary_cleaner.state.floatbank2_a_air         final.output.recovery  \n",
       "5   secondary_cleaner.state.floatbank2_a_level          final.output.tail_ag  \n",
       "6     secondary_cleaner.state.floatbank2_b_air          final.output.tail_pb  \n",
       "7   secondary_cleaner.state.floatbank2_b_level         final.output.tail_sol  \n",
       "8     secondary_cleaner.state.floatbank3_a_air          final.output.tail_au  \n",
       "9   secondary_cleaner.state.floatbank3_a_level                           NaN  \n",
       "10    secondary_cleaner.state.floatbank3_b_air                           NaN  \n",
       "11  secondary_cleaner.state.floatbank3_b_level                           NaN  \n",
       "12    secondary_cleaner.state.floatbank4_a_air                           NaN  \n",
       "13  secondary_cleaner.state.floatbank4_a_level                           NaN  \n",
       "14    secondary_cleaner.state.floatbank4_b_air                           NaN  \n",
       "15  secondary_cleaner.state.floatbank4_b_level                           NaN  \n",
       "16    secondary_cleaner.state.floatbank5_a_air                           NaN  \n",
       "17  secondary_cleaner.state.floatbank5_a_level                           NaN  \n",
       "18    secondary_cleaner.state.floatbank5_b_air                           NaN  \n",
       "19  secondary_cleaner.state.floatbank5_b_level                           NaN  \n",
       "20    secondary_cleaner.state.floatbank6_a_air                           NaN  \n",
       "21  secondary_cleaner.state.floatbank6_a_level                           NaN  \n",
       "22                                         NaN                           NaN  \n",
       "23                                         NaN                           NaN  \n",
       "24                                         NaN                           NaN  \n",
       "25                                         NaN                           NaN  \n",
       "26                                         NaN                           NaN  \n",
       "27                                         NaN                           NaN  \n",
       "28                                         NaN                           NaN  \n",
       "29                                         NaN                           NaN  \n",
       "30                                         NaN                           NaN  \n",
       "31                                         NaN                           NaN  \n",
       "32                                         NaN                           NaN  \n",
       "33                                         NaN                           NaN  \n",
       "34                                         NaN                           NaN  "
      ]
     },
     "execution_count": 98,
     "metadata": {},
     "output_type": "execute_result"
    }
   ],
   "source": [
    "df_stage "
   ]
  },
  {
   "cell_type": "markdown",
   "metadata": {},
   "source": [
    "В тестовой выборке отсутсвуют все признаки что соответсвуют параметрам продукта на выходе, а также зависимые от этого расчётные параметры. Пользуясь принципом Бритвы Оккама предобработаю полный датафрейм вместо отдельной работы с тестовым и обучающим. "
   ]
  },
  {
   "cell_type": "markdown",
   "metadata": {},
   "source": [
    "### 1.С.c Подготовка данных<a id='chapter1.С.c'>\n",
    "    \n",
    "    \n",
    "1. [Преобразование *date*](#chapter1.С.c.i)\n",
    "2. [Подготовка признаков](#chapter1.С.c.ii)\n",
    "3. [Масштабирование даннных](#chapter1.С.c.iii)\n",
    "4. [Выводы о подготовке данных](#chapter1.С.c.iiii) \n",
    "    \n",
    "[В начало параграфа \"Подготовка данных, признаков и функций\"](#chapter1.C)   \n",
    "[К оглавлению](#start)    "
   ]
  },
  {
   "cell_type": "markdown",
   "metadata": {},
   "source": [
    "#### 1.С.c.i Преобразование `date` <a id='chapter1.С.c.i'>\n",
    "Может быть мне и понадобится этот признак, но вообще не представляю зачем он мне нужен.\n",
    "    \n",
    "[В начало параграфа \"Подготовка данных, признаков и функций\"](#chapter1.C)   \n",
    "[К оглавлению](#start)    "
   ]
  },
  {
   "cell_type": "code",
   "execution_count": 99,
   "metadata": {},
   "outputs": [
    {
     "data": {
      "text/plain": [
       "0   2016-01-15 00:00:00\n",
       "1   2016-01-15 01:00:00\n",
       "2   2016-01-15 02:00:00\n",
       "3   2016-01-15 03:00:00\n",
       "4   2016-01-15 04:00:00\n",
       "Name: date, dtype: datetime64[ns]"
      ]
     },
     "execution_count": 99,
     "metadata": {},
     "output_type": "execute_result"
    }
   ],
   "source": [
    "gr['date'] = pd.to_datetime(gr['date'])\n",
    "gr['date'].head()"
   ]
  },
  {
   "cell_type": "code",
   "execution_count": 100,
   "metadata": {},
   "outputs": [
    {
     "data": {
      "text/plain": [
       "0   2016-01-15 00:00:00\n",
       "1   2016-01-15 01:00:00\n",
       "2   2016-01-15 02:00:00\n",
       "3   2016-01-15 03:00:00\n",
       "4   2016-01-15 04:00:00\n",
       "Name: date, dtype: datetime64[ns]"
      ]
     },
     "execution_count": 100,
     "metadata": {},
     "output_type": "execute_result"
    }
   ],
   "source": [
    "gr_train['date'] = pd.to_datetime(gr_train['date'])\n",
    "gr_train['date'].head()"
   ]
  },
  {
   "cell_type": "code",
   "execution_count": 101,
   "metadata": {},
   "outputs": [
    {
     "data": {
      "text/plain": [
       "0   2016-09-01 00:59:59\n",
       "1   2016-09-01 01:59:59\n",
       "2   2016-09-01 02:59:59\n",
       "3   2016-09-01 03:59:59\n",
       "4   2016-09-01 04:59:59\n",
       "Name: date, dtype: datetime64[ns]"
      ]
     },
     "execution_count": 101,
     "metadata": {},
     "output_type": "execute_result"
    }
   ],
   "source": [
    "gr_test['date'] = pd.to_datetime(gr_test['date'])\n",
    "gr_test['date'].head()"
   ]
  },
  {
   "cell_type": "markdown",
   "metadata": {},
   "source": [
    "Преобразование `date`: успех."
   ]
  },
  {
   "cell_type": "markdown",
   "metadata": {},
   "source": [
    "#### 1.С.c.ii Подготовка признаков  <a id='chapter1.С.c.ii'>\n",
    "[В начало параграфа \"Подготовка данных, признаков и функций\"](#chapter1.C)   \n",
    "[К оглавлению](#start)    \n",
    "    "
   ]
  },
  {
   "cell_type": "markdown",
   "metadata": {},
   "source": [
    "Заполню пропуски предыдущими значениями. Несмотря на то что в обучающей и тестовой выбоке данные взяты не по порядку не буду удалать пропуски. На графиках видно что всего в 2-3 местах могут быть не верно заполненые значения. "
   ]
  },
  {
   "cell_type": "code",
   "execution_count": 102,
   "metadata": {},
   "outputs": [
    {
     "data": {
      "text/plain": [
       "<matplotlib.axes._subplots.AxesSubplot at 0x7f1ea1170250>"
      ]
     },
     "execution_count": 102,
     "metadata": {},
     "output_type": "execute_result"
    },
    {
     "data": {
      "image/png": "[encoded data removed]",
      "text/plain": [
       "<Figure size 432x288 with 1 Axes>"
      ]
     },
     "metadata": {},
     "output_type": "display_data"
    }
   ],
   "source": [
    "gr = gr.fillna(method ='ffill')\n",
    "gr['date'].plot()"
   ]
  },
  {
   "cell_type": "code",
   "execution_count": 103,
   "metadata": {},
   "outputs": [
    {
     "data": {
      "text/plain": [
       "<matplotlib.axes._subplots.AxesSubplot at 0x7f1ea09d6750>"
      ]
     },
     "execution_count": 103,
     "metadata": {},
     "output_type": "execute_result"
    },
    {
     "data": {
      "image/png": "[encoded data removed]",
      "text/plain": [
       "<Figure size 432x288 with 1 Axes>"
      ]
     },
     "metadata": {},
     "output_type": "display_data"
    }
   ],
   "source": [
    "gr_train = gr_train.fillna(method ='ffill')\n",
    "gr_train['date'].plot()"
   ]
  },
  {
   "cell_type": "code",
   "execution_count": 104,
   "metadata": {},
   "outputs": [
    {
     "data": {
      "text/plain": [
       "<matplotlib.axes._subplots.AxesSubplot at 0x7f1ea0bc8b50>"
      ]
     },
     "execution_count": 104,
     "metadata": {},
     "output_type": "execute_result"
    },
    {
     "data": {
      "image/png": "[encoded data removed]",
      "text/plain": [
       "<Figure size 432x288 with 1 Axes>"
      ]
     },
     "metadata": {},
     "output_type": "display_data"
    }
   ],
   "source": [
    "gr_test = gr_test.fillna(method ='ffill')\n",
    "gr_test['date'].plot()"
   ]
  },
  {
   "cell_type": "markdown",
   "metadata": {},
   "source": [
    "Разобьем выборки по признакам. Целевых признаков в нашем датасете два:\n",
    "1. rougher.output.recovery\t\n",
    "2. final.output.recovery\n",
    "\n",
    "Ключевая метрика в этой работе  - **итоговое sMAPE**. Оно зависит от финальной эффективности и эффективности после флотации. "
   ]
  },
  {
   "cell_type": "code",
   "execution_count": 105,
   "metadata": {},
   "outputs": [
    {
     "name": "stdout",
     "output_type": "stream",
     "text": [
      "Размеры выборок для кросс-валидации \n",
      "  Признаки для обучения модели предсказывающей: final.output.recovery \n",
      "    Признаки: (22716, 84) \n",
      "    Целевой признак: (22716,) \n",
      "  Признаки для обучения модели предсказывающей: rougher.output.recovery \n",
      "    Признаки: (22716, 34) \n",
      "    Целевой признак: (22716,)\n"
     ]
    }
   ],
   "source": [
    "# выборка для кроссвалидации\n",
    "features_rougher_full = gr[df_stage['rougher']].drop('rougher.output.recovery' , axis = 1)\n",
    "target_rougher_full = gr[df_stage['rougher']]['rougher.output.recovery']\n",
    "\n",
    "features_final_full = gr.drop( ['date', 'rougher.output.recovery' ,'final.output.recovery'] , axis = 1)\n",
    "target_final_full = gr['final.output.recovery']\n",
    "print('Размеры выборок для кросс-валидации',\n",
    "      '\\n  Признаки для обучения модели предсказывающей: final.output.recovery',\n",
    "      '\\n    Признаки:' ,    features_final_full.shape,\n",
    "      '\\n    Целевой признак:' ,  target_final_full.shape, \n",
    "    '\\n  Признаки для обучения модели предсказывающей: rougher.output.recovery',\n",
    "      '\\n    Признаки:' ,    features_rougher_full.shape,\n",
    "      '\\n    Целевой признак:' ,  target_rougher_full.shape, \n",
    ")"
   ]
  },
  {
   "cell_type": "code",
   "execution_count": 106,
   "metadata": {},
   "outputs": [
    {
     "name": "stdout",
     "output_type": "stream",
     "text": [
      "Размеры обучающих выборок для обучения модели: \n",
      "  Признаки для обучения модели предсказывающей: final.output.recovery \n",
      "    Признаки: (16860, 84) \n",
      "    Целевой признак: (16860,) \n",
      "  Признаки для обучения модели предсказывающей: rougher.output.recovery \n",
      "    Признаки: (16860, 34) \n",
      "    Целевой признак: (16860,)\n"
     ]
    }
   ],
   "source": [
    "# обучающая выборка\n",
    "features_rougher_train = gr_train[df_stage['rougher']].drop('rougher.output.recovery' , axis = 1)\n",
    "target_rougher_train = gr_train[df_stage['rougher']]['rougher.output.recovery']\n",
    "\n",
    "features_final_train = gr_train.drop( ['date', 'rougher.output.recovery' ,'final.output.recovery'] , axis = 1)\n",
    "target_final_train = gr_train['final.output.recovery']\n",
    "print('Размеры обучающих выборок для обучения модели:',\n",
    "      '\\n  Признаки для обучения модели предсказывающей: final.output.recovery',\n",
    "      '\\n    Признаки:' ,    features_final_train.shape,\n",
    "      '\\n    Целевой признак:' ,  target_final_train.shape, \n",
    "    '\\n  Признаки для обучения модели предсказывающей: rougher.output.recovery',\n",
    "      '\\n    Признаки:' ,    features_rougher_train.shape,\n",
    "      '\\n    Целевой признак:' ,  target_rougher_train.shape, \n",
    ")"
   ]
  },
  {
   "cell_type": "code",
   "execution_count": 107,
   "metadata": {},
   "outputs": [
    {
     "name": "stdout",
     "output_type": "stream",
     "text": [
      "Размеры обучающих выборок для обучения модели: \n",
      "  Признаки для обучения модели предсказывающей: final.output.recovery \n",
      "    Признаки: (5856, 84) \n",
      "    Целевой признак: (5856,) \n",
      "  Признаки для обучения модели предсказывающей: rougher.output.recovery \n",
      "    Признаки: (5856, 34) \n",
      "    Целевой признак: (5856,)\n"
     ]
    }
   ],
   "source": [
    "# тестовая выборка\n",
    "#\n",
    "gr_dateindex=gr.set_index('date')\n",
    "gr_test_true=gr_dateindex.loc[gr_test.set_index('date').index ,:]\n",
    "gr_test_true=gr_test_true.reset_index(drop=True)\n",
    "\n",
    "features_rougher_test = gr_test_true[df_stage['rougher']].drop('rougher.output.recovery' , axis = 1)\n",
    "target_rougher_test = gr_test_true[df_stage['rougher']]['rougher.output.recovery']\n",
    "\n",
    "features_final_test = gr_test_true.drop( [ 'rougher.output.recovery' ,'final.output.recovery'] , axis = 1)\n",
    "target_final_test = gr_test_true['final.output.recovery']\n",
    "print('Размеры обучающих выборок для обучения модели:',\n",
    "      '\\n  Признаки для обучения модели предсказывающей: final.output.recovery',\n",
    "      '\\n    Признаки:' ,    features_final_test.shape,\n",
    "      '\\n    Целевой признак:' ,  target_final_test.shape, \n",
    "    '\\n  Признаки для обучения модели предсказывающей: rougher.output.recovery',\n",
    "      '\\n    Признаки:' ,    features_rougher_test.shape,\n",
    "      '\\n    Целевой признак:' ,  target_rougher_test.shape, \n",
    ")"
   ]
  },
  {
   "cell_type": "markdown",
   "metadata": {},
   "source": [
    "На этапе флотации есть расчётные параметры, которые, как я полагаю, линейно зависят от целевого признака. Посмотрю так ли это. Если так, то от них лучше избавиться.  "
   ]
  },
  {
   "cell_type": "code",
   "execution_count": 108,
   "metadata": {},
   "outputs": [
    {
     "data": {
      "text/plain": [
       "rougher.input.feed_au                 0.318726\n",
       "rougher.input.floatbank11_xanthate    0.323120\n",
       "rougher.input.feed_ag                 0.323709\n",
       "rougher.input.feed_sol                0.344115\n",
       "primary_cleaner.input.sulfate         0.360484\n",
       "rougher.output.concentrate_au         0.473145\n",
       "rougher.output.concentrate_pb         0.478281\n",
       "rougher.output.concentrate_sol        0.487110\n",
       "rougher.output.concentrate_ag         0.521058\n",
       "rougher.output.recovery               1.000000\n",
       "Name: rougher.output.recovery, dtype: float64"
      ]
     },
     "execution_count": 108,
     "metadata": {},
     "output_type": "execute_result"
    }
   ],
   "source": [
    "gr_train.corr()['rougher.output.recovery'].sort_values().tail(10)"
   ]
  },
  {
   "cell_type": "code",
   "execution_count": 109,
   "metadata": {},
   "outputs": [
    {
     "data": {
      "text/plain": [
       "rougher.output.tail_au                               -0.303468\n",
       "rougher.output.tail_ag                               -0.148922\n",
       "rougher.output.tail_pb                               -0.034031\n",
       "primary_cleaner.input.feed_size                      -0.019063\n",
       "rougher.calculation.floatbank10_sulfate_to_au_feed   -0.008202\n",
       "rougher.calculation.au_pb_ratio                       0.002044\n",
       "rougher.calculation.floatbank11_sulfate_to_au_feed    0.022283\n",
       "secondary_cleaner.output.tail_au                      0.026485\n",
       "primary_cleaner.output.tail_au                        0.031141\n",
       "rougher.calculation.sulfate_to_au_concentrate         0.038960\n",
       "Name: rougher.output.recovery, dtype: float64"
      ]
     },
     "execution_count": 109,
     "metadata": {},
     "output_type": "execute_result"
    }
   ],
   "source": [
    "gr_train.corr()['rougher.output.recovery'].sort_values().head(10)"
   ]
  },
  {
   "cell_type": "markdown",
   "metadata": {},
   "source": [
    "calculation не корелируют. Не буду ничего дополнительно выбрасывать."
   ]
  },
  {
   "cell_type": "markdown",
   "metadata": {},
   "source": [
    "###### Вывод о подготовке признаков\n",
    "1. Пропущенные данные заменены предыдущими\n",
    "2. Созданы выборки для обучения, тестирования и крос-валидации\n",
    "3. Оставлю все признаки\n",
    "\n",
    " * Ключевые переменные для дальнейшей работы:\n",
    "     * Кросс-валидационная выборка\n",
    "        * features_rougher_full\n",
    "        * target_rougher_full \n",
    "        * features_final_full\n",
    "        * target_final_full\n",
    "     * Обучающая выбока\n",
    "        * features_rougher_train\n",
    "        * target_rougher_train\n",
    "        * features_final_train\n",
    "        * target_final_train\n",
    "     * Тестовая выборка\n",
    "        * features_rougher_test\n",
    "        * target_rougher_test\n",
    "        * features_final_test\n",
    "        * target_final_test "
   ]
  },
  {
   "cell_type": "code",
   "execution_count": 146,
   "metadata": {},
   "outputs": [
    {
     "name": "stdout",
     "output_type": "stream",
     "text": [
      "Размеры выборок для кросс-валидации \n",
      "  Признаки для обучения модели предсказывающей: final.output.recovery \n",
      "    Признаки: (20234, 52) \n",
      "    Целевой признак: (20234,) \n",
      "  Признаки для обучения модели предсказывающей: rougher.output.recovery \n",
      "    Признаки: (20234, 22) \n",
      "    Целевой признак: (20234,)\n"
     ]
    }
   ],
   "source": [
    "# выборка для кроссвалидации\n",
    "gr_zakaz = gr[gr_test.columns]\n",
    "features_rougher_full = gr[df_test_stage['rougher']]\n",
    "target_rougher_full = gr[df_stage['rougher']]['rougher.output.recovery']\n",
    "\n",
    "features_final_full = gr_zakaz.drop( 'date' , axis = 1)\n",
    "target_final_full = gr['final.output.recovery']\n",
    "print('Размеры выборок для кросс-валидации',\n",
    "      '\\n  Признаки для обучения модели предсказывающей: final.output.recovery',\n",
    "      '\\n    Признаки:' ,    features_final_full.shape,\n",
    "      '\\n    Целевой признак:' ,  target_final_full.shape, \n",
    "    '\\n  Признаки для обучения модели предсказывающей: rougher.output.recovery',\n",
    "      '\\n    Признаки:' ,    features_rougher_full.shape,\n",
    "      '\\n    Целевой признак:' ,  target_rougher_full.shape, \n",
    ")\n"
   ]
  },
  {
   "cell_type": "code",
   "execution_count": 147,
   "metadata": {},
   "outputs": [
    {
     "name": "stdout",
     "output_type": "stream",
     "text": [
      "Размеры обучающих выборок для обучения модели: \n",
      "  Признаки для обучения модели предсказывающей: final.output.recovery \n",
      "    Признаки: (14842, 52) \n",
      "    Целевой признак: (14842,) \n",
      "  Признаки для обучения модели предсказывающей: rougher.output.recovery \n",
      "    Признаки: (14842, 22) \n",
      "    Целевой признак: (14842,)\n"
     ]
    }
   ],
   "source": [
    "# обучающая выборка\n",
    "gr_zakaz_train=gr_train[gr_test.columns]\n",
    "features_rougher_train = gr_zakaz_train[df_test_stage['rougher']]\n",
    "target_rougher_train = gr_train[df_stage['rougher']]['rougher.output.recovery']\n",
    "\n",
    "features_final_train = gr_zakaz_train.drop( 'date' , axis = 1)\n",
    "target_final_train = gr_train['final.output.recovery']\n",
    "print('Размеры обучающих выборок для обучения модели:',\n",
    "      '\\n  Признаки для обучения модели предсказывающей: final.output.recovery',\n",
    "      '\\n    Признаки:' ,    features_final_train.shape,\n",
    "      '\\n    Целевой признак:' ,  target_final_train.shape, \n",
    "    '\\n  Признаки для обучения модели предсказывающей: rougher.output.recovery',\n",
    "      '\\n    Признаки:' ,    features_rougher_train.shape,\n",
    "      '\\n    Целевой признак:' ,  target_rougher_train.shape, \n",
    ")"
   ]
  },
  {
   "cell_type": "code",
   "execution_count": 148,
   "metadata": {},
   "outputs": [
    {
     "name": "stdout",
     "output_type": "stream",
     "text": [
      "Размеры обучающих выборок для обучения модели: \n",
      "  Признаки для обучения модели предсказывающей: final.output.recovery \n",
      "    Признаки: (5392, 52) \n",
      "    Целевой признак: (5392,) \n",
      "  Признаки для обучения модели предсказывающей: rougher.output.recovery \n",
      "    Признаки: (5392, 22) \n",
      "    Целевой признак: (5392,)\n"
     ]
    }
   ],
   "source": [
    "# тестовая выборка\n",
    "#\n",
    "gr_test_true_zakaz = gr_test_true[(gr_test.drop('date',axis=1)).columns]\n",
    "features_rougher_test = gr_test_true_zakaz[df_test_stage['rougher']]\n",
    "target_rougher_test = gr_test_true[df_stage['rougher']]['rougher.output.recovery']\n",
    "\n",
    "features_final_test = gr_test_true_zakaz\n",
    "target_final_test = gr_test_true['final.output.recovery']\n",
    "print('Размеры обучающих выборок для обучения модели:',\n",
    "      '\\n  Признаки для обучения модели предсказывающей: final.output.recovery',\n",
    "      '\\n    Признаки:' ,    features_final_test.shape,\n",
    "      '\\n    Целевой признак:' ,  target_final_test.shape, \n",
    "    '\\n  Признаки для обучения модели предсказывающей: rougher.output.recovery',\n",
    "      '\\n    Признаки:' ,    features_rougher_test.shape,\n",
    "      '\\n    Целевой признак:' ,  target_rougher_test.shape, \n",
    ")"
   ]
  },
  {
   "cell_type": "markdown",
   "metadata": {},
   "source": [
    "#### 1.С.c.iii Масштабирование даннных\n",
    "[В начало параграфа \"Подготовка данных, признаков и функций\"](#chapter1.C)   \n",
    "[К оглавлению](#start)      <a id='chapter1.С.c.iii'>"
   ]
  },
  {
   "cell_type": "markdown",
   "metadata": {},
   "source": [
    "Промасштабирую признаки\n",
    "1. features_rougher_full\n",
    "* features_final_full\n",
    "* features_rougher_train\n",
    "* features_final_train\n",
    "* features_rougher_test\n",
    "* features_final_test"
   ]
  },
  {
   "cell_type": "code",
   "execution_count": 126,
   "metadata": {},
   "outputs": [],
   "source": [
    "scaler = StandardScaler()\n",
    "scaler.fit(features_rougher_full)\n",
    "features_rougher_full_scaled = scaler.transform(features_rougher_full)"
   ]
  },
  {
   "cell_type": "code",
   "execution_count": 127,
   "metadata": {},
   "outputs": [],
   "source": [
    "scaler = StandardScaler()\n",
    "scaler.fit(features_final_full)\n",
    "features_final_full_scaled = scaler.transform(features_final_full)"
   ]
  },
  {
   "cell_type": "code",
   "execution_count": 128,
   "metadata": {},
   "outputs": [],
   "source": [
    "scaler = StandardScaler()\n",
    "scaler.fit(features_rougher_train)\n",
    "features_rougher_train_scaled = scaler.transform(features_rougher_train)"
   ]
  },
  {
   "cell_type": "code",
   "execution_count": 129,
   "metadata": {},
   "outputs": [],
   "source": [
    "scaler = StandardScaler()\n",
    "scaler.fit(features_final_train)\n",
    "features_final_train_scaled = scaler.transform(features_final_train)"
   ]
  },
  {
   "cell_type": "code",
   "execution_count": 130,
   "metadata": {},
   "outputs": [],
   "source": [
    "scaler = StandardScaler()\n",
    "scaler.fit(features_rougher_test)\n",
    "features_rougher_test_scaled = scaler.transform(features_rougher_test)"
   ]
  },
  {
   "cell_type": "code",
   "execution_count": 131,
   "metadata": {},
   "outputs": [],
   "source": [
    "scaler = StandardScaler()\n",
    "scaler.fit(features_final_test)\n",
    "features_final_test_scaled = scaler.transform(features_final_test)"
   ]
  },
  {
   "cell_type": "markdown",
   "metadata": {},
   "source": [
    "Именна отмасштабированных признаков:\n",
    "1. features_rougher_full_scaled\n",
    "* features_final_full_scaled\n",
    "* features_rougher_train_scaled\n",
    "* features_final_train_scaled\n",
    "* features_rougher_test_scaled\n",
    "* features_final_test_scaled"
   ]
  },
  {
   "cell_type": "markdown",
   "metadata": {},
   "source": [
    "####  Вывод о подготовке данных <a id='chapter1.С.c.iiii'></a>\n",
    "1. Преобразован признак `date` к временному типу\n",
    "2. Заменены пропущеные значения в данных предыдущими\n",
    "3. Подготовлены 3 выборки и для каждой подготовлены признаки и целевой признак\n",
    "4. Все данные промасштабированны\n",
    "\n",
    "[В начало параграфа \"Подготовка данных, признаков и функций\"](#chapter1.C)   \n",
    "[К оглавлению](#start)      <a id='chapter1.С.c.iii'>"
   ]
  },
  {
   "cell_type": "markdown",
   "metadata": {},
   "source": [
    "### 1.C.d Выводы по параграфу \"Подготовка данных, признаков и функций\" <a id='chapter1.С.d'></a>\n",
    "1. [Расчёт эффективности](#chapter1.С.а).\n",
    "    1. Написана [Функция расчёта эффективности](#chapter1.С.а.i). \n",
    "    2. Проведена[Проверка правильности уже расчитаной эффективности](#chapter1.С.а.ii).\n",
    "2. Проведен [Анализ признаков, недоступных в тестовой выборке](#chapter1.С.b). Он показал что в тестовой выборке отсутствует часть признаков, которые относятся к типу output. Отсутствующие признаки записаны в датафрейме `df_test_stage_lost`\n",
    "3. [Подготовка данных](#chapter1.С.c)\n",
    "    1. Проведено [Преобразование *date*](#chapter1.С.c.i) к временному типу.\n",
    "    2. [Подготовка признаков](#chapter1.С.c.ii)\n",
    "        1. Заменены пропущеные значения в данных предыдущими значениями.\n",
    "        3. Подготовлены 3 выборки и для каждой подготовлены признаки и целевой признак\n",
    "    2. Проведенно [Масштабирование даннных](#chapter1.С.c.iii). Именна отмасштабированных признаков:\n",
    "        1. `features_rougher_full_scaled`\n",
    "        * `features_final_full_scaled`\n",
    "        * `features_rougher_train_scaled`\n",
    "        * `features_final_train_scaled`\n",
    "        * `features_rougher_test_scaled`\n",
    "        * `features_final_test_scaled`\n",
    "    \n",
    "[В начало параграфа \"Подготовка данных, признаков и функций\"](#chapter1.C)   \n",
    "[К оглавлению](#start)      "
   ]
  },
  {
   "cell_type": "markdown",
   "metadata": {},
   "source": [
    "## 1.D Выводы о главе \"Предобработка данных\"<a id='chapter1.D'></a>\n",
    "\n",
    "1. Проведенны загрузка и исследование данных. Это возволило подготовить данные на следующих этапах. Подробнее см.Выводы по параграфу [\"Подготовка данных, признаков и функций\"](#chapter1.С.d) "
   ]
  },
  {
   "cell_type": "markdown",
   "metadata": {},
   "source": [
    "# 2. Анализ данных <a id='chapter2'></a>\n",
    "1. [Изменение концентрации металлов (Au, Ag, Pb) на различных этапах очистки](#chapter2.A)\n",
    "2. [Сравнение распределения размеров гранул сырья на обучающей и тестовой выборках](#chapter2.B)\n",
    "3. [Исследование суммарной концентрации всех веществ на разных стадиях: в сырье, в черновом и финальном концентратах](#chapter2.C)"
   ]
  },
  {
   "cell_type": "markdown",
   "metadata": {},
   "source": [
    "Для анализа данных будем использовать неотмасштабированную полную выборку `gr`"
   ]
  },
  {
   "cell_type": "markdown",
   "metadata": {},
   "source": [
    "## 2.A Изменение концентрации металлов (Au, Ag, Pb) на различных этапах очистки<a id='chapter2.A'>\n",
    "\n",
    "[В начало главы \"Анализ данных\"](#chapter2)   \n",
    "[К оглавлению](#start)    "
   ]
  },
  {
   "cell_type": "markdown",
   "metadata": {},
   "source": [
    "Признаки которые нам понадобятся:\n",
    "* rougher\n",
    "    * rougher.output.concentrate_au\t\n",
    "    * rougher.output.concentrate_ag\t\n",
    "    * rougher.output.concentrate_pb\t\n",
    "* primary_cleaner\n",
    "    * primary_cleaner.output.concentrate_au\n",
    "    * primary_cleaner.output.concentrate_ag    \n",
    "    * primary_cleaner.output.concentrate_pb\n",
    "* final\n",
    "    * final.output.concentrate_au\n",
    "    * final.output.concentrate_ag    \n",
    "    * final.output.concentrate_pb"
   ]
  },
  {
   "cell_type": "code",
   "execution_count": 132,
   "metadata": {},
   "outputs": [],
   "source": [
    "concentrate_au = pd.DataFrame ( columns = [ 'rougher' , 'primary_cleaner' , 'final' ] )\n",
    "concentrate_au['rougher'] = gr['rougher.output.concentrate_au']\n",
    "concentrate_au['primary_cleaner'] = gr['primary_cleaner.output.concentrate_au']\n",
    "concentrate_au['final'] = gr['final.output.concentrate_au']"
   ]
  },
  {
   "cell_type": "code",
   "execution_count": 133,
   "metadata": {},
   "outputs": [],
   "source": [
    "concentrate_ag = pd.DataFrame ( columns = [ 'rougher' , 'primary_cleaner' , 'final' ] )\n",
    "concentrate_ag['rougher'] = gr['rougher.output.concentrate_ag']\n",
    "concentrate_ag['primary_cleaner'] = gr['primary_cleaner.output.concentrate_ag']\n",
    "concentrate_ag['final'] = gr['final.output.concentrate_ag']"
   ]
  },
  {
   "cell_type": "code",
   "execution_count": 134,
   "metadata": {},
   "outputs": [],
   "source": [
    "concentrate_pb = pd.DataFrame ( columns = [ 'rougher' , 'primary_cleaner' , 'final' ] )\n",
    "concentrate_pb['rougher'] = gr['rougher.output.concentrate_pb']\n",
    "concentrate_pb['primary_cleaner'] = gr['primary_cleaner.output.concentrate_pb']\n",
    "concentrate_pb['final'] = gr['final.output.concentrate_pb']"
   ]
  },
  {
   "cell_type": "markdown",
   "metadata": {},
   "source": [
    "Признаки которые нам понадобятся:\n",
    "* rougher\n",
    "    * rougher.output.concentrate_au\t\n",
    "    * rougher.output.concentrate_ag\t\n",
    "    * rougher.output.concentrate_pb\t\n",
    "* primary_cleaner\n",
    "    * primary_cleaner.output.concentrate_au\n",
    "    * primary_cleaner.output.concentrate_ag    \n",
    "    * primary_cleaner.output.concentrate_pb\n",
    "* final\n",
    "    * final.output.concentrate_au\n",
    "    * final.output.concentrate_ag    \n",
    "    * final.output.concentrate_pb"
   ]
  },
  {
   "cell_type": "code",
   "execution_count": 135,
   "metadata": {},
   "outputs": [
    {
     "data": {
      "image/png": "[encoded data removed]",
      "text/plain": [
       "<Figure size 1152x144 with 1 Axes>"
      ]
     },
     "metadata": {},
     "output_type": "display_data"
    }
   ],
   "source": [
    "plt.figure(figsize=(16,2))\n",
    "plt.hist(concentrate_au['rougher'] , label=\"rougher\", histtype = 'step' , bins = 20 )\n",
    "plt.hist(concentrate_au['primary_cleaner'] , label=\"primary_cleaner\", histtype = 'step' , bins = 20)\n",
    "plt.hist(concentrate_au['final'] , label=\"final\", histtype = 'step' , bins = 20)\n",
    "\n",
    "plt.title(\"Распределение концентрации Au на разных этапах\")\n",
    "plt.xlabel(\"Концентрация\")\n",
    "plt.ylabel(\"Попаданий в корзину\")\n",
    "plt.legend(loc='upper left')\n",
    "plt.show()"
   ]
  },
  {
   "cell_type": "code",
   "execution_count": 136,
   "metadata": {},
   "outputs": [
    {
     "data": {
      "image/png": "[encoded data removed]",
      "text/plain": [
       "<Figure size 1152x144 with 1 Axes>"
      ]
     },
     "metadata": {},
     "output_type": "display_data"
    }
   ],
   "source": [
    "plt.figure(figsize=(16,2))\n",
    "plt.hist(concentrate_ag['rougher'] , label=\"rougher\", histtype = 'step' , bins = 20 )\n",
    "plt.hist(concentrate_ag['primary_cleaner'] , label=\"primary_cleaner\", histtype = 'step' , bins = 20)\n",
    "plt.hist(concentrate_ag['final'] , label=\"final\", histtype = 'step' , bins = 20)\n",
    "\n",
    "plt.title(\"Распределение концентрации Ag на разных этапах\")\n",
    "plt.xlabel(\"Концентрация\")\n",
    "plt.ylabel(\"Попаданий в корзину\")\n",
    "plt.legend(loc='upper left')\n",
    "plt.show()"
   ]
  },
  {
   "cell_type": "code",
   "execution_count": 137,
   "metadata": {},
   "outputs": [
    {
     "data": {
      "image/png": "[encoded data removed]",
      "text/plain": [
       "<Figure size 1152x144 with 1 Axes>"
      ]
     },
     "metadata": {},
     "output_type": "display_data"
    }
   ],
   "source": [
    "plt.figure(figsize=(16,2))\n",
    "plt.hist(concentrate_pb['rougher'] , label=\"rougher\", histtype = 'step' , bins = 20 )\n",
    "plt.hist(concentrate_pb['primary_cleaner'] , label=\"primary_cleaner\", histtype = 'step' , bins = 20)\n",
    "plt.hist(concentrate_pb['final'] , label=\"final\", histtype = 'step' , bins = 20)\n",
    "\n",
    "plt.title(\"Распределение концентрации Pb на разных этапах\")\n",
    "plt.xlabel(\"Концентрация\")\n",
    "plt.ylabel(\"Попаданий в корзину\")\n",
    "plt.legend(loc='upper left')\n",
    "plt.show()"
   ]
  },
  {
   "cell_type": "markdown",
   "metadata": {},
   "source": [
    "###### 2.A  Выводы о параграфе  \"Изменение концентрации металлов (Au, Ag, Pb) на различных этапах очистки\"\n",
    "1. Концентрация золота растёт от флотации к финальному этапу. Распределение симметричное.\n",
    "2. Концентрация серебра наоборот падает. Распределение скошено вправо.\n",
    "3. Концентрация свинца на этапе флотации меньше чем на остальных этапах и примерно одинаковая. Распределение симетрично. \n",
    "4. Для каждой концентрации наблюдаются выбросы в нуле. Это может повлиять на точность модели.\n",
    "\n",
    "[В начало главы \"Анализ данных\"](#chapter2)   \n",
    "[К оглавлению](#start)      "
   ]
  },
  {
   "cell_type": "markdown",
   "metadata": {},
   "source": [
    "## 2.B Сравнение распределения размеров гранул сырья на обучающей и тестовой выборках<a id='chapter2.B'>\n",
    "[В начало главы \"Анализ данных\"](#chapter2)   \n",
    "[К оглавлению](#start)    "
   ]
  },
  {
   "cell_type": "markdown",
   "metadata": {},
   "source": [
    "Используем 2 выборки:\n",
    "* gr_train\n",
    "* gr_test\n",
    "    \n",
    "Признаки которые нам понадобятся:\n",
    "* rougher\n",
    "    * rougher.input.feed_size\n",
    "* primary_cleaner\n",
    "    * primary_cleaner.input.feed_size\t"
   ]
  },
  {
   "cell_type": "code",
   "execution_count": 138,
   "metadata": {},
   "outputs": [],
   "source": [
    "gr_train_feed_size = pd.DataFrame(columns = ['rougher','primary_cleaner'])\n",
    "gr_train_feed_size['rougher'] = gr_train['rougher.input.feed_size'] \n",
    "gr_train_feed_size['primary_cleaner'] = gr_train['primary_cleaner.input.feed_size']"
   ]
  },
  {
   "cell_type": "code",
   "execution_count": 139,
   "metadata": {},
   "outputs": [],
   "source": [
    "gr_test_feed_size = pd.DataFrame(columns = ['rougher','primary_cleaner'])\n",
    "gr_test_feed_size['rougher'] = gr_test['rougher.input.feed_size'] \n",
    "gr_test_feed_size['primary_cleaner'] = gr_test['primary_cleaner.input.feed_size']"
   ]
  },
  {
   "cell_type": "code",
   "execution_count": 140,
   "metadata": {},
   "outputs": [
    {
     "data": {
      "image/png": "[encoded data removed]",
      "text/plain": [
       "<Figure size 1152x144 with 1 Axes>"
      ]
     },
     "metadata": {},
     "output_type": "display_data"
    }
   ],
   "source": [
    "plt.figure(figsize=(16,2))\n",
    "plt.hist(gr_train_feed_size['rougher'] , label=\"train\", histtype = 'step' , bins = 20 )\n",
    "plt.hist(gr_test_feed_size['rougher'] , label=\"test\", histtype = 'step' , bins = 20 )\n",
    "\n",
    "plt.title(\"Сравнение распределения размеров гранул сырья на обучающей и тестовой выборках. rougher\")\n",
    "plt.xlabel(\"Размер гранул сырья\")\n",
    "plt.ylabel(\"Попаданий в корзину\")\n",
    "plt.legend(loc='upper left')\n",
    "plt.show()"
   ]
  },
  {
   "cell_type": "code",
   "execution_count": 141,
   "metadata": {},
   "outputs": [
    {
     "data": {
      "image/png": "[encoded data removed]",
      "text/plain": [
       "<Figure size 1152x144 with 1 Axes>"
      ]
     },
     "metadata": {},
     "output_type": "display_data"
    }
   ],
   "source": [
    "plt.figure(figsize=(16,2))\n",
    "plt.hist(gr_train_feed_size['primary_cleaner'] , label=\"train\", histtype = 'step' , bins = 20 )\n",
    "plt.hist(gr_test_feed_size['primary_cleaner'] , label=\"test\", histtype = 'step' , bins = 20 )\n",
    "\n",
    "plt.title(\"Сравнение распределения размеров гранул сырья на обучающей и тестовой выборках. primary_cleaner\")\n",
    "plt.xlabel(\"Размер гранул сырья\")\n",
    "plt.ylabel(\"Попаданий в корзину\")\n",
    "plt.legend(loc='upper left')\n",
    "plt.show()"
   ]
  },
  {
   "cell_type": "markdown",
   "metadata": {},
   "source": [
    "###### Выводы о Сравнении распределения размеров гранул сырья на обучающей и тестовой выборках\n",
    "1. Наблюдаются выбросы по размеру гранул сырья в gr_train['rougher.input.feed_size'] \n",
    "2. Распределения симметричны и похожи.\n",
    "\n",
    "[В начало главы \"Анализ данных\"](#chapter2)   \n",
    "[К оглавлению](#start)      "
   ]
  },
  {
   "cell_type": "markdown",
   "metadata": {},
   "source": [
    "## 2.C Исследование суммарной концентрации всех веществ на разных стадиях: в сырье, в черновом и финальном концентратах<a id='chapter2.C'>\n",
    "[В начало главы \"Анализ данных\"](#chapter2)   \n",
    "[К оглавлению](#start)    "
   ]
  },
  {
   "cell_type": "markdown",
   "metadata": {},
   "source": [
    "Мы уже исследовали такие признаки как:\n",
    "* rougher\n",
    "    * rougher.output.concentrate_au\t\n",
    "    * rougher.output.concentrate_ag\t\n",
    "    * rougher.output.concentrate_pb\t\n",
    "* primary_cleaner\n",
    "    * primary_cleaner.output.concentrate_au\n",
    "    * primary_cleaner.output.concentrate_ag    \n",
    "    * primary_cleaner.output.concentrate_pb\n",
    "* final\n",
    "    * final.output.concentrate_au\n",
    "    * final.output.concentrate_ag    \n",
    "    * final.output.concentrate_pb\n",
    "Теперь нам нужны:\n",
    "* rougher.output.concentrate_sol\n",
    "* primary_cleaner.output.concentrate_sol\n",
    "* final.output.concentrate_sol"
   ]
  },
  {
   "cell_type": "code",
   "execution_count": 142,
   "metadata": {},
   "outputs": [
    {
     "data": {
      "image/png": "[encoded data removed]",
      "text/plain": [
       "<Figure size 1152x144 with 1 Axes>"
      ]
     },
     "metadata": {},
     "output_type": "display_data"
    }
   ],
   "source": [
    "concentrate_sol = pd.DataFrame ( columns = ['rougher','primary_cleaner','final'])\n",
    "concentrate_sol['rougher'] = gr['rougher.output.concentrate_sol']                                \n",
    "concentrate_sol['primary_cleaner'] = gr['primary_cleaner.output.concentrate_sol']   \n",
    "concentrate_sol['final'] = gr['final.output.concentrate_sol']                                \n",
    "plt.figure(figsize=(16,2))\n",
    "plt.hist(concentrate_sol['rougher'] , label=\"rougher\", histtype = 'step' , bins = 20 )\n",
    "plt.hist(concentrate_sol['primary_cleaner'] , label=\"primary_cleaner\", histtype = 'step' , bins = 20)\n",
    "plt.hist(concentrate_sol['final'] , label=\"final\", histtype = 'step' , bins = 20)\n",
    "\n",
    "plt.title(\"Распределение концентрации sol на разных этапах\")\n",
    "plt.xlabel(\"Концентрация\")\n",
    "plt.ylabel(\"Попаданий в корзину\")\n",
    "plt.legend(loc='upper left')\n",
    "plt.show()\n"
   ]
  },
  {
   "cell_type": "markdown",
   "metadata": {},
   "source": [
    "###### Выводы об исследовании суммарной концентрации всех веществ на разных стадиях: в сырье, в черновом и финальном концентратах\n",
    "1. Концентрация sol максимальная на этапе флотации. \n",
    "4. Наблюдаются выбросы в нуле. Это может повлиять на точность модели.\n",
    "\n",
    "[В начало главы \"Анализ данных\"](#chapter2)   \n",
    "[К оглавлению](#start)      "
   ]
  },
  {
   "cell_type": "markdown",
   "metadata": {},
   "source": []
  },
  {
   "cell_type": "markdown",
   "metadata": {},
   "source": [
    "## Вывод об Анализе данных\n",
    "**Выводы о параграфе  \"Изменение концентрации металлов (Au, Ag, Pb) на различных этапах очистки**\n",
    "1. Концентрация золота растёт от флотации к финальному этапу. Распределение симметричное.\n",
    "2. Концентрация серебра наоборот падает. Распределение скошено вправо.\n",
    "3. Концентрация свинца на этапе флотации меньше чем на остальных этапах и примерно одинаковая. Распределение симетрично. \n",
    "4. Для каждой концентрации наблюдаются выбросы в нуле. Это может повлиять на точность модели.\n",
    "\n",
    "**Выводы о Сравнении распределения размеров гранул сырья на обучающей и тестовой выборках**\n",
    "1. Наблюдаются выбросы по размеру гранул сырья в gr_train['rougher.input.feed_size'] \n",
    "2. Распределения симметричны и похожи.\n",
    "**Исследование суммарной концентрации всех веществ на разных стадиях: в сырье, в черновом и финальном концентратах**\n",
    "1. Концентрация sol максимальная на этапе флотации. \n",
    "4. Наблюдаются выбросы в нуле. Это может повлиять на точность модели.\n",
    "\n",
    "\n",
    "* Следует откинуть выбросы в нуле, а затем ещё раз подготовить признаки."
   ]
  },
  {
   "cell_type": "code",
   "execution_count": 143,
   "metadata": {},
   "outputs": [
    {
     "data": {
      "text/plain": [
       "(20234, 87)"
      ]
     },
     "execution_count": 143,
     "metadata": {},
     "output_type": "execute_result"
    }
   ],
   "source": [
    "gr=gr.where(gr['rougher.output.concentrate_au'] > 1).dropna()\n",
    "gr.shape"
   ]
  },
  {
   "cell_type": "code",
   "execution_count": 144,
   "metadata": {},
   "outputs": [
    {
     "data": {
      "text/plain": [
       "(14842, 87)"
      ]
     },
     "execution_count": 144,
     "metadata": {},
     "output_type": "execute_result"
    }
   ],
   "source": [
    "gr_train=gr_train.where(gr_train['rougher.output.concentrate_au'] > 1).dropna()\n",
    "gr_train.shape"
   ]
  },
  {
   "cell_type": "code",
   "execution_count": 145,
   "metadata": {},
   "outputs": [
    {
     "data": {
      "text/plain": [
       "(5392, 86)"
      ]
     },
     "execution_count": 145,
     "metadata": {},
     "output_type": "execute_result"
    }
   ],
   "source": [
    "gr_test_true=gr_test_true.where(gr_test_true['rougher.output.concentrate_au'] > 1).dropna()\n",
    "gr_test_true.shape"
   ]
  },
  {
   "cell_type": "markdown",
   "metadata": {},
   "source": [
    "Далее следует вынужденный копипаст кода для повторной обработки."
   ]
  },
  {
   "cell_type": "code",
   "execution_count": 149,
   "metadata": {},
   "outputs": [
    {
     "name": "stdout",
     "output_type": "stream",
     "text": [
      "Размеры выборок для кросс-валидации \n",
      "  Признаки для обучения модели предсказывающей: final.output.recovery \n",
      "    Признаки: (20234, 52) \n",
      "    Целевой признак: (20234,) \n",
      "  Признаки для обучения модели предсказывающей: rougher.output.recovery \n",
      "    Признаки: (20234, 22) \n",
      "    Целевой признак: (20234,)\n",
      "Размеры обучающих выборок для обучения модели: \n",
      "  Признаки для обучения модели предсказывающей: final.output.recovery \n",
      "    Признаки: (14842, 52) \n",
      "    Целевой признак: (14842,) \n",
      "  Признаки для обучения модели предсказывающей: rougher.output.recovery \n",
      "    Признаки: (14842, 22) \n",
      "    Целевой признак: (14842,)\n",
      "Размеры обучающих выборок для обучения модели: \n",
      "  Признаки для обучения модели предсказывающей: final.output.recovery \n",
      "    Признаки: (5392, 52) \n",
      "    Целевой признак: (5392,) \n",
      "  Признаки для обучения модели предсказывающей: rougher.output.recovery \n",
      "    Признаки: (5392, 22) \n",
      "    Целевой признак: (5392,)\n"
     ]
    }
   ],
   "source": [
    "# выборка для кроссвалидации\n",
    "gr_zakaz = gr[gr_test.columns]\n",
    "features_rougher_full = gr[df_test_stage['rougher']]\n",
    "target_rougher_full = gr[df_stage['rougher']]['rougher.output.recovery']\n",
    "\n",
    "features_final_full = gr_zakaz.drop( 'date' , axis = 1)\n",
    "target_final_full = gr['final.output.recovery']\n",
    "print('Размеры выборок для кросс-валидации',\n",
    "      '\\n  Признаки для обучения модели предсказывающей: final.output.recovery',\n",
    "      '\\n    Признаки:' ,    features_final_full.shape,\n",
    "      '\\n    Целевой признак:' ,  target_final_full.shape, \n",
    "    '\\n  Признаки для обучения модели предсказывающей: rougher.output.recovery',\n",
    "      '\\n    Признаки:' ,    features_rougher_full.shape,\n",
    "      '\\n    Целевой признак:' ,  target_rougher_full.shape, \n",
    ")\n",
    "\n",
    "\n",
    "# обучающая выборка\n",
    "gr_zakaz_train=gr_train[gr_test.columns]\n",
    "features_rougher_train = gr_zakaz_train[df_test_stage['rougher']]\n",
    "target_rougher_train = gr_train[df_stage['rougher']]['rougher.output.recovery']\n",
    "\n",
    "features_final_train = gr_zakaz_train.drop( 'date' , axis = 1)\n",
    "target_final_train = gr_train['final.output.recovery']\n",
    "print('Размеры обучающих выборок для обучения модели:',\n",
    "      '\\n  Признаки для обучения модели предсказывающей: final.output.recovery',\n",
    "      '\\n    Признаки:' ,    features_final_train.shape,\n",
    "      '\\n    Целевой признак:' ,  target_final_train.shape, \n",
    "    '\\n  Признаки для обучения модели предсказывающей: rougher.output.recovery',\n",
    "      '\\n    Признаки:' ,    features_rougher_train.shape,\n",
    "      '\\n    Целевой признак:' ,  target_rougher_train.shape, \n",
    ")\n",
    "\n",
    "# тестовая выборка\n",
    "#\n",
    "gr_test_true_zakaz = gr_test_true[(gr_test.drop('date',axis=1)).columns]\n",
    "features_rougher_test = gr_test_true_zakaz[df_test_stage['rougher']]\n",
    "target_rougher_test = gr_test_true[df_stage['rougher']]['rougher.output.recovery']\n",
    "\n",
    "features_final_test = gr_test_true_zakaz\n",
    "target_final_test = gr_test_true['final.output.recovery']\n",
    "print('Размеры обучающих выборок для обучения модели:',\n",
    "      '\\n  Признаки для обучения модели предсказывающей: final.output.recovery',\n",
    "      '\\n    Признаки:' ,    features_final_test.shape,\n",
    "      '\\n    Целевой признак:' ,  target_final_test.shape, \n",
    "    '\\n  Признаки для обучения модели предсказывающей: rougher.output.recovery',\n",
    "      '\\n    Признаки:' ,    features_rougher_test.shape,\n",
    "      '\\n    Целевой признак:' ,  target_rougher_test.shape, \n",
    ")\n",
    "\n",
    "scaler = StandardScaler()\n",
    "scaler.fit(features_rougher_full)\n",
    "features_rougher_full_scaled = pd.DataFrame(scaler.transform(features_rougher_full))\n",
    "\n",
    "scaler = StandardScaler()\n",
    "scaler.fit(features_final_full)\n",
    "features_final_full_scaled = pd.DataFrame(scaler.transform(features_final_full))\n",
    "\n",
    "scaler = StandardScaler()\n",
    "scaler.fit(features_rougher_train)\n",
    "features_rougher_train_scaled = scaler.transform(features_rougher_train)\n",
    "\n",
    "scaler = StandardScaler()\n",
    "scaler.fit(features_final_train)\n",
    "features_final_train_scaled = scaler.transform(features_final_train)\n",
    "\n",
    "scaler = StandardScaler()\n",
    "scaler.fit(features_rougher_test)\n",
    "features_rougher_test_scaled = scaler.transform(features_rougher_test)\n",
    "\n",
    "scaler = StandardScaler()\n",
    "scaler.fit(features_final_test)\n",
    "features_final_test_scaled = scaler.transform(features_final_test)"
   ]
  },
  {
   "cell_type": "markdown",
   "metadata": {},
   "source": [
    "Именна отмасштабированных признаков:\n",
    "1. features_rougher_full_scaled\n",
    "* features_final_full_scaled\n",
    "* features_rougher_train_scaled\n",
    "* features_final_train_scaled\n",
    "* features_rougher_test_scaled\n",
    "* features_final_test_scaled"
   ]
  },
  {
   "cell_type": "markdown",
   "metadata": {},
   "source": [
    "Целевые признаки\n",
    "1. target_rougher_full\n",
    "* target_final_full\n",
    "* target_rougher_train\n",
    "* target_final_train\n",
    "* target_rougher_test\n",
    "* target_final_test"
   ]
  },
  {
   "cell_type": "markdown",
   "metadata": {},
   "source": [
    "# 3. Модель <a id='chapter3'></a>"
   ]
  },
  {
   "cell_type": "markdown",
   "metadata": {},
   "source": [
    "## 3.А Функция для вычисления итоговой sMAPE. <a id='chapter3.A'>\n",
    "[К оглавлению](#start)  "
   ]
  },
  {
   "cell_type": "code",
   "execution_count": 150,
   "metadata": {},
   "outputs": [],
   "source": [
    "def sMAPE(tar,pred):\n",
    "    N = len(tar)\n",
    "    chislitel = abs(tar-pred)\n",
    "    znamenatel = (abs(tar)+abs(pred))/2\n",
    "    return ((chislitel/znamenatel).sum()*100)/N"
   ]
  },
  {
   "cell_type": "code",
   "execution_count": 151,
   "metadata": {},
   "outputs": [],
   "source": [
    "def itog_sMAPE(tar_rougher,pred_rougher,tar_final,pred_final):\n",
    "    return sMAPE(tar_rougher,pred_rougher)*0.25 + 0.75*sMAPE(tar_final,pred_final)"
   ]
  },
  {
   "cell_type": "markdown",
   "metadata": {},
   "source": [
    "###### Заметка по функциям\n",
    "1. sMAPE - симметричное среднее абсолютное процентное отклонение. \n",
    "    * tar - target - целевой признак\n",
    "    * pred - prediction - предсказание\n",
    "2. itog_sMAPE - наша итоговая метрика.\n",
    "    * tar_rougher - целевой признак на этапе флотации\n",
    "    * pred_rougher -  предсказание на этапе флотации\n",
    "    * tar_final - целевой признак на финальном этапе \n",
    "    * pred_final - предсказания на финальном этапе\n",
    "    "
   ]
  },
  {
   "cell_type": "markdown",
   "metadata": {},
   "source": [
    "## 3.B Проверка работы функции sMAPE и itog_sMAPE <a id='chapter3.B'>\n",
    "[К оглавлению](#start)  "
   ]
  },
  {
   "cell_type": "markdown",
   "metadata": {},
   "source": [
    "Проверю работают ли функции и заодно проверю хорошо ли подготовленны мои признаки. "
   ]
  },
  {
   "cell_type": "code",
   "execution_count": 152,
   "metadata": {},
   "outputs": [],
   "source": [
    "model_0 = LinearRegression()\n",
    "model_0.fit(features_rougher_train_scaled,target_rougher_train) \n",
    "predictions_rougher_test_0 = model_0.predict(features_rougher_test_scaled)\n",
    "pred_0=pd.Series(predictions_rougher_test_0,index = target_rougher_test.index)"
   ]
  },
  {
   "cell_type": "code",
   "execution_count": 153,
   "metadata": {},
   "outputs": [],
   "source": [
    "model_1 = LinearRegression()\n",
    "model_1.fit(features_final_train_scaled,target_final_train) \n",
    "predictions_final_test_1 = model_1.predict(features_final_test_scaled)\n",
    "pred_1=pd.Series( predictions_final_test_1,index = target_final_test.index)"
   ]
  },
  {
   "cell_type": "code",
   "execution_count": 154,
   "metadata": {},
   "outputs": [],
   "source": [
    "scores_0_rougher = pd.DataFrame( columns = ['name','score'])\n",
    "scores_0_rougher ['name'] = ['MAE',\"RMSE\",'r2','sMAPE']\n",
    "scores_0_rougher ['score'] = [mean_absolute_error(target_rougher_test,predictions_rougher_test_0),\n",
    "mean_squared_error(target_rougher_test,predictions_rougher_test_0)**0.5,\n",
    "r2_score(target_rougher_test,predictions_rougher_test_0),\n",
    "sMAPE(target_rougher_test,predictions_rougher_test_0)]"
   ]
  },
  {
   "cell_type": "code",
   "execution_count": 155,
   "metadata": {},
   "outputs": [],
   "source": [
    "scores_1_final = pd.DataFrame( columns = ['name','score'])\n",
    "scores_1_final ['name'] = ['MAE',\"RMSE\",'r2','sMAPE','itog_sMAPE']\n",
    "scores_1_final ['score'] = [mean_absolute_error(target_final_test,predictions_final_test_1),\n",
    "mean_squared_error(target_final_test,predictions_final_test_1)**0.5,\n",
    " r2_score(target_final_test,predictions_final_test_1),\n",
    "sMAPE(target_final_test,predictions_final_test_1),\n",
    "itog_sMAPE(target_rougher_test,predictions_rougher_test_0,target_final_test,predictions_final_test_1)                           ]"
   ]
  },
  {
   "cell_type": "code",
   "execution_count": 156,
   "metadata": {},
   "outputs": [
    {
     "data": {
      "image/png": "[encoded data removed]",
      "text/plain": [
       "<Figure size 1152x144 with 1 Axes>"
      ]
     },
     "metadata": {},
     "output_type": "display_data"
    },
    {
     "data": {
      "text/html": [
       "<div>\n",
       "<style scoped>\n",
       "    .dataframe tbody tr th:only-of-type {\n",
       "        vertical-align: middle;\n",
       "    }\n",
       "\n",
       "    .dataframe tbody tr th {\n",
       "        vertical-align: top;\n",
       "    }\n",
       "\n",
       "    .dataframe thead th {\n",
       "        text-align: right;\n",
       "    }\n",
       "</style>\n",
       "<table border=\"1\" class=\"dataframe\">\n",
       "  <thead>\n",
       "    <tr style=\"text-align: right;\">\n",
       "      <th>name</th>\n",
       "      <th>MAE</th>\n",
       "      <th>RMSE</th>\n",
       "      <th>r2</th>\n",
       "      <th>sMAPE</th>\n",
       "    </tr>\n",
       "  </thead>\n",
       "  <tbody>\n",
       "    <tr>\n",
       "      <td>score</td>\n",
       "      <td>4.824392</td>\n",
       "      <td>7.702984</td>\n",
       "      <td>0.013513</td>\n",
       "      <td>6.181737</td>\n",
       "    </tr>\n",
       "  </tbody>\n",
       "</table>\n",
       "</div>"
      ],
      "text/plain": [
       "name        MAE      RMSE        r2     sMAPE\n",
       "score  4.824392  7.702984  0.013513  6.181737"
      ]
     },
     "execution_count": 156,
     "metadata": {},
     "output_type": "execute_result"
    }
   ],
   "source": [
    "plt.figure(figsize=(16,2))\n",
    "plt.hist(predictions_rougher_test_0 , label=\"pred\", histtype = 'step' , bins = 20 )\n",
    "plt.hist(target_rougher_test , label=\"target\", histtype = 'step' , bins = 20 )\n",
    "\n",
    "plt.title(\"Сравнение распределений целевого признака и предсказаний. rougher\")\n",
    "plt.xlabel(\"Эффективность обогащения, %\")\n",
    "plt.ylabel(\"Попаданий в корзину\")\n",
    "plt.legend(loc='upper left')\n",
    "plt.show()\n",
    "scores_0_rougher.pivot_table(columns='name')"
   ]
  },
  {
   "cell_type": "code",
   "execution_count": 157,
   "metadata": {},
   "outputs": [
    {
     "data": {
      "image/png": "[encoded data removed]",
      "text/plain": [
       "<Figure size 1152x144 with 1 Axes>"
      ]
     },
     "metadata": {},
     "output_type": "display_data"
    },
    {
     "data": {
      "text/html": [
       "<div>\n",
       "<style scoped>\n",
       "    .dataframe tbody tr th:only-of-type {\n",
       "        vertical-align: middle;\n",
       "    }\n",
       "\n",
       "    .dataframe tbody tr th {\n",
       "        vertical-align: top;\n",
       "    }\n",
       "\n",
       "    .dataframe thead th {\n",
       "        text-align: right;\n",
       "    }\n",
       "</style>\n",
       "<table border=\"1\" class=\"dataframe\">\n",
       "  <thead>\n",
       "    <tr style=\"text-align: right;\">\n",
       "      <th>name</th>\n",
       "      <th>MAE</th>\n",
       "      <th>RMSE</th>\n",
       "      <th>itog_sMAPE</th>\n",
       "      <th>r2</th>\n",
       "      <th>sMAPE</th>\n",
       "    </tr>\n",
       "  </thead>\n",
       "  <tbody>\n",
       "    <tr>\n",
       "      <td>score</td>\n",
       "      <td>7.158089</td>\n",
       "      <td>11.116371</td>\n",
       "      <td>10.907072</td>\n",
       "      <td>-0.02726</td>\n",
       "      <td>12.482184</td>\n",
       "    </tr>\n",
       "  </tbody>\n",
       "</table>\n",
       "</div>"
      ],
      "text/plain": [
       "name        MAE       RMSE  itog_sMAPE       r2      sMAPE\n",
       "score  7.158089  11.116371   10.907072 -0.02726  12.482184"
      ]
     },
     "execution_count": 157,
     "metadata": {},
     "output_type": "execute_result"
    }
   ],
   "source": [
    "plt.figure(figsize=(16,2))\n",
    "plt.hist(predictions_final_test_1 , label=\"pred\", histtype = 'step' , bins = 20 )\n",
    "plt.hist(target_final_test , label=\"target\", histtype = 'step' , bins = 20 )\n",
    "\n",
    "plt.title(\"Сравнение распределений целевого признака и предсказаний. final\")\n",
    "plt.xlabel(\"Эффективность обогащения, %\")\n",
    "plt.ylabel(\"Попаданий в корзину\")\n",
    "plt.legend(loc='upper left')\n",
    "plt.show()\n",
    "scores_1_final.pivot_table(columns='name')"
   ]
  },
  {
   "cell_type": "markdown",
   "metadata": {},
   "source": [
    "######  Выводы об обучении моделей в первом приближении\n",
    "1.  ~~Линейная регресия неплохо себя показала.~~\n",
    "    ~~* r2 большу нуля, хоть и не намного, для флотации и финального этапа.~~\n",
    "    Модель предсказывает хуже чем случайная. r2 - ниже нуля. \n",
    "2. Признаки подготовленны правильно.\n",
    "3. Функция sMAPE и itog_sMAPE работают правильно. Симметричное среднее абсолютное процентное отклонение меньше 10%.\n",
    "\n",
    "[В начало главы \"Модель\"](#chapter3)   \n",
    "[К оглавлению](#start)    "
   ]
  },
  {
   "cell_type": "markdown",
   "metadata": {},
   "source": [
    "## 3.C Кросс-Валидация <a id='chapter3.C'>\n",
    "\n",
    "[В начало главы \"Модель\"](#chapter3)   \n",
    "[К оглавлению](#start)"
   ]
  },
  {
   "cell_type": "code",
   "execution_count": 161,
   "metadata": {},
   "outputs": [
    {
     "data": {
      "text/plain": [
       "'я не смог придумал как сделать так \\nчтобы мои функции работали в случае когда количество строк делится с остатком поэтому тут\\nкостыль - выкинуть 2 строчки, тогда делителей гораздо больше, один из них = 12'"
      ]
     },
     "execution_count": 161,
     "metadata": {},
     "output_type": "execute_result"
    }
   ],
   "source": [
    "\"\"\"я не смог придумал как сделать так \n",
    "чтобы мои функции работали в случае когда количество строк делится с остатком поэтому тут\n",
    "костыль - выкинуть 2 строчки, тогда делителей гораздо больше, один из них = 12\"\"\""
   ]
  },
  {
   "cell_type": "code",
   "execution_count": 216,
   "metadata": {},
   "outputs": [],
   "source": [
    "# Функция для кросс-валидацции с моделью LinearRegression\n",
    "def cros_val_lr(f_rougher,t_rougher,f_final,t_final):\n",
    "    scores_itog_sMAPE = []\n",
    "    scores_r2 = []\n",
    "    data=t_final\n",
    "    sample_size = int((len(data))/8)\n",
    "    for i in range(0, len(data), sample_size):\n",
    "        valid_indexes =[j for j in range(i,i+sample_size)]\n",
    "        train_indexes = [j for j in range(0,i)] + [j for j in range(i+sample_size,len(data))]\n",
    "        # разбейте переменные features и target на выборки features_train, target_train, features_valid, target_valid\n",
    "        # < напишите код здесь >\n",
    "\n",
    "        features_train_rougher = f_rougher.iloc[train_indexes,:]\n",
    "        features_train_final = f_final.iloc[train_indexes,:]\n",
    "\n",
    "        target_train_rougher  =  t_rougher.iloc[train_indexes]\n",
    "        target_train_final  = t_final.iloc[train_indexes]\n",
    "\n",
    "        features_valid_rougher = f_rougher.iloc[valid_indexes,:]\n",
    "        features_valid_final = f_final.iloc[valid_indexes,:]\n",
    "\n",
    "        target_valid_rougher = t_rougher.iloc[valid_indexes]\n",
    "        target_valid_final = t_final.iloc[valid_indexes]\n",
    "\n",
    "        #model_rougher = DecisionTreeClassifier(random_state=0)\n",
    "        #model_final = DecisionTreeClassifier(random_state=0)\n",
    "        model_rougher = LinearRegression()\n",
    "        model_final = LinearRegression()\n",
    "        \n",
    "        model_rougher.fit(features_train_rougher , target_train_rougher )\n",
    "        model_final.fit(features_train_final, target_train_final)\n",
    "\n",
    "        predicted_rougher = model_rougher.predict(features_valid_rougher )\n",
    "        predicted_final = model_final.predict(features_valid_final)\n",
    "        \n",
    "        score = itog_sMAPE(target_valid_rougher,predicted_rougher,target_valid_final,predicted_final)\n",
    "        score_r2 = r2_score(target_valid_final,predicted_final) \n",
    "\n",
    "        scores_itog_sMAPE.append(score)\n",
    "        scores_r2.append(score_r2)\n",
    "        \n",
    "\n",
    "    return pd.Series(scores_itog_sMAPE) , pd.Series(scores_r2)"
   ]
  },
  {
   "cell_type": "code",
   "execution_count": 217,
   "metadata": {},
   "outputs": [],
   "source": [
    "# Функция для кросс-валидацции с моделью RandomForestRegressor\n",
    "def cros_val_rfr(f_rougher,t_rougher,f_final,t_final, n, depth ):\n",
    "    scores_itog_sMAPE = []\n",
    "    scores_r2 = []\n",
    "    data=t_final\n",
    "    sample_size = int((len(data))/8)\n",
    "    for i in range(0, len(data), sample_size):\n",
    "        valid_indexes =[j for j in range(i,i+sample_size)]\n",
    "        train_indexes = [j for j in range(0,i)] + [j for j in range(i+sample_size,len(data))]\n",
    "        # разбейте переменные features и target на выборки features_train, target_train, features_valid, target_valid\n",
    "        # < напишите код здесь >\n",
    "\n",
    "        # features_train, target_train, features_valid, target_valid \n",
    "        features_train_rougher = f_rougher.iloc[train_indexes,:]\n",
    "        features_train_final = f_final.iloc[train_indexes,:]\n",
    "\n",
    "        target_train_rougher  =  t_rougher.iloc[train_indexes]\n",
    "        target_train_final  = t_final.iloc[train_indexes]\n",
    "\n",
    "        features_valid_rougher = f_rougher.iloc[valid_indexes,:]\n",
    "        features_valid_final = f_final.iloc[valid_indexes,:]\n",
    "\n",
    "        target_valid_rougher = t_rougher.iloc[valid_indexes]\n",
    "        target_valid_final = t_final.iloc[valid_indexes]\n",
    "\n",
    "        model_rougher = RandomForestRegressor(n_estimators = n , max_depth = depth, random_state=0)\n",
    "        model_final = RandomForestRegressor(n_estimators = n , max_depth = depth ,random_state=0)\n",
    "\n",
    "        model_rougher.fit(features_train_rougher , target_train_rougher )\n",
    "        model_final.fit(features_train_final, target_train_final)\n",
    "\n",
    "        predicted_rougher = model_rougher.predict(features_valid_rougher )\n",
    "        predicted_final = model_final.predict(features_valid_final)\n",
    "        \n",
    "        score = itog_sMAPE(target_valid_rougher,predicted_rougher,target_valid_final,predicted_final)\n",
    "        score_r2 = r2_score(target_valid_final,predicted_final) \n",
    "\n",
    "        scores_itog_sMAPE.append(score)\n",
    "        scores_r2.append(score_r2)\n",
    "        \n",
    "\n",
    "    return pd.Series(scores_itog_sMAPE) , pd.Series(scores_r2)"
   ]
  },
  {
   "cell_type": "code",
   "execution_count": 218,
   "metadata": {},
   "outputs": [],
   "source": [
    "# Функция для кросс-валидацции с моделью DecisionTreeRegressor\n",
    "def cros_val_dtr(f_rougher,t_rougher,f_final,t_final):\n",
    "    scores_itog_sMAPE = []\n",
    "    scores_r2 = []\n",
    "    data=t_final\n",
    "    sample_size = int((len(data))/8)\n",
    "    for i in range(0, len(data), sample_size):\n",
    "        valid_indexes =[j for j in range(i,i+sample_size)]\n",
    "        train_indexes = [j for j in range(0,i)] + [j for j in range(i+sample_size,len(data))]\n",
    "        # разбейте переменные features и target на выборки features_train, target_train, features_valid, target_valid\n",
    "        # < напишите код здесь >\n",
    "    \n",
    "        # features_train, target_train, features_valid, target_valid \n",
    "        features_train_rougher = f_rougher.iloc[train_indexes,:]\n",
    "        features_train_final = f_final.iloc[train_indexes,:]\n",
    "\n",
    "        target_train_rougher  =  t_rougher.iloc[train_indexes]\n",
    "        target_train_final  = t_final.iloc[train_indexes]\n",
    "\n",
    "        features_valid_rougher = f_rougher.iloc[valid_indexes,:]\n",
    "        features_valid_final = f_final.iloc[valid_indexes,:]\n",
    "\n",
    "        target_valid_rougher = t_rougher.iloc[valid_indexes]\n",
    "        target_valid_final = t_final.iloc[valid_indexes]\n",
    "\n",
    "        model_rougher = DecisionTreeRegressor(max_depth = 6, random_state=0)\n",
    "        model_final = DecisionTreeRegressor(max_depth = 6, random_state=0)\n",
    "\n",
    "        model_rougher.fit(features_train_rougher , target_train_rougher )\n",
    "        model_final.fit(features_train_final, target_train_final)\n",
    "\n",
    "        predicted_rougher = model_rougher.predict(features_valid_rougher )\n",
    "        predicted_final = model_final.predict(features_valid_final)\n",
    "        \n",
    "        score = itog_sMAPE(target_valid_rougher,predicted_rougher,target_valid_final,predicted_final)\n",
    "        score_r2 = r2_score(target_valid_final,predicted_final) \n",
    "\n",
    "        scores_itog_sMAPE.append(score)\n",
    "        scores_r2.append(score_r2)\n",
    "        \n",
    "\n",
    "    return pd.Series(scores_itog_sMAPE) , pd.Series(scores_r2)"
   ]
  },
  {
   "cell_type": "markdown",
   "metadata": {},
   "source": [
    "### 3.C.a Линейная регресиия <a id='chapter3.C.a'>\n",
    "\n",
    "[В начало главы \"Модель\"](#chapter3)   \n",
    "[К оглавлению](#start)    "
   ]
  },
  {
   "cell_type": "code",
   "execution_count": 220,
   "metadata": {},
   "outputs": [
    {
     "name": "stdout",
     "output_type": "stream",
     "text": [
      "CPU times: user 2.03 s, sys: 2.07 s, total: 4.11 s\n",
      "Wall time: 4.05 s\n"
     ]
    }
   ],
   "source": [
    "%%time\n",
    "lin_reg_i , lin_reg_r2 =cros_val_lr(features_rougher_full_scaled[2:],target_rougher_full[2:],features_final_full_scaled[2:],target_final_full[2:])"
   ]
  },
  {
   "cell_type": "code",
   "execution_count": 221,
   "metadata": {},
   "outputs": [
    {
     "data": {
      "text/plain": [
       "-0.0371569864662927"
      ]
     },
     "execution_count": 221,
     "metadata": {},
     "output_type": "execute_result"
    }
   ],
   "source": [
    "lin_reg_r2.mean()"
   ]
  },
  {
   "cell_type": "markdown",
   "metadata": {},
   "source": [
    "lin_reg.to_csv(r'lin_reg.csv')"
   ]
  },
  {
   "cell_type": "markdown",
   "metadata": {},
   "source": [
    "### 3.C.b Случайный лес <a id='chapter3.C.b'>\n",
    "\n",
    "[В начало главы \"Модель\"](#chapter3)   \n",
    "[К оглавлению](#start)    "
   ]
  },
  {
   "cell_type": "code",
   "execution_count": 222,
   "metadata": {},
   "outputs": [
    {
     "name": "stdout",
     "output_type": "stream",
     "text": [
      "CPU times: user 47 s, sys: 1.01 ms, total: 47.1 s\n",
      "Wall time: 47.4 s\n"
     ]
    }
   ],
   "source": [
    "%%time\n",
    "rfr_i , rfr_r2 =cros_val_rfr(features_rougher_full_scaled[2:],target_rougher_full[2:],features_final_full_scaled[2:],target_final_full[2:],10,6)"
   ]
  },
  {
   "cell_type": "markdown",
   "metadata": {},
   "source": [
    "pd.Series(rfr).to_csv(r'rfr.csv')"
   ]
  },
  {
   "cell_type": "markdown",
   "metadata": {},
   "source": [
    "### 3.C.c Решающее древо <a id='chapter3.C.с'>\n",
    "\n",
    "[В начало главы \"Модель\"](#chapter3)   \n",
    "[К оглавлению](#start)    "
   ]
  },
  {
   "cell_type": "code",
   "execution_count": 223,
   "metadata": {},
   "outputs": [
    {
     "name": "stdout",
     "output_type": "stream",
     "text": [
      "CPU times: user 7.7 s, sys: 3.99 ms, total: 7.71 s\n",
      "Wall time: 7.72 s\n"
     ]
    }
   ],
   "source": [
    "%%time\n",
    "dtr_i , dtr_r2=cros_val_dtr(features_rougher_full_scaled[2:],target_rougher_full[2:],features_final_full_scaled[2:],target_final_full[2:])"
   ]
  },
  {
   "cell_type": "markdown",
   "metadata": {},
   "source": [
    "pd.Series(dtr).to_csv(r'rfr.csv')"
   ]
  },
  {
   "cell_type": "markdown",
   "metadata": {},
   "source": [
    "В сумме все модели обучались до 15 минут при полном датасете и 67-частичной валидации. Это изза того что я делю датасет на 67 частей. 67 это делитель без остатка 20234 - размера датасета. После своих попыток я сдался я выкинул 2 строчки и теперь можно поделить датасет на 12 частей."
   ]
  },
  {
   "cell_type": "markdown",
   "metadata": {},
   "source": [
    "### 3.C.d Сравнение моделей <a id='chapter3.C.d'>\n",
    "[В начало главы \"Модель\"](#chapter3)   \n",
    "[К оглавлению](#start)    "
   ]
  },
  {
   "cell_type": "code",
   "execution_count": 224,
   "metadata": {},
   "outputs": [
    {
     "data": {
      "image/png": "[encoded data removed]",
      "text/plain": [
       "<Figure size 1152x144 with 1 Axes>"
      ]
     },
     "metadata": {},
     "output_type": "display_data"
    },
    {
     "name": "stdout",
     "output_type": "stream",
     "text": [
      "itog_sMAPE' \n",
      "Линейная регрессия = 10.740051633060817 \n",
      "Случайный лес = 10.676410807260769 \n",
      "Решающее древо = 11.625262808423194\n",
      "к2' \n",
      "Линейная регрессия = -0.0371569864662927 \n",
      "Случайный лес = 0.01892740370174671 \n",
      "Решающее древо = -0.20741742239402944\n"
     ]
    }
   ],
   "source": [
    "plt.figure(figsize=(16,2))\n",
    "plt.hist(lin_reg_i  , label=\"lin_reg\", histtype = 'step' , bins = 5 )\n",
    "plt.hist(rfr_i  , label=\"rfr\", histtype = 'step' , bins = 5)\n",
    "plt.hist(dtr_i  , label=\"dtr\", histtype = 'step' , bins = 5)\n",
    "\n",
    "plt.title(\"Распределение itog_sMAPE при кросс-валидации\")\n",
    "plt.xlabel(\"itog_sMAPE\")\n",
    "plt.ylabel(\"Попаданий в корзину\")\n",
    "plt.legend(loc='upper left')\n",
    "plt.show()\n",
    "print(\"itog_sMAPE'\",\n",
    "    '\\nЛинейная регрессия =', lin_reg_i .mean(),\n",
    "      '\\nСлучайный лес =', rfr_i .mean(),\n",
    "      '\\nРешающее древо =',dtr_i .mean())\n",
    "\n",
    "print(\"к2'\",\n",
    "    '\\nЛинейная регрессия =', lin_reg_r2 .mean(),\n",
    "      '\\nСлучайный лес =', rfr_r2 .mean(),\n",
    "      '\\nРешающее древо =',dtr_r2 .mean())"
   ]
  },
  {
   "cell_type": "markdown",
   "metadata": {},
   "source": [
    "<div class=\"alert alert-block alert-info\">\n",
    "Предсказания хуже некуда. При обучении моделей по признакам присутствующим только в датасете модели предсказывают хуже чем случайная. Об этом говорит метрика r2. Попробую поиграть гиперпараметрами случайного леса.\n",
    "</div>"
   ]
  },
  {
   "cell_type": "code",
   "execution_count": 233,
   "metadata": {},
   "outputs": [
    {
     "name": "stdout",
     "output_type": "stream",
     "text": [
      "CPU times: user 3min 16s, sys: 94.8 ms, total: 3min 16s\n",
      "Wall time: 3min 18s\n"
     ]
    }
   ],
   "source": [
    "%%time\n",
    "rfr_r2_scores=[]\n",
    "rfr_itog_sMAPE_scores= []\n",
    "n_values=[]\n",
    "d_values=[]\n",
    "for n_estim in range(8,12,2):\n",
    "    for d in range(6,10,2):\n",
    "        rfr_i , rfr_r2 =cros_val_rfr(features_rougher_full_scaled[2:],target_rougher_full[2:],features_final_full_scaled[2:],target_final_full[2:],n_estim,d)        \n",
    "        rfr_r2_scores.append(rfr_r2.mean())\n",
    "        rfr_itog_sMAPE_scores.append(rfr_i.mean())\n",
    "        n_values.append(n_estim)\n",
    "        d_values.append(d)"
   ]
  },
  {
   "cell_type": "code",
   "execution_count": 231,
   "metadata": {},
   "outputs": [],
   "source": [
    "best_models=pd.DataFrame(columns= ['n_estim','max_depth','r2','isMAPE'])\n",
    "best_models['n_estim'] = pd.Series(n_values)\n",
    "best_models['max_depth'] = pd.Series(d_values)\n",
    "best_models['r2'] = pd.Series(rfr_r2_scores)\n",
    "best_models['isMAPE'] = pd.Series(rfr_itog_sMAPE_scores)"
   ]
  },
  {
   "cell_type": "code",
   "execution_count": 232,
   "metadata": {},
   "outputs": [
    {
     "data": {
      "text/html": [
       "<div>\n",
       "<style scoped>\n",
       "    .dataframe tbody tr th:only-of-type {\n",
       "        vertical-align: middle;\n",
       "    }\n",
       "\n",
       "    .dataframe tbody tr th {\n",
       "        vertical-align: top;\n",
       "    }\n",
       "\n",
       "    .dataframe thead th {\n",
       "        text-align: right;\n",
       "    }\n",
       "</style>\n",
       "<table border=\"1\" class=\"dataframe\">\n",
       "  <thead>\n",
       "    <tr style=\"text-align: right;\">\n",
       "      <th></th>\n",
       "      <th>n_estim</th>\n",
       "      <th>max_depth</th>\n",
       "      <th>r2</th>\n",
       "      <th>isMAPE</th>\n",
       "    </tr>\n",
       "  </thead>\n",
       "  <tbody>\n",
       "    <tr>\n",
       "      <td>9</td>\n",
       "      <td>10</td>\n",
       "      <td>8</td>\n",
       "      <td>-0.027381</td>\n",
       "      <td>11.019414</td>\n",
       "    </tr>\n",
       "    <tr>\n",
       "      <td>13</td>\n",
       "      <td>12</td>\n",
       "      <td>8</td>\n",
       "      <td>-0.027057</td>\n",
       "      <td>10.976128</td>\n",
       "    </tr>\n",
       "    <tr>\n",
       "      <td>4</td>\n",
       "      <td>8</td>\n",
       "      <td>6</td>\n",
       "      <td>-0.002950</td>\n",
       "      <td>10.751904</td>\n",
       "    </tr>\n",
       "    <tr>\n",
       "      <td>12</td>\n",
       "      <td>12</td>\n",
       "      <td>6</td>\n",
       "      <td>0.013860</td>\n",
       "      <td>10.661184</td>\n",
       "    </tr>\n",
       "    <tr>\n",
       "      <td>8</td>\n",
       "      <td>10</td>\n",
       "      <td>6</td>\n",
       "      <td>0.018927</td>\n",
       "      <td>10.676411</td>\n",
       "    </tr>\n",
       "  </tbody>\n",
       "</table>\n",
       "</div>"
      ],
      "text/plain": [
       "    n_estim  max_depth        r2     isMAPE\n",
       "9        10          8 -0.027381  11.019414\n",
       "13       12          8 -0.027057  10.976128\n",
       "4         8          6 -0.002950  10.751904\n",
       "12       12          6  0.013860  10.661184\n",
       "8        10          6  0.018927  10.676411"
      ]
     },
     "execution_count": 232,
     "metadata": {},
     "output_type": "execute_result"
    }
   ],
   "source": [
    "best_models.sort_values(by = 'r2').tail()"
   ]
  },
  {
   "cell_type": "markdown",
   "metadata": {},
   "source": [
    "<div class=\"alert alert-block alert-info\">\n",
    "Лучшее что мы имеем на таких данных это r2 чуть выше нуля. и Параметрами как раз теми которые я ввёл изначально. Я перебирал диапазон кол-ва деревьев и глубины 8-14. на это ушло минут 15 и сейчас я изменил диапазон перебора чтобы оно побыстрее считало. Всё равно брать больше не имеет смысла, самые высокие показатели находятся не там. \n",
    "</div>"
   ]
  },
  {
   "cell_type": "markdown",
   "metadata": {},
   "source": [
    "Обучу ещё раз модель с числом деревьев 10 и глубиной 6 и посмотрю насколько лучше моя модель средней.  "
   ]
  },
  {
   "cell_type": "code",
   "execution_count": 234,
   "metadata": {},
   "outputs": [],
   "source": [
    "# Функция для кросс-валидацции с моделью RandomForestRegressor\n",
    "def cros_val_rfr_dop(f_rougher,t_rougher,f_final,t_final, n, depth ):\n",
    "    scores_itog_sMAPE = []\n",
    "    scores_r2 = []\n",
    "    median_scores_itog_sMAPE = []\n",
    "\n",
    "    data=t_final\n",
    "    sample_size = int((len(data))/8)\n",
    "    for i in range(0, len(data), sample_size):\n",
    "        valid_indexes =[j for j in range(i,i+sample_size)]\n",
    "        train_indexes = [j for j in range(0,i)] + [j for j in range(i+sample_size,len(data))]\n",
    "        # разбейте переменные features и target на выборки features_train, target_train, features_valid, target_valid\n",
    "        # < напишите код здесь >\n",
    "\n",
    "        # features_train, target_train, features_valid, target_valid \n",
    "        features_train_rougher = f_rougher.iloc[train_indexes,:]\n",
    "        features_train_final = f_final.iloc[train_indexes,:]\n",
    "\n",
    "        target_train_rougher  =  t_rougher.iloc[train_indexes]\n",
    "        target_train_final  = t_final.iloc[train_indexes]\n",
    "\n",
    "        features_valid_rougher = f_rougher.iloc[valid_indexes,:]\n",
    "        features_valid_final = f_final.iloc[valid_indexes,:]\n",
    "\n",
    "        target_valid_rougher = t_rougher.iloc[valid_indexes]\n",
    "        target_valid_final = t_final.iloc[valid_indexes]\n",
    "\n",
    "        model_rougher = RandomForestRegressor(n_estimators = n , max_depth = depth, random_state=0)\n",
    "        model_final = RandomForestRegressor(n_estimators = n , max_depth = depth ,random_state=0)\n",
    "\n",
    "        model_rougher.fit(features_train_rougher , target_train_rougher )\n",
    "        model_final.fit(features_train_final, target_train_final)\n",
    "\n",
    "        predicted_rougher = model_rougher.predict(features_valid_rougher )\n",
    "        predicted_final = model_final.predict(features_valid_final)\n",
    "        \n",
    "        score = itog_sMAPE(target_valid_rougher,predicted_rougher,target_valid_final,predicted_final)\n",
    "        score_r2 = r2_score(target_valid_final,predicted_final) \n",
    "        median_sMAPE =itog_sMAPE(target_valid_rougher,(pd.Series(predicted_rougher)).median(),target_valid_final,(pd.Series(predicted_final).median()))\n",
    "\n",
    "        scores_itog_sMAPE.append(score)\n",
    "        scores_r2.append(score_r2)\n",
    "        median_scores_itog_sMAPE.append(median_sMAPE)\n",
    "\n",
    "    return pd.Series(scores_itog_sMAPE) , pd.Series(scores_r2) , pd.Series(median_scores_itog_sMAPE)"
   ]
  },
  {
   "cell_type": "code",
   "execution_count": 235,
   "metadata": {},
   "outputs": [
    {
     "name": "stdout",
     "output_type": "stream",
     "text": [
      "CPU times: user 47.7 s, sys: 59.4 ms, total: 47.8 s\n",
      "Wall time: 48.9 s\n"
     ]
    }
   ],
   "source": [
    "%%time\n",
    "rfr_i , rfr_r2 , me =cros_val_rfr_dop(features_rougher_full_scaled[2:],target_rougher_full[2:],features_final_full_scaled[2:],target_final_full[2:],10,6)"
   ]
  },
  {
   "cell_type": "code",
   "execution_count": 241,
   "metadata": {},
   "outputs": [
    {
     "name": "stdout",
     "output_type": "stream",
     "text": [
      "itog_sMAPE модели 10.676410807260769\n"
     ]
    }
   ],
   "source": [
    "print('itog_sMAPE модели',rfr_i.mean())"
   ]
  },
  {
   "cell_type": "code",
   "execution_count": 240,
   "metadata": {},
   "outputs": [
    {
     "name": "stdout",
     "output_type": "stream",
     "text": [
      "itog_sMAPE среднее 10.589473301118973\n"
     ]
    }
   ],
   "source": [
    "print('itog_sMAPE среднее',me.mean())"
   ]
  },
  {
   "cell_type": "markdown",
   "metadata": {},
   "source": [
    "<div class=\"alert alert-block alert-info\">\n",
    "Не получилось сильно что-то изменить, а хотелось. В итоге моя модель предсказывает хуже чем среднее на признаках оговоренных заказчиком. Если эту метрику необходимо для сдачи поднять выше какого то уровня, мне нужен совет как. Тут все методы которыми я владею.\n",
    "</div>"
   ]
  },
  {
   "cell_type": "markdown",
   "metadata": {},
   "source": [
    "## 3.D Выводы о главе \"Модель\" <a id='chapter3.D'>\n",
    "1. Подготовленнные данные были успешно протестировнны линейной регресией.\n",
    "2. Написаны функции для кросс-валидации и сравнения различных моделей по метрике itog_sMAPE.\n",
    "3. ~~Моделью с самым низким симметричным средним абсолютным процентным отклонением при кроссвалидации по itog_sMAPE оказалась линейная регресия. Её itog_sMAPE ~8.3% на тестовой выборке.~~\n",
    "    \n",
    "[В начало главы \"Модель\"](#chapter3)   \n",
    "[К оглавлению](#start)    "
   ]
  }
 ],
 "metadata": {
  "kernelspec": {
   "display_name": "Python 3",
   "language": "python",
   "name": "python3"
  },
  "language_info": {
   "codemirror_mode": {
    "name": "ipython",
    "version": 3
   },
   "file_extension": ".py",
   "mimetype": "text/x-python",
   "name": "python",
   "nbconvert_exporter": "python",
   "pygments_lexer": "ipython3",
   "version": "3.7.6"
  }
 },
 "nbformat": 4,
 "nbformat_minor": 4
}
