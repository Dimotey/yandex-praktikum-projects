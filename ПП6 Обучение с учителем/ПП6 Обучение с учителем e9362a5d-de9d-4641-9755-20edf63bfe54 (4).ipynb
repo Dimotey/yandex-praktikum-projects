{
 "cells": [
  {
   "cell_type": "markdown",
   "metadata": {},
   "source": [
    "# Отток клиентов"
   ]
  },
  {
   "cell_type": "markdown",
   "metadata": {},
   "source": [
    "# 1. Подготовка данных"
   ]
  },
  {
   "cell_type": "code",
   "execution_count": 2,
   "metadata": {},
   "outputs": [],
   "source": [
    "import pandas as pd\n",
    "from sklearn.model_selection import train_test_split\n",
    "from sklearn.preprocessing import StandardScaler\n",
    "from sklearn.utils import shuffle\n",
    "\n",
    "\n",
    "from sklearn.tree import DecisionTreeClassifier\n",
    "from sklearn.ensemble import RandomForestClassifier\n",
    "from sklearn.linear_model import LogisticRegression\n",
    "\n",
    "from sklearn.metrics import f1_score\n",
    "from sklearn.metrics import roc_curve\n",
    "from sklearn.metrics import roc_auc_score\n",
    "\n",
    "import matplotlib.pyplot as plt"
   ]
  },
  {
   "cell_type": "code",
   "execution_count": 3,
   "metadata": {},
   "outputs": [],
   "source": [
    "df = pd.read_csv('/datasets/Churn.csv')"
   ]
  },
  {
   "cell_type": "markdown",
   "metadata": {},
   "source": [
    "df = pd.read_csv('Churn.csv')"
   ]
  },
  {
   "cell_type": "code",
   "execution_count": 4,
   "metadata": {},
   "outputs": [
    {
     "data": {
      "text/html": [
       "<div>\n",
       "<style scoped>\n",
       "    .dataframe tbody tr th:only-of-type {\n",
       "        vertical-align: middle;\n",
       "    }\n",
       "\n",
       "    .dataframe tbody tr th {\n",
       "        vertical-align: top;\n",
       "    }\n",
       "\n",
       "    .dataframe thead th {\n",
       "        text-align: right;\n",
       "    }\n",
       "</style>\n",
       "<table border=\"1\" class=\"dataframe\">\n",
       "  <thead>\n",
       "    <tr style=\"text-align: right;\">\n",
       "      <th></th>\n",
       "      <th>RowNumber</th>\n",
       "      <th>CustomerId</th>\n",
       "      <th>Surname</th>\n",
       "      <th>CreditScore</th>\n",
       "      <th>Geography</th>\n",
       "      <th>Gender</th>\n",
       "      <th>Age</th>\n",
       "      <th>Tenure</th>\n",
       "      <th>Balance</th>\n",
       "      <th>NumOfProducts</th>\n",
       "      <th>HasCrCard</th>\n",
       "      <th>IsActiveMember</th>\n",
       "      <th>EstimatedSalary</th>\n",
       "      <th>Exited</th>\n",
       "    </tr>\n",
       "  </thead>\n",
       "  <tbody>\n",
       "    <tr>\n",
       "      <td>0</td>\n",
       "      <td>1</td>\n",
       "      <td>15634602</td>\n",
       "      <td>Hargrave</td>\n",
       "      <td>619</td>\n",
       "      <td>France</td>\n",
       "      <td>Female</td>\n",
       "      <td>42</td>\n",
       "      <td>2.0</td>\n",
       "      <td>0.00</td>\n",
       "      <td>1</td>\n",
       "      <td>1</td>\n",
       "      <td>1</td>\n",
       "      <td>101348.88</td>\n",
       "      <td>1</td>\n",
       "    </tr>\n",
       "    <tr>\n",
       "      <td>1</td>\n",
       "      <td>2</td>\n",
       "      <td>15647311</td>\n",
       "      <td>Hill</td>\n",
       "      <td>608</td>\n",
       "      <td>Spain</td>\n",
       "      <td>Female</td>\n",
       "      <td>41</td>\n",
       "      <td>1.0</td>\n",
       "      <td>83807.86</td>\n",
       "      <td>1</td>\n",
       "      <td>0</td>\n",
       "      <td>1</td>\n",
       "      <td>112542.58</td>\n",
       "      <td>0</td>\n",
       "    </tr>\n",
       "    <tr>\n",
       "      <td>2</td>\n",
       "      <td>3</td>\n",
       "      <td>15619304</td>\n",
       "      <td>Onio</td>\n",
       "      <td>502</td>\n",
       "      <td>France</td>\n",
       "      <td>Female</td>\n",
       "      <td>42</td>\n",
       "      <td>8.0</td>\n",
       "      <td>159660.80</td>\n",
       "      <td>3</td>\n",
       "      <td>1</td>\n",
       "      <td>0</td>\n",
       "      <td>113931.57</td>\n",
       "      <td>1</td>\n",
       "    </tr>\n",
       "    <tr>\n",
       "      <td>3</td>\n",
       "      <td>4</td>\n",
       "      <td>15701354</td>\n",
       "      <td>Boni</td>\n",
       "      <td>699</td>\n",
       "      <td>France</td>\n",
       "      <td>Female</td>\n",
       "      <td>39</td>\n",
       "      <td>1.0</td>\n",
       "      <td>0.00</td>\n",
       "      <td>2</td>\n",
       "      <td>0</td>\n",
       "      <td>0</td>\n",
       "      <td>93826.63</td>\n",
       "      <td>0</td>\n",
       "    </tr>\n",
       "    <tr>\n",
       "      <td>4</td>\n",
       "      <td>5</td>\n",
       "      <td>15737888</td>\n",
       "      <td>Mitchell</td>\n",
       "      <td>850</td>\n",
       "      <td>Spain</td>\n",
       "      <td>Female</td>\n",
       "      <td>43</td>\n",
       "      <td>2.0</td>\n",
       "      <td>125510.82</td>\n",
       "      <td>1</td>\n",
       "      <td>1</td>\n",
       "      <td>1</td>\n",
       "      <td>79084.10</td>\n",
       "      <td>0</td>\n",
       "    </tr>\n",
       "  </tbody>\n",
       "</table>\n",
       "</div>"
      ],
      "text/plain": [
       "   RowNumber  CustomerId   Surname  CreditScore Geography  Gender  Age  \\\n",
       "0          1    15634602  Hargrave          619    France  Female   42   \n",
       "1          2    15647311      Hill          608     Spain  Female   41   \n",
       "2          3    15619304      Onio          502    France  Female   42   \n",
       "3          4    15701354      Boni          699    France  Female   39   \n",
       "4          5    15737888  Mitchell          850     Spain  Female   43   \n",
       "\n",
       "   Tenure    Balance  NumOfProducts  HasCrCard  IsActiveMember  \\\n",
       "0     2.0       0.00              1          1               1   \n",
       "1     1.0   83807.86              1          0               1   \n",
       "2     8.0  159660.80              3          1               0   \n",
       "3     1.0       0.00              2          0               0   \n",
       "4     2.0  125510.82              1          1               1   \n",
       "\n",
       "   EstimatedSalary  Exited  \n",
       "0        101348.88       1  \n",
       "1        112542.58       0  \n",
       "2        113931.57       1  \n",
       "3         93826.63       0  \n",
       "4         79084.10       0  "
      ]
     },
     "execution_count": 4,
     "metadata": {},
     "output_type": "execute_result"
    }
   ],
   "source": [
    "df.head()"
   ]
  },
  {
   "cell_type": "code",
   "execution_count": 5,
   "metadata": {},
   "outputs": [
    {
     "name": "stdout",
     "output_type": "stream",
     "text": [
      "<class 'pandas.core.frame.DataFrame'>\n",
      "RangeIndex: 10000 entries, 0 to 9999\n",
      "Data columns (total 14 columns):\n",
      "RowNumber          10000 non-null int64\n",
      "CustomerId         10000 non-null int64\n",
      "Surname            10000 non-null object\n",
      "CreditScore        10000 non-null int64\n",
      "Geography          10000 non-null object\n",
      "Gender             10000 non-null object\n",
      "Age                10000 non-null int64\n",
      "Tenure             9091 non-null float64\n",
      "Balance            10000 non-null float64\n",
      "NumOfProducts      10000 non-null int64\n",
      "HasCrCard          10000 non-null int64\n",
      "IsActiveMember     10000 non-null int64\n",
      "EstimatedSalary    10000 non-null float64\n",
      "Exited             10000 non-null int64\n",
      "dtypes: float64(3), int64(8), object(3)\n",
      "memory usage: 1.1+ MB\n"
     ]
    }
   ],
   "source": [
    "df.info()"
   ]
  },
  {
   "cell_type": "markdown",
   "metadata": {},
   "source": [
    "Tenure, Balance, EstimatedSalary - преобразовать к целочисленому типу. "
   ]
  },
  {
   "cell_type": "code",
   "execution_count": 6,
   "metadata": {},
   "outputs": [
    {
     "data": {
      "text/plain": [
       "7068"
      ]
     },
     "execution_count": 6,
     "metadata": {},
     "output_type": "execute_result"
    }
   ],
   "source": [
    "\"\"\"Всего у нас 7068 однофамильцев, может некоторые\n",
    "и уходят семьями но задача состоит не в иследовательском анализе а в обучение модели.\"\"\"\n",
    "df['Surname'].duplicated().sum()"
   ]
  },
  {
   "cell_type": "code",
   "execution_count": 7,
   "metadata": {},
   "outputs": [
    {
     "name": "stdout",
     "output_type": "stream",
     "text": [
      "1.0     952\n",
      "2.0     950\n",
      "8.0     933\n",
      "3.0     928\n",
      "5.0     927\n",
      "7.0     925\n",
      "4.0     885\n",
      "9.0     882\n",
      "6.0     881\n",
      "10.0    446\n",
      "0.0     382\n",
      "Name: Tenure, dtype: int64\n",
      "Кол-во NaN: 909\n"
     ]
    }
   ],
   "source": [
    "\"\"\"Признак Tenure содержит нулевые значения а также NaN. \n",
    "Заполню NaN значением -1 на этапе подготовки датасета.\"\"\"\n",
    "print(df['Tenure'].value_counts())\n",
    "print('Кол-во NaN:',df['Tenure'].isna().sum())"
   ]
  },
  {
   "cell_type": "code",
   "execution_count": 8,
   "metadata": {},
   "outputs": [
    {
     "data": {
      "image/png": "[encoded data removed]",
      "text/plain": [
       "<Figure size 432x288 with 12 Axes>"
      ]
     },
     "metadata": {
      "needs_background": "light"
     },
     "output_type": "display_data"
    }
   ],
   "source": [
    "\"\"\"Поверхтностно осмотрю количественную часть датасета\n",
    "на предмет выбросов и вида распределения\"\"\"\n",
    "df.hist()\n",
    "plt.show()"
   ]
  },
  {
   "cell_type": "markdown",
   "metadata": {},
   "source": [
    "По признаку баланс много клиентов с 0-ым балансом."
   ]
  },
  {
   "cell_type": "code",
   "execution_count": 9,
   "metadata": {},
   "outputs": [
    {
     "name": "stdout",
     "output_type": "stream",
     "text": [
      "Кол-во клиентов с нулевым балансом 3617\n"
     ]
    },
    {
     "data": {
      "image/png": "[encoded data removed]",
      "text/plain": [
       "<Figure size 432x288 with 12 Axes>"
      ]
     },
     "metadata": {
      "needs_background": "light"
     },
     "output_type": "display_data"
    }
   ],
   "source": [
    "\"\"\"Посмотрю распределения признаков клиентов с нулевым балансом\"\"\"\n",
    "df0= df[df['Balance']==0]\n",
    "print('Кол-во клиентов с нулевым балансом',df[df['Balance']==0]['RowNumber'].count())\n",
    "df0.hist()\n",
    "plt.show()"
   ]
  },
  {
   "cell_type": "markdown",
   "metadata": {},
   "source": [
    "Единственное в чём заметно отличаются клиенты с 0ывм балансом это количество используемых продуктов. "
   ]
  },
  {
   "cell_type": "markdown",
   "metadata": {},
   "source": [
    "### Первый этап подготовки(поправки в значениях датасета, выявленные в ходе знакомства с данными):\n",
    "1. Убрать фамилию. Бесполезная фича и мешает OHE.\n",
    "2. Заполнить в признаке Tenure все NaN значением -1, из соображений что ничего не знать хуже и просто для того что бы не было NaN. \n",
    "3. Преобразовать к int признаки Tenure, Balance и EstimatedSalary."
   ]
  },
  {
   "cell_type": "code",
   "execution_count": 10,
   "metadata": {},
   "outputs": [
    {
     "name": "stdout",
     "output_type": "stream",
     "text": [
      "Кол-во дубликатов после удаления фамилии: 0\n"
     ]
    }
   ],
   "source": [
    "df=df.drop('Surname', axis = 1)\n",
    "print('Кол-во дубликатов после удаления фамилии:' , df.duplicated().sum())"
   ]
  },
  {
   "cell_type": "code",
   "execution_count": 11,
   "metadata": {},
   "outputs": [
    {
     "name": "stdout",
     "output_type": "stream",
     "text": [
      "Кол-во NaN после заполнения Tenure  значением -1: 0\n"
     ]
    }
   ],
   "source": [
    "df=df.fillna(-1)\n",
    "print('Кол-во NaN после заполнения Tenure  значением -1:' ,df['Tenure'].isna().sum())"
   ]
  },
  {
   "cell_type": "code",
   "execution_count": 12,
   "metadata": {},
   "outputs": [],
   "source": [
    "df['Tenure']=df['Tenure'].astype(int)\n",
    "df['Balance']=df['Balance'].astype(int)\n",
    "df['EstimatedSalary']=df['EstimatedSalary'].astype(int)"
   ]
  },
  {
   "cell_type": "code",
   "execution_count": 13,
   "metadata": {
    "scrolled": true
   },
   "outputs": [
    {
     "name": "stdout",
     "output_type": "stream",
     "text": [
      "<class 'pandas.core.frame.DataFrame'>\n",
      "RangeIndex: 10000 entries, 0 to 9999\n",
      "Data columns (total 13 columns):\n",
      "RowNumber          10000 non-null int64\n",
      "CustomerId         10000 non-null int64\n",
      "CreditScore        10000 non-null int64\n",
      "Geography          10000 non-null object\n",
      "Gender             10000 non-null object\n",
      "Age                10000 non-null int64\n",
      "Tenure             10000 non-null int64\n",
      "Balance            10000 non-null int64\n",
      "NumOfProducts      10000 non-null int64\n",
      "HasCrCard          10000 non-null int64\n",
      "IsActiveMember     10000 non-null int64\n",
      "EstimatedSalary    10000 non-null int64\n",
      "Exited             10000 non-null int64\n",
      "dtypes: int64(11), object(2)\n",
      "memory usage: 1015.8+ KB\n"
     ]
    }
   ],
   "source": [
    "df.info()"
   ]
  },
  {
   "cell_type": "markdown",
   "metadata": {},
   "source": [
    "### Второй этап подготовки(Подготовка признаков для обучения):\n",
    "1. OHE \n",
    "2. Разделение датасета на обучающую и валидационную выборку.\n",
    "3. Масштабирование "
   ]
  },
  {
   "cell_type": "code",
   "execution_count": 14,
   "metadata": {},
   "outputs": [],
   "source": [
    "df = pd.get_dummies(df, drop_first=True)"
   ]
  },
  {
   "cell_type": "code",
   "execution_count": 15,
   "metadata": {},
   "outputs": [
    {
     "data": {
      "text/plain": [
       "(2000,)"
      ]
     },
     "execution_count": 15,
     "metadata": {},
     "output_type": "execute_result"
    }
   ],
   "source": [
    "df_train, df_valid_test = train_test_split(df, test_size=0.4, random_state=12345) \n",
    "df_valid, df_test = train_test_split(df_valid_test, test_size=0.5, random_state=12345) \n",
    "\n",
    "features_train = df_train.drop('Exited', axis=1) \n",
    "target_train = df_train['Exited']\n",
    "\n",
    "features_valid = df_valid.drop('Exited', axis=1)\n",
    "target_valid = df_valid['Exited']\n",
    "\n",
    "features_test = df_test.drop('Exited', axis=1)\n",
    "target_test = df_test['Exited']\n",
    "\n",
    "target_valid.shape"
   ]
  },
  {
   "cell_type": "code",
   "execution_count": 16,
   "metadata": {},
   "outputs": [],
   "source": [
    "scaler = StandardScaler()\n",
    "scaler.fit(features_train)\n",
    "features_train_scaled = scaler.transform(features_train)\n",
    "features_valid_scaled = scaler.transform(features_valid)\n",
    "features_test_scaled = scaler.transform(features_test)"
   ]
  },
  {
   "cell_type": "markdown",
   "metadata": {},
   "source": [
    "###### Пояснения\n",
    "То что сперва я готовил признаки к OHE и масштабированию обусловленно тем что после это было бы сделать сложней. "
   ]
  },
  {
   "cell_type": "markdown",
   "metadata": {},
   "source": [
    "# 2. Исследование задачи"
   ]
  },
  {
   "cell_type": "markdown",
   "metadata": {},
   "source": [
    "Исследую диссбаланс классов"
   ]
  },
  {
   "cell_type": "code",
   "execution_count": 17,
   "metadata": {},
   "outputs": [
    {
     "data": {
      "image/png": "[encoded data removed]",
      "text/plain": [
       "<Figure size 432x288 with 1 Axes>"
      ]
     },
     "metadata": {},
     "output_type": "display_data"
    }
   ],
   "source": [
    "plt.pie(df['Exited'].value_counts(), labels =df['Exited'].value_counts().index ,  autopct='%1.1f%%')\n",
    "plt.title('Круговая диаграмма ушедших и неушедших клиентов')\n",
    "plt.show()"
   ]
  },
  {
   "cell_type": "markdown",
   "metadata": {},
   "source": [
    "Обучим модель случайного леса в первом приближении.\n",
    "Гиперпараметры:\n",
    "1. n_estimators = 20\n",
    "2. max_depth = 12"
   ]
  },
  {
   "cell_type": "code",
   "execution_count": 18,
   "metadata": {},
   "outputs": [
    {
     "name": "stdout",
     "output_type": "stream",
     "text": [
      "CPU times: user 201 ms, sys: 0 ns, total: 201 ms\n",
      "Wall time: 216 ms\n"
     ]
    },
    {
     "data": {
      "text/plain": [
       "0.5454545454545455"
      ]
     },
     "execution_count": 18,
     "metadata": {},
     "output_type": "execute_result"
    }
   ],
   "source": [
    "%%time\n",
    "model_RandomForestRegressor = RandomForestClassifier(n_estimators=20, max_depth=12, random_state=12345)\n",
    "model_RandomForestRegressor.fit(features_train_scaled, target_train)\n",
    "predicted = model_RandomForestRegressor.predict( features_valid_scaled )\n",
    "f1_score( target_valid , predicted)"
   ]
  },
  {
   "cell_type": "code",
   "execution_count": 19,
   "metadata": {},
   "outputs": [
    {
     "data": {
      "image/png": "[encoded data removed]",
      "text/plain": [
       "<Figure size 432x288 with 1 Axes>"
      ]
     },
     "metadata": {
      "needs_background": "light"
     },
     "output_type": "display_data"
    },
    {
     "name": "stdout",
     "output_type": "stream",
     "text": [
      "0.8323589545061367\n"
     ]
    }
   ],
   "source": [
    "probabilities_valid = model_RandomForestRegressor.predict_proba(features_valid_scaled)\n",
    "probabilities_one_valid = probabilities_valid[:, 1]\n",
    "\n",
    "fpr, tpr, thresholds = roc_curve(target_valid, probabilities_one_valid)\n",
    "\n",
    "plt.figure()\n",
    "\n",
    "# ROC-кривая случайной модели (выглядит как прямая)\n",
    "plt.plot([0, 1], [0, 1], linestyle='--')\n",
    "plt.plot(fpr, tpr, linestyle='-')\n",
    "plt.xlim([0.0, 1.0])\n",
    "plt.ylim([0.0, 1.0])\n",
    "\n",
    "plt.xlabel('False Positive Rate')\n",
    "plt.ylabel('True Positive Rate')\n",
    "plt.title('ROC-кривая')\n",
    "plt.show()\n",
    "\n",
    "probabilities_valid = model_RandomForestRegressor.predict_proba(features_valid_scaled)\n",
    "probabilities_one_valid = probabilities_valid[:, 1]\n",
    "\n",
    "auc_roc = roc_auc_score(target_valid,probabilities_one_valid)\n",
    "print(auc_roc)"
   ]
  },
  {
   "cell_type": "markdown",
   "metadata": {},
   "source": [
    "###  Вывод по исследованию задачи\n",
    "\n",
    "В исходном датасете наблюдался дисбаланс классов. Подготовка данных(удаление лишних признаков, OHE, масштабирование) не дала требуемого значения F1 меры. Значение AUC-ROC при этом больше 0.5 и равно 0,832. На ROC-кривой видно что количество истино положительных ответов больше ложно-положительных. \n",
    "Анализируя данную кривую можно подобрать значение порога под конктретную задачу(по умолчанию 0.5), в частности выбор порога может зависить от цены ошибки(в жизни) ложно положительной или ложно отрицательной. "
   ]
  },
  {
   "cell_type": "markdown",
   "metadata": {},
   "source": [
    "# 3. Борьба с дисбалансом"
   ]
  },
  {
   "cell_type": "markdown",
   "metadata": {},
   "source": [
    "##  DownSampling  и вес классов"
   ]
  },
  {
   "cell_type": "code",
   "execution_count": 20,
   "metadata": {},
   "outputs": [],
   "source": [
    "\"\"\"функция которую мы использовали в тренажере для  DownSampling\"\"\"\n",
    "def downsample(features, target, fraction):\n",
    "    features_zeros = features[target == 0]\n",
    "    features_ones = features[target == 1]\n",
    "    target_zeros = target[target == 0]\n",
    "    target_ones = target[target == 1]\n",
    "\n",
    "    features_downsampled = pd.concat(\n",
    "        [features_zeros.sample(frac=fraction, random_state=12345)] + [features_ones])\n",
    "    target_downsampled = pd.concat(\n",
    "        [target_zeros.sample(frac=fraction, random_state=12345)] + [target_ones])\n",
    "    \n",
    "    features_downsampled, target_downsampled = shuffle(\n",
    "        features_downsampled, target_downsampled, random_state=12345)\n",
    "    \n",
    "    return features_downsampled, target_downsampled"
   ]
  },
  {
   "cell_type": "markdown",
   "metadata": {},
   "source": [
    "###  Исследование моделей после DownSample с различными долями исходного датасета.\n",
    "1. Решающее дерево\n",
    "2. Случайный лес\n",
    "3. Логистическая регрессия"
   ]
  },
  {
   "cell_type": "code",
   "execution_count": 21,
   "metadata": {},
   "outputs": [
    {
     "name": "stdout",
     "output_type": "stream",
     "text": [
      "CPU times: user 31.7 s, sys: 727 ms, total: 32.4 s\n",
      "Wall time: 32.7 s\n"
     ]
    }
   ],
   "source": [
    "%%time\n",
    "models=pd.DataFrame(columns=['name','f1_score'])\n",
    "k=0\n",
    "for fraction10 in range(2,10,2):\n",
    "    fraction=fraction10/10\n",
    "    \n",
    "    features_downsampled, target_downsampled = downsample(features_train, target_train, fraction)\n",
    "    features_downsampled =  scaler.transform(features_downsampled)\n",
    "    \n",
    "    for i in range(2,21,2): \n",
    "        model_DecisionTreeClassifier = DecisionTreeClassifier(random_state=12345, max_depth = i )\n",
    "        model_DecisionTreeClassifier.fit(features_downsampled, target_downsampled)\n",
    "        predicted = model_DecisionTreeClassifier.predict( features_valid_scaled )\n",
    "                \n",
    "        models.loc[k,'name'] = 'DecisionTreeClassifier'\n",
    "        models.loc[k,'f1_score'] = f1_score( target_valid , predicted)\n",
    "        models.loc[k,'max_depth'] = i\n",
    "        models.loc[k,'DS_fraction'] = fraction\n",
    "        k += 1\n",
    "        \n",
    "    for i in range(2,21,2): \n",
    "        model_DecisionTreeClassifier = DecisionTreeClassifier(\n",
    "            random_state=12345,\n",
    "            max_depth = i ,\n",
    "            class_weight = 'balanced'\n",
    "        )\n",
    "        model_DecisionTreeClassifier.fit(features_downsampled, target_downsampled)\n",
    "        predicted = model_DecisionTreeClassifier.predict( features_valid_scaled )\n",
    "                \n",
    "        models.loc[k,'name'] = 'DecisionTreeClassifierBalanced'\n",
    "        models.loc[k,'f1_score'] = f1_score( target_valid , predicted)\n",
    "        models.loc[k,'max_depth'] = i\n",
    "        models.loc[k,'DS_fraction'] = fraction\n",
    "        k += 1\n",
    "        \n",
    "\n",
    "    for j in range(10,51,10):\n",
    "        for i in range(2,11,2): \n",
    "            model_RandomForestClassifier = RandomForestClassifier(\n",
    "                random_state=12345, max_depth = i , n_estimators = j)\n",
    "            model_RandomForestClassifier.fit(features_downsampled, target_downsampled)\n",
    "            predicted = model_RandomForestClassifier.predict( features_valid_scaled )\n",
    "            \n",
    "            models.loc[k,'name'] = 'RandomForestClassifier'\n",
    "            models.loc[k,'f1_score'] = f1_score( target_valid , predicted)\n",
    "            models.loc[k,'max_depth'] = i\n",
    "            models.loc[k,'DS_fraction'] = fraction\n",
    "            models.loc[k,'n_estimators'] = j\n",
    "            k += 1\n",
    "            \n",
    "    for j in range(10,51,10):\n",
    "        for i in range(2,11,2): \n",
    "            model_RandomForestClassifier = RandomForestClassifier(\n",
    "                random_state=12345, \n",
    "                max_depth = i , \n",
    "                n_estimators = j,\n",
    "                class_weight = 'balanced'\n",
    "            )\n",
    "            model_RandomForestClassifier.fit(features_downsampled, target_downsampled)\n",
    "            predicted = model_RandomForestClassifier.predict( features_valid_scaled )\n",
    "            \n",
    "            models.loc[k,'name'] = 'RandomForestClassifierBalanced'\n",
    "            models.loc[k,'f1_score'] = f1_score( target_valid , predicted)\n",
    "            models.loc[k,'max_depth'] = i\n",
    "            models.loc[k,'DS_fraction'] = fraction\n",
    "            models.loc[k,'n_estimators'] = j\n",
    "            k += 1\n",
    "\n",
    "            \n",
    "    model_LogisticRegression = LogisticRegression(random_state=12345, solver = 'lbfgs')\n",
    "    model_LogisticRegression.fit(features_downsampled, target_downsampled )\n",
    "    predicted = model_LogisticRegression.predict( features_valid_scaled )\n",
    "    \n",
    "    models.loc[k,'name'] = 'LogisticRegression'\n",
    "    models.loc[k,'f1_score'] = f1_score( target_valid , predicted)\n",
    "    models.loc[k,'DS_fraction'] = fraction\n",
    "    k+=1\n",
    "    model_LogisticRegression = LogisticRegression(random_state=12345, solver = 'lbfgs',class_weight = 'balanced')\n",
    "    model_LogisticRegression.fit(features_downsampled, target_downsampled )\n",
    "    predicted = model_LogisticRegression.predict( features_valid_scaled )\n",
    "    \n",
    "    models.loc[k,'name'] = 'LogisticRegressionBalanced'\n",
    "    models.loc[k,'f1_score'] = f1_score( target_valid , predicted)\n",
    "    models.loc[k,'DS_fraction'] = fraction\n",
    "    k+=1\n",
    "    \n"
   ]
  },
  {
   "cell_type": "code",
   "execution_count": 22,
   "metadata": {
    "scrolled": true
   },
   "outputs": [
    {
     "data": {
      "text/html": [
       "<div>\n",
       "<style scoped>\n",
       "    .dataframe tbody tr th:only-of-type {\n",
       "        vertical-align: middle;\n",
       "    }\n",
       "\n",
       "    .dataframe tbody tr th {\n",
       "        vertical-align: top;\n",
       "    }\n",
       "\n",
       "    .dataframe thead th {\n",
       "        text-align: right;\n",
       "    }\n",
       "</style>\n",
       "<table border=\"1\" class=\"dataframe\">\n",
       "  <thead>\n",
       "    <tr style=\"text-align: right;\">\n",
       "      <th></th>\n",
       "      <th>f1_score</th>\n",
       "    </tr>\n",
       "    <tr>\n",
       "      <th>name</th>\n",
       "      <th></th>\n",
       "    </tr>\n",
       "  </thead>\n",
       "  <tbody>\n",
       "    <tr>\n",
       "      <td>LogisticRegressionBalanced</td>\n",
       "      <td>0.488851</td>\n",
       "    </tr>\n",
       "    <tr>\n",
       "      <td>LogisticRegression</td>\n",
       "      <td>0.498911</td>\n",
       "    </tr>\n",
       "    <tr>\n",
       "      <td>DecisionTreeClassifierBalanced</td>\n",
       "      <td>0.570858</td>\n",
       "    </tr>\n",
       "    <tr>\n",
       "      <td>DecisionTreeClassifier</td>\n",
       "      <td>0.587372</td>\n",
       "    </tr>\n",
       "    <tr>\n",
       "      <td>RandomForestClassifier</td>\n",
       "      <td>0.624096</td>\n",
       "    </tr>\n",
       "    <tr>\n",
       "      <td>RandomForestClassifierBalanced</td>\n",
       "      <td>0.625561</td>\n",
       "    </tr>\n",
       "  </tbody>\n",
       "</table>\n",
       "</div>"
      ],
      "text/plain": [
       "                                f1_score\n",
       "name                                    \n",
       "LogisticRegressionBalanced      0.488851\n",
       "LogisticRegression              0.498911\n",
       "DecisionTreeClassifierBalanced  0.570858\n",
       "DecisionTreeClassifier          0.587372\n",
       "RandomForestClassifier          0.624096\n",
       "RandomForestClassifierBalanced  0.625561"
      ]
     },
     "execution_count": 22,
     "metadata": {},
     "output_type": "execute_result"
    }
   ],
   "source": [
    "models.pivot_table(\n",
    "    index = 'name',\n",
    "    values = 'f1_score',\n",
    "    aggfunc = 'max',\n",
    "). sort_values(by='f1_score')"
   ]
  },
  {
   "cell_type": "code",
   "execution_count": 23,
   "metadata": {},
   "outputs": [
    {
     "data": {
      "text/html": [
       "<div>\n",
       "<style scoped>\n",
       "    .dataframe tbody tr th:only-of-type {\n",
       "        vertical-align: middle;\n",
       "    }\n",
       "\n",
       "    .dataframe tbody tr th {\n",
       "        vertical-align: top;\n",
       "    }\n",
       "\n",
       "    .dataframe thead th {\n",
       "        text-align: right;\n",
       "    }\n",
       "</style>\n",
       "<table border=\"1\" class=\"dataframe\">\n",
       "  <thead>\n",
       "    <tr style=\"text-align: right;\">\n",
       "      <th></th>\n",
       "      <th>name</th>\n",
       "      <th>f1_score</th>\n",
       "      <th>max_depth</th>\n",
       "      <th>DS_fraction</th>\n",
       "      <th>n_estimators</th>\n",
       "    </tr>\n",
       "  </thead>\n",
       "  <tbody>\n",
       "    <tr>\n",
       "      <td>269</td>\n",
       "      <td>RandomForestClassifierBalanced</td>\n",
       "      <td>0.625561</td>\n",
       "      <td>8.0</td>\n",
       "      <td>0.8</td>\n",
       "      <td>20.0</td>\n",
       "    </tr>\n",
       "  </tbody>\n",
       "</table>\n",
       "</div>"
      ],
      "text/plain": [
       "                               name  f1_score  max_depth  DS_fraction  \\\n",
       "269  RandomForestClassifierBalanced  0.625561        8.0          0.8   \n",
       "\n",
       "     n_estimators  \n",
       "269          20.0  "
      ]
     },
     "execution_count": 23,
     "metadata": {},
     "output_type": "execute_result"
    }
   ],
   "source": [
    "models[models['f1_score']==models['f1_score'].max()]"
   ]
  },
  {
   "cell_type": "markdown",
   "metadata": {},
   "source": [
    "### Вывод  DownSampling и вес классов\n",
    "Наилучшей из перебраных моделей с комбинацией гиперпараметров была RandomForestClassifierBalanced. Благодаря одновременному применению 2х гиперпараметров борющихся с  дисбалансом классов удалось добиться f1 меры равной `0.625`:\n",
    "1. *downsampling* составил 0,4 от исходного датасета.\n",
    "2. В модели RandomForestClassifier аргумент *class_weight* = `balanced`. Т.о. применялось взвешивание классов для это модели. "
   ]
  },
  {
   "cell_type": "markdown",
   "metadata": {},
   "source": [
    "# 4. Тестирование модели"
   ]
  },
  {
   "cell_type": "code",
   "execution_count": 24,
   "metadata": {},
   "outputs": [
    {
     "name": "stdout",
     "output_type": "stream",
     "text": [
      "Тестирование модели RandomForestClassifierBalanced (наилучшей на валидационной выборке) с гиперпараметрами:\n",
      " Доля downsample =  0.8 \n",
      " Количество деревьев 20 \n",
      " максимальная глубина дерева 8.0 \n",
      " \n",
      " F1-SCORE =  0.6131868131868132\n"
     ]
    }
   ],
   "source": [
    "# Гиперпараметры \n",
    "fraction = models[models['f1_score']==models['f1_score'].max()]['DS_fraction'].values[0]\n",
    "n_est =  int(models[models['f1_score']==models['f1_score'].max()]['n_estimators'].values[0])\n",
    "max_dep =  models[models['f1_score']==models['f1_score'].max()]['max_depth'].values[0]\n",
    "\n",
    "features_downsampled, target_downsampled = downsample(features_train, target_train, fraction)\n",
    "features_downsampled =  scaler.transform(features_downsampled)\n",
    "final_model = RandomForestClassifier(\n",
    "    n_estimators=n_est ,\n",
    "    max_depth=max_dep,\n",
    "    random_state=12345,\n",
    "    class_weight = 'balanced'\n",
    ")\n",
    "final_model.fit(features_downsampled, target_downsampled)\n",
    "predicted = final_model.predict( features_test_scaled )\n",
    "print('Тестирование модели',models[models['f1_score']==models['f1_score'].max()]['name'].values[0] ,'(наилучшей на валидационной выборке) с гиперпараметрами:\\n',\n",
    "      'Доля downsample = ',\n",
    "      fraction,\n",
    "      '\\n Количество деревьев',\n",
    "      n_est,\n",
    "      '\\n максимальная глубина дерева',\n",
    "      max_dep,\n",
    "      '\\n \\n F1-SCORE = ',\n",
    "f1_score( target_test , predicted)      \n",
    ")"
   ]
  },
  {
   "cell_type": "code",
   "execution_count": 1,
   "metadata": {},
   "outputs": [
    {
     "ename": "NameError",
     "evalue": "name 'features' is not defined",
     "output_type": "error",
     "traceback": [
      "\u001b[0;31m---------------------------------------------------------------------------\u001b[0m",
      "\u001b[0;31mNameError\u001b[0m                                 Traceback (most recent call last)",
      "\u001b[0;32m<ipython-input-1-ce5d0f26b013>\u001b[0m in \u001b[0;36m<module>\u001b[0;34m\u001b[0m\n\u001b[0;32m----> 1\u001b[0;31m \u001b[0mfeatures\u001b[0m\u001b[0;34m.\u001b[0m\u001b[0mshape\u001b[0m\u001b[0;34m\u001b[0m\u001b[0;34m\u001b[0m\u001b[0m\n\u001b[0m",
      "\u001b[0;31mNameError\u001b[0m: name 'features' is not defined"
     ]
    }
   ],
   "source": [
    "features.shape"
   ]
  },
  {
   "cell_type": "code",
   "execution_count": 24,
   "metadata": {},
   "outputs": [
    {
     "data": {
      "image/png": "[encoded data removed]",
      "text/plain": [
       "<Figure size 432x288 with 1 Axes>"
      ]
     },
     "metadata": {
      "needs_background": "light"
     },
     "output_type": "display_data"
    },
    {
     "name": "stdout",
     "output_type": "stream",
     "text": [
      "0.8522825567539122\n"
     ]
    }
   ],
   "source": [
    "probabilities_valid = final_model.predict_proba(features_valid_scaled)\n",
    "probabilities_one_valid = probabilities_valid[:, 1]\n",
    "\n",
    "fpr, tpr, thresholds = roc_curve(target_valid, probabilities_one_valid)\n",
    "\n",
    "plt.figure()\n",
    "\n",
    "# ROC-кривая случайной модели (выглядит как прямая)\n",
    "plt.plot([0, 1], [0, 1], linestyle='--')\n",
    "plt.plot(fpr, tpr, linestyle='-')\n",
    "plt.xlim([0.0, 1.0])\n",
    "plt.ylim([0.0, 1.0])\n",
    "\n",
    "plt.xlabel('False Positive Rate')\n",
    "plt.ylabel('True Positive Rate')\n",
    "plt.title('ROC-кривая')\n",
    "plt.show()\n",
    "\n",
    "probabilities_valid = final_model.predict_proba(features_valid_scaled)\n",
    "probabilities_one_valid = probabilities_valid[:, 1]\n",
    "\n",
    "auc_roc = roc_auc_score(target_valid,probabilities_one_valid)\n",
    "print(auc_roc)"
   ]
  },
  {
   "cell_type": "markdown",
   "metadata": {},
   "source": [
    "###  Вывод о тестировании модели\n",
    "        На тестовой выборке выбранная модель показала значение f1 меры выше заявленной в условии задачи 0,59. Для этого была применена комбинация методов: downsampling и баланс классов. AUC-ROC возрасла по сравнению с первой тестовой моделью на 0.02.\n",
    "        Поиск оптимальных гиперпараметров был проведён вручную, без использования дополнительных библиотек. "
   ]
  },
  {
   "cell_type": "markdown",
   "metadata": {},
   "source": [
    "# Общий вывод\n",
    "1. Был проведён анализ данных на предмет:\n",
    "    * дубликатов \n",
    "        - дубликатов не обнаруженно\n",
    "    * пропусков\n",
    "        - пропуски были в признаке `Tenure` — количество недвижимости у клиента. NaN заменен на -1. Выбор именно такого значение (-1) обусловлен предположением что ничего не знать о имуществе клиента ещё хуже чем клиент с отсутствием имущества.\n",
    "    * выбросов\n",
    "        - большое количество людей с нулевым балансом\n",
    "    * несоответствия типов данных\n",
    "        - Преобразовать к int признаки Tenure, Balance и EstimatedSalary.  \n",
    "    * необходимости всех признаков в исходном датасете для обучения\n",
    "        - удалена фамилия клиента банка, как бесполезный для задачи признак\n",
    "2. Подготовка данных для обучения:\n",
    "    * коректировка датасета в соответсвии с анализом данных\n",
    "    * подготовка признаков\n",
    "        - OHE\n",
    "        - масштабирование\n",
    "        - подготовка признаков и целевого признака\n",
    "3. Исследование модели \n",
    "    * Исследование дисбаланса классов. \n",
    "        - дисбаланс: доля положительного класса всего 20%.\n",
    "    * Обучение и исследование модели не смотря на дисбаланс классов\n",
    "        - была обучена 1 модель с произвольными гипер параметрами и её f1 мера составила 0.54, что недостаточно для выполнения поставленной задачи в преодолении порога в 0,59. AUC-ROC Составила 0,82.\n",
    "4. Борьба с дисбалансом при помощи downsampling и весов классов. \n",
    "5. Подбор моделей и их гиперпараметров для нахождения наилучшей модели.\n",
    "6. Финальное тестирование наилучшей модели.  \n",
    "    * Достигнута точность на тестовой выборке - 0,61. При этом AUC-ROC выросла на 0.02 и составила 0,84. "
   ]
  }
 ],
 "metadata": {
  "kernelspec": {
   "display_name": "Python 3",
   "language": "python",
   "name": "python3"
  },
  "language_info": {
   "codemirror_mode": {
    "name": "ipython",
    "version": 3
   },
   "file_extension": ".py",
   "mimetype": "text/x-python",
   "name": "python",
   "nbconvert_exporter": "python",
   "pygments_lexer": "ipython3",
   "version": "3.7.6"
  }
 },
 "nbformat": 4,
 "nbformat_minor": 4
}
