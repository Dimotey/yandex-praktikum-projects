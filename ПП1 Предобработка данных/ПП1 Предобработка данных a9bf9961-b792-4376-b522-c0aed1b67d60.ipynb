{
 "cells": [
  {
   "cell_type": "markdown",
   "metadata": {},
   "source": [
    "## Исследование надёжности заёмщиков\n",
    "* Цель исследования - как влияет семейное положение и количество детей на способность к погашению кредита в срок. \n",
    "* Данные на которых проводится исследование - статистика платёжеспособности клиентов.\n",
    "* Данное исследование может быть полезно кредитному отдела банка, при построении модели кредитного скоринга.\n",
    "\n",
    "**Ключевые слова:** обработка данных, дубликаты, пропуски, категоризация, лемматизация, data analyst, аналитик данных, аналитик, финансовый аналитик, analyst"
   ]
  },
  {
   "cell_type": "markdown",
   "metadata": {},
   "source": [
    "### Шаг 1. Первичное знакомство с данными"
   ]
  },
  {
   "cell_type": "code",
   "execution_count": 93,
   "metadata": {},
   "outputs": [
    {
     "name": "stdout",
     "output_type": "stream",
     "text": [
      "   children  days_employed  dob_years education  education_id  \\\n",
      "0         1   -8437.673028         42    высшее             0   \n",
      "1         1   -4024.803754         36   среднее             1   \n",
      "2         0   -5623.422610         33   Среднее             1   \n",
      "3         3   -4124.747207         32   среднее             1   \n",
      "4         0  340266.072047         53   среднее             1   \n",
      "\n",
      "      family_status  family_status_id gender income_type  debt   total_income  \\\n",
      "0   женат / замужем                 0      F   сотрудник     0  253875.639453   \n",
      "1   женат / замужем                 0      F   сотрудник     0  112080.014102   \n",
      "2   женат / замужем                 0      M   сотрудник     0  145885.952297   \n",
      "3   женат / замужем                 0      M   сотрудник     0  267628.550329   \n",
      "4  гражданский брак                 1      F   пенсионер     0  158616.077870   \n",
      "\n",
      "                      purpose  \n",
      "0               покупка жилья  \n",
      "1     приобретение автомобиля  \n",
      "2               покупка жилья  \n",
      "3  дополнительное образование  \n",
      "4             сыграть свадьбу  \n",
      "<class 'pandas.core.frame.DataFrame'>\n",
      "RangeIndex: 21525 entries, 0 to 21524\n",
      "Data columns (total 12 columns):\n",
      "children            21525 non-null int64\n",
      "days_employed       19351 non-null float64\n",
      "dob_years           21525 non-null int64\n",
      "education           21525 non-null object\n",
      "education_id        21525 non-null int64\n",
      "family_status       21525 non-null object\n",
      "family_status_id    21525 non-null int64\n",
      "gender              21525 non-null object\n",
      "income_type         21525 non-null object\n",
      "debt                21525 non-null int64\n",
      "total_income        19351 non-null float64\n",
      "purpose             21525 non-null object\n",
      "dtypes: float64(2), int64(5), object(5)\n",
      "memory usage: 2.0+ MB\n",
      "None\n",
      "Количество дубликатов без учёта регистра: 54\n",
      "Количество NaN:\n",
      " children               0\n",
      "days_employed       2174\n",
      "dob_years              0\n",
      "education              0\n",
      "education_id           0\n",
      "family_status          0\n",
      "family_status_id       0\n",
      "gender                 0\n",
      "income_type            0\n",
      "debt                   0\n",
      "total_income        2174\n",
      "purpose                0\n",
      "dtype: int64\n"
     ]
    },
    {
     "data": {
      "text/html": [
       "<div>\n",
       "<style scoped>\n",
       "    .dataframe tbody tr th:only-of-type {\n",
       "        vertical-align: middle;\n",
       "    }\n",
       "\n",
       "    .dataframe tbody tr th {\n",
       "        vertical-align: top;\n",
       "    }\n",
       "\n",
       "    .dataframe thead th {\n",
       "        text-align: right;\n",
       "    }\n",
       "</style>\n",
       "<table border=\"1\" class=\"dataframe\">\n",
       "  <thead>\n",
       "    <tr style=\"text-align: right;\">\n",
       "      <th></th>\n",
       "      <th>children</th>\n",
       "      <th>days_employed</th>\n",
       "      <th>dob_years</th>\n",
       "      <th>education_id</th>\n",
       "      <th>family_status_id</th>\n",
       "      <th>debt</th>\n",
       "      <th>total_income</th>\n",
       "    </tr>\n",
       "  </thead>\n",
       "  <tbody>\n",
       "    <tr>\n",
       "      <td>count</td>\n",
       "      <td>21525.000000</td>\n",
       "      <td>19351.000000</td>\n",
       "      <td>21525.000000</td>\n",
       "      <td>21525.000000</td>\n",
       "      <td>21525.000000</td>\n",
       "      <td>21525.000000</td>\n",
       "      <td>1.935100e+04</td>\n",
       "    </tr>\n",
       "    <tr>\n",
       "      <td>mean</td>\n",
       "      <td>0.538908</td>\n",
       "      <td>63046.497661</td>\n",
       "      <td>43.293380</td>\n",
       "      <td>0.817236</td>\n",
       "      <td>0.972544</td>\n",
       "      <td>0.080883</td>\n",
       "      <td>1.674223e+05</td>\n",
       "    </tr>\n",
       "    <tr>\n",
       "      <td>std</td>\n",
       "      <td>1.381587</td>\n",
       "      <td>140827.311974</td>\n",
       "      <td>12.574584</td>\n",
       "      <td>0.548138</td>\n",
       "      <td>1.420324</td>\n",
       "      <td>0.272661</td>\n",
       "      <td>1.029716e+05</td>\n",
       "    </tr>\n",
       "    <tr>\n",
       "      <td>min</td>\n",
       "      <td>-1.000000</td>\n",
       "      <td>-18388.949901</td>\n",
       "      <td>0.000000</td>\n",
       "      <td>0.000000</td>\n",
       "      <td>0.000000</td>\n",
       "      <td>0.000000</td>\n",
       "      <td>2.066726e+04</td>\n",
       "    </tr>\n",
       "    <tr>\n",
       "      <td>25%</td>\n",
       "      <td>0.000000</td>\n",
       "      <td>-2747.423625</td>\n",
       "      <td>33.000000</td>\n",
       "      <td>1.000000</td>\n",
       "      <td>0.000000</td>\n",
       "      <td>0.000000</td>\n",
       "      <td>1.030532e+05</td>\n",
       "    </tr>\n",
       "    <tr>\n",
       "      <td>50%</td>\n",
       "      <td>0.000000</td>\n",
       "      <td>-1203.369529</td>\n",
       "      <td>42.000000</td>\n",
       "      <td>1.000000</td>\n",
       "      <td>0.000000</td>\n",
       "      <td>0.000000</td>\n",
       "      <td>1.450179e+05</td>\n",
       "    </tr>\n",
       "    <tr>\n",
       "      <td>75%</td>\n",
       "      <td>1.000000</td>\n",
       "      <td>-291.095954</td>\n",
       "      <td>53.000000</td>\n",
       "      <td>1.000000</td>\n",
       "      <td>1.000000</td>\n",
       "      <td>0.000000</td>\n",
       "      <td>2.034351e+05</td>\n",
       "    </tr>\n",
       "    <tr>\n",
       "      <td>max</td>\n",
       "      <td>20.000000</td>\n",
       "      <td>401755.400475</td>\n",
       "      <td>75.000000</td>\n",
       "      <td>4.000000</td>\n",
       "      <td>4.000000</td>\n",
       "      <td>1.000000</td>\n",
       "      <td>2.265604e+06</td>\n",
       "    </tr>\n",
       "  </tbody>\n",
       "</table>\n",
       "</div>"
      ],
      "text/plain": [
       "           children  days_employed     dob_years  education_id  \\\n",
       "count  21525.000000   19351.000000  21525.000000  21525.000000   \n",
       "mean       0.538908   63046.497661     43.293380      0.817236   \n",
       "std        1.381587  140827.311974     12.574584      0.548138   \n",
       "min       -1.000000  -18388.949901      0.000000      0.000000   \n",
       "25%        0.000000   -2747.423625     33.000000      1.000000   \n",
       "50%        0.000000   -1203.369529     42.000000      1.000000   \n",
       "75%        1.000000    -291.095954     53.000000      1.000000   \n",
       "max       20.000000  401755.400475     75.000000      4.000000   \n",
       "\n",
       "       family_status_id          debt  total_income  \n",
       "count      21525.000000  21525.000000  1.935100e+04  \n",
       "mean           0.972544      0.080883  1.674223e+05  \n",
       "std            1.420324      0.272661  1.029716e+05  \n",
       "min            0.000000      0.000000  2.066726e+04  \n",
       "25%            0.000000      0.000000  1.030532e+05  \n",
       "50%            0.000000      0.000000  1.450179e+05  \n",
       "75%            1.000000      0.000000  2.034351e+05  \n",
       "max            4.000000      1.000000  2.265604e+06  "
      ]
     },
     "execution_count": 93,
     "metadata": {},
     "output_type": "execute_result"
    }
   ],
   "source": [
    "import pandas as pd\n",
    "import os\n",
    "import time\n",
    "start_time = time.time()\n",
    "data=pd.read_csv('/datasets/data.csv')\n",
    "print(data.head())\n",
    "print(data.info())\n",
    "print('Количество дубликатов без учёта регистра:',data.duplicated().sum())\n",
    "print('Количество NaN:\\n', data.isna().sum())\n",
    "data.describe()\n"
   ]
  },
  {
   "cell_type": "markdown",
   "metadata": {},
   "source": [
    " (Промежуточные выводы.)\n",
    " \n",
    " Общая информация по датасету. \n",
    " Нужны  следующие столбцы. Всего их 5. \n",
    " ['children','family_status_id','total_income','debt','purpose']\n",
    " Остальные пока оставим без внимания.\n",
    " Всего 21525 позиций.\n",
    " в total_income 2174 NaN или None. и в рабочем стаже. Возможно это касается тех кто не работал никогда."
   ]
  },
  {
   "cell_type": "code",
   "execution_count": 94,
   "metadata": {},
   "outputs": [
    {
     "name": "stdout",
     "output_type": "stream",
     "text": [
      " 0     14149\n",
      " 1      4818\n",
      " 2      2055\n",
      " 3       330\n",
      " 20       76\n",
      "-1        47\n",
      " 4        41\n",
      " 5         9\n",
      "Name: children, dtype: int64\n"
     ]
    }
   ],
   "source": [
    "'''children — количество детей в семье'''\n",
    "# определяю сколько людей имеют одинаковое количество детей \n",
    "print(data['children'].value_counts())"
   ]
  },
  {
   "cell_type": "markdown",
   "metadata": {},
   "source": [
    "(Промежуточные выводы.)\n",
    "\n",
    "Встречаются отрицатльене значение[-1] в столбце children. Сделать: посмотреть на эти строчки. потом либо добавить к 1 либо указать причину почему они могут быть отрицательными либо удалить. \n",
    " \n",
    "а также подозрительно большое количество людей имеющих в семье 20 детей, скорее всего это ошибка при записи данных. Сделать: Посмотреть на эти строчки\n",
    "\n",
    "Тип данных соответсвует."
   ]
  },
  {
   "cell_type": "code",
   "execution_count": 95,
   "metadata": {},
   "outputs": [
    {
     "data": {
      "text/plain": [
       "женат / замужем          12380\n",
       "гражданский брак          4177\n",
       "Не женат / не замужем     2813\n",
       "в разводе                 1195\n",
       "вдовец / вдова             960\n",
       "Name: family_status, dtype: int64"
      ]
     },
     "execution_count": 95,
     "metadata": {},
     "output_type": "execute_result"
    }
   ],
   "source": [
    "'''family_status — семейное положение'''\n",
    "data['family_status'].value_counts()\n"
   ]
  },
  {
   "cell_type": "markdown",
   "metadata": {},
   "source": [
    "    Не выявленно ничего подозрительного. ОДИН ИЗ ОСНОВНЫХ КРИТЕРИЕВ ОЦЕНКИ ПЛАТЁЖЕСПОСОБНОСТИ. "
   ]
  },
  {
   "cell_type": "code",
   "execution_count": 96,
   "metadata": {},
   "outputs": [
    {
     "name": "stdout",
     "output_type": "stream",
     "text": [
      "0    19784\n",
      "1     1741\n",
      "Name: debt, dtype: int64\n"
     ]
    }
   ],
   "source": [
    "'''debt — имел ли задолженность по возврату кредитов'''\n",
    "print(data['debt'].value_counts())"
   ]
  },
  {
   "cell_type": "markdown",
   "metadata": {},
   "source": [
    "    Не выявленно ничего подозрительного. ОДИН ИЗ ОСНОВНЫХ КРИТЕРИЕВ ОЦЕНКИ ПЛАТЁЖЕСПОСОБНОСТИ. "
   ]
  },
  {
   "cell_type": "code",
   "execution_count": 97,
   "metadata": {},
   "outputs": [
    {
     "name": "stdout",
     "output_type": "stream",
     "text": [
      "свадьба                                   797\n",
      "на проведение свадьбы                     777\n",
      "сыграть свадьбу                           774\n",
      "операции с недвижимостью                  676\n",
      "покупка коммерческой недвижимости         664\n",
      "операции с жильем                         653\n",
      "покупка жилья для сдачи                   653\n",
      "операции с коммерческой недвижимостью     651\n",
      "покупка жилья                             647\n",
      "жилье                                     647\n",
      "покупка жилья для семьи                   641\n",
      "строительство собственной недвижимости    635\n",
      "недвижимость                              634\n",
      "операции со своей недвижимостью           630\n",
      "строительство жилой недвижимости          626\n",
      "покупка недвижимости                      624\n",
      "покупка своего жилья                      620\n",
      "строительство недвижимости                620\n",
      "ремонт жилью                              612\n",
      "покупка жилой недвижимости                607\n",
      "на покупку своего автомобиля              505\n",
      "заняться высшим образованием              496\n",
      "автомобиль                                495\n",
      "сделка с подержанным автомобилем          489\n",
      "свой автомобиль                           480\n",
      "на покупку подержанного автомобиля        479\n",
      "автомобили                                478\n",
      "на покупку автомобиля                     472\n",
      "дополнительное образование                462\n",
      "приобретение автомобиля                   462\n",
      "сделка с автомобилем                      455\n",
      "высшее образование                        453\n",
      "получение дополнительного образования     447\n",
      "образование                               447\n",
      "получение образования                     443\n",
      "профильное образование                    436\n",
      "получение высшего образования             426\n",
      "заняться образованием                     412\n",
      "Name: purpose, dtype: int64\n"
     ]
    }
   ],
   "source": [
    "'''purpose — цель получения кредита'''\n",
    "print(data['purpose'].value_counts())"
   ]
  },
  {
   "cell_type": "markdown",
   "metadata": {},
   "source": [
    "Требуется Лемматизация. "
   ]
  },
  {
   "cell_type": "markdown",
   "metadata": {},
   "source": [
    "### Вывод"
   ]
  },
  {
   "cell_type": "markdown",
   "metadata": {},
   "source": [
    "Проведен анализ входных данных. Его результаты:\n",
    "1. ['children'] необходимо: \n",
    "        1.1 Обработать отрицательные значения\n",
    "        1.2 Сгрупировать опечатку для количества детей [20] в [2], а также [-1] в [1].\n",
    "2. ['family_status'] пропущенных значений нет, тип данных соответствует, ошибок или опечаток не обнаружено. \n",
    "3. ['total_income'] необходимо:\n",
    "        3.1 Пропущенно 2714 значения, так же как в столбце ['days_employed']. Связи между ними не наблюдается. Заполнить пропущеные значения медианным значением.\n",
    "        3.2 Потребуется категоризация. \n",
    "        3.3 Также стоит заменить тип данных на int вместо float. Доход имеет порядок 10^5 так что можно пренебречь дробной частью. \n",
    "4. ['debt'] пропущенных значений нет, тип данных соответствует, ошибок или опечаток не обнаружено. \n",
    "5. ['purpose'] требуется лемматизация. \n",
    "6. Обнаруженны дубликаты"
   ]
  },
  {
   "cell_type": "markdown",
   "metadata": {},
   "source": [
    "### Шаг 2. Предобработка данных"
   ]
  },
  {
   "cell_type": "markdown",
   "metadata": {},
   "source": [
    "### Обработка пропусков"
   ]
  },
  {
   "cell_type": "code",
   "execution_count": 98,
   "metadata": {},
   "outputs": [
    {
     "name": "stdout",
     "output_type": "stream",
     "text": [
      "Медианный доход по выборке 145017.93753253992\n",
      "Медианный стаж по выборке 2194.220566878695\n",
      "Количество пропусков в total_income: 0\n",
      "Количество пропусков в days_employed: 0\n"
     ]
    }
   ],
   "source": [
    "'''Пропуски существуют в двух столбцах в доходе и количестве рабочих дней.\n",
    "Их можно заменить на среднее или на медиану или на 0. \n",
    "среднее больше чем медиана. это говорит о том что есть несколько людей с большим доходом. нужно использовать медиану. \n",
    "'''\n",
    "median_income=data['total_income'].median()\n",
    "print('Медианный доход по выборке', median_income)\n",
    "data['total_income']=data['total_income'].fillna(median_income)\n",
    "data['days_employed']=abs(data['days_employed'])\n",
    "median_days_employed=data['days_employed'].median()\n",
    "print('Медианный стаж по выборке', median_days_employed)\n",
    "data['days_employed']=data['days_employed'].fillna(median_days_employed)\n",
    "print('Количество пропусков в total_income:' , data['total_income'].isna().sum())\n",
    "print('Количество пропусков в days_employed:' , data['days_employed'].isna().sum())\n",
    "\n",
    "data.loc[data['children']==20,'children']=2\n",
    "data.loc[data['children']==-1,'children']=1"
   ]
  },
  {
   "cell_type": "markdown",
   "metadata": {},
   "source": [
    "### Вывод"
   ]
  },
  {
   "cell_type": "markdown",
   "metadata": {},
   "source": [
    "Все пропуски в столбце ['total_income']  и ['days_employed'] заменены на медианные значения, так как это более объективная информация о доходе клиентов и общем трудовом стаже (хотя по хорошему надо было бы провести исследование какой именно стаж и доход характерен для людей с таким доходом, уровнем образования и т.д.). \n",
    "\n",
    "Исправленны ошибки в столбце ['children']. Значение [20] заменено на [2]. Значение [-1] на [1]. \n",
    "\n",
    "Такие ошибки поскольку их много свидетельствуют о том что они технического характера. "
   ]
  },
  {
   "cell_type": "markdown",
   "metadata": {},
   "source": [
    "### Замена типа данных"
   ]
  },
  {
   "cell_type": "code",
   "execution_count": 99,
   "metadata": {},
   "outputs": [
    {
     "name": "stdout",
     "output_type": "stream",
     "text": [
      "Тип данных total_income: float64\n",
      "Тип данных total_income: int64\n"
     ]
    }
   ],
   "source": [
    "'''Заменить тип данных необходимо в столбцах ['days_employed'] и ['total_income'] c float64 на int64. \n",
    "Это сэкономит память и не повлияет на точность. Нам не нужно 6 и более значащих цифр после запятой \n",
    "так как значения в расматриваемых столбцах много больше остатка после запятой'''\n",
    "print('Тип данных total_income:', data['total_income'].dtypes)\n",
    "data['total_income']=data['total_income'].astype(int)\n",
    "print('Тип данных total_income:', data['total_income'].dtypes)"
   ]
  },
  {
   "cell_type": "markdown",
   "metadata": {},
   "source": [
    "### Вывод"
   ]
  },
  {
   "cell_type": "markdown",
   "metadata": {},
   "source": [
    "Выбран метод astype для замены типа данных как один из известных мне на данный момент."
   ]
  },
  {
   "cell_type": "markdown",
   "metadata": {},
   "source": [
    "### Обработка дубликатов"
   ]
  },
  {
   "cell_type": "code",
   "execution_count": 100,
   "metadata": {},
   "outputs": [
    {
     "name": "stdout",
     "output_type": "stream",
     "text": [
      "Количество дубликатов с учётом региста: 71\n",
      "Проверка количества дубликатов после их удаления: 0\n"
     ]
    }
   ],
   "source": [
    "data['education']=data['education'].str.lower()\n",
    "print('Количество дубликатов с учётом региста:',data.duplicated().sum())\n",
    "data=data.drop_duplicates().reset_index(drop =True)\n",
    "print('Проверка количества дубликатов после их удаления:', data.duplicated().sum())"
   ]
  },
  {
   "cell_type": "markdown",
   "metadata": {},
   "source": [
    "### Вывод"
   ]
  },
  {
   "cell_type": "markdown",
   "metadata": {},
   "source": [
    "Простая обработка дубликатов оказалась недостаточной, ведь в столбце ['education'] были значения в разных регистрах. Дубликаты с учетом регистра выявлены и удалены, индексы обновленны. Возможная причина их появления - техническая ошибка. "
   ]
  },
  {
   "cell_type": "markdown",
   "metadata": {},
   "source": [
    "### Лемматизация"
   ]
  },
  {
   "cell_type": "code",
   "execution_count": 101,
   "metadata": {},
   "outputs": [
    {
     "name": "stdout",
     "output_type": "stream",
     "text": [
      "жилье          10811\n",
      "автомобиль      4306\n",
      "образование     4013\n",
      "свадьба         2324\n",
      "Name: purpose, dtype: int64\n",
      "334\n"
     ]
    }
   ],
   "source": [
    "'''В столбце ['purpose'] много целей с одним и тем же смыслом. \n",
    "Сгрупируем их в 4 категории [жилье, автомобиль, образование и свадьба]'''\n",
    "from pymystem3 import Mystem\n",
    "unique_purpose=[]\n",
    "m = Mystem() \n",
    "unique_purpose=data['purpose'].unique()\n",
    "lemmas=m.lemmatize(' '.join(unique_purpose))\n",
    "lemmas_1=['свадьба','автомобиль','образование']\n",
    "lemmas_2=['жилье','недвижимость']\n",
    "for i in range(len(data['purpose'])):\n",
    "    purpose_1=m.lemmatize(data['purpose'][i])\n",
    "    for le1 in lemmas_1:\n",
    "        if le1 in purpose_1:\n",
    "            data.loc[i,'purpose']=le1\n",
    "    for le2 in lemmas_2:\n",
    "        if le2 in purpose_1:\n",
    "            data.loc[i,'purpose']=lemmas_2[0]            \n",
    "print(data['purpose'].value_counts())\n",
    "print(data.duplicated().sum())"
   ]
  },
  {
   "cell_type": "markdown",
   "metadata": {},
   "source": [
    "### Вывод"
   ]
  },
  {
   "cell_type": "markdown",
   "metadata": {},
   "source": [
    "Анализируя представленные в таблицах цели кредита было выявленно 4 основных цели: жилье, автомобиль, образование и свадьба. Проведенна лемматизация. После такого обобщения найдены дубликаты. Их появление связано c пропусками в столбцах с общим трудовым стажем и месячным доходом, которые были заполнены медианными значениеми. Поскольку изначально цели кредита были записаны по разному то эти дубликаты не являются копиями данных а отражают реальных клиентов. "
   ]
  },
  {
   "cell_type": "markdown",
   "metadata": {},
   "source": [
    "### Категоризация данных"
   ]
  },
  {
   "cell_type": "code",
   "execution_count": 102,
   "metadata": {},
   "outputs": [],
   "source": [
    "'''Выделим 10 групп по уровню дохода'''\n",
    "income_min=data['total_income'].min()\n",
    "income_max=data['total_income'].max()\n",
    "step=200000\n",
    "data2=data.copy()\n",
    "data_stat=[]\n",
    "income_group=[]\n",
    "income_category=[0,50000,100000,150000,200000,250000,300000,350000,400000,2400000]\n",
    "for j in range(len(data)):\n",
    "    for k in range(len(income_category)):\n",
    "        if (data.loc[j,'total_income']>income_category[k]) and (data.loc[j,'total_income']<income_category[k+1]):\n",
    "            #income_group.append('От ' +str(int(income_category[k]/1000)) + 'т.р. до ' + str(int(income_category[k+1]/1000))+'т.р.')\n",
    "            data2.loc[j,'total_income']='От ' +str(int(income_category[k]/1000)) + 'т.р. до ' + str(int(income_category[k+1]/1000))+'т.р.'\n",
    "\n",
    "#df_income_group=pd.DataFrame(data=income_group, columns= ['income_group'])\n",
    "#df_income_group['income_group'].value_counts()\n",
    "# Да, алгоритм медленный, но я не успеваю его переделать. "
   ]
  },
  {
   "cell_type": "markdown",
   "metadata": {},
   "source": [
    "### Вывод"
   ]
  },
  {
   "cell_type": "markdown",
   "metadata": {},
   "source": [
    "Проведена категоризация данных в столбце ['total_income']. Для этого создана копия датафрейма и в этом столбце заменены реальный их доход на имя группы в которую они попадают. Последний участок не равномерный так как количество людей имеющих очень высокий доход быстро убывает с его ростом, чтобы в выборке было достаточное количество людей. "
   ]
  },
  {
   "cell_type": "markdown",
   "metadata": {},
   "source": [
    "### Шаг 3. Проверка ключевых моментов"
   ]
  },
  {
   "cell_type": "markdown",
   "metadata": {},
   "source": [
    "- Есть ли зависимость между наличием детей и возвратом кредита в срок?"
   ]
  },
  {
   "cell_type": "code",
   "execution_count": 103,
   "metadata": {},
   "outputs": [
    {
     "data": {
      "text/html": [
       "<div>\n",
       "<style scoped>\n",
       "    .dataframe tbody tr th:only-of-type {\n",
       "        vertical-align: middle;\n",
       "    }\n",
       "\n",
       "    .dataframe tbody tr th {\n",
       "        vertical-align: top;\n",
       "    }\n",
       "\n",
       "    .dataframe thead th {\n",
       "        text-align: right;\n",
       "    }\n",
       "</style>\n",
       "<table border=\"1\" class=\"dataframe\">\n",
       "  <thead>\n",
       "    <tr style=\"text-align: right;\">\n",
       "      <th>debt</th>\n",
       "      <th>0</th>\n",
       "      <th>1</th>\n",
       "      <th>sum_person</th>\n",
       "      <th>voskolkoraz0bolshe1</th>\n",
       "      <th>percentage_of_debtors</th>\n",
       "    </tr>\n",
       "    <tr>\n",
       "      <th>children</th>\n",
       "      <th></th>\n",
       "      <th></th>\n",
       "      <th></th>\n",
       "      <th></th>\n",
       "      <th></th>\n",
       "    </tr>\n",
       "  </thead>\n",
       "  <tbody>\n",
       "    <tr>\n",
       "      <td>0</td>\n",
       "      <td>13028.0</td>\n",
       "      <td>1063.0</td>\n",
       "      <td>14091.0</td>\n",
       "      <td>12.255880</td>\n",
       "      <td>7.543822</td>\n",
       "    </tr>\n",
       "    <tr>\n",
       "      <td>3</td>\n",
       "      <td>303.0</td>\n",
       "      <td>27.0</td>\n",
       "      <td>330.0</td>\n",
       "      <td>11.222222</td>\n",
       "      <td>8.181818</td>\n",
       "    </tr>\n",
       "    <tr>\n",
       "      <td>1</td>\n",
       "      <td>4410.0</td>\n",
       "      <td>445.0</td>\n",
       "      <td>4855.0</td>\n",
       "      <td>9.910112</td>\n",
       "      <td>9.165808</td>\n",
       "    </tr>\n",
       "    <tr>\n",
       "      <td>2</td>\n",
       "      <td>1926.0</td>\n",
       "      <td>202.0</td>\n",
       "      <td>2128.0</td>\n",
       "      <td>9.534653</td>\n",
       "      <td>9.492481</td>\n",
       "    </tr>\n",
       "    <tr>\n",
       "      <td>4</td>\n",
       "      <td>37.0</td>\n",
       "      <td>4.0</td>\n",
       "      <td>41.0</td>\n",
       "      <td>9.250000</td>\n",
       "      <td>9.756098</td>\n",
       "    </tr>\n",
       "    <tr>\n",
       "      <td>5</td>\n",
       "      <td>9.0</td>\n",
       "      <td>NaN</td>\n",
       "      <td>NaN</td>\n",
       "      <td>NaN</td>\n",
       "      <td>NaN</td>\n",
       "    </tr>\n",
       "  </tbody>\n",
       "</table>\n",
       "</div>"
      ],
      "text/plain": [
       "debt            0       1  sum_person  voskolkoraz0bolshe1  \\\n",
       "children                                                     \n",
       "0         13028.0  1063.0     14091.0            12.255880   \n",
       "3           303.0    27.0       330.0            11.222222   \n",
       "1          4410.0   445.0      4855.0             9.910112   \n",
       "2          1926.0   202.0      2128.0             9.534653   \n",
       "4            37.0     4.0        41.0             9.250000   \n",
       "5             9.0     NaN         NaN                  NaN   \n",
       "\n",
       "debt      percentage_of_debtors  \n",
       "children                         \n",
       "0                      7.543822  \n",
       "3                      8.181818  \n",
       "1                      9.165808  \n",
       "2                      9.492481  \n",
       "4                      9.756098  \n",
       "5                           NaN  "
      ]
     },
     "execution_count": 103,
     "metadata": {},
     "output_type": "execute_result"
    }
   ],
   "source": [
    "data_pivot_children=data.pivot_table(index='children',columns='debt', values='dob_years',aggfunc='count')\n",
    "data_pivot_children['sum_person']=data_pivot_children.loc[:,0]+data_pivot_children.loc[:,1]\n",
    "data_pivot_children['voskolkoraz0bolshe1']=data_pivot_children.loc[:,0]/data_pivot_children.loc[:,1]   \n",
    "data_pivot_children['percentage_of_debtors']=(100*(data_pivot_children.loc[:,1]/data_pivot_children.loc[:,'sum_person']))\n",
    "data_pivot_children=data_pivot_children.sort_values(by = 'percentage_of_debtors')\n",
    "data_pivot_children"
   ]
  },
  {
   "cell_type": "markdown",
   "metadata": {},
   "source": [
    "### Вывод"
   ]
  },
  {
   "cell_type": "markdown",
   "metadata": {},
   "source": [
    "Разница между долей бездентных и родителей опаздывающих кредиты в срок составила 2.1%. Наличие детей повышает риск задолжности по кредиту. (таблица отсортирована по возрастанию риска возникновения задолжностей по кредиту)"
   ]
  },
  {
   "cell_type": "markdown",
   "metadata": {},
   "source": [
    "- Есть ли зависимость между семейным положением и возвратом кредита в срок?"
   ]
  },
  {
   "cell_type": "code",
   "execution_count": 104,
   "metadata": {},
   "outputs": [
    {
     "data": {
      "text/html": [
       "<div>\n",
       "<style scoped>\n",
       "    .dataframe tbody tr th:only-of-type {\n",
       "        vertical-align: middle;\n",
       "    }\n",
       "\n",
       "    .dataframe tbody tr th {\n",
       "        vertical-align: top;\n",
       "    }\n",
       "\n",
       "    .dataframe thead th {\n",
       "        text-align: right;\n",
       "    }\n",
       "</style>\n",
       "<table border=\"1\" class=\"dataframe\">\n",
       "  <thead>\n",
       "    <tr style=\"text-align: right;\">\n",
       "      <th>debt</th>\n",
       "      <th>0</th>\n",
       "      <th>1</th>\n",
       "      <th>sum_person</th>\n",
       "      <th>voskolkoraz0bolshe1</th>\n",
       "      <th>percentage_of_debtors</th>\n",
       "    </tr>\n",
       "    <tr>\n",
       "      <th>family_status</th>\n",
       "      <th></th>\n",
       "      <th></th>\n",
       "      <th></th>\n",
       "      <th></th>\n",
       "      <th></th>\n",
       "    </tr>\n",
       "  </thead>\n",
       "  <tbody>\n",
       "    <tr>\n",
       "      <td>вдовец / вдова</td>\n",
       "      <td>896</td>\n",
       "      <td>63</td>\n",
       "      <td>959</td>\n",
       "      <td>14.222222</td>\n",
       "      <td>6.569343</td>\n",
       "    </tr>\n",
       "    <tr>\n",
       "      <td>в разводе</td>\n",
       "      <td>1110</td>\n",
       "      <td>85</td>\n",
       "      <td>1195</td>\n",
       "      <td>13.058824</td>\n",
       "      <td>7.112971</td>\n",
       "    </tr>\n",
       "    <tr>\n",
       "      <td>женат / замужем</td>\n",
       "      <td>11408</td>\n",
       "      <td>931</td>\n",
       "      <td>12339</td>\n",
       "      <td>12.253491</td>\n",
       "      <td>7.545182</td>\n",
       "    </tr>\n",
       "    <tr>\n",
       "      <td>гражданский брак</td>\n",
       "      <td>3763</td>\n",
       "      <td>388</td>\n",
       "      <td>4151</td>\n",
       "      <td>9.698454</td>\n",
       "      <td>9.347145</td>\n",
       "    </tr>\n",
       "    <tr>\n",
       "      <td>Не женат / не замужем</td>\n",
       "      <td>2536</td>\n",
       "      <td>274</td>\n",
       "      <td>2810</td>\n",
       "      <td>9.255474</td>\n",
       "      <td>9.750890</td>\n",
       "    </tr>\n",
       "  </tbody>\n",
       "</table>\n",
       "</div>"
      ],
      "text/plain": [
       "debt                       0    1  sum_person  voskolkoraz0bolshe1  \\\n",
       "family_status                                                        \n",
       "вдовец / вдова           896   63         959            14.222222   \n",
       "в разводе               1110   85        1195            13.058824   \n",
       "женат / замужем        11408  931       12339            12.253491   \n",
       "гражданский брак        3763  388        4151             9.698454   \n",
       "Не женат / не замужем   2536  274        2810             9.255474   \n",
       "\n",
       "debt                   percentage_of_debtors  \n",
       "family_status                                 \n",
       "вдовец / вдова                      6.569343  \n",
       "в разводе                           7.112971  \n",
       "женат / замужем                     7.545182  \n",
       "гражданский брак                    9.347145  \n",
       "Не женат / не замужем               9.750890  "
      ]
     },
     "execution_count": 104,
     "metadata": {},
     "output_type": "execute_result"
    }
   ],
   "source": [
    "data_pivot_family_status=data.pivot_table(index='family_status',columns='debt', values='dob_years',aggfunc='count')\n",
    "data_pivot_family_status['sum_person']=data_pivot_family_status.loc[:,0]+data_pivot_family_status.loc[:,1]\n",
    "data_pivot_family_status['voskolkoraz0bolshe1']=data_pivot_family_status.loc[:,0]/data_pivot_family_status.loc[:,1]   \n",
    "data_pivot_family_status['percentage_of_debtors']=(100*(data_pivot_family_status.loc[:,1]/data_pivot_family_status.loc[:,'sum_person']))\n",
    "data_pivot_family_status=data_pivot_family_status.sort_values(by = 'percentage_of_debtors')\n",
    "data_pivot_family_status"
   ]
  },
  {
   "cell_type": "markdown",
   "metadata": {},
   "source": [
    "### Вывод"
   ]
  },
  {
   "cell_type": "markdown",
   "metadata": {},
   "source": [
    "Чаще других не возвращают кредиты неженатые и состоящие в гражданском браке. \n",
    "(таблица отсортирована по возрастанию риска возникновения задолжностей по кредиту)"
   ]
  },
  {
   "cell_type": "markdown",
   "metadata": {},
   "source": [
    "- Есть ли зависимость между уровнем дохода и возвратом кредита в срок?"
   ]
  },
  {
   "cell_type": "code",
   "execution_count": 105,
   "metadata": {},
   "outputs": [
    {
     "data": {
      "text/html": [
       "<div>\n",
       "<style scoped>\n",
       "    .dataframe tbody tr th:only-of-type {\n",
       "        vertical-align: middle;\n",
       "    }\n",
       "\n",
       "    .dataframe tbody tr th {\n",
       "        vertical-align: top;\n",
       "    }\n",
       "\n",
       "    .dataframe thead th {\n",
       "        text-align: right;\n",
       "    }\n",
       "</style>\n",
       "<table border=\"1\" class=\"dataframe\">\n",
       "  <thead>\n",
       "    <tr style=\"text-align: right;\">\n",
       "      <th>debt</th>\n",
       "      <th>0</th>\n",
       "      <th>1</th>\n",
       "      <th>sum_person</th>\n",
       "      <th>voskolkoraz0bolshe1</th>\n",
       "      <th>percentage_of_debtors</th>\n",
       "    </tr>\n",
       "    <tr>\n",
       "      <th>total_income</th>\n",
       "      <th></th>\n",
       "      <th></th>\n",
       "      <th></th>\n",
       "      <th></th>\n",
       "      <th></th>\n",
       "    </tr>\n",
       "  </thead>\n",
       "  <tbody>\n",
       "    <tr>\n",
       "      <td>От 400т.р. до 2400т.р.</td>\n",
       "      <td>497</td>\n",
       "      <td>31</td>\n",
       "      <td>528</td>\n",
       "      <td>16.032258</td>\n",
       "      <td>5.871212</td>\n",
       "    </tr>\n",
       "    <tr>\n",
       "      <td>От 0т.р. до 50т.р.</td>\n",
       "      <td>349</td>\n",
       "      <td>23</td>\n",
       "      <td>372</td>\n",
       "      <td>15.173913</td>\n",
       "      <td>6.182796</td>\n",
       "    </tr>\n",
       "    <tr>\n",
       "      <td>От 250т.р. до 300т.р.</td>\n",
       "      <td>1242</td>\n",
       "      <td>88</td>\n",
       "      <td>1330</td>\n",
       "      <td>14.113636</td>\n",
       "      <td>6.616541</td>\n",
       "    </tr>\n",
       "    <tr>\n",
       "      <td>От 350т.р. до 400т.р.</td>\n",
       "      <td>306</td>\n",
       "      <td>24</td>\n",
       "      <td>330</td>\n",
       "      <td>12.750000</td>\n",
       "      <td>7.272727</td>\n",
       "    </tr>\n",
       "    <tr>\n",
       "      <td>От 200т.р. до 250т.р.</td>\n",
       "      <td>2090</td>\n",
       "      <td>164</td>\n",
       "      <td>2254</td>\n",
       "      <td>12.743902</td>\n",
       "      <td>7.275954</td>\n",
       "    </tr>\n",
       "    <tr>\n",
       "      <td>От 50т.р. до 100т.р.</td>\n",
       "      <td>3760</td>\n",
       "      <td>331</td>\n",
       "      <td>4091</td>\n",
       "      <td>11.359517</td>\n",
       "      <td>8.090931</td>\n",
       "    </tr>\n",
       "    <tr>\n",
       "      <td>От 300т.р. до 350т.р.</td>\n",
       "      <td>573</td>\n",
       "      <td>51</td>\n",
       "      <td>624</td>\n",
       "      <td>11.235294</td>\n",
       "      <td>8.173077</td>\n",
       "    </tr>\n",
       "    <tr>\n",
       "      <td>От 100т.р. до 150т.р.</td>\n",
       "      <td>7146</td>\n",
       "      <td>661</td>\n",
       "      <td>7807</td>\n",
       "      <td>10.810893</td>\n",
       "      <td>8.466761</td>\n",
       "    </tr>\n",
       "    <tr>\n",
       "      <td>От 150т.р. до 200т.р.</td>\n",
       "      <td>3750</td>\n",
       "      <td>368</td>\n",
       "      <td>4118</td>\n",
       "      <td>10.190217</td>\n",
       "      <td>8.936377</td>\n",
       "    </tr>\n",
       "  </tbody>\n",
       "</table>\n",
       "</div>"
      ],
      "text/plain": [
       "debt                       0    1  sum_person  voskolkoraz0bolshe1  \\\n",
       "total_income                                                         \n",
       "От 400т.р. до 2400т.р.   497   31         528            16.032258   \n",
       "От 0т.р. до 50т.р.       349   23         372            15.173913   \n",
       "От 250т.р. до 300т.р.   1242   88        1330            14.113636   \n",
       "От 350т.р. до 400т.р.    306   24         330            12.750000   \n",
       "От 200т.р. до 250т.р.   2090  164        2254            12.743902   \n",
       "От 50т.р. до 100т.р.    3760  331        4091            11.359517   \n",
       "От 300т.р. до 350т.р.    573   51         624            11.235294   \n",
       "От 100т.р. до 150т.р.   7146  661        7807            10.810893   \n",
       "От 150т.р. до 200т.р.   3750  368        4118            10.190217   \n",
       "\n",
       "debt                    percentage_of_debtors  \n",
       "total_income                                   \n",
       "От 400т.р. до 2400т.р.               5.871212  \n",
       "От 0т.р. до 50т.р.                   6.182796  \n",
       "От 250т.р. до 300т.р.                6.616541  \n",
       "От 350т.р. до 400т.р.                7.272727  \n",
       "От 200т.р. до 250т.р.                7.275954  \n",
       "От 50т.р. до 100т.р.                 8.090931  \n",
       "От 300т.р. до 350т.р.                8.173077  \n",
       "От 100т.р. до 150т.р.                8.466761  \n",
       "От 150т.р. до 200т.р.                8.936377  "
      ]
     },
     "execution_count": 105,
     "metadata": {},
     "output_type": "execute_result"
    }
   ],
   "source": [
    "data_pivot_income=data2.pivot_table(index='total_income',columns='debt', values='dob_years',aggfunc='count')\n",
    "data_pivot_income['sum_person']=data_pivot_income.loc[:,0]+data_pivot_income.loc[:,1]\n",
    "data_pivot_income['voskolkoraz0bolshe1']=data_pivot_income.loc[:,0]/data_pivot_income.loc[:,1]   \n",
    "data_pivot_income['percentage_of_debtors']=(100*(data_pivot_income.loc[:,1]/data_pivot_income.loc[:,'sum_person']))\n",
    "data_pivot_income=data_pivot_income.sort_values(by = 'percentage_of_debtors')\n",
    "data_pivot_income"
   ]
  },
  {
   "cell_type": "markdown",
   "metadata": {},
   "source": [
    "### Вывод"
   ]
  },
  {
   "cell_type": "markdown",
   "metadata": {},
   "source": [
    "Клиенты самым большим и самым маленьким реже опаздывают с платежами(но возможно дело в малости выборки). Люди с доходом от 100 тыщ до 200 тыщ чаще опаздывают с выпплатами на 3%. Сравнивая выборки 200-500 и 150-200 можно отметить что объём выборки для них одногопорядка и хоть они находятся рядом всё же те кто получает 200-500 чаще возрвращают кредиты в срок. "
   ]
  },
  {
   "cell_type": "markdown",
   "metadata": {},
   "source": [
    "- Как разные цели кредита влияют на его возврат в срок?"
   ]
  },
  {
   "cell_type": "code",
   "execution_count": 106,
   "metadata": {},
   "outputs": [
    {
     "data": {
      "text/html": [
       "<div>\n",
       "<style scoped>\n",
       "    .dataframe tbody tr th:only-of-type {\n",
       "        vertical-align: middle;\n",
       "    }\n",
       "\n",
       "    .dataframe tbody tr th {\n",
       "        vertical-align: top;\n",
       "    }\n",
       "\n",
       "    .dataframe thead th {\n",
       "        text-align: right;\n",
       "    }\n",
       "</style>\n",
       "<table border=\"1\" class=\"dataframe\">\n",
       "  <thead>\n",
       "    <tr style=\"text-align: right;\">\n",
       "      <th>debt</th>\n",
       "      <th>0</th>\n",
       "      <th>1</th>\n",
       "      <th>sum_person</th>\n",
       "      <th>voskolkoraz0bolshe1</th>\n",
       "      <th>percentage_of_debtors</th>\n",
       "    </tr>\n",
       "    <tr>\n",
       "      <th>purpose</th>\n",
       "      <th></th>\n",
       "      <th></th>\n",
       "      <th></th>\n",
       "      <th></th>\n",
       "      <th></th>\n",
       "    </tr>\n",
       "  </thead>\n",
       "  <tbody>\n",
       "    <tr>\n",
       "      <td>жилье</td>\n",
       "      <td>10029</td>\n",
       "      <td>782</td>\n",
       "      <td>10811</td>\n",
       "      <td>12.824808</td>\n",
       "      <td>7.233373</td>\n",
       "    </tr>\n",
       "    <tr>\n",
       "      <td>свадьба</td>\n",
       "      <td>2138</td>\n",
       "      <td>186</td>\n",
       "      <td>2324</td>\n",
       "      <td>11.494624</td>\n",
       "      <td>8.003442</td>\n",
       "    </tr>\n",
       "    <tr>\n",
       "      <td>образование</td>\n",
       "      <td>3643</td>\n",
       "      <td>370</td>\n",
       "      <td>4013</td>\n",
       "      <td>9.845946</td>\n",
       "      <td>9.220035</td>\n",
       "    </tr>\n",
       "    <tr>\n",
       "      <td>автомобиль</td>\n",
       "      <td>3903</td>\n",
       "      <td>403</td>\n",
       "      <td>4306</td>\n",
       "      <td>9.684864</td>\n",
       "      <td>9.359034</td>\n",
       "    </tr>\n",
       "  </tbody>\n",
       "</table>\n",
       "</div>"
      ],
      "text/plain": [
       "debt             0    1  sum_person  voskolkoraz0bolshe1  \\\n",
       "purpose                                                    \n",
       "жилье        10029  782       10811            12.824808   \n",
       "свадьба       2138  186        2324            11.494624   \n",
       "образование   3643  370        4013             9.845946   \n",
       "автомобиль    3903  403        4306             9.684864   \n",
       "\n",
       "debt         percentage_of_debtors  \n",
       "purpose                             \n",
       "жилье                     7.233373  \n",
       "свадьба                   8.003442  \n",
       "образование               9.220035  \n",
       "автомобиль                9.359034  "
      ]
     },
     "execution_count": 106,
     "metadata": {},
     "output_type": "execute_result"
    }
   ],
   "source": [
    "data_pivot_purpose=data2.pivot_table(index='purpose',columns='debt', values='dob_years',aggfunc='count')\n",
    "data_pivot_purpose['sum_person']=data_pivot_purpose.loc[:,0]+data_pivot_purpose.loc[:,1]\n",
    "data_pivot_purpose['voskolkoraz0bolshe1']=data_pivot_purpose.loc[:,0]/data_pivot_purpose.loc[:,1]   \n",
    "data_pivot_purpose['percentage_of_debtors']=(100*(data_pivot_purpose.loc[:,1]/data_pivot_purpose.loc[:,'sum_person']))\n",
    "data_pivot_purpose=data_pivot_purpose.sort_values(by = 'percentage_of_debtors')\n",
    "data_pivot_purpose"
   ]
  },
  {
   "cell_type": "markdown",
   "metadata": {},
   "source": [
    "### Вывод"
   ]
  },
  {
   "cell_type": "markdown",
   "metadata": {},
   "source": [
    "Чаще всего опаздывают с кредитом те кто берёт кредит ради автомобиля на 2 процента. А реже всего просрачивают платежи по жилью. "
   ]
  },
  {
   "cell_type": "markdown",
   "metadata": {},
   "source": [
    "### Шаг 4. Общий вывод"
   ]
  },
  {
   "cell_type": "markdown",
   "metadata": {},
   "source": [
    "Больше других опаздывали с платежами на 2-3% среди исследуемых групп родители, неженатые и те кто в гражданском браке, Люди с доходом от 100 до 200т.р., и те кто брал кредит на авто. Меньше всего опаздывали родители, вдовы/вдовцы, самые богатые и бедные, и те кто брал кредит на жильё. \n",
    "Рекомендации: кредит стоит реже предоставлять тем клиентам что принадлежат к выявленным группам риска, если просрочки по платежам имеют ощутимые последствия для банка. "
   ]
  }
 ],
 "metadata": {
  "kernelspec": {
   "display_name": "Python 3",
   "language": "python",
   "name": "python3"
  },
  "language_info": {
   "codemirror_mode": {
    "name": "ipython",
    "version": 3
   },
   "file_extension": ".py",
   "mimetype": "text/x-python",
   "name": "python",
   "nbconvert_exporter": "python",
   "pygments_lexer": "ipython3",
   "version": "3.7.6"
  }
 },
 "nbformat": 4,
 "nbformat_minor": 4
}
