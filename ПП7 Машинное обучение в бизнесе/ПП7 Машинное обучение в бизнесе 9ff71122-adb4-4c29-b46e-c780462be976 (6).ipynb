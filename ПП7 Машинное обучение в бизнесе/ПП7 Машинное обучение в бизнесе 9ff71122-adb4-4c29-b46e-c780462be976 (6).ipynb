{
 "cells": [
  {
   "cell_type": "markdown",
   "metadata": {},
   "source": [
    "# Выбор региона для разработки новых нефтяных месторождений"
   ]
  },
  {
   "cell_type": "markdown",
   "metadata": {},
   "source": [
    "* Цель исследования - определение перспективного региона для разработки месторождений\n",
    "* Данные на которых проводится исследование предоставлены нефтедобывающей компанией. Признаки обезличены\n",
    "* Данное исследование может быть полезно для оценки прибыли и рисков разработки новых месторождений\n",
    "\n",
    "Автор: Крутиков Дмитрий\n",
    "- задача модели - предсказать объём сырья по предоставленным исследователями признакам\n",
    "- задача исследования - по предсказаниям модели оценить риски и прибыль методом Bootstrap\n"
   ]
  },
  {
   "cell_type": "markdown",
   "metadata": {},
   "source": [
    "# Оглавление <a id='start'></a>\n",
    "   *(кликабельное)* \n",
    "1. [Загрузка и подготовка данных](#chapter1)\n",
    "    1. [Загрузка библиотек  и данных](#chapter1.A)\n",
    "    2. [Исследование данных](#chapter1.B)\n",
    "    3. [Подготовка данных](#chapter1.С)\n",
    "    4. [Вывод о загрузке и подготовке данных](#chapter1.D)\n",
    "2. [Обучение и проверка модели](#chapter2)\n",
    "    1. [Обучение моделей для регионов](#chapter2.A)\n",
    "    2. [Анализ результатов](#chapter2.B)\n",
    "3. [Подготовка к расчёту прибыли](#chapter3)\n",
    "4. [Расчёт прибыли и рисков](#chapter4)\n",
    "5. [Заключение](#chapter5)"
   ]
  },
  {
   "cell_type": "markdown",
   "metadata": {},
   "source": [
    "# 1. Загрузка и подготовка данных <a id='chapter1'></a>"
   ]
  },
  {
   "cell_type": "markdown",
   "metadata": {},
   "source": [
    "### 1.A Загрузка библиотек  и данных <a id='chapter1.A'></a>"
   ]
  },
  {
   "cell_type": "code",
   "execution_count": 2,
   "metadata": {},
   "outputs": [],
   "source": [
    "# Импортирую необходимые библиотеки\n",
    "import pandas as pd\n",
    "import numpy as np\n",
    "\n",
    "from sklearn.model_selection import train_test_split\n",
    "from sklearn.preprocessing import StandardScaler\n",
    "\n",
    "from sklearn.linear_model import LinearRegression\n",
    "# model = LinearRegression()\n",
    "from sklearn.metrics import mean_squared_error\n",
    "from sklearn.metrics import r2_score\n",
    "\n",
    "\n",
    "import matplotlib.pyplot as plt\n",
    "import seaborn as sb\n",
    "sb.set_style('whitegrid') # Задаю стиль граффического отбражения данных\n",
    "sb.set_context('notebook') # Задаю стиль граффического отбражения данных"
   ]
  },
  {
   "cell_type": "code",
   "execution_count": 3,
   "metadata": {},
   "outputs": [
    {
     "data": {
      "text/html": [
       "<div>\n",
       "<style scoped>\n",
       "    .dataframe tbody tr th:only-of-type {\n",
       "        vertical-align: middle;\n",
       "    }\n",
       "\n",
       "    .dataframe tbody tr th {\n",
       "        vertical-align: top;\n",
       "    }\n",
       "\n",
       "    .dataframe thead th {\n",
       "        text-align: right;\n",
       "    }\n",
       "</style>\n",
       "<table border=\"1\" class=\"dataframe\">\n",
       "  <thead>\n",
       "    <tr style=\"text-align: right;\">\n",
       "      <th></th>\n",
       "      <th>id</th>\n",
       "      <th>f0</th>\n",
       "      <th>f1</th>\n",
       "      <th>f2</th>\n",
       "      <th>product</th>\n",
       "    </tr>\n",
       "  </thead>\n",
       "  <tbody>\n",
       "    <tr>\n",
       "      <td>0</td>\n",
       "      <td>txEyH</td>\n",
       "      <td>0.705745</td>\n",
       "      <td>-0.497823</td>\n",
       "      <td>1.221170</td>\n",
       "      <td>105.280062</td>\n",
       "    </tr>\n",
       "    <tr>\n",
       "      <td>1</td>\n",
       "      <td>2acmU</td>\n",
       "      <td>1.334711</td>\n",
       "      <td>-0.340164</td>\n",
       "      <td>4.365080</td>\n",
       "      <td>73.037750</td>\n",
       "    </tr>\n",
       "    <tr>\n",
       "      <td>2</td>\n",
       "      <td>409Wp</td>\n",
       "      <td>1.022732</td>\n",
       "      <td>0.151990</td>\n",
       "      <td>1.419926</td>\n",
       "      <td>85.265647</td>\n",
       "    </tr>\n",
       "    <tr>\n",
       "      <td>3</td>\n",
       "      <td>iJLyR</td>\n",
       "      <td>-0.032172</td>\n",
       "      <td>0.139033</td>\n",
       "      <td>2.978566</td>\n",
       "      <td>168.620776</td>\n",
       "    </tr>\n",
       "    <tr>\n",
       "      <td>4</td>\n",
       "      <td>Xdl7t</td>\n",
       "      <td>1.988431</td>\n",
       "      <td>0.155413</td>\n",
       "      <td>4.751769</td>\n",
       "      <td>154.036647</td>\n",
       "    </tr>\n",
       "  </tbody>\n",
       "</table>\n",
       "</div>"
      ],
      "text/plain": [
       "      id        f0        f1        f2     product\n",
       "0  txEyH  0.705745 -0.497823  1.221170  105.280062\n",
       "1  2acmU  1.334711 -0.340164  4.365080   73.037750\n",
       "2  409Wp  1.022732  0.151990  1.419926   85.265647\n",
       "3  iJLyR -0.032172  0.139033  2.978566  168.620776\n",
       "4  Xdl7t  1.988431  0.155413  4.751769  154.036647"
      ]
     },
     "execution_count": 3,
     "metadata": {},
     "output_type": "execute_result"
    }
   ],
   "source": [
    "# Загружаю данные\n",
    "gd_0= pd.read_csv('geo_data_0.csv')\n",
    "gd_1= pd.read_csv('geo_data_1.csv')\n",
    "gd_2= pd.read_csv('geo_data_2.csv')\n",
    "gd_0.head()"
   ]
  },
  {
   "cell_type": "markdown",
   "metadata": {},
   "source": [
    "Далее по тексту буду называть все три региона нулевым, первым и вторым соответсвенно. "
   ]
  },
  {
   "cell_type": "markdown",
   "metadata": {},
   "source": [
    "### 1.B Исследование данных <a id='chapter1.B'></a>"
   ]
  },
  {
   "cell_type": "code",
   "execution_count": 4,
   "metadata": {},
   "outputs": [
    {
     "name": "stdout",
     "output_type": "stream",
     "text": [
      "<class 'pandas.core.frame.DataFrame'>\n",
      "RangeIndex: 100000 entries, 0 to 99999\n",
      "Data columns (total 5 columns):\n",
      "id         100000 non-null object\n",
      "f0         100000 non-null float64\n",
      "f1         100000 non-null float64\n",
      "f2         100000 non-null float64\n",
      "product    100000 non-null float64\n",
      "dtypes: float64(4), object(1)\n",
      "memory usage: 3.8+ MB\n",
      "None\n",
      "<class 'pandas.core.frame.DataFrame'>\n",
      "RangeIndex: 100000 entries, 0 to 99999\n",
      "Data columns (total 5 columns):\n",
      "id         100000 non-null object\n",
      "f0         100000 non-null float64\n",
      "f1         100000 non-null float64\n",
      "f2         100000 non-null float64\n",
      "product    100000 non-null float64\n",
      "dtypes: float64(4), object(1)\n",
      "memory usage: 3.8+ MB\n",
      "None\n",
      "<class 'pandas.core.frame.DataFrame'>\n",
      "RangeIndex: 100000 entries, 0 to 99999\n",
      "Data columns (total 5 columns):\n",
      "id         100000 non-null object\n",
      "f0         100000 non-null float64\n",
      "f1         100000 non-null float64\n",
      "f2         100000 non-null float64\n",
      "product    100000 non-null float64\n",
      "dtypes: float64(4), object(1)\n",
      "memory usage: 3.8+ MB\n",
      "None\n"
     ]
    }
   ],
   "source": [
    "print(gd_0.info())\n",
    "print(gd_1.info())\n",
    "print(gd_2.info())"
   ]
  },
  {
   "cell_type": "markdown",
   "metadata": {},
   "source": [
    "#### Пропусков не обнаруженно и преобразование типов не требуется."
   ]
  },
  {
   "cell_type": "code",
   "execution_count": 5,
   "metadata": {},
   "outputs": [
    {
     "data": {
      "image/png": "[encoded data removed]",
      "text/plain": [
       "<Figure size 432x288 with 4 Axes>"
      ]
     },
     "metadata": {},
     "output_type": "display_data"
    },
    {
     "data": {
      "image/png": "[encoded data removed]",
      "text/plain": [
       "<Figure size 432x288 with 4 Axes>"
      ]
     },
     "metadata": {},
     "output_type": "display_data"
    },
    {
     "data": {
      "image/png": "[encoded data removed]",
      "text/plain": [
       "<Figure size 432x288 with 4 Axes>"
      ]
     },
     "metadata": {},
     "output_type": "display_data"
    }
   ],
   "source": [
    "gd_0.hist()\n",
    "(gd_1.hist())\n",
    "(gd_2.hist())\n",
    "plt.show()"
   ]
  },
  {
   "cell_type": "markdown",
   "metadata": {},
   "source": [
    "#### Выбросов не обнаруженно. Но распределения для первого региона `geo_data_1 `(второго сверху) далеки от нормальных."
   ]
  },
  {
   "cell_type": "code",
   "execution_count": 6,
   "metadata": {},
   "outputs": [
    {
     "name": "stdout",
     "output_type": "stream",
     "text": [
      "0\n",
      "0\n",
      "0\n"
     ]
    }
   ],
   "source": [
    "print(gd_0.duplicated().sum())\n",
    "print(gd_1.duplicated().sum())\n",
    "print(gd_2.duplicated().sum())"
   ]
  },
  {
   "cell_type": "markdown",
   "metadata": {},
   "source": [
    "#### Дубликатов не обнаруженно"
   ]
  },
  {
   "cell_type": "markdown",
   "metadata": {},
   "source": [
    "### Вывод \n",
    "* Датасет заранее предобработан на предмет пропусков, выбросов, типов данных и масштабирования. \n",
    "* Распределения для первого региона далеки от нормальных.\n",
    "\n"
   ]
  },
  {
   "cell_type": "markdown",
   "metadata": {},
   "source": [
    "### 1.С Подготовка данных <a id='chapter1.С'></a>"
   ]
  },
  {
   "cell_type": "code",
   "execution_count": 7,
   "metadata": {},
   "outputs": [
    {
     "name": "stdout",
     "output_type": "stream",
     "text": [
      "(75000, 3) (75000,)\n",
      "(25000, 3) (25000,)\n"
     ]
    }
   ],
   "source": [
    "gd_0_train, gd_0_valid = train_test_split(gd_0, test_size=0.25, random_state=12345)\n",
    "\n",
    "features_train_0 = gd_0_train.drop(['product','id'], axis=1)\n",
    "target_train_0 = gd_0_train['product']\n",
    "print(features_train_0.shape,target_train_0.shape)\n",
    "features_valid_0 = gd_0_valid.drop(['product','id'], axis=1)\n",
    "target_valid_0 = gd_0_valid['product']\n",
    "print(features_valid_0.shape,target_valid_0.shape)\n",
    "scaler = StandardScaler()\n",
    "scaler.fit(features_train_0)\n",
    "features_train_0 = scaler.transform(features_train_0)\n",
    "features_valid_0 = scaler.transform(features_valid_0)"
   ]
  },
  {
   "cell_type": "code",
   "execution_count": 8,
   "metadata": {},
   "outputs": [
    {
     "name": "stdout",
     "output_type": "stream",
     "text": [
      "(75000, 3) (75000,)\n",
      "(25000, 3) (25000,)\n"
     ]
    }
   ],
   "source": [
    "gd_1_train, gd_1_valid = train_test_split(gd_1, test_size=0.25, random_state=12345)\n",
    "\n",
    "features_train_1 = gd_1_train.drop(['product','id'], axis=1)\n",
    "target_train_1 = gd_1_train['product']\n",
    "print(features_train_1.shape,target_train_1.shape)\n",
    "\n",
    "features_valid_1 = gd_1_valid.drop(['product','id'], axis=1)\n",
    "target_valid_1 = gd_1_valid['product']\n",
    "print(features_valid_1.shape,target_valid_1.shape)\n",
    "\n",
    "scaler = StandardScaler()\n",
    "scaler.fit(features_train_1)\n",
    "features_train_1 = scaler.transform(features_train_1)\n",
    "features_valid_1 = scaler.transform(features_valid_1)"
   ]
  },
  {
   "cell_type": "code",
   "execution_count": 9,
   "metadata": {},
   "outputs": [
    {
     "name": "stdout",
     "output_type": "stream",
     "text": [
      "(75000, 3) (75000,)\n",
      "(25000, 3) (25000,)\n"
     ]
    }
   ],
   "source": [
    "gd_2_train, gd_2_valid = train_test_split(gd_2, test_size=0.25, random_state=12345)\n",
    "\n",
    "features_train_2 = gd_2_train.drop(['product','id'], axis=1)\n",
    "target_train_2 = gd_2_train['product']\n",
    "print(features_train_2.shape,target_train_2.shape)\n",
    "\n",
    "features_valid_2 = gd_2_valid.drop(['product','id'], axis=1)\n",
    "target_valid_2 = gd_2_valid['product']\n",
    "print(features_valid_2.shape,target_valid_2.shape)\n",
    "\n",
    "scaler = StandardScaler()\n",
    "scaler.fit(features_train_2)\n",
    "features_train_2 = scaler.transform(features_train_2)\n",
    "features_valid_2 = scaler.transform(features_valid_2)"
   ]
  },
  {
   "cell_type": "markdown",
   "metadata": {},
   "source": [
    "## Вывод о загрузке и подготовке данных\n",
    "<a id='chapter1.D'></a>\n",
    "* Библиотеки и данные загружены\n",
    "* Изучены данные и их распределения\n",
    "    - Датасет заранее предобратан до загрузки в проект:\n",
    "        - Выбросов нет\n",
    "        - Дубликатов нет\n",
    "        - Пропущенных значений нет\n",
    "    - Распределения по первому региону далеки от нормальных в отличии от остальных\n",
    "* Подготовленны данные \n",
    "    - разделены на обучающую и валидационную выборки в соотношении 75:25\n",
    "    - удален признак id как лишний для задач регресии\n",
    "    - для каждого региона подготовлены признаки и также целевой признак\n",
    "    \n",
    "        - Признаки `f1`,`f2`,`f3` промасштабированны\n",
    "    \n",
    "[К оглавлению](#start)"
   ]
  },
  {
   "cell_type": "markdown",
   "metadata": {},
   "source": [
    "# 2. Обучение и проверка модели <a id='chapter2'></a>"
   ]
  },
  {
   "cell_type": "markdown",
   "metadata": {},
   "source": [
    "### 2.A Обучение моделей для регионов   <a id='chapter2.A'></a>"
   ]
  },
  {
   "cell_type": "code",
   "execution_count": 10,
   "metadata": {},
   "outputs": [],
   "source": [
    "# обучение модели для нулевого региона\n",
    "model_0 = LinearRegression()\n",
    "model_0.fit(features_train_0,target_train_0) \n",
    "predictions_valid_0 = model_0.predict(features_valid_0)\n",
    "pred_0=pd.Series(predictions_valid_0,index = target_valid_0.index)"
   ]
  },
  {
   "cell_type": "code",
   "execution_count": 11,
   "metadata": {},
   "outputs": [],
   "source": [
    "# обучение модели для первого региона\n",
    "model_1 = LinearRegression()\n",
    "model_1.fit(features_train_1,target_train_1) \n",
    "predictions_valid_1 = model_1.predict(features_valid_1)\n",
    "pred_1=pd.Series(predictions_valid_1,index = target_valid_1.index)"
   ]
  },
  {
   "cell_type": "code",
   "execution_count": 12,
   "metadata": {},
   "outputs": [],
   "source": [
    "# обучение модели для второго региона\n",
    "model_2 = LinearRegression()\n",
    "model_2.fit(features_train_2,target_train_2) \n",
    "predictions_valid_2 = model_2.predict(features_valid_2)\n",
    "pred_2=pd.Series(predictions_valid_2)\n",
    "pred_2=pd.Series(predictions_valid_2,index = target_valid_2.index)"
   ]
  },
  {
   "cell_type": "markdown",
   "metadata": {},
   "source": [
    "### 2.B Анализ результатов <a id='chapter2.B'></a>"
   ]
  },
  {
   "cell_type": "code",
   "execution_count": 13,
   "metadata": {},
   "outputs": [
    {
     "data": {
      "image/png": "[encoded data removed]",
      "text/plain": [
       "<Figure size 1152x144 with 1 Axes>"
      ]
     },
     "metadata": {},
     "output_type": "display_data"
    },
    {
     "data": {
      "image/png": "[encoded data removed]",
      "text/plain": [
       "<Figure size 1152x144 with 1 Axes>"
      ]
     },
     "metadata": {},
     "output_type": "display_data"
    },
    {
     "data": {
      "image/png": "[encoded data removed]",
      "text/plain": [
       "<Figure size 1152x144 with 1 Axes>"
      ]
     },
     "metadata": {},
     "output_type": "display_data"
    },
    {
     "name": "stdout",
     "output_type": "stream",
     "text": [
      "Для региона _0:\n",
      " Средний запас предсказанного сырья =  92.59256778438038 \n",
      "Стандартное отклонение  предсказаного сырья =  23.176993954829868 \n",
      "RMSE =  37.5794217150813 \n",
      "R2 =  -1.6290772227285975\n",
      "Для региона _0:\n",
      " Средний запас реального сырья =  92.07859674082927 \n",
      "Стандартное отклонение =  44.286912625663646\n",
      "\n",
      "Для региона _1:\n",
      " Средний запас предсказанного сырья =  68.728546895446 \n",
      "Стандартное отклонение  предсказаного сырья =  46.01022483237712 \n",
      "RMSE =  0.8930992867756158 \n",
      "R2 =  0.9996232023840883\n",
      "Для региона _1:\n",
      " Средний запас реального сырья =  68.72313602435997 \n",
      "Стандартное отклонение =  46.02216537514022\n",
      "\n",
      "Для региона _2:\n",
      " Средний запас предсказанного сырья =  94.96504596800489 \n",
      "Стандартное отклонение  предсказаного сырья =  19.853733182632897 \n",
      "RMSE =  40.02970873393434 \n",
      "R2=  -3.0653493332989035\n",
      "Для региона _2:\n",
      " Средний запас реального сырья =  94.88423280885438 \n",
      "Стандартное отклонение =  44.90298244552798\n"
     ]
    },
    {
     "data": {
      "text/html": [
       "<div>\n",
       "<style scoped>\n",
       "    .dataframe tbody tr th:only-of-type {\n",
       "        vertical-align: middle;\n",
       "    }\n",
       "\n",
       "    .dataframe tbody tr th {\n",
       "        vertical-align: top;\n",
       "    }\n",
       "\n",
       "    .dataframe thead th {\n",
       "        text-align: right;\n",
       "    }\n",
       "</style>\n",
       "<table border=\"1\" class=\"dataframe\">\n",
       "  <thead>\n",
       "    <tr style=\"text-align: right;\">\n",
       "      <th></th>\n",
       "      <th>region</th>\n",
       "      <th>pred_product_mean</th>\n",
       "      <th>real_product_mean</th>\n",
       "      <th>pred_product_std</th>\n",
       "      <th>real_product_std</th>\n",
       "      <th>RMSE</th>\n",
       "      <th>R2</th>\n",
       "    </tr>\n",
       "  </thead>\n",
       "  <tbody>\n",
       "    <tr>\n",
       "      <td>0</td>\n",
       "      <td>gd1</td>\n",
       "      <td>92.592568</td>\n",
       "      <td>92.078597</td>\n",
       "      <td>23.176994</td>\n",
       "      <td>44.286913</td>\n",
       "      <td>37.579422</td>\n",
       "      <td>-1.629077</td>\n",
       "    </tr>\n",
       "    <tr>\n",
       "      <td>1</td>\n",
       "      <td>gd2</td>\n",
       "      <td>68.728547</td>\n",
       "      <td>68.723136</td>\n",
       "      <td>46.010225</td>\n",
       "      <td>46.022165</td>\n",
       "      <td>0.893099</td>\n",
       "      <td>0.999623</td>\n",
       "    </tr>\n",
       "    <tr>\n",
       "      <td>2</td>\n",
       "      <td>gd2</td>\n",
       "      <td>94.965046</td>\n",
       "      <td>94.884233</td>\n",
       "      <td>19.853733</td>\n",
       "      <td>44.902982</td>\n",
       "      <td>40.029709</td>\n",
       "      <td>-3.065349</td>\n",
       "    </tr>\n",
       "  </tbody>\n",
       "</table>\n",
       "</div>"
      ],
      "text/plain": [
       "  region  pred_product_mean  real_product_mean  pred_product_std  \\\n",
       "0    gd1          92.592568          92.078597         23.176994   \n",
       "1    gd2          68.728547          68.723136         46.010225   \n",
       "2    gd2          94.965046          94.884233         19.853733   \n",
       "\n",
       "   real_product_std       RMSE        R2  \n",
       "0         44.286913  37.579422 -1.629077  \n",
       "1         46.022165   0.893099  0.999623  \n",
       "2         44.902982  40.029709 -3.065349  "
      ]
     },
     "execution_count": 13,
     "metadata": {},
     "output_type": "execute_result"
    }
   ],
   "source": [
    "# Оценю работу модели, взглянув на распределения предсказаного целевого признака по регионам\n",
    "plt.figure(figsize=(16,2))\n",
    "plt.hist(pred_0 , label=\"Предсказания модели\", histtype = 'step' , bins = 20 )\n",
    "plt.hist(target_valid_0 , label=\"Реальные ресурсы\", histtype = 'step' , bins = 20)\n",
    "plt.title(\"Распределение предсказанного и реального сырья для НУЛЕВОГО региона\")\n",
    "plt.xlabel(\"Кол-во сырья, (объём запасов в скважине (тыс. баррелей)) \")\n",
    "plt.ylabel(\"Количество скважин\")\n",
    "plt.legend(loc='upper left')\n",
    "plt.show()\n",
    "\n",
    "plt.figure(figsize=(16,2))\n",
    "plt.hist(pred_1 , label=\"Предсказания модели\", histtype = 'step' , bins = 20)\n",
    "plt.hist(target_valid_1 , label=\"Реальные ресурсы\", histtype = 'step' , bins = 20)\n",
    "plt.title(\"Распределение предсказанного и реального сырья для ПЕРВОГО региона\")\n",
    "plt.xlabel(\"Кол-во сырья, (объём запасов в скважине (тыс. баррелей)) \")\n",
    "plt.ylabel(\"Количество скважин\")\n",
    "plt.legend(loc='upper left')\n",
    "plt.show()\n",
    "\n",
    "plt.figure(figsize=(16,2))\n",
    "plt.hist(pred_2 , label=\"Предсказания модели\", histtype = 'step' , bins = 20)\n",
    "plt.hist(target_valid_2 , label=\"Реальные ресурсы\", histtype = 'step' , bins = 20)\n",
    "plt.title(\"Распределение предсказанного и реального сырья для ВТОРОГО региона\")\n",
    "plt.xlabel(\"Кол-во сырья, (объём запасов в скважине (тыс. баррелей)) \")\n",
    "plt.ylabel(\"Количество скважин\")\n",
    "plt.legend(loc='upper left')\n",
    "plt.show()\n",
    "#  Напечатаю на экране средний запас предсказанного сырья и RMSE модели.\n",
    "print(\n",
    "    'Для региона _0:\\n','Средний запас предсказанного сырья = ', pred_0.mean(),\n",
    "    '\\nСтандартное отклонение  предсказаного сырья = ' ,pred_0.std(),\n",
    "    '\\nRMSE = ' ,mean_squared_error(pred_0,target_valid_0)**0.5,\n",
    "    '\\nR2 = ' ,r2_score(pred_0,target_valid_0)\n",
    ")\n",
    "print('Для региона _0:\\n','Средний запас реального сырья = ', target_valid_0.mean(),'\\nСтандартное отклонение = ' ,target_valid_0.std())\n",
    "\n",
    "print(\n",
    "    '\\nДля региона _1:\\n','Средний запас предсказанного сырья = ', pred_1.mean(),\n",
    "    '\\nСтандартное отклонение  предсказаного сырья = ' ,pred_1.std(),\n",
    "    '\\nRMSE = ' ,mean_squared_error(pred_1,target_valid_1)**0.5,\n",
    "    '\\nR2 = ' ,r2_score(pred_1,target_valid_1)\n",
    ")\n",
    "print('Для региона _1:\\n','Средний запас реального сырья = ', target_valid_1.mean(),'\\nСтандартное отклонение = ' ,target_valid_1.std())\n",
    "\n",
    "print(\n",
    "    '\\nДля региона _2:\\n','Средний запас предсказанного сырья = ', pred_2.mean(),\n",
    "    '\\nСтандартное отклонение  предсказаного сырья = ' ,pred_2.std(),\n",
    "    '\\nRMSE = ' ,mean_squared_error(pred_2,target_valid_2)**0.5,\n",
    "    '\\nR2= ' ,r2_score(pred_2,target_valid_2)\n",
    ")\n",
    "print('Для региона _2:\\n','Средний запас реального сырья = ', target_valid_2.mean(),'\\nСтандартное отклонение = ' ,target_valid_2.std())\n",
    "\n",
    "models = pd.DataFrame(columns = [\n",
    "    'region','pred_product_mean','real_product_mean','pred_product_std','real_product_std','RMSE','R2'] ) \n",
    "models['region'] = ['gd1','gd2','gd2']\n",
    "models['pred_product_mean'] = [pred_0.mean(),pred_1.mean(),pred_2.mean()]\n",
    "models['real_product_mean'] = [target_valid_0.mean(),target_valid_1.mean(),target_valid_2.mean()]\n",
    "models['pred_product_std'] = [ pred_0.std() , pred_1.std() , pred_2.std() ]\n",
    "models['real_product_std'] = [ target_valid_0.std() , target_valid_1.std() , target_valid_2.std() ]\n",
    "models['RMSE'] = [ mean_squared_error(pred_0,target_valid_0)**0.5 , mean_squared_error(pred_1,target_valid_1)**0.5 , mean_squared_error(pred_2,target_valid_2)**0.5 ]\n",
    "models['R2'] = [ r2_score(pred_0,target_valid_0), r2_score(pred_1,target_valid_1) , r2_score(pred_2,target_valid_2)]\n",
    "models"
   ]
  },
  {
   "cell_type": "markdown",
   "metadata": {},
   "source": [
    "### Вывод об обученных моделях\n",
    "* Очевидно, что модели неидеально предсказывает целевой признак во всех регионах(*под идеальным предсказанием я имел ввиду что они повторят распределение ответов*)\n",
    "    - в основном модели чаще попадают в средние значения по выборкам \n",
    "    - Для нулевого и второго региона качество модели крайне низкое. R2 метрика для них ниже нуля. А для первого близка к 1 что говорит что модель высокого качества\n",
    "* В первом регионе **1.3 раза** меньше *средний запас сырья* чем в нулевом и втором по предсказанию модели, и *rmse* так же меньше на **2 порядка**. \n",
    "\n",
    "* Несмотря на достаточно низкое качество моделей буду использовать их предсказания для расчёта прибыли. \n",
    "\n",
    "\n",
    "[К оглавлению](#start)"
   ]
  },
  {
   "cell_type": "markdown",
   "metadata": {},
   "source": [
    "# 3. Подготовка к расчёту прибыли <a id='chapter3'></a>"
   ]
  },
  {
   "cell_type": "markdown",
   "metadata": {},
   "source": [
    " Рассчитаю достаточный объём сырья для безубыточной разработки новой скважины. Сравню полученный объём сырья со средним запасом в каждом регионе.\n",
    "\n",
    "* При разведке региона исследуют 500 точек, из которых выбирают 200 лучших для расчёта прибыли.\n",
    "* Бюджет на разработку скважин в регионе — 10 млрд рублей.\n",
    "* Один баррель сырья приносит 450 рублей дохода. Доход с каждой единицы продукта составляет 450 тыс. рублей, поскольку объём указан в тысячах баррелей.\n",
    "* После оценки рисков нужно оставить лишь те регионы, в которых вероятность убытков меньше 2.5%. Среди них выбирают регион с наибольшей средней прибылью."
   ]
  },
  {
   "cell_type": "code",
   "execution_count": 14,
   "metadata": {},
   "outputs": [
    {
     "name": "stdout",
     "output_type": "stream",
     "text": [
      "Достаточный объём сырья \n",
      "для безубыточной разработки новой скважины =  111 [тыс. баррелей] \n",
      "Средний запас в нулевом регионе =  92 [тыс. баррелей] \n",
      "Средний запас в первом регионе =  68 [тыс. баррелей] \n",
      "Средний запас в втором регионе =  95 [тыс. баррелей]\n"
     ]
    }
   ],
   "source": [
    "BUDGET_FOR_REGION = 10**7# [тыс. рублей]. Бюджет на регион.\n",
    "CASH_PER_THOUSAND_BARRELS = 450 # [тыс. рублей]. Выручка с одной еденицы продукта(одной тысячи баррелей)\n",
    "required_volume_of_production = BUDGET_FOR_REGION / CASH_PER_THOUSAND_BARRELS # достаточный объём для продукции, чтобы выйти в плюс надо добыть больше\n",
    "min_thousand_barrels_for_borehole = required_volume_of_production / 200 # достаточный обьём для безубыточной разработки новой скважины \n",
    "mean_product_reserve_in_borehole_0 = gd_0['product'].mean() # Средний запас в нулевом регионе\n",
    "mean_product_reserve_in_borehole_1 = gd_1['product'].mean() # Средний запас в первом регионе\n",
    "mean_product_reserve_in_borehole_2 = gd_2['product'].mean() # Средний запас в втором регионе\n",
    "print('Достаточный объём сырья \\nдля безубыточной разработки новой скважины = ' ,\n",
    "int(min_thousand_barrels_for_borehole), '[тыс. баррелей]' ,\n",
    "'\\nСредний запас в нулевом регионе = ',      \n",
    "int(mean_product_reserve_in_borehole_0), '[тыс. баррелей]' ,\n",
    "'\\nСредний запас в первом регионе = ',\n",
    "int(mean_product_reserve_in_borehole_1), '[тыс. баррелей]' ,\n",
    "'\\nСредний запас в втором регионе = ',\n",
    "int(mean_product_reserve_in_borehole_2), '[тыс. баррелей]' \n",
    ")"
   ]
  },
  {
   "cell_type": "markdown",
   "metadata": {},
   "source": [
    "###  Вывод о подготовке к расчёту прибыли\n",
    "* Во всех регионах средниий запас больше достачтоного объёма для безубыточной разработки в 9 раз для нулевого и второго и в 6 раз для первого. "
   ]
  },
  {
   "cell_type": "markdown",
   "metadata": {},
   "source": [
    "1. Выберу скважины с максимальными значениями предсказаний.Количество скважин зависит от бюджета компании и стоимости разработки одной скважины.\n",
    "2. Просуммирую целевое значение объёма сырья, соответствующее этим предсказаниям.\n",
    "3. Рассчитаю прибыль для полученного объёма сырья."
   ]
  },
  {
   "cell_type": "code",
   "execution_count": 15,
   "metadata": {},
   "outputs": [],
   "source": [
    "# функция для расчёта чистой прибыли \n",
    "def best_profit(boreholes,target,choice):\n",
    "    boreholes_sort = boreholes.sort_values( ascending = choice ).head(200)\n",
    "    boreholes_sort_index = boreholes_sort.index\n",
    "    ans = int((target[boreholes_sort_index]*CASH_PER_THOUSAND_BARRELS).sum()-BUDGET_FOR_REGION)\n",
    "    return ans"
   ]
  },
  {
   "cell_type": "markdown",
   "metadata": {},
   "source": [
    "- 1 функция для подсчёта прибыли\n",
    "\n",
    "[К оглавлению](#start)"
   ]
  },
  {
   "cell_type": "markdown",
   "metadata": {},
   "source": [
    "# 4. Расчёт прибыли и рисков <a id='chapter4'></a>"
   ]
  },
  {
   "cell_type": "code",
   "execution_count": 20,
   "metadata": {},
   "outputs": [
    {
     "name": "stdout",
     "output_type": "stream",
     "text": [
      "Бюджет =  10000000 [тыс. рублей]\n",
      "\n",
      "Средняя чистая прибыль региона_0: 592527 [тыс. рублей]\n",
      "Бюджет окупится в 0.0592527435 раз\n",
      "2.5%-квантиль региона_0: -26535\n",
      "97.5%-квантиль региона_0: 1228537\n",
      "\n",
      "Средняя чистая прибыль региона_1: 662164 [тыс. рублей]\n",
      "Бюджет окупится в 0.066216471 раз\n",
      "2.5%-квантиль региона_1: 159532\n",
      "97.5%-квантиль региона_1: 1220466\n",
      "\n",
      "Средняя чистая прибыль региона_2: 586002 [тыс. рублей]\n",
      "Бюджет окупится в 0.0586002412 раз\n",
      "2.5%-квантиль региона_2: -43236\n",
      "97.5%-квантиль региона_2: 1240232\n",
      "Риск убытков в регионах:\n",
      " Нулевой регион  =  3.1 % Перый регион  =  0.2 % Второй регион =  3.1 %\n"
     ]
    },
    {
     "data": {
      "image/png": "[encoded data removed]",
      "text/plain": [
       "<Figure size 1152x360 with 1 Axes>"
      ]
     },
     "metadata": {},
     "output_type": "display_data"
    }
   ],
   "source": [
    "state = np.random.RandomState(12345)\n",
    "    \n",
    "values_0 = []\n",
    "count_0 = 0\n",
    "values_1 = []\n",
    "count_1 = 0\n",
    "values_2 = []\n",
    "count_2 = 0\n",
    "\n",
    "choice = False # false-выбор лучших скважин, True - худших\n",
    "for i in range(1000):\n",
    "    \n",
    "    sample_0_p = pred_0.sample(n=500, replace=True, random_state=state)\n",
    "    sample_0_r = target_valid_0.loc[sample_0_p.index]\n",
    "    \n",
    "    sample_1_p = pred_1.sample(n=500, replace=True, random_state=state)\n",
    "    sample_1_r = target_valid_1.loc[sample_1_p.index]\n",
    "    \n",
    "    sample_2_p = pred_2.sample(n=500, replace=True, random_state=state)\n",
    "    sample_2_r = target_valid_2.loc[sample_2_p.index]\n",
    "    \n",
    "    ap_0 = best_profit(sample_0_p,sample_0_r,choice)\n",
    "    if ap_0 < 0 :\n",
    "        count_0+=1\n",
    "    values_0.append(ap_0)\n",
    "    \n",
    "    ap_1 = best_profit(sample_1_p,sample_1_r,choice)\n",
    "    if ap_1 < 0 :\n",
    "        count_1+=1\n",
    "    values_1.append(ap_1)\n",
    "    \n",
    "    ap_2 = best_profit(sample_2_p,sample_2_r,choice)\n",
    "    if ap_2 < 0 :\n",
    "        count_2+=1\n",
    "    values_2.append(ap_2)\n",
    "    \n",
    "values_0 = pd.Series(values_0)\n",
    "values_1 = pd.Series(values_1)\n",
    "values_2 = pd.Series(values_2)\n",
    "\n",
    "lower_0 = values_0.quantile(0.025)\n",
    "upper_0 = values_0.quantile(0.975)\n",
    "mean_0 = values_0.mean()\n",
    "\n",
    "lower_1 = values_1.quantile(0.025)\n",
    "upper_1 = values_1.quantile(0.975)\n",
    "mean_1 = values_1.mean()\n",
    "\n",
    "lower_2 = values_2.quantile(0.025)\n",
    "upper_2 = values_2.quantile(0.975)\n",
    "mean_2 = values_2.mean()\n",
    "print(\"Бюджет = \",BUDGET_FOR_REGION,'[тыс. рублей]')\n",
    "\n",
    "print(\"\\nСредняя чистая прибыль региона_0:\", int(mean_0),\"[тыс. рублей]\")\n",
    "print(\"Бюджет окупится в\", (mean_0/BUDGET_FOR_REGION),'раз')\n",
    "print(\"2.5%-квантиль региона_0:\", int(lower_0))\n",
    "print(\"97.5%-квантиль региона_0:\",int(upper_0))\n",
    "\n",
    "print(\"\\nСредняя чистая прибыль региона_1:\", int(mean_1),'[тыс. рублей]')\n",
    "print(\"Бюджет окупится в\", (mean_1/BUDGET_FOR_REGION),'раз')\n",
    "print(\"2.5%-квантиль региона_1:\", int(lower_1))\n",
    "print(\"97.5%-квантиль региона_1:\", int(upper_1))\n",
    "\n",
    "print(\"\\nСредняя чистая прибыль региона_2:\", int(mean_2),'[тыс. рублей]')\n",
    "print(\"Бюджет окупится в\", (mean_2/BUDGET_FOR_REGION),'раз')\n",
    "print(\"2.5%-квантиль региона_2:\", int(lower_2))\n",
    "print(\"97.5%-квантиль региона_2:\", int(upper_2))\n",
    "\n",
    "print('Риск убытков в регионах:\\n',\n",
    "     'Нулевой регион  = ', count_0/10,'%',\n",
    "     'Перый регион  = ' , count_1/10,'%',\n",
    "     'Второй регион = ' , count_2/10,'%'\n",
    "     )\n",
    "\n",
    "plt.figure(figsize=(16,5))\n",
    "plt.hist(values_0 , label=\"Распределение чистой прибыли в НУЛЕВОМ регионе\", histtype = 'step', bins = 20 )\n",
    "plt.hist(values_1 , label=\"Распределение чистой прибыли в ПЕРВОМ регионе\", histtype = 'step', bins = 20 )\n",
    "plt.hist(values_2 , label=\"Распределение чистой прибыли во ВТОРОМ регионе\", histtype = 'step', bins = 20 )\n",
    "\n",
    "plt.title(\"Распределение чистой прибыли среди регионов\")\n",
    "plt.xlabel(\"Чистая прибыль, [тыс. рублей] \")\n",
    "plt.ylabel(\"Количество чистой прибыли в корзине\")\n",
    "plt.legend(loc='upper left')\n",
    "plt.show()\n",
    "\n"
   ]
  },
  {
   "cell_type": "markdown",
   "metadata": {},
   "source": [
    "### Выбор региона\n",
    "1.  Оставить только те регионы в которых вероятность убытков  меньше 2,5%. \n",
    "    - Моя функция считает чистую прибыль, то есть доход минус бюджет. Судя по распределению ни в одном регионе при таком способе добычи, оптимальном выборе и бюджете - убытков не наблюдается. 2,5% квантиль(или перцентиль) у всех регионов минимум в 8 раз превышает бюджет.\n",
    "        - Значит оставляем все регионы.\n",
    "2. Выбираем регион с наибольшей чистой прибылью, это ПЕРВЫЙ регион."
   ]
  },
  {
   "cell_type": "markdown",
   "metadata": {},
   "source": [
    "#  Заключение <a id='chapter5'></a>\n",
    "- Наибольшая средняя выручка оцененная по предсказаниям моделей среди регионов оказалась у ПЕРВОГО региона. Исходя из этого стоит рекомендовать первый регион для дальнейшей разработки. \n",
    "\n",
    "\n",
    "[К оглавлению](#start)"
   ]
  }
 ],
 "metadata": {
  "kernelspec": {
   "display_name": "Python 3",
   "language": "python",
   "name": "python3"
  },
  "language_info": {
   "codemirror_mode": {
    "name": "ipython",
    "version": 3
   },
   "file_extension": ".py",
   "mimetype": "text/x-python",
   "name": "python",
   "nbconvert_exporter": "python",
   "pygments_lexer": "ipython3",
   "version": "3.7.6"
  }
 },
 "nbformat": 4,
 "nbformat_minor": 4
}
