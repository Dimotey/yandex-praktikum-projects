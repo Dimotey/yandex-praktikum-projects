{
 "cells": [
  {
   "cell_type": "markdown",
   "metadata": {},
   "source": [
    "# Определение перспективного тарифа для телеком компании\n",
    "* Цель исследования - определить наиболее выгодный тариф(из 2х) для телеком компании\n",
    "* Данные на которых проводится исследование - данные по клиентам телеком компании\n",
    "* Данное исследование может быть полезно комерческому депертаменту, чтобы скоректировать рекламный бюджет.\n",
    "\n",
    "**Ключевые слова:** обработка данных, histogram, boxplot, статистический тест,\n",
    "критерий Стьюдента, аналитик, analyst, аналитик данных, data analyst"
   ]
  },
  {
   "cell_type": "markdown",
   "metadata": {},
   "source": [
    "#  Шаг 1. Первичное знакомство с данными"
   ]
  },
  {
   "cell_type": "code",
   "execution_count": 2,
   "metadata": {},
   "outputs": [],
   "source": [
    "import pandas as pd\n",
    "from scipy import stats as st\n",
    "import matplotlib.pyplot as plt\n",
    "import numpy as np\n"
   ]
  },
  {
   "cell_type": "code",
   "execution_count": 3,
   "metadata": {},
   "outputs": [],
   "source": [
    "dcalls=pd.read_csv('/datasets/calls.csv',sep = ',')\n",
    "dint=pd.read_csv('/datasets/internet.csv',sep = ',')\n",
    "dmessages=pd.read_csv('/datasets/messages.csv',sep = ',')\n",
    "dtariffs=pd.read_csv('/datasets/tariffs.csv',sep = ',')\n",
    "dusers=pd.read_csv('/datasets/users.csv',sep = ',')"
   ]
  },
  {
   "cell_type": "markdown",
   "metadata": {},
   "source": [
    "############# тут ввод данных для работы локально    \n",
    "dcalls=pd.read_csv('calls.csv',sep = ',')\n",
    "dint=pd.read_csv('internet.csv',sep = ',')\n",
    "dmessages=pd.read_csv('messages.csv',sep = ',')\n",
    "dtariffs=pd.read_csv('tariffs.csv',sep = ',')\n",
    "dusers=pd.read_csv('users.csv',sep = ',')"
   ]
  },
  {
   "cell_type": "code",
   "execution_count": 4,
   "metadata": {},
   "outputs": [
    {
     "name": "stdout",
     "output_type": "stream",
     "text": [
      "Таблица calls (информация о звонках):\n",
      "Кол-во пропусков:\n",
      " id           0\n",
      "call_date    0\n",
      "duration     0\n",
      "user_id      0\n",
      "dtype: int64\n",
      "Кол-во дубликатов:  0\n",
      "<class 'pandas.core.frame.DataFrame'>\n",
      "RangeIndex: 202607 entries, 0 to 202606\n",
      "Data columns (total 4 columns):\n",
      "id           202607 non-null object\n",
      "call_date    202607 non-null object\n",
      "duration     202607 non-null float64\n",
      "user_id      202607 non-null int64\n",
      "dtypes: float64(1), int64(1), object(2)\n",
      "memory usage: 6.2+ MB\n",
      "None\n"
     ]
    },
    {
     "data": {
      "text/html": [
       "<div>\n",
       "<style scoped>\n",
       "    .dataframe tbody tr th:only-of-type {\n",
       "        vertical-align: middle;\n",
       "    }\n",
       "\n",
       "    .dataframe tbody tr th {\n",
       "        vertical-align: top;\n",
       "    }\n",
       "\n",
       "    .dataframe thead th {\n",
       "        text-align: right;\n",
       "    }\n",
       "</style>\n",
       "<table border=\"1\" class=\"dataframe\">\n",
       "  <thead>\n",
       "    <tr style=\"text-align: right;\">\n",
       "      <th></th>\n",
       "      <th>id</th>\n",
       "      <th>call_date</th>\n",
       "      <th>duration</th>\n",
       "      <th>user_id</th>\n",
       "    </tr>\n",
       "  </thead>\n",
       "  <tbody>\n",
       "    <tr>\n",
       "      <td>0</td>\n",
       "      <td>1000_0</td>\n",
       "      <td>2018-07-25</td>\n",
       "      <td>0.0</td>\n",
       "      <td>1000</td>\n",
       "    </tr>\n",
       "  </tbody>\n",
       "</table>\n",
       "</div>"
      ],
      "text/plain": [
       "       id   call_date  duration  user_id\n",
       "0  1000_0  2018-07-25       0.0     1000"
      ]
     },
     "execution_count": 4,
     "metadata": {},
     "output_type": "execute_result"
    }
   ],
   "source": [
    "print('''Таблица calls (информация о звонках):''')\n",
    "print('Кол-во пропусков:\\n',dcalls.isna().sum())\n",
    "print('Кол-во дубликатов: ',dcalls.duplicated().sum())\n",
    "print(dcalls.info())\n",
    "dcalls.head(1)"
   ]
  },
  {
   "cell_type": "code",
   "execution_count": 5,
   "metadata": {},
   "outputs": [
    {
     "data": {
      "text/plain": [
       "24.28        1\n",
       "26.93        1\n",
       "30.58        1\n",
       "27.65        1\n",
       "29.33        1\n",
       "         ...  \n",
       "6.38       141\n",
       "6.15       141\n",
       "5.50       142\n",
       "4.49       142\n",
       "0.00     39613\n",
       "Name: duration, Length: 2871, dtype: int64"
      ]
     },
     "execution_count": 5,
     "metadata": {},
     "output_type": "execute_result"
    }
   ],
   "source": [
    "dcalls['duration'].value_counts().sort_values()"
   ]
  },
  {
   "cell_type": "code",
   "execution_count": 6,
   "metadata": {},
   "outputs": [
    {
     "data": {
      "image/png": "[encoded data removed]",
      "text/plain": [
       "<Figure size 432x288 with 1 Axes>"
      ]
     },
     "metadata": {
      "needs_background": "light"
     },
     "output_type": "display_data"
    }
   ],
   "source": [
    "plt.hist(dcalls['duration'], bins = 30)\n",
    "plt.title(\"Распределение продолжительности звонков\")\n",
    "plt.xlabel(\"Продолжительность звонков в минутах\")\n",
    "plt.ylabel(\"Количество звонков  попавших в корзину\")\n",
    "plt.grid()\n",
    "plt.show()"
   ]
  },
  {
   "cell_type": "markdown",
   "metadata": {},
   "source": [
    "Таблица calls (информация о звонках):\n",
    "\n",
    "    id — уникальный номер звонка\n",
    "    call_date — дата звонка\n",
    "    duration — длительность звонка в минутах\n",
    "    user_id — идентификатор пользователя, сделавшего звонок \n",
    "\n",
    "###### Изучим общую информацию.\n",
    "\n",
    "    1. Звонки стоит объеденить с пользователями?\n",
    "    2. Всего 202607 звонков\n",
    "    3. Пропусков нет\n",
    "    4. Дубликатов нет\n",
    "    5. Надо преобразовывать данные\n",
    "         5.1 id в int, но не вижу особого смысла кроме как для экономии памяти. В этом проекте это не критично. Поэтому id менять не станем по всему проекту.\n",
    "         5.2 calldate в дату\n",
    "         5.3 duration оставить так +\n",
    "       ОБРАТИТЬ ВНИМАНИЕ на звонки с нулевой длительностью[39613 штук]. Будем считать что это пропущенные.\n",
    "         5.4 user id уже в int. не преобразовывать.\n",
    "###### Общий вывод по таблице Calls\n",
    "1. Столбец `call_date` привести к типу данных  `datetime64`\n",
    "2. Столбец `duration`. Не забыть о пропущенных звонках звонках с нулевой длительностью."
   ]
  },
  {
   "cell_type": "code",
   "execution_count": 7,
   "metadata": {},
   "outputs": [
    {
     "name": "stdout",
     "output_type": "stream",
     "text": [
      "Таблица internet (информация об интернет-сессиях):\n",
      "Кол-во пропусков:\n",
      " Unnamed: 0      0\n",
      "id              0\n",
      "mb_used         0\n",
      "session_date    0\n",
      "user_id         0\n",
      "dtype: int64\n",
      "Кол-во дубликатов:  0\n",
      "<class 'pandas.core.frame.DataFrame'>\n",
      "RangeIndex: 149396 entries, 0 to 149395\n",
      "Data columns (total 5 columns):\n",
      "Unnamed: 0      149396 non-null int64\n",
      "id              149396 non-null object\n",
      "mb_used         149396 non-null float64\n",
      "session_date    149396 non-null object\n",
      "user_id         149396 non-null int64\n",
      "dtypes: float64(1), int64(2), object(2)\n",
      "memory usage: 5.7+ MB\n",
      "None\n"
     ]
    },
    {
     "data": {
      "text/html": [
       "<div>\n",
       "<style scoped>\n",
       "    .dataframe tbody tr th:only-of-type {\n",
       "        vertical-align: middle;\n",
       "    }\n",
       "\n",
       "    .dataframe tbody tr th {\n",
       "        vertical-align: top;\n",
       "    }\n",
       "\n",
       "    .dataframe thead th {\n",
       "        text-align: right;\n",
       "    }\n",
       "</style>\n",
       "<table border=\"1\" class=\"dataframe\">\n",
       "  <thead>\n",
       "    <tr style=\"text-align: right;\">\n",
       "      <th></th>\n",
       "      <th>Unnamed: 0</th>\n",
       "      <th>id</th>\n",
       "      <th>mb_used</th>\n",
       "      <th>session_date</th>\n",
       "      <th>user_id</th>\n",
       "    </tr>\n",
       "  </thead>\n",
       "  <tbody>\n",
       "    <tr>\n",
       "      <td>0</td>\n",
       "      <td>0</td>\n",
       "      <td>1000_0</td>\n",
       "      <td>112.95</td>\n",
       "      <td>2018-11-25</td>\n",
       "      <td>1000</td>\n",
       "    </tr>\n",
       "  </tbody>\n",
       "</table>\n",
       "</div>"
      ],
      "text/plain": [
       "   Unnamed: 0      id  mb_used session_date  user_id\n",
       "0           0  1000_0   112.95   2018-11-25     1000"
      ]
     },
     "execution_count": 7,
     "metadata": {},
     "output_type": "execute_result"
    }
   ],
   "source": [
    "print('''Таблица internet (информация об интернет-сессиях):''')\n",
    "print('Кол-во пропусков:\\n',dint.isna().sum())\n",
    "print('Кол-во дубликатов: ',dint.duplicated().sum())\n",
    "print(dint.info())\n",
    "dint.head(1)"
   ]
  },
  {
   "cell_type": "code",
   "execution_count": 8,
   "metadata": {},
   "outputs": [
    {
     "data": {
      "text/plain": [
       "483.87        1\n",
       "128.33        1\n",
       "177.35        1\n",
       "423.46        1\n",
       "225.99        1\n",
       "          ...  \n",
       "273.45        8\n",
       "335.91        9\n",
       "447.30        9\n",
       "197.56        9\n",
       "0.00      19598\n",
       "Name: mb_used, Length: 70003, dtype: int64"
      ]
     },
     "execution_count": 8,
     "metadata": {},
     "output_type": "execute_result"
    }
   ],
   "source": [
    "dint['mb_used'].value_counts().sort_values()"
   ]
  },
  {
   "cell_type": "code",
   "execution_count": 9,
   "metadata": {},
   "outputs": [
    {
     "data": {
      "image/png": "[encoded data removed]",
      "text/plain": [
       "<Figure size 432x288 with 1 Axes>"
      ]
     },
     "metadata": {
      "needs_background": "light"
     },
     "output_type": "display_data"
    }
   ],
   "source": [
    "plt.hist(dint['mb_used'], bins = 30,color = 'g')\n",
    "plt.title(\"Распределение продолжительности интернет сессий\")\n",
    "plt.xlabel(\"Объём интернет сессий в мб\")\n",
    "plt.ylabel(\"Количество сессий попавших в корзину\")\n",
    "plt.grid()\n",
    "plt.show()"
   ]
  },
  {
   "cell_type": "markdown",
   "metadata": {},
   "source": [
    "Таблица internet (информация об интернет-сессиях):\n",
    "\n",
    "    id — уникальный номер сессии\n",
    "    mb_used — объём потраченного за сессию интернет-трафика (в мегабайтах)\n",
    "    session_date — дата интернет-сессии\n",
    "    user_id — идентификатор пользователя\n",
    "###### Изучим общую информацию.\n",
    "    1. Стоит объеденить интернет сессии с пользователями?\n",
    "    2. Всего 149396 интернет сессий.\n",
    "    3. Пропусков нет\n",
    "    4. Дубликатов нет\n",
    "    5. Тип данных\n",
    "        5.1 Unnamed: 0 - в связи с отсутствием этого столбца в описании к проекту можно предположить что это просто номер строки или в котором распологалась данная интернет сессия. Если это так его можно просто удалить ведь он нам не нужен.\n",
    "        5.2 id интернет сессии оставим без изменения типа.\n",
    "        5.3 mb used. Тип данных правильный +\n",
    "            19598 нулевых интернет сессий. ОБРАТИТЬ ВНИМАНИЕ. Будем считать их неудачными попытками подключения.\n",
    "        5.4 session_date надо преобразовать в дату.\n",
    "        5.4 user id уже в int. не преобразовывать.\n",
    "\n",
    "    \n",
    "###### Общий вывод по таблице internet\n",
    "1. Столбец  `session_date` привести к типу данных ` datetime64[ns]`\n",
    "2. Столбец `mb_used `. Уделить внимание неудачным попыткам подключения. "
   ]
  },
  {
   "cell_type": "code",
   "execution_count": 10,
   "metadata": {},
   "outputs": [
    {
     "name": "stdout",
     "output_type": "stream",
     "text": [
      "Таблица messages (информация о сообщениях):\n",
      "Кол-во пропусков:\n",
      " id              0\n",
      "message_date    0\n",
      "user_id         0\n",
      "dtype: int64\n",
      "Кол-во дубликатов:  0\n",
      "<class 'pandas.core.frame.DataFrame'>\n",
      "RangeIndex: 123036 entries, 0 to 123035\n",
      "Data columns (total 3 columns):\n",
      "id              123036 non-null object\n",
      "message_date    123036 non-null object\n",
      "user_id         123036 non-null int64\n",
      "dtypes: int64(1), object(2)\n",
      "memory usage: 2.8+ MB\n",
      "None\n"
     ]
    },
    {
     "data": {
      "text/html": [
       "<div>\n",
       "<style scoped>\n",
       "    .dataframe tbody tr th:only-of-type {\n",
       "        vertical-align: middle;\n",
       "    }\n",
       "\n",
       "    .dataframe tbody tr th {\n",
       "        vertical-align: top;\n",
       "    }\n",
       "\n",
       "    .dataframe thead th {\n",
       "        text-align: right;\n",
       "    }\n",
       "</style>\n",
       "<table border=\"1\" class=\"dataframe\">\n",
       "  <thead>\n",
       "    <tr style=\"text-align: right;\">\n",
       "      <th></th>\n",
       "      <th>id</th>\n",
       "      <th>message_date</th>\n",
       "      <th>user_id</th>\n",
       "    </tr>\n",
       "  </thead>\n",
       "  <tbody>\n",
       "    <tr>\n",
       "      <td>0</td>\n",
       "      <td>1000_0</td>\n",
       "      <td>2018-06-27</td>\n",
       "      <td>1000</td>\n",
       "    </tr>\n",
       "  </tbody>\n",
       "</table>\n",
       "</div>"
      ],
      "text/plain": [
       "       id message_date  user_id\n",
       "0  1000_0   2018-06-27     1000"
      ]
     },
     "execution_count": 10,
     "metadata": {},
     "output_type": "execute_result"
    }
   ],
   "source": [
    "print('''Таблица messages (информация о сообщениях):''')\n",
    "print('Кол-во пропусков:\\n',dmessages.isna().sum())\n",
    "print('Кол-во дубликатов: ',dmessages.duplicated().sum())\n",
    "print(dmessages.info())\n",
    "dmessages.head(1)"
   ]
  },
  {
   "cell_type": "markdown",
   "metadata": {},
   "source": [
    "Таблица messages (информация о сообщениях):\n",
    "    \n",
    "    id — уникальный номер сообщения\n",
    "    message_date — дата сообщения\n",
    "    user_id — идентификатор пользователя, отправившего сообщение\n",
    "    \n",
    "    \n",
    "###### Изучим общую информацию.\n",
    "    1. Стоит объеденить сообщения с пользователями?\n",
    "    2. Всего 123036 сообщений.\n",
    "    3. Пропусков нет\n",
    "    4. Дубликатов нет\n",
    "    5. Тип данных\n",
    "        5.1 id сообщений оставим без изменения типа.\n",
    "        5.2 message_date надо преобразовать в дату.\n",
    "        5.3 user id уже в int. не преобразовывать.\n",
    "\n",
    "    \n",
    "###### Общий вывод по таблице messages\n",
    "1. Столбец  `message_date` привести к типу данных `datetime64[ns]`"
   ]
  },
  {
   "cell_type": "code",
   "execution_count": 11,
   "metadata": {},
   "outputs": [
    {
     "name": "stdout",
     "output_type": "stream",
     "text": [
      "Таблица tariffs (информация о тарифах):\n",
      "Кол-во пропусков:\n",
      " messages_included        0\n",
      "mb_per_month_included    0\n",
      "minutes_included         0\n",
      "rub_monthly_fee          0\n",
      "rub_per_gb               0\n",
      "rub_per_message          0\n",
      "rub_per_minute           0\n",
      "tariff_name              0\n",
      "dtype: int64\n",
      "Кол-во дубликатов:  0\n",
      "<class 'pandas.core.frame.DataFrame'>\n",
      "RangeIndex: 2 entries, 0 to 1\n",
      "Data columns (total 8 columns):\n",
      "messages_included        2 non-null int64\n",
      "mb_per_month_included    2 non-null int64\n",
      "minutes_included         2 non-null int64\n",
      "rub_monthly_fee          2 non-null int64\n",
      "rub_per_gb               2 non-null int64\n",
      "rub_per_message          2 non-null int64\n",
      "rub_per_minute           2 non-null int64\n",
      "tariff_name              2 non-null object\n",
      "dtypes: int64(7), object(1)\n",
      "memory usage: 256.0+ bytes\n",
      "None\n"
     ]
    },
    {
     "data": {
      "text/html": [
       "<div>\n",
       "<style scoped>\n",
       "    .dataframe tbody tr th:only-of-type {\n",
       "        vertical-align: middle;\n",
       "    }\n",
       "\n",
       "    .dataframe tbody tr th {\n",
       "        vertical-align: top;\n",
       "    }\n",
       "\n",
       "    .dataframe thead th {\n",
       "        text-align: right;\n",
       "    }\n",
       "</style>\n",
       "<table border=\"1\" class=\"dataframe\">\n",
       "  <thead>\n",
       "    <tr style=\"text-align: right;\">\n",
       "      <th></th>\n",
       "      <th>messages_included</th>\n",
       "      <th>mb_per_month_included</th>\n",
       "      <th>minutes_included</th>\n",
       "      <th>rub_monthly_fee</th>\n",
       "      <th>rub_per_gb</th>\n",
       "      <th>rub_per_message</th>\n",
       "      <th>rub_per_minute</th>\n",
       "      <th>tariff_name</th>\n",
       "    </tr>\n",
       "  </thead>\n",
       "  <tbody>\n",
       "    <tr>\n",
       "      <td>0</td>\n",
       "      <td>50</td>\n",
       "      <td>15360</td>\n",
       "      <td>500</td>\n",
       "      <td>550</td>\n",
       "      <td>200</td>\n",
       "      <td>3</td>\n",
       "      <td>3</td>\n",
       "      <td>smart</td>\n",
       "    </tr>\n",
       "    <tr>\n",
       "      <td>1</td>\n",
       "      <td>1000</td>\n",
       "      <td>30720</td>\n",
       "      <td>3000</td>\n",
       "      <td>1950</td>\n",
       "      <td>150</td>\n",
       "      <td>1</td>\n",
       "      <td>1</td>\n",
       "      <td>ultra</td>\n",
       "    </tr>\n",
       "  </tbody>\n",
       "</table>\n",
       "</div>"
      ],
      "text/plain": [
       "   messages_included  mb_per_month_included  minutes_included  \\\n",
       "0                 50                  15360               500   \n",
       "1               1000                  30720              3000   \n",
       "\n",
       "   rub_monthly_fee  rub_per_gb  rub_per_message  rub_per_minute tariff_name  \n",
       "0              550         200                3               3       smart  \n",
       "1             1950         150                1               1       ultra  "
      ]
     },
     "execution_count": 11,
     "metadata": {},
     "output_type": "execute_result"
    }
   ],
   "source": [
    "print('''Таблица tariffs (информация о тарифах):''')\n",
    "print('Кол-во пропусков:\\n',dtariffs.isna().sum())\n",
    "print('Кол-во дубликатов: ',dtariffs.duplicated().sum())\n",
    "print(dtariffs.info())\n",
    "dtariffs"
   ]
  },
  {
   "cell_type": "markdown",
   "metadata": {},
   "source": [
    "Таблица tariffs (информация о тарифах):\n",
    "\n",
    "    tariff_name — название тарифа \n",
    "    rub_monthly_fee — ежемесячная абонентская плата в рублях\n",
    "    minutes_included — количество минут разговора в месяц, включённых в абонентскую плату\n",
    "    messages_included — количество сообщений в месяц, включённых в абонентскую плату \n",
    "    mb_per_month_included — объём интернет-трафика, включённого в абонентскую плату (в мегабайтах)\n",
    "    rub_per_minute — стоимость минуты разговора сверх тарифного пакета (например, если в тарифе 100 минут разговора в месяц, то со 101 минуты будет взиматься плата)\n",
    "    rub_per_message — стоимость отправки сообщения сверх тарифного пакета\n",
    "    rub_per_gb — стоимость дополнительного гигабайта интернет-трафика сверх тарифного пакета (1 гигабайт = 1024 мегабайта)\n",
    "        \n",
    "###### Изучим общую информацию.\n",
    "    1. Стоит объеденить информацию по тарифам с пользователями(для каждого польщователя добавить все детали его тарифа, это нужно исключительно для удобства пользования, пока не буду)?\n",
    "    2. Всего 2 строки сообщений.\n",
    "    3. Пропусков нет\n",
    "    4. Дубликатов нет\n",
    "    5. Тип данных оставить без изменений\n",
    "    \n",
    "###### Общий вывод по таблице tariffs\n",
    "1. ничего с этой таблицей не делать\n"
   ]
  },
  {
   "cell_type": "code",
   "execution_count": 12,
   "metadata": {},
   "outputs": [
    {
     "name": "stdout",
     "output_type": "stream",
     "text": [
      "Таблица users (информация о пользователях):\n",
      "Кол-во пропусков:\n",
      " user_id         0\n",
      "age             0\n",
      "churn_date    462\n",
      "city            0\n",
      "first_name      0\n",
      "last_name       0\n",
      "reg_date        0\n",
      "tariff          0\n",
      "dtype: int64\n",
      "Кол-во дубликатов:  0\n",
      "<class 'pandas.core.frame.DataFrame'>\n",
      "RangeIndex: 500 entries, 0 to 499\n",
      "Data columns (total 8 columns):\n",
      "user_id       500 non-null int64\n",
      "age           500 non-null int64\n",
      "churn_date    38 non-null object\n",
      "city          500 non-null object\n",
      "first_name    500 non-null object\n",
      "last_name     500 non-null object\n",
      "reg_date      500 non-null object\n",
      "tariff        500 non-null object\n",
      "dtypes: int64(2), object(6)\n",
      "memory usage: 31.4+ KB\n",
      "None\n"
     ]
    },
    {
     "data": {
      "text/html": [
       "<div>\n",
       "<style scoped>\n",
       "    .dataframe tbody tr th:only-of-type {\n",
       "        vertical-align: middle;\n",
       "    }\n",
       "\n",
       "    .dataframe tbody tr th {\n",
       "        vertical-align: top;\n",
       "    }\n",
       "\n",
       "    .dataframe thead th {\n",
       "        text-align: right;\n",
       "    }\n",
       "</style>\n",
       "<table border=\"1\" class=\"dataframe\">\n",
       "  <thead>\n",
       "    <tr style=\"text-align: right;\">\n",
       "      <th></th>\n",
       "      <th>user_id</th>\n",
       "      <th>age</th>\n",
       "      <th>churn_date</th>\n",
       "      <th>city</th>\n",
       "      <th>first_name</th>\n",
       "      <th>last_name</th>\n",
       "      <th>reg_date</th>\n",
       "      <th>tariff</th>\n",
       "    </tr>\n",
       "  </thead>\n",
       "  <tbody>\n",
       "    <tr>\n",
       "      <td>0</td>\n",
       "      <td>1000</td>\n",
       "      <td>52</td>\n",
       "      <td>NaN</td>\n",
       "      <td>Краснодар</td>\n",
       "      <td>Рафаил</td>\n",
       "      <td>Верещагин</td>\n",
       "      <td>2018-05-25</td>\n",
       "      <td>ultra</td>\n",
       "    </tr>\n",
       "  </tbody>\n",
       "</table>\n",
       "</div>"
      ],
      "text/plain": [
       "   user_id  age churn_date       city first_name  last_name    reg_date tariff\n",
       "0     1000   52        NaN  Краснодар     Рафаил  Верещагин  2018-05-25  ultra"
      ]
     },
     "execution_count": 12,
     "metadata": {},
     "output_type": "execute_result"
    }
   ],
   "source": [
    "print('''Таблица users (информация о пользователях):''')\n",
    "print('Кол-во пропусков:\\n',dusers.isna().sum())\n",
    "print('Кол-во дубликатов: ',dusers.duplicated().sum())\n",
    "print(dusers.info())\n",
    "dusers.head(1)"
   ]
  },
  {
   "cell_type": "markdown",
   "metadata": {},
   "source": [
    "Таблица users (информация о пользователях):\n",
    "\n",
    "    user_id — уникальный идентификатор пользователя\n",
    "    first_name — имя пользователя\n",
    "    last_name — фамилия пользователя\n",
    "    age — возраст пользователя (годы)\n",
    "    reg_date — дата подключения тарифа (день, месяц, год)\n",
    "    churn_date — дата прекращения пользования тарифом (если значение пропущено, то тариф ещё действовал на момент выгрузки \n",
    "    анных)\n",
    "    city — город проживания пользователя\n",
    "    tariff — название тарифного плана\n",
    "    \n",
    "           \n",
    "###### Изучим общую информацию.\n",
    "    1. Стоит добавлять ли в таблицу к пользователям инфу когда они звонили?строкой будет элементарное событие - звонок, сообщение или интернет-сессия? \n",
    "    2. 500 человек в выборке.\n",
    "    3. 462 пропуска в столбце даты прекращения тарифа (если значение пропущено, то тариф ещё действовал на момент выгрузки \n",
    "    анных)\n",
    "    4. Дубликатов нет\n",
    "    5. Столбец `churn_date` там где не NaN Преобразовать в `datetime64[ns]`\n",
    "    \n",
    "   \n",
    "    \n",
    "###### Общий вывод по таблице users\n",
    "1. Столбец `reg_date` и `churn_date`(там где не NaN) преобразовать в `datetime64[ns]`\n",
    "    "
   ]
  },
  {
   "cell_type": "markdown",
   "metadata": {},
   "source": [
    "### Общий вывод после ознакомления с данными\n",
    "    \n",
    "1. Объединение опционально, и проводиться не будет.\n",
    "2. В исходном датасете отсутствуют пропуски и дубликаты\n",
    "3. В столбцах `duration` и `dint` присутсвуют значения выбивающиеся из нормального распределения - нулевые значения. Заменить на NaN чтобы те не играли роли в исследовании. Ведь нам интересна выручка а поскольку они ничего не потратили значит они за это не заплатили. В реальности наверно не так но сейчас не известно сколько за это с них брать. \n",
    "4. К типу `datetime64[ns]` привести:\n",
    "    1. `dcalls`. Столбец `call_date`\n",
    "    2. `dint`. Столбец  `session_date`\n",
    "    3. `dmessages`. Столбец `message_date`\n",
    "    4. `dusers`. Столбцы `reg_date` и `churn_date`\n",
    "    "
   ]
  },
  {
   "cell_type": "markdown",
   "metadata": {},
   "source": [
    "#  Шаг 2. Подготовка данных"
   ]
  },
  {
   "cell_type": "markdown",
   "metadata": {},
   "source": [
    "###### Приведите данные к нужным типам"
   ]
  },
  {
   "cell_type": "code",
   "execution_count": 13,
   "metadata": {},
   "outputs": [],
   "source": [
    "dcalls['call_date'] = pd.to_datetime(dcalls['call_date'], format='%Y-%m-%d')\n",
    "dint['session_date'] = pd.to_datetime(dint['session_date'], format='%Y-%m-%d')\n",
    "dmessages['message_date'] = pd.to_datetime(dmessages['message_date'], format='%Y-%m-%d')\n",
    "dusers['reg_date'] = pd.to_datetime(dusers['reg_date'] , format='%Y-%m-%d')\n",
    "dusers['churn_date'] = pd.to_datetime(dusers[dusers['churn_date'].notna()]['churn_date'] , format='%Y-%m-%d')"
   ]
  },
  {
   "cell_type": "code",
   "execution_count": 14,
   "metadata": {
    "scrolled": true
   },
   "outputs": [
    {
     "name": "stdout",
     "output_type": "stream",
     "text": [
      "dcalls-call_date ======= datetime64[ns]\n",
      "dint-session_date ======= datetime64[ns]\n",
      "dmessages-message_date ======= datetime64[ns]\n",
      "dusers-reg_date ======= datetime64[ns]\n",
      "dusers-churn_date ======= datetime64[ns]\n"
     ]
    }
   ],
   "source": [
    "print('dcalls-call_date =======',dcalls['call_date'].dtypes) \n",
    "print('dint-session_date =======',dint['session_date'].dtypes) \n",
    "print('dmessages-message_date =======',dmessages['message_date'].dtypes) \n",
    "print('dusers-reg_date =======',dusers['reg_date'].dtypes) \n",
    "print('dusers-churn_date =======',dusers['churn_date'].dtypes)"
   ]
  },
  {
   "cell_type": "markdown",
   "metadata": {},
   "source": [
    "###### Найдите и исправьте ошибки в данных\n",
    "\n",
    "    1. Заменю нулевые значения на NaN \n",
    "    2. NaN в `churn_date` оставлю как есть, ведь они свидетельсвуют о том что пользователи продолжают пользовтаься услугами мегалайн."
   ]
  },
  {
   "cell_type": "code",
   "execution_count": 15,
   "metadata": {},
   "outputs": [],
   "source": [
    "dcalls['duration']=dcalls['duration'].where(dcalls['duration'] >0) \n",
    "dint['mb_used']=dint['mb_used'].where(dint['mb_used'] >0) "
   ]
  },
  {
   "cell_type": "code",
   "execution_count": 16,
   "metadata": {},
   "outputs": [
    {
     "data": {
      "image/png": "[encoded data removed]",
      "text/plain": [
       "<Figure size 432x288 with 1 Axes>"
      ]
     },
     "metadata": {
      "needs_background": "light"
     },
     "output_type": "display_data"
    }
   ],
   "source": [
    "plt.hist(dcalls['duration'], bins = 30)\n",
    "plt.title(\"Распределение продолжительности звонков\")\n",
    "plt.xlabel(\"Продолжительность звонков в минутах\")\n",
    "plt.ylabel(\"Количество звонков  попавших в корзину\")\n",
    "plt.grid()\n",
    "plt.show()"
   ]
  },
  {
   "cell_type": "code",
   "execution_count": 17,
   "metadata": {},
   "outputs": [
    {
     "data": {
      "image/png": "[encoded data removed]",
      "text/plain": [
       "<Figure size 432x288 with 1 Axes>"
      ]
     },
     "metadata": {
      "needs_background": "light"
     },
     "output_type": "display_data"
    }
   ],
   "source": [
    "plt.hist(dint['mb_used'], bins = 30,color = 'g')\n",
    "plt.title(\"Распределение продолжительности интернет сессий\")\n",
    "plt.xlabel(\"Объём интернет сессий в мб\")\n",
    "plt.ylabel(\"Количество сессий попавших в корзину\")\n",
    "plt.grid()\n",
    "\n",
    "plt.show()"
   ]
  },
  {
   "cell_type": "code",
   "execution_count": 18,
   "metadata": {},
   "outputs": [],
   "source": [
    "\"\"\"Как отмечалось ниже Я упустил округление в большую сторону для минут и мегабайтов интернета. поэтому исправлю это\"\"\"\n",
    "dcalls['duration']=dcalls['duration'].apply(np.ceil)\n",
    "dint['mb_used']=dint['mb_used'].apply(np.ceil)"
   ]
  },
  {
   "cell_type": "markdown",
   "metadata": {},
   "source": [
    "###### Посчитайте для каждого пользователя:\n",
    "1. количество сделанных звонков и израсходованных минут разговора по месяцам;\n",
    "2. количество отправленных сообщений по месяцам;\n",
    "3. объем израсходованного интернет-трафика по месяцам;\n",
    "4. помесячную выручку с каждого пользователя (вычтите бесплатный лимит из суммарного количества звонков, сообщений и интернет-трафика;остаток умножьте на значение из тарифного плана; прибавьте абонентскую плату, соответствующую тарифному плану)."
   ]
  },
  {
   "cell_type": "code",
   "execution_count": 19,
   "metadata": {},
   "outputs": [],
   "source": [
    "\"\"\"Например, для звонков - в таблицу со звонками добавим месяц.\"\"\"\n",
    "ddcalls=dcalls.copy()\n",
    "ddcalls['month'] = ddcalls['call_date'].dt.month"
   ]
  },
  {
   "cell_type": "code",
   "execution_count": 20,
   "metadata": {},
   "outputs": [],
   "source": [
    "\"\"\"Тпепрь сгуппируем ее по номеру пользователя и месяца, посчитаем сумму звонков и минут.\"\"\"\n",
    "ddcalls_stat_c=ddcalls.pivot_table(index = 'user_id', columns = 'month' , values = 'duration' , aggfunc = 'count' )\n",
    "ddcalls_stat_s=ddcalls.pivot_table(index = 'user_id', columns = 'month' , values = 'duration' , aggfunc = 'sum' )"
   ]
  },
  {
   "cell_type": "code",
   "execution_count": 21,
   "metadata": {},
   "outputs": [],
   "source": [
    "\"\"\"То же сделаем с сообщениями и мегабайтами.\"\"\"\n",
    "ddmessages=dmessages.copy()\n",
    "ddint=dint.copy()\n",
    "ddmessages['month'] = ddmessages['message_date'].dt.month\n",
    "ddint['month'] = ddint['session_date'].dt.month\n",
    "ddmessages_stat_c=ddmessages.pivot_table(index = 'user_id', columns = 'month' , values = 'message_date' , aggfunc = 'count' )\n",
    "ddint_stat_s=ddint.pivot_table(index = 'user_id', columns = 'month' , values = 'mb_used' , aggfunc = 'sum' )\n"
   ]
  },
  {
   "cell_type": "code",
   "execution_count": 22,
   "metadata": {},
   "outputs": [],
   "source": [
    "\"\"\"Теперь можно объедениь все таблицы\"\"\" \n",
    "# переводим юзер айди из индексов в отдельный столбец по которому будем объединять\n",
    "ddcalls_stat_c = ddcalls_stat_c.reset_index()\n",
    "ddcalls_stat_s = ddcalls_stat_s.reset_index()\n",
    "ddmessages_stat_c = ddmessages_stat_c.reset_index()\n",
    "ddint_stat_s = ddint_stat_s.reset_index()\n",
    "# поэтапно объединяю методом merge, по столбце юзер_айди который получили на прошлом шаге.Как объеднияем? Параметер How = 'outer' это значит что значения из обоих датафреймов всё равно попадут в объединённую таблицу\n",
    "stat1=ddcalls_stat_c.merge(ddcalls_stat_s, on = 'user_id', how = 'outer',suffixes=('monthcallN','monthcallDuration'))\n",
    "stat2=stat1.merge(ddmessages_stat_c, on = 'user_id', how = 'outer')\n",
    "stat3=stat2.merge(ddint_stat_s, on = 'user_id', how = 'outer', suffixes=('monthmessageN','monthintUse'))"
   ]
  },
  {
   "cell_type": "code",
   "execution_count": 23,
   "metadata": {},
   "outputs": [],
   "source": [
    "\"\"\"и после этого присоединить данные о тарифе, ценам сверх лимита, абонентской и т.д.\"\"\"\n",
    "dtariffs.columns = ['messages_included', 'mb_per_month_included', 'minutes_included',\n",
    "       'rub_monthly_fee', 'rub_per_gb', 'rub_per_message', 'rub_per_minute',\n",
    "       'tariff'] # это нужно для того чтобы добавить потом \n",
    "stat4=stat3.merge(dusers.loc[:,['user_id','tariff']], on = 'user_id' , how = 'left')\n",
    "stat5=stat4.merge(dtariffs,on = 'tariff' , how = 'left')"
   ]
  },
  {
   "cell_type": "markdown",
   "metadata": {},
   "source": [
    "\"\"\"после посчитать выручку)\"\" \n"
   ]
  },
  {
   "cell_type": "code",
   "execution_count": 24,
   "metadata": {},
   "outputs": [],
   "source": [
    "\"\"\"Эти списки нужны для удобной иттерации по месяцам интернета, смс и звонков \"\"\"\n",
    "monthcallN=['1monthcallN', '2monthcallN', '3monthcallN', '4monthcallN',\n",
    "       '5monthcallN', '6monthcallN', '7monthcallN', '8monthcallN',\n",
    "       '9monthcallN', '10monthcallN', '11monthcallN', '12monthcallN']\n",
    "monthcallDuration=['1monthcallDuration', '2monthcallDuration', '3monthcallDuration',\n",
    "       '4monthcallDuration', '5monthcallDuration', '6monthcallDuration',\n",
    "       '7monthcallDuration', '8monthcallDuration', '9monthcallDuration',\n",
    "       '10monthcallDuration', '11monthcallDuration', '12monthcallDuration']\n",
    "monthmessageN=['1monthmessageN', '2monthmessageN', '3monthmessageN', '4monthmessageN',\n",
    "       '5monthmessageN', '6monthmessageN', '7monthmessageN', '8monthmessageN',\n",
    "       '9monthmessageN', '10monthmessageN', '11monthmessageN',\n",
    "       '12monthmessageN']\n",
    "monthintUse = ['1monthintUse', '2monthintUse', '3monthintUse',\n",
    "       '4monthintUse', '5monthintUse', '6monthintUse', '7monthintUse',\n",
    "       '8monthintUse', '9monthintUse', '10monthintUse', '11monthintUse',\n",
    "       '12monthintUse']"
   ]
  },
  {
   "cell_type": "code",
   "execution_count": 25,
   "metadata": {},
   "outputs": [],
   "source": [
    "\"\"\"вычитаю из сделанных звонков, смс и интернета базовый пакет\"\"\"\n",
    "stat6=stat5.copy()\n",
    "for i in range(0,12):\n",
    "    stat6.loc[:,monthcallDuration[i]] =     stat6.loc[:,monthcallDuration[i]] - stat6.loc[:,'minutes_included']\n",
    "    stat6.loc[:,monthmessageN[i]] =     stat6.loc[:,monthmessageN[i]] - stat6.loc[:,'messages_included']\n",
    "    stat6.loc[:,monthintUse[i]] =     stat6.loc[:,monthintUse[i]] - stat6.loc[:,'mb_per_month_included']"
   ]
  },
  {
   "cell_type": "code",
   "execution_count": 26,
   "metadata": {},
   "outputs": [],
   "source": [
    "month_profit=['1profit', '2profit', '3profit', '4profit', '5profit', '6profit', '7profit', '8profit', '9profit', '10profit', '11profit', '12profit']"
   ]
  },
  {
   "cell_type": "code",
   "execution_count": 27,
   "metadata": {},
   "outputs": [],
   "source": [
    "\"\"\"полсе этого кода в столбцах с месяцами уже не количество звонков и пр а выручка за превышение тарифного пакета, \n",
    "а количество звонков и пр хотелось бы сохранить для анализа, поэтому ранее мы скопировали датасет\"\"\"\n",
    "for i in month_profit:\n",
    "    stat6[i]=0\n",
    "stat6[monthmessageN]=stat6[monthmessageN].fillna(0)\n",
    "stat6[monthcallDuration]=stat6[monthcallDuration].fillna(0)\n",
    "stat6[monthintUse]=stat6[monthintUse].fillna(0)\n",
    "for j in stat6.index:\n",
    "    for i in range(0,12):\n",
    "        # считаю сколко заплатит пользователь за превышение базового пакета в месяц за интернет, смс и звонки\n",
    "        if stat6.loc[j,monthmessageN[i]] < 0:\n",
    "            stat6.loc[j,monthmessageN[i]] = 0\n",
    "        else:\n",
    "            stat6.loc[j,monthmessageN[i]] =  stat6.loc[j,monthmessageN[i]]* stat6.loc[j,'rub_per_message']\n",
    "    \n",
    "        if stat6.loc[j,monthcallDuration[i]] < 0:\n",
    "            stat6.loc[j,monthcallDuration[i]] = 0\n",
    "        else:\n",
    "            stat6.loc[j,monthcallDuration[i]] =  stat6.loc[j,monthcallDuration[i]]* stat6.loc[j,'rub_per_minute']\n",
    "        # вот тут я округляю дополнительный пакет интернета в большую сторону\n",
    "        if stat6.loc[j,monthintUse[i]] < 0:\n",
    "            stat6.loc[j,monthintUse[i]] = 0\n",
    "        else:\n",
    "            stat6.loc[j,monthintUse[i]] =  np.ceil(stat6.loc[j,monthintUse[i]]/1024)* stat6.loc[j,'rub_per_gb']\n",
    "            \n",
    "            \n",
    "        # считаю сколко заплатит пользователь за превышение базового пакета в месяц в сумме за интернет, смс и звонки\n",
    "\n",
    "        stat6.loc[j,month_profit[i]] = stat6.loc[j,monthcallDuration[i]] + stat6.loc[j,monthmessageN[i]] + stat6.loc[j,monthintUse[i]]  + stat6.loc[j,'rub_monthly_fee']\n",
    "        "
   ]
  },
  {
   "cell_type": "code",
   "execution_count": 28,
   "metadata": {},
   "outputs": [],
   "source": [
    "\"\"\"считаю выручку за год с каждого пользователя не забывая про абонетскую плату\"\"\"\n",
    "stat6['total_profit'] = 0 \n",
    "for j in stat6.index:\n",
    "    for i in range(0,12):\n",
    "        stat6.loc[j,'total_profit'] = stat6.loc[j,monthcallDuration[i]] + stat6.loc[j,monthmessageN[i]] + stat6.loc[j,monthintUse[i]]\n",
    "\n",
    "stat6['total_profit'] = (stat6['total_profit'].fillna(0) + stat6['rub_monthly_fee']*12)"
   ]
  },
  {
   "cell_type": "code",
   "execution_count": 29,
   "metadata": {},
   "outputs": [
    {
     "data": {
      "text/html": [
       "<div>\n",
       "<style scoped>\n",
       "    .dataframe tbody tr th:only-of-type {\n",
       "        vertical-align: middle;\n",
       "    }\n",
       "\n",
       "    .dataframe tbody tr th {\n",
       "        vertical-align: top;\n",
       "    }\n",
       "\n",
       "    .dataframe thead th {\n",
       "        text-align: right;\n",
       "    }\n",
       "</style>\n",
       "<table border=\"1\" class=\"dataframe\">\n",
       "  <thead>\n",
       "    <tr style=\"text-align: right;\">\n",
       "      <th></th>\n",
       "      <th>user_id</th>\n",
       "      <th>1monthcallN</th>\n",
       "      <th>2monthcallN</th>\n",
       "      <th>3monthcallN</th>\n",
       "      <th>4monthcallN</th>\n",
       "      <th>5monthcallN</th>\n",
       "      <th>6monthcallN</th>\n",
       "      <th>7monthcallN</th>\n",
       "      <th>8monthcallN</th>\n",
       "      <th>9monthcallN</th>\n",
       "      <th>...</th>\n",
       "      <th>4profit</th>\n",
       "      <th>5profit</th>\n",
       "      <th>6profit</th>\n",
       "      <th>7profit</th>\n",
       "      <th>8profit</th>\n",
       "      <th>9profit</th>\n",
       "      <th>10profit</th>\n",
       "      <th>11profit</th>\n",
       "      <th>12profit</th>\n",
       "      <th>total_profit</th>\n",
       "    </tr>\n",
       "  </thead>\n",
       "  <tbody>\n",
       "    <tr>\n",
       "      <td>0</td>\n",
       "      <td>1000</td>\n",
       "      <td>NaN</td>\n",
       "      <td>NaN</td>\n",
       "      <td>NaN</td>\n",
       "      <td>NaN</td>\n",
       "      <td>17.0</td>\n",
       "      <td>28.0</td>\n",
       "      <td>41.0</td>\n",
       "      <td>42.0</td>\n",
       "      <td>46.0</td>\n",
       "      <td>...</td>\n",
       "      <td>1950.0</td>\n",
       "      <td>1950.0</td>\n",
       "      <td>1950.0</td>\n",
       "      <td>1950.0</td>\n",
       "      <td>1950.0</td>\n",
       "      <td>1950.0</td>\n",
       "      <td>1950.0</td>\n",
       "      <td>1950.0</td>\n",
       "      <td>1950.0</td>\n",
       "      <td>23400.0</td>\n",
       "    </tr>\n",
       "    <tr>\n",
       "      <td>1</td>\n",
       "      <td>1001</td>\n",
       "      <td>NaN</td>\n",
       "      <td>NaN</td>\n",
       "      <td>NaN</td>\n",
       "      <td>NaN</td>\n",
       "      <td>NaN</td>\n",
       "      <td>NaN</td>\n",
       "      <td>NaN</td>\n",
       "      <td>NaN</td>\n",
       "      <td>NaN</td>\n",
       "      <td>...</td>\n",
       "      <td>550.0</td>\n",
       "      <td>550.0</td>\n",
       "      <td>550.0</td>\n",
       "      <td>550.0</td>\n",
       "      <td>550.0</td>\n",
       "      <td>550.0</td>\n",
       "      <td>550.0</td>\n",
       "      <td>1350.0</td>\n",
       "      <td>550.0</td>\n",
       "      <td>6600.0</td>\n",
       "    </tr>\n",
       "    <tr>\n",
       "      <td>2</td>\n",
       "      <td>1002</td>\n",
       "      <td>NaN</td>\n",
       "      <td>NaN</td>\n",
       "      <td>NaN</td>\n",
       "      <td>NaN</td>\n",
       "      <td>NaN</td>\n",
       "      <td>14.0</td>\n",
       "      <td>21.0</td>\n",
       "      <td>37.0</td>\n",
       "      <td>25.0</td>\n",
       "      <td>...</td>\n",
       "      <td>550.0</td>\n",
       "      <td>550.0</td>\n",
       "      <td>550.0</td>\n",
       "      <td>1150.0</td>\n",
       "      <td>1550.0</td>\n",
       "      <td>950.0</td>\n",
       "      <td>550.0</td>\n",
       "      <td>1350.0</td>\n",
       "      <td>1150.0</td>\n",
       "      <td>7200.0</td>\n",
       "    </tr>\n",
       "    <tr>\n",
       "      <td>3</td>\n",
       "      <td>1003</td>\n",
       "      <td>NaN</td>\n",
       "      <td>NaN</td>\n",
       "      <td>NaN</td>\n",
       "      <td>NaN</td>\n",
       "      <td>NaN</td>\n",
       "      <td>NaN</td>\n",
       "      <td>NaN</td>\n",
       "      <td>43.0</td>\n",
       "      <td>105.0</td>\n",
       "      <td>...</td>\n",
       "      <td>1950.0</td>\n",
       "      <td>1950.0</td>\n",
       "      <td>1950.0</td>\n",
       "      <td>1950.0</td>\n",
       "      <td>1950.0</td>\n",
       "      <td>1950.0</td>\n",
       "      <td>1950.0</td>\n",
       "      <td>1950.0</td>\n",
       "      <td>1950.0</td>\n",
       "      <td>23400.0</td>\n",
       "    </tr>\n",
       "    <tr>\n",
       "      <td>4</td>\n",
       "      <td>1004</td>\n",
       "      <td>NaN</td>\n",
       "      <td>NaN</td>\n",
       "      <td>NaN</td>\n",
       "      <td>NaN</td>\n",
       "      <td>7.0</td>\n",
       "      <td>25.0</td>\n",
       "      <td>20.0</td>\n",
       "      <td>18.0</td>\n",
       "      <td>18.0</td>\n",
       "      <td>...</td>\n",
       "      <td>1950.0</td>\n",
       "      <td>1950.0</td>\n",
       "      <td>1950.0</td>\n",
       "      <td>1950.0</td>\n",
       "      <td>1950.0</td>\n",
       "      <td>1950.0</td>\n",
       "      <td>1950.0</td>\n",
       "      <td>1950.0</td>\n",
       "      <td>1950.0</td>\n",
       "      <td>23400.0</td>\n",
       "    </tr>\n",
       "    <tr>\n",
       "      <td>...</td>\n",
       "      <td>...</td>\n",
       "      <td>...</td>\n",
       "      <td>...</td>\n",
       "      <td>...</td>\n",
       "      <td>...</td>\n",
       "      <td>...</td>\n",
       "      <td>...</td>\n",
       "      <td>...</td>\n",
       "      <td>...</td>\n",
       "      <td>...</td>\n",
       "      <td>...</td>\n",
       "      <td>...</td>\n",
       "      <td>...</td>\n",
       "      <td>...</td>\n",
       "      <td>...</td>\n",
       "      <td>...</td>\n",
       "      <td>...</td>\n",
       "      <td>...</td>\n",
       "      <td>...</td>\n",
       "      <td>...</td>\n",
       "      <td>...</td>\n",
       "    </tr>\n",
       "    <tr>\n",
       "      <td>493</td>\n",
       "      <td>1106</td>\n",
       "      <td>NaN</td>\n",
       "      <td>NaN</td>\n",
       "      <td>NaN</td>\n",
       "      <td>NaN</td>\n",
       "      <td>NaN</td>\n",
       "      <td>NaN</td>\n",
       "      <td>NaN</td>\n",
       "      <td>NaN</td>\n",
       "      <td>NaN</td>\n",
       "      <td>...</td>\n",
       "      <td>1950.0</td>\n",
       "      <td>1950.0</td>\n",
       "      <td>1950.0</td>\n",
       "      <td>1950.0</td>\n",
       "      <td>1950.0</td>\n",
       "      <td>1950.0</td>\n",
       "      <td>1950.0</td>\n",
       "      <td>1950.0</td>\n",
       "      <td>1950.0</td>\n",
       "      <td>23400.0</td>\n",
       "    </tr>\n",
       "    <tr>\n",
       "      <td>494</td>\n",
       "      <td>1231</td>\n",
       "      <td>NaN</td>\n",
       "      <td>NaN</td>\n",
       "      <td>NaN</td>\n",
       "      <td>NaN</td>\n",
       "      <td>NaN</td>\n",
       "      <td>NaN</td>\n",
       "      <td>NaN</td>\n",
       "      <td>NaN</td>\n",
       "      <td>NaN</td>\n",
       "      <td>...</td>\n",
       "      <td>1950.0</td>\n",
       "      <td>1950.0</td>\n",
       "      <td>1950.0</td>\n",
       "      <td>1950.0</td>\n",
       "      <td>2250.0</td>\n",
       "      <td>2400.0</td>\n",
       "      <td>2100.0</td>\n",
       "      <td>1950.0</td>\n",
       "      <td>2250.0</td>\n",
       "      <td>23700.0</td>\n",
       "    </tr>\n",
       "    <tr>\n",
       "      <td>495</td>\n",
       "      <td>1328</td>\n",
       "      <td>NaN</td>\n",
       "      <td>NaN</td>\n",
       "      <td>NaN</td>\n",
       "      <td>NaN</td>\n",
       "      <td>NaN</td>\n",
       "      <td>NaN</td>\n",
       "      <td>NaN</td>\n",
       "      <td>NaN</td>\n",
       "      <td>NaN</td>\n",
       "      <td>...</td>\n",
       "      <td>1950.0</td>\n",
       "      <td>1950.0</td>\n",
       "      <td>1950.0</td>\n",
       "      <td>1950.0</td>\n",
       "      <td>1950.0</td>\n",
       "      <td>1950.0</td>\n",
       "      <td>1950.0</td>\n",
       "      <td>2700.0</td>\n",
       "      <td>3300.0</td>\n",
       "      <td>24750.0</td>\n",
       "    </tr>\n",
       "    <tr>\n",
       "      <td>496</td>\n",
       "      <td>1473</td>\n",
       "      <td>NaN</td>\n",
       "      <td>NaN</td>\n",
       "      <td>NaN</td>\n",
       "      <td>NaN</td>\n",
       "      <td>NaN</td>\n",
       "      <td>NaN</td>\n",
       "      <td>NaN</td>\n",
       "      <td>NaN</td>\n",
       "      <td>NaN</td>\n",
       "      <td>...</td>\n",
       "      <td>1950.0</td>\n",
       "      <td>1950.0</td>\n",
       "      <td>1950.0</td>\n",
       "      <td>1950.0</td>\n",
       "      <td>1950.0</td>\n",
       "      <td>1950.0</td>\n",
       "      <td>1950.0</td>\n",
       "      <td>1950.0</td>\n",
       "      <td>1950.0</td>\n",
       "      <td>23400.0</td>\n",
       "    </tr>\n",
       "    <tr>\n",
       "      <td>497</td>\n",
       "      <td>1489</td>\n",
       "      <td>NaN</td>\n",
       "      <td>NaN</td>\n",
       "      <td>NaN</td>\n",
       "      <td>NaN</td>\n",
       "      <td>NaN</td>\n",
       "      <td>NaN</td>\n",
       "      <td>NaN</td>\n",
       "      <td>NaN</td>\n",
       "      <td>NaN</td>\n",
       "      <td>...</td>\n",
       "      <td>550.0</td>\n",
       "      <td>550.0</td>\n",
       "      <td>550.0</td>\n",
       "      <td>550.0</td>\n",
       "      <td>550.0</td>\n",
       "      <td>950.0</td>\n",
       "      <td>1550.0</td>\n",
       "      <td>1150.0</td>\n",
       "      <td>950.0</td>\n",
       "      <td>7000.0</td>\n",
       "    </tr>\n",
       "  </tbody>\n",
       "</table>\n",
       "<p>498 rows × 70 columns</p>\n",
       "</div>"
      ],
      "text/plain": [
       "     user_id  1monthcallN  2monthcallN  3monthcallN  4monthcallN  5monthcallN  \\\n",
       "0       1000          NaN          NaN          NaN          NaN         17.0   \n",
       "1       1001          NaN          NaN          NaN          NaN          NaN   \n",
       "2       1002          NaN          NaN          NaN          NaN          NaN   \n",
       "3       1003          NaN          NaN          NaN          NaN          NaN   \n",
       "4       1004          NaN          NaN          NaN          NaN          7.0   \n",
       "..       ...          ...          ...          ...          ...          ...   \n",
       "493     1106          NaN          NaN          NaN          NaN          NaN   \n",
       "494     1231          NaN          NaN          NaN          NaN          NaN   \n",
       "495     1328          NaN          NaN          NaN          NaN          NaN   \n",
       "496     1473          NaN          NaN          NaN          NaN          NaN   \n",
       "497     1489          NaN          NaN          NaN          NaN          NaN   \n",
       "\n",
       "     6monthcallN  7monthcallN  8monthcallN  9monthcallN  ...  4profit  \\\n",
       "0           28.0         41.0         42.0         46.0  ...   1950.0   \n",
       "1            NaN          NaN          NaN          NaN  ...    550.0   \n",
       "2           14.0         21.0         37.0         25.0  ...    550.0   \n",
       "3            NaN          NaN         43.0        105.0  ...   1950.0   \n",
       "4           25.0         20.0         18.0         18.0  ...   1950.0   \n",
       "..           ...          ...          ...          ...  ...      ...   \n",
       "493          NaN          NaN          NaN          NaN  ...   1950.0   \n",
       "494          NaN          NaN          NaN          NaN  ...   1950.0   \n",
       "495          NaN          NaN          NaN          NaN  ...   1950.0   \n",
       "496          NaN          NaN          NaN          NaN  ...   1950.0   \n",
       "497          NaN          NaN          NaN          NaN  ...    550.0   \n",
       "\n",
       "     5profit  6profit  7profit  8profit  9profit  10profit  11profit  \\\n",
       "0     1950.0   1950.0   1950.0   1950.0   1950.0    1950.0    1950.0   \n",
       "1      550.0    550.0    550.0    550.0    550.0     550.0    1350.0   \n",
       "2      550.0    550.0   1150.0   1550.0    950.0     550.0    1350.0   \n",
       "3     1950.0   1950.0   1950.0   1950.0   1950.0    1950.0    1950.0   \n",
       "4     1950.0   1950.0   1950.0   1950.0   1950.0    1950.0    1950.0   \n",
       "..       ...      ...      ...      ...      ...       ...       ...   \n",
       "493   1950.0   1950.0   1950.0   1950.0   1950.0    1950.0    1950.0   \n",
       "494   1950.0   1950.0   1950.0   2250.0   2400.0    2100.0    1950.0   \n",
       "495   1950.0   1950.0   1950.0   1950.0   1950.0    1950.0    2700.0   \n",
       "496   1950.0   1950.0   1950.0   1950.0   1950.0    1950.0    1950.0   \n",
       "497    550.0    550.0    550.0    550.0    950.0    1550.0    1150.0   \n",
       "\n",
       "     12profit  total_profit  \n",
       "0      1950.0       23400.0  \n",
       "1       550.0        6600.0  \n",
       "2      1150.0        7200.0  \n",
       "3      1950.0       23400.0  \n",
       "4      1950.0       23400.0  \n",
       "..        ...           ...  \n",
       "493    1950.0       23400.0  \n",
       "494    2250.0       23700.0  \n",
       "495    3300.0       24750.0  \n",
       "496    1950.0       23400.0  \n",
       "497     950.0        7000.0  \n",
       "\n",
       "[498 rows x 70 columns]"
      ]
     },
     "execution_count": 29,
     "metadata": {},
     "output_type": "execute_result"
    }
   ],
   "source": [
    "stat6"
   ]
  },
  {
   "cell_type": "markdown",
   "metadata": {},
   "source": [
    "#### Вывод по подготовке данных \n",
    "1. Нулевые звонки и пустые интернет сессии всё ещё ничего не стоят клиенту. Эти \"нули\" заменены на NaN таким образом они не будут влиять на распределения.\n",
    "2. Выручка равна месячной абонентской плате, при условии что абонент не растратил свой пакет(звонки, интернет и смс) .\n",
    "3. Учтенно округление в большую сторону минут и мегабайтов.\n",
    "4. Учтенно что при превышении интернет трафика клиент сразу платит за 1 гб интернета. "
   ]
  },
  {
   "cell_type": "markdown",
   "metadata": {},
   "source": [
    "# Шаг 3. Анализ данных"
   ]
  },
  {
   "cell_type": "markdown",
   "metadata": {},
   "source": [
    "Поведение клиентов оператора.\n",
    "1. Сколько {_} требуется пользователям каждого тарифа в месяц?:\n",
    "    1. минут разговора\n",
    "    2. сообщений \n",
    "    3. какой объём интернет-трафика \n",
    "2. Посчитайте среднее количество, дисперсию и стандартное отклонение. \n",
    "3. Постройте гистограммы.\n",
    "4. Опишите распределения."
   ]
  },
  {
   "cell_type": "markdown",
   "metadata": {},
   "source": [
    "Замечания \n",
    "1. stat6[month_profit] - содержит выручку \n",
    "    1. month_profit - это месяца выручки\n",
    "2. stat6['total_profit'] - выручка с клиента за год\n",
    "3. stat5[] - содержит продолжительность звонков, колво смс и интернета потраченного пользователем\n",
    "    1. monthcallDuration тут столбцы с продолжительностью звонков\n",
    "    2. monthmessageN с количеством смс\n",
    "    3. monthintUse с объёмом иследуемого интернета\\\n",
    "4. столбец с тарифом -  tariff"
   ]
  },
  {
   "cell_type": "markdown",
   "metadata": {},
   "source": [
    "Сперва посмотрим на сумарный доход с каждого тарифа"
   ]
  },
  {
   "cell_type": "code",
   "execution_count": 30,
   "metadata": {},
   "outputs": [
    {
     "data": {
      "image/png": "[encoded data removed]",
      "text/plain": [
       "<Figure size 432x288 with 1 Axes>"
      ]
     },
     "metadata": {
      "needs_background": "light"
     },
     "output_type": "display_data"
    },
    {
     "name": "stdout",
     "output_type": "stream",
     "text": [
      "Количество пользователей тарифом:\n",
      " smart    351\n",
      "ultra    149\n",
      "Name: tariff, dtype: int64\n",
      "Доход за год от пользователей smart больше дохода от ultra на 387351.0  рублей и больше в 1.1081246074613742 раз.\n"
     ]
    }
   ],
   "source": [
    "ultra_profit=[]\n",
    "smart_profit=[]\n",
    "alpha = 0.05\n",
    "for month in month_profit:\n",
    "    ultra_profit+=list(stat6[stat6['tariff'] == 'ultra'][month].values)\n",
    "    smart_profit+=list(stat6[stat6['tariff'] == 'smart'][month].values)\n",
    "plt.hist(smart_profit,color = 'g',label = 'smart' , bins = 20 )\n",
    "plt.hist(ultra_profit,color = 'r', label = 'ultra' , bins = 20)\n",
    "plt.grid()\n",
    "plt.legend(loc='upper right')\n",
    "\n",
    "plt.show()\n",
    "print('Количество пользователей тарифом:\\n', dusers['tariff'].value_counts())\n",
    "print('Доход за год от пользователей smart больше дохода от ultra на', sum(smart_profit) -sum(ultra_profit), ' рублей и больше в' , sum(smart_profit) /sum(ultra_profit), 'раз.')"
   ]
  },
  {
   "cell_type": "markdown",
   "metadata": {},
   "source": [
    "####  Вывод по сумарному доходу\n",
    "1. Основное количество людей платит только абонентскую плату и не выходит за пределы базового пакета. Это видно по пику на абонентской плате и маленьком хвосте справа.\n",
    "2. Поскольку невозможно заплатить меньше чем размер абонетской платы - хвосты есть только справа. Это к вопросу о том что у нормального распределения хвосты и справа и слева от среднего, а тут распределение сильно скошено влево. И неочевидно можно ли прибегать к t-test`у.\n",
    "3. Доходы от обоих тарифов отличаются всего на 2957 рублей, что совсем не много, примерно 0,08 процента. Можно считать что сумарный годовой доход одинаков для обоих. "
   ]
  },
  {
   "cell_type": "markdown",
   "metadata": {},
   "source": [
    "###### Сколько минут разговора требуется пользователям каждого тарифа в месяц?   "
   ]
  },
  {
   "cell_type": "code",
   "execution_count": 31,
   "metadata": {},
   "outputs": [
    {
     "data": {
      "image/png": "[encoded data removed]",
      "text/plain": [
       "<Figure size 432x288 with 1 Axes>"
      ]
     },
     "metadata": {
      "needs_background": "light"
     },
     "output_type": "display_data"
    }
   ],
   "source": [
    "plt.plot(stat5[stat5['tariff'] == 'smart'][monthcallDuration].describe().loc['mean',:], color='g', lw=70 , alpha=0.1)\n",
    "plt.plot(stat5[stat5['tariff'] == 'smart'][monthcallDuration].describe().loc['mean',:],label='smart', color='g', lw=7)\n",
    "plt.plot(stat5[stat5['tariff'] == 'smart'][monthcallDuration].describe().loc['mean',:] - stat5[stat5['tariff'] == 'smart'][monthcallDuration].describe().loc['std',:],color = 'g', ls = '--' )\n",
    "plt.plot(stat5[stat5['tariff'] == 'smart'][monthcallDuration].describe().loc['mean',:] + stat5[stat5['tariff'] == 'smart'][monthcallDuration].describe().loc['std',:],color = 'g', ls = '--')\n",
    "\n",
    "plt.plot(stat5[stat5['tariff'] == 'ultra'][monthcallDuration].describe().loc['mean',:],color='r', lw=110 , alpha=0.1)\n",
    "plt.plot(stat5[stat5['tariff'] == 'ultra'][monthcallDuration].describe().loc['mean',:],label='ultra', color='r', lw=7)\n",
    "plt.plot(stat5[stat5['tariff'] == 'ultra'][monthcallDuration].describe().loc['mean',:] - stat5[stat5['tariff'] == 'ultra'][monthcallDuration].describe().loc['std',:], color = 'r', ls = '--')\n",
    "plt.plot(stat5[stat5['tariff'] == 'ultra'][monthcallDuration].describe().loc['mean',:] + stat5[stat5['tariff'] == 'ultra'][monthcallDuration].describe().loc['std',:], color = 'r', ls = '--')\n",
    "\n",
    "plt.legend(loc='lower right')\n",
    "plt.title(\"Сравнение средней продолжительности звонков по месяцам для абонентов двух тарифов\")\n",
    "plt.xlabel('Месяц')\n",
    "plt.ylabel('Средняя продолжительность звонков, мин')\n",
    "plt.grid()\n",
    "plt.show()"
   ]
  },
  {
   "cell_type": "markdown",
   "metadata": {},
   "source": [
    "###### Пояснения для графика:\n",
    "1. Зеленная широкая - средняя продолжительность звонков у абонентов smart\n",
    "2. Красная широкая - средняя продолжительность звонков у абонентов ultra\n",
    "3. Зеленная пунктирная - показывает интервал равной 1 сигме от средней продолжительности звонков у абонентов smart\n",
    "4. Красная пунктирная - показывает интервал равной 1 сигме от средней продолжительности звонков у абонентов ultra\n",
    "5. Ещё я предпринял попытку закрасить области которые покрывают этот интервал. Поскольку тут стандартное отклонение не сильно изменяется для визуализации сойдёт.наверное. \n",
    "\n",
    "##### Вывод для средней продолжительности звонков по месяцам для абонентов двух тарифов\n",
    "1. Средняя продолжительность растёт в течении года и становится максимальной в декабре. \n",
    "2. Пользователя тарифа ultra звонят больше чем пользователи тарифа smart.\n",
    "3. Стандартное отклонение средней продолжительности звонков для пользователей тарифа smart \"залезает\" на среднее значение ultra. На эту же мысль наводит гистограмма сумарного дохода тарифов за год приведенная ранее. "
   ]
  },
  {
   "cell_type": "markdown",
   "metadata": {},
   "source": [
    "###### Сколько сообщений требуется пользователям каждого тарифа в месяц?"
   ]
  },
  {
   "cell_type": "code",
   "execution_count": 32,
   "metadata": {},
   "outputs": [
    {
     "data": {
      "image/png": "[encoded data removed]",
      "text/plain": [
       "<Figure size 432x288 with 1 Axes>"
      ]
     },
     "metadata": {
      "needs_background": "light"
     },
     "output_type": "display_data"
    }
   ],
   "source": [
    "plt.plot(stat5[stat5['tariff'] == 'smart'][monthmessageN].describe().loc['mean',:], color='g', lw=70 , alpha=0.1)\n",
    "plt.plot(stat5[stat5['tariff'] == 'smart'][monthmessageN].describe().loc['mean',:],label='smart', color='g', lw=7)\n",
    "plt.plot(stat5[stat5['tariff'] == 'smart'][monthmessageN].describe().loc['mean',:] - stat5[stat5['tariff'] == 'smart'][monthmessageN].describe().loc['std',:],color = 'g', ls = '--' )\n",
    "plt.plot(stat5[stat5['tariff'] == 'smart'][monthmessageN].describe().loc['mean',:] + stat5[stat5['tariff'] == 'smart'][monthmessageN].describe().loc['std',:],color = 'g', ls = '--')\n",
    "\n",
    "plt.plot(stat5[stat5['tariff'] == 'ultra'][monthmessageN].describe().loc['mean',:],color='r', lw=110 , alpha=0.1)\n",
    "plt.plot(stat5[stat5['tariff'] == 'ultra'][monthmessageN].describe().loc['mean',:],label='ultra', color='r', lw=7)\n",
    "plt.plot(stat5[stat5['tariff'] == 'ultra'][monthmessageN].describe().loc['mean',:] - stat5[stat5['tariff'] == 'ultra'][monthmessageN].describe().loc['std',:], color = 'r', ls = '--')\n",
    "plt.plot(stat5[stat5['tariff'] == 'ultra'][monthmessageN].describe().loc['mean',:] + stat5[stat5['tariff'] == 'ultra'][monthmessageN].describe().loc['std',:], color = 'r', ls = '--')\n",
    "\n",
    "plt.legend(loc='lower right')\n",
    "plt.title(\"Сравнение среднего количества смс по месяцам для абонентов двух тарифов\")\n",
    "plt.xlabel('Месяц')\n",
    "plt.ylabel('Среднее количество см, штук')\n",
    "\n",
    "plt.grid()\n",
    "plt.show()"
   ]
  },
  {
   "cell_type": "markdown",
   "metadata": {},
   "source": [
    "###### Пояснения для графика:\n",
    "1. Зеленная широкая - среднее количество смс у абонентов smart\n",
    "2. Красная широкая - среднее количество смс у абонентов ultra\n",
    "3. Зеленная пунктирная - показывает интервал равной 1 сигме от среднего количества смс у абонентов smart\n",
    "4. Красная пунктирная - показывает интервал равной 1 сигме от среднего количества смс у абонентов ultra\n",
    "5. Тут стандартное отклонение меняется ощутимо и придуманый метод визуализации не выполняет свою функцию - отражает заметённый интервал стандартного отклонения. \n",
    "\n",
    "##### Вывод для среднего количества смс по месяцам для абонентов двух тарифов\n",
    "1. Среднее количество смс растёт в течении года и становится максимальной в декабре для абонентов ultra,  а для абонентов smart остаётся примерно большую часть года одинаковой. \n",
    "2. Пользователя тарифа ultra первые 5 месяцев отправляют примерно одинаковое количество смс потом это количество растёт.\n",
    "3. Стандартное отклонение среднего количества смс для пользователей тарифа smart \"залезает\" на среднее значение ultra. На эту же мысль наводит гистограмма сумарного дохода тарифов за год приведенная ранее. "
   ]
  },
  {
   "cell_type": "markdown",
   "metadata": {},
   "source": [
    "###### Какой объём интернет трафика требуется пользователям каждого тарифа в месяц?"
   ]
  },
  {
   "cell_type": "code",
   "execution_count": 33,
   "metadata": {},
   "outputs": [
    {
     "data": {
      "image/png": "[encoded data removed]",
      "text/plain": [
       "<Figure size 432x288 with 1 Axes>"
      ]
     },
     "metadata": {
      "needs_background": "light"
     },
     "output_type": "display_data"
    }
   ],
   "source": [
    "plt.plot(stat5[stat5['tariff'] == 'smart'][monthintUse].describe().loc['mean',:], color='g', lw=70 , alpha=0.1)\n",
    "plt.plot(stat5[stat5['tariff'] == 'smart'][monthintUse].describe().loc['mean',:],label='smart', color='g', lw=7)\n",
    "plt.plot(stat5[stat5['tariff'] == 'smart'][monthintUse].describe().loc['mean',:] - stat5[stat5['tariff'] == 'smart'][monthintUse].describe().loc['std',:],color = 'g', ls = '--' )\n",
    "plt.plot(stat5[stat5['tariff'] == 'smart'][monthintUse].describe().loc['mean',:] + stat5[stat5['tariff'] == 'smart'][monthintUse].describe().loc['std',:],color = 'g', ls = '--')\n",
    "\n",
    "plt.plot(stat5[stat5['tariff'] == 'ultra'][monthintUse].describe().loc['mean',:],color='r', lw=110 , alpha=0.1)\n",
    "plt.plot(stat5[stat5['tariff'] == 'ultra'][monthintUse].describe().loc['mean',:],label='ultra', color='r', lw=7)\n",
    "plt.plot(stat5[stat5['tariff'] == 'ultra'][monthintUse].describe().loc['mean',:] - stat5[stat5['tariff'] == 'ultra'][monthintUse].describe().loc['std',:], color = 'r', ls = '--')\n",
    "plt.plot(stat5[stat5['tariff'] == 'ultra'][monthintUse].describe().loc['mean',:] + stat5[stat5['tariff'] == 'ultra'][monthintUse].describe().loc['std',:], color = 'r', ls = '--')\n",
    "\n",
    "plt.legend(loc='lower right')\n",
    "plt.title(\"Сравнение объёма интернет трафика по месяцам для абонентов двух тарифов\")\n",
    "plt.xlabel('Месяц')\n",
    "plt.ylabel('Средний объём интернет трафика, мб')\n",
    "\n",
    "plt.grid()\n",
    "plt.show()"
   ]
  },
  {
   "cell_type": "markdown",
   "metadata": {},
   "source": [
    "###### Пояснения для графика:\n",
    "1. Зеленная широкая - объём интернет трафика смс у абонентов smart\n",
    "2. Красная широкая - объём интернет трафика у абонентов ultra\n",
    "3. Зеленная пунктирная - показывает интервал равной 1 сигме от объёма интернет трафика у абонентов smart\n",
    "4. Красная пунктирная - показывает интервал равной 1 сигме от объёма интернет трафика у абонентов ultra\n",
    "\n",
    "\n",
    "##### Вывод для объёма интернет трафика по месяцам для абонентов двух тарифов\n",
    "1. Объём интернет трафика растёт в течении года и становится максимальной в декабре. \n",
    "2. Пользователя тарифа ultra первые 2 месяца (февраль - март) используют примерно одинаковый объём интернет трафика потом он растёт растёт.\n",
    "3. Стандартное отклонение объёма интернет трафика для пользователей тарифа smart \"залезает\" на среднее значение ultra. На эту же мысль наводит гистограмма сумарного дохода тарифов за год приведенная ранее. "
   ]
  },
  {
   "cell_type": "markdown",
   "metadata": {},
   "source": [
    "print('Есть ли разница между работой метода describe и std с параметров ddof=1?\\n',stat5[stat5['tariff'] == 'ultra'][monthmessageN].describe().loc['std',:]-\n",
    "np.std(stat5[stat5['tariff'] == 'ultra'][monthmessageN], ddof = 1))"
   ]
  },
  {
   "cell_type": "markdown",
   "metadata": {},
   "source": [
    "Разницы нет."
   ]
  },
  {
   "cell_type": "markdown",
   "metadata": {},
   "source": [
    "####  Вывод для интернета\n",
    "1. Для пользователей тарифов смарт кол-во смсок растёт с в течении года в то время как для тарифа смарт выходит на асимптоту к маю и остается постоянным\n",
    "2. Пользователи тарифа ultra используют больше мб интернета."
   ]
  },
  {
   "cell_type": "code",
   "execution_count": 34,
   "metadata": {},
   "outputs": [
    {
     "data": {
      "image/png": "[encoded data removed]",
      "text/plain": [
       "<Figure size 432x288 with 1 Axes>"
      ]
     },
     "metadata": {
      "needs_background": "light"
     },
     "output_type": "display_data"
    }
   ],
   "source": [
    "plt.plot(stat6[stat6['tariff'] == 'smart'][month_profit].describe().loc['mean',:],label='smart', color='g', lw=7)\n",
    "plt.plot(stat6[stat6['tariff'] == 'smart'][month_profit].describe().loc['mean',:] - stat6[stat6['tariff'] == 'smart'][month_profit].describe().loc['std',:],color = 'g', ls = '--' )\n",
    "plt.plot(stat6[stat6['tariff'] == 'smart'][month_profit].describe().loc['mean',:] + stat6[stat6['tariff'] == 'smart'][month_profit].describe().loc['std',:],color = 'g', ls = '--')\n",
    "\n",
    "plt.plot(stat6[stat6['tariff'] == 'ultra'][month_profit].describe().loc['mean',:],label='ultra', color='r', lw=7)\n",
    "plt.plot(stat6[stat6['tariff'] == 'ultra'][month_profit].describe().loc['mean',:] - stat6[stat6['tariff'] == 'ultra'][month_profit].describe().loc['std',:], color = 'r', ls = '--')\n",
    "plt.plot(stat6[stat6['tariff'] == 'ultra'][month_profit].describe().loc['mean',:] + stat6[stat6['tariff'] == 'ultra'][month_profit].describe().loc['std',:], color = 'r', ls = '--')\n",
    "\n",
    "plt.legend(loc='lower right')\n",
    "plt.title(\"Сравнение средней выручки по месяцам для абонентов двух тарифов\")\n",
    "plt.xlabel('Месяц')\n",
    "plt.ylabel('Средняя выручка, рубли')\n",
    "\n",
    "plt.grid()\n",
    "plt.show()"
   ]
  },
  {
   "cell_type": "markdown",
   "metadata": {},
   "source": [
    "###### Пояснения для графика:\n",
    "1. Зеленная широкая - средняя выручка у абонентов smart\n",
    "2. Красная широкая - средняя выручка у абонентов ultra\n",
    "3. Зеленная пунктирная - показывает интервал равной 1 сигме от средней выручки у абонентов smart\n",
    "4. Красная пунктирная - показывает интервал равной 1 сигме от средней выручки у абонентов ultra\n",
    "\n",
    "\n",
    "##### Вывод для средней выручки по месяцам для абонентов двух тарифов\n",
    "1. Средняя выручка и стандартное отклонение растёт в течении года у пользователей тарифа smart. Для пользователей тарифа  ultra она примерна одна и та же и близка к абонентской плате. \n",
    "2. Выручка и её стандартное отклонение с пользователей тарифа smart растёт в течении года. Таким образом максимальное значение больше минимального примерно в 2 раза. Но всё ещё меньше чем выручка для пользователей тарифа ultra.\n",
    "3. Стандартное отклонение выручки для пользователей тарифа smart \"залезает\" на среднее значение ultra отлько в 1 месяц в году - в декабре. На эту же мысль наводит гистограмма сумарного дохода тарифов за год приведенная ранее. То что разброс увеличивается может говорить о том что пользователи тарифа smart с течением времени чаще выходят за рамки своего пакета. \n",
    "\n",
    "        \n",
    "  P.S. Я сам имею тариф на подобие ультры, и тут мне стало ещё более очевидно что я переплачиваю, ведь врятли я сильно отличаюсь от обычных людей из этого датасета. Но причина по которой я остаюсь на таком тарифе в том что я плачу за спокойствие и равнодушие к тому сколько трафика я потрачу. "
   ]
  },
  {
   "cell_type": "markdown",
   "metadata": {},
   "source": [
    "## Общий вывод по этапу анализа данных\n",
    "1. Пользователей с тарифом smart в 2 раза больше чем пользователей с тарифом ultra. \n",
    "2. Сумарный годовой доход с пользователей этих отличается на 10%. Тоесть пользователи тарифа смарт больше приносят денег компании. \n",
    "3. Основная часть не покидает пределов базового пакета. Об этом говорит выручка за месяц равная абонетской плате для обоих тарифов.\n",
    "    1. Это более справедливо для пользоватей тарифа ultra чем для пользователей тарифа smart. Это видно на графике выручки по месяцам.\n",
    "4. Продолжительность звонков, количество смс и объём интеренет трафика растут в течении года. \n",
    "5. Выручка по месяца для пользователей тарифа smart растёт в течении года(max больше min в ~4 раза). Также увеличивается разброс и всё меньше людей не выходят за пределы базавого пакета. \n",
    "\n",
    "        На следующем этапе проверим некоторые гипотезы указанные в задании и не только. \n",
    "        P.S. И без t-testa видно что средняя выручка различна для пользователей этих тарифов.\n",
    "\n"
   ]
  },
  {
   "cell_type": "markdown",
   "metadata": {},
   "source": [
    "## Шаг 4. Проверка гипотез\n",
    "1. средняя выручка пользователей тарифов «Ультра» и «Смарт» различается;\n",
    "2. средняя выручка пользователей из Москвы отличается от выручки пользователей из других регионов;\n",
    "   \n",
    "   Пороговое значение alpha задаю равным  0.05.\n",
    "    \n",
    "    Поясните:\n",
    "1. как вы формулировали нулевую и альтернативную гипотезы;\n",
    "2. какой критерий использовали для проверки гипотез и почему."
   ]
  },
  {
   "cell_type": "markdown",
   "metadata": {},
   "source": [
    "#### Гипотеза 1. Средняя выручка пользователей тарифов «Ультра» и «Смарт» различается\n"
   ]
  },
  {
   "cell_type": "markdown",
   "metadata": {},
   "source": [
    "    Моя нулевая гипотеза такова:\n",
    "    Н_0 = [средняя выручка пользователей тарифов «Ультра» и «Смарт» одинакова]\n",
    "    Моя альтернатиная гипотеза:\n",
    "    Н_1 = [средняя выручка пользователей тарифов «Ультра» и «Смарт» различается]"
   ]
  },
  {
   "cell_type": "markdown",
   "metadata": {},
   "source": [
    "Честно сказать посмотрев данные становится понято что тут есть  в каждом месяце до 10 выбросов по выручке а все остальные значения выручки равны просто абонентской плате. В разве это нормальное распределение чтобы пользоваться ттестом?\n",
    "Распределение начинается от абонентской платы, и было показано что их больше всего. Среднее чуть больше чем абонетская плата. Меньше чем абонентская плата заплатить нельзя. можно только больше. "
   ]
  },
  {
   "cell_type": "code",
   "execution_count": 35,
   "metadata": {},
   "outputs": [
    {
     "data": {
      "image/png": "[encoded data removed]",
      "text/plain": [
       "<Figure size 432x288 with 1 Axes>"
      ]
     },
     "metadata": {
      "needs_background": "light"
     },
     "output_type": "display_data"
    },
    {
     "name": "stdout",
     "output_type": "stream",
     "text": [
      "Количество пользователей тарифом:\n",
      " smart    351\n",
      "ultra    149\n",
      "Name: tariff, dtype: int64\n",
      "Доход за год от пользователей smart больше дохода от ultra на 387351.0  рублей и больше в 1.1081246074613742 раз.\n"
     ]
    }
   ],
   "source": [
    "\n",
    "ultra_profit=[]\n",
    "smart_profit=[]\n",
    "alpha = 0.05\n",
    "for month in month_profit:\n",
    "    ultra_profit+=list(stat6[stat6['tariff'] == 'ultra'][month].values)\n",
    "    smart_profit+=list(stat6[stat6['tariff'] == 'smart'][month].values)\n",
    "plt.hist(smart_profit,color = 'g',label = 'smart' , bins = 20 )\n",
    "plt.hist(ultra_profit,color = 'r', label = 'ultra' , bins = 20)\n",
    "plt.grid()\n",
    "plt.legend(loc='upper right')\n",
    "plt.title('Распределение выручки для двух тарифов')\n",
    "plt.xlabel('Выручка, рулбли')\n",
    "plt.ylabel('Количество упавшее в корзину')\n",
    "plt.show()\n",
    "print('Количество пользователей тарифом:\\n', dusers['tariff'].value_counts())\n",
    "print('Доход за год от пользователей smart больше дохода от ultra на', sum(smart_profit) -sum(ultra_profit), ' рублей и больше в' , sum(smart_profit) /sum(ultra_profit), 'раз.')"
   ]
  },
  {
   "cell_type": "code",
   "execution_count": 36,
   "metadata": {},
   "outputs": [],
   "source": [
    "'''Подготовим данные перед работой со статичтисекими критериями- избавимся от выбросов'''\n",
    "stat7=stat6.copy()\n",
    "\n",
    "ustd=np.std(stat7[stat7['tariff']=='ultra']['total_profit'],ddof=1)\n",
    "sstd=np.std(stat6[stat6['tariff']=='smart']['total_profit'],ddof=1)"
   ]
  },
  {
   "cell_type": "markdown",
   "metadata": {},
   "source": [
    "Обоснование применения t-теста.\n",
    "1. Мы исследуем количественные данные.\n",
    "2. Данные в нашем распределние распределены ненормально.\n",
    "3. Сами данные независимы. \n",
    "Всем известное дерево выбора статистических критериев подсказывает нам что стоит поспользоваться критерием Манна - Уитни. \n",
    "Однако вот какой довод я нашёл в пользу t-теста.\n",
    "В статье было сказано что при больший выборках(от 50) выборочное среднее (в том случае когда исходное распределение не нормальное) всё равно стремится к нормальному распределению выборочного среднего. \n",
    "\n"
   ]
  },
  {
   "cell_type": "code",
   "execution_count": 37,
   "metadata": {},
   "outputs": [
    {
     "name": "stdout",
     "output_type": "stream",
     "text": [
      "ultra var= 220419.53943739663 \n",
      "smart var= 1071240.8057715923\n"
     ]
    }
   ],
   "source": [
    "\"\"\"Выполним сравнение дисперсий\"\"\"\n",
    "print('ultra var=',np.var(stat7[stat7['tariff']=='ultra']['total_profit'],ddof=1) ,'\\nsmart var=', np.var(stat6[stat6['tariff']=='smart']['total_profit'],ddof=1))"
   ]
  },
  {
   "cell_type": "markdown",
   "metadata": {},
   "source": [
    "Дисперсия различается у них в 20 раз +-. Стоит поставить equal_var = False"
   ]
  },
  {
   "cell_type": "code",
   "execution_count": 38,
   "metadata": {},
   "outputs": [],
   "source": [
    "uq3=stat7[stat7['tariff']=='ultra']['total_profit'].describe().loc['75%']+1.5*ustd\n",
    "sq3=stat7[stat7['tariff']=='smart']['total_profit'].describe().loc['75%']+1.5*sstd\n",
    "\n",
    "# Для очистки ,будем использовать стандартный диапазон [Q1 - 1.5 * IQR (межквартильный размах), Q3 + 1.5 * IQR].\n",
    "# притом что данные распределены не нормально, и от максимума имеют хвост справа то слева нечего откидывать, и не будем\n",
    "\n",
    "stat7['Uprofit']=stat7[(stat7['tariff']=='ultra')&(stat7['total_profit']< uq3 )]['total_profit']\n",
    "stat7['Sprofit']=stat7[(stat7['tariff']=='smart')&(stat7['total_profit']< sq3 )]['total_profit']"
   ]
  },
  {
   "cell_type": "code",
   "execution_count": 39,
   "metadata": {},
   "outputs": [
    {
     "name": "stdout",
     "output_type": "stream",
     "text": [
      "p-значение: 0.0\n",
      "Отвергаем нулевую гипотезу\n"
     ]
    }
   ],
   "source": [
    "alpha = 0.05\n",
    "# ttest_ind это проверка гипотезы о равенстве среднего двух генеральных совокупностей по взятым из них выборкам \n",
    "results = st.ttest_ind(list(stat7['Uprofit'].dropna()), list(stat7['Sprofit'].dropna()),  equal_var = False) \n",
    "print('p-значение:', results.pvalue)\n",
    "if (results.pvalue < alpha):\n",
    "    print(\"Отвергаем нулевую гипотезу\")\n",
    "else:\n",
    "    print(\"Не получилось отвергнуть нулевую гипотезу\")"
   ]
  },
  {
   "cell_type": "markdown",
   "metadata": {},
   "source": [
    "####  Вывод для проверки гипотезы 1 \"о различии выручки для этих тарифов\"\n",
    "      Нулевую гипотезу о том что эти выручки равны пришлось отвергнуть, альтернативой было то что они не равны. Ещё это значит что они различаются не случайно. И в самом деле, ранее мы видели что всё зависит от абонетской платы (в основном) и объёма пакета который пользователи обычно не превышают.\n",
    "      \n",
    "      P.S. И получается у нас нет данных противоречащей гипотезе о том что выручки различаются. Но это не значит что их не может существовать. \n"
   ]
  },
  {
   "cell_type": "markdown",
   "metadata": {},
   "source": [
    "#### Гипотеза 2. Средняя выручка пользователей из Москвы отличается от выручки пользователей из других регионов;\n",
    "    Н_0 = [средняя выручка пользователей из Москвы РАВНА выручке пользователей из других регионов]\n",
    "    Н_1 = [редняя выручка пользователей из Москвы ОТЛИЧАЕТСЯ от выручки пользователей из других регионов]\n"
   ]
  },
  {
   "cell_type": "code",
   "execution_count": 40,
   "metadata": {},
   "outputs": [],
   "source": [
    "stat8=stat7.copy()\n",
    "stat9=stat8.merge(dusers.loc[:,['user_id','city']], on = 'user_id', how = 'left' )\n",
    "                 "
   ]
  },
  {
   "cell_type": "code",
   "execution_count": 41,
   "metadata": {},
   "outputs": [
    {
     "name": "stdout",
     "output_type": "stream",
     "text": [
      "p-значение: 0.6278533670506957\n",
      "Не получилось отвергнуть нулевую гипотезу\n"
     ]
    },
    {
     "data": {
      "image/png": "[encoded data removed]",
      "text/plain": [
       "<Figure size 432x288 with 1 Axes>"
      ]
     },
     "metadata": {
      "needs_background": "light"
     },
     "output_type": "display_data"
    },
    {
     "name": "stdout",
     "output_type": "stream",
     "text": [
      "p-значение: 0.6278533670506957\n",
      "Не получилось отвергнуть нулевую гипотезу\n"
     ]
    }
   ],
   "source": [
    "alpha = 0.05\n",
    "# ttest_ind это проверка гипотезы о равенстве среднего двух генеральных совокупностей по взятым из них выборкам \n",
    "results = st.ttest_ind(list(stat9[stat9['city']=='Москва']['total_profit'].dropna()), list(\n",
    "stat9[stat9['city']!='Москва']['total_profit'].dropna()),  equal_var = False) \n",
    "print('p-значение:', results.pvalue)\n",
    "if (results.pvalue < alpha):\n",
    "    print(\"Отвергаем нулевую гипотезу\")\n",
    "else:\n",
    "    print(\"Не получилось отвергнуть нулевую гипотезу\")\n",
    "plt.hist(stat9[stat9['city']!='Москва']['total_profit'],color = 'y', label = 'NotMoscow_profit' , bins = 20)\n",
    "plt.hist(stat9[stat9['city']=='Москва']['total_profit'],color = 'm',label = 'Moscow_profit' , bins = 20 )\n",
    "\n",
    "plt.grid()\n",
    "plt.legend(loc='upper right')\n",
    "plt.show()\n",
    "\n",
    "print('p-значение:', results.pvalue)\n",
    "if (results.pvalue < alpha):\n",
    "    print(\"Отвергаем нулевую гипотезу\")\n",
    "else:\n",
    "    print(\"Не получилось отвергнуть нулевую гипотезу\")\n"
   ]
  },
  {
   "cell_type": "markdown",
   "metadata": {},
   "source": [
    "####  Вывод для проверки гипотезы 2 \"о различии выручки для москвы и регионов\"\n",
    "    Не получилось отвергнуть нулевую гипотезу о том что выручка одинаковая для москвы и регионов. P-value - 20% для всего датасета. Это значит что эти выборки равны с вероятностью 20%. "
   ]
  },
  {
   "cell_type": "markdown",
   "metadata": {},
   "source": [
    "#### Как я форрмулировал нулевую и альтернативную гипотезы.\n",
    "1. Я сформулировал нулевую гипотезу во всех случаях так, чтобы проверялось равны ли средниее значения в изучаемых датасетах. \n",
    "2. Соответсвенно альтернативной гипотезой стала что они не равны. "
   ]
  },
  {
   "cell_type": "markdown",
   "metadata": {},
   "source": [
    "### Вывод к работе с гипотезами. \n",
    "1. Средняя выручка для тарифов различна. Средняя выручка длы тарифа ultra выше.\n",
    "    1. При этом суммарная выручка за год для тарифов примерно одинаковая.\n",
    "2. Выручки для различных городов одинаковы с вероятностью 20%. \n",
    "3. Выручки для молодый и старых одинаковы с вероятность 69%."
   ]
  },
  {
   "cell_type": "markdown",
   "metadata": {},
   "source": [
    "### Шаг 5.Общий вывод\n",
    "\n",
    "Основной целью этой работы является выявление более прибыльного тарифа и формирование предложений по улучшению маркетинговой компании(найти какая группа лиц приносит больший доход). \n",
    "На основании проделаной работы можно предположить что тариф Ультра более перспективен в этом вопросе. Средняя выручка у него от 2 до 4х раз больше чем для тарифа Смарт. И не смотря на то что общая выручку сумарную приносят пользователи тарифа смарт, именно увеличение числа пользователей тарифа Ультра принесёт больше денег на 1 нового клиента."
   ]
  }
 ],
 "metadata": {
  "kernelspec": {
   "display_name": "Python 3",
   "language": "python",
   "name": "python3"
  },
  "language_info": {
   "codemirror_mode": {
    "name": "ipython",
    "version": 3
   },
   "file_extension": ".py",
   "mimetype": "text/x-python",
   "name": "python",
   "nbconvert_exporter": "python",
   "pygments_lexer": "ipython3",
   "version": "3.7.6"
  }
 },
 "nbformat": 4,
 "nbformat_minor": 4
}
