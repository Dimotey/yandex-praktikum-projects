{
 "cells": [
  {
   "cell_type": "markdown",
   "metadata": {},
   "source": [
    "# 1. Подготовка данных"
   ]
  },
  {
   "cell_type": "code",
   "execution_count": 1,
   "metadata": {},
   "outputs": [],
   "source": [
    "import pandas as pd\n",
    "import numpy as np\n",
    "import timeit\n",
    "start_time_all = timeit.default_timer()\n",
    "\n",
    "from sklearn.tree import DecisionTreeRegressor\n",
    "from sklearn.ensemble import RandomForestRegressor\n",
    "from sklearn.linear_model import SGDRegressor\n",
    "from sklearn.model_selection import train_test_split, GridSearchCV\n",
    "\n",
    "from sklearn.preprocessing import OrdinalEncoder\n",
    "\n",
    "import lightgbm as lgb\n",
    "from lightgbm import LGBMRegressor\n",
    "\n",
    "from sklearn.metrics import mean_squared_error , r2_score \n",
    "\n",
    "\n",
    "import matplotlib.pyplot as plt\n",
    "import seaborn as sb\n",
    "sb.set_style('darkgrid') # Задаю стиль граффического отбражения данных\n",
    "sb.set_context('notebook') # Задаю стиль граффического отбражения данных"
   ]
  },
  {
   "cell_type": "code",
   "execution_count": 2,
   "metadata": {},
   "outputs": [
    {
     "data": {
      "text/html": [
       "<div>\n",
       "<style scoped>\n",
       "    .dataframe tbody tr th:only-of-type {\n",
       "        vertical-align: middle;\n",
       "    }\n",
       "\n",
       "    .dataframe tbody tr th {\n",
       "        vertical-align: top;\n",
       "    }\n",
       "\n",
       "    .dataframe thead th {\n",
       "        text-align: right;\n",
       "    }\n",
       "</style>\n",
       "<table border=\"1\" class=\"dataframe\">\n",
       "  <thead>\n",
       "    <tr style=\"text-align: right;\">\n",
       "      <th></th>\n",
       "      <th>DateCrawled</th>\n",
       "      <th>Price</th>\n",
       "      <th>VehicleType</th>\n",
       "      <th>RegistrationYear</th>\n",
       "      <th>Gearbox</th>\n",
       "      <th>Power</th>\n",
       "      <th>Model</th>\n",
       "      <th>Kilometer</th>\n",
       "      <th>RegistrationMonth</th>\n",
       "      <th>FuelType</th>\n",
       "      <th>Brand</th>\n",
       "      <th>NotRepaired</th>\n",
       "      <th>DateCreated</th>\n",
       "      <th>NumberOfPictures</th>\n",
       "      <th>PostalCode</th>\n",
       "      <th>LastSeen</th>\n",
       "    </tr>\n",
       "  </thead>\n",
       "  <tbody>\n",
       "    <tr>\n",
       "      <td>0</td>\n",
       "      <td>2016-03-24 11:52:17</td>\n",
       "      <td>480</td>\n",
       "      <td>NaN</td>\n",
       "      <td>1993</td>\n",
       "      <td>manual</td>\n",
       "      <td>0</td>\n",
       "      <td>golf</td>\n",
       "      <td>150000</td>\n",
       "      <td>0</td>\n",
       "      <td>petrol</td>\n",
       "      <td>volkswagen</td>\n",
       "      <td>NaN</td>\n",
       "      <td>2016-03-24 00:00:00</td>\n",
       "      <td>0</td>\n",
       "      <td>70435</td>\n",
       "      <td>2016-04-07 03:16:57</td>\n",
       "    </tr>\n",
       "    <tr>\n",
       "      <td>1</td>\n",
       "      <td>2016-03-24 10:58:45</td>\n",
       "      <td>18300</td>\n",
       "      <td>coupe</td>\n",
       "      <td>2011</td>\n",
       "      <td>manual</td>\n",
       "      <td>190</td>\n",
       "      <td>NaN</td>\n",
       "      <td>125000</td>\n",
       "      <td>5</td>\n",
       "      <td>gasoline</td>\n",
       "      <td>audi</td>\n",
       "      <td>yes</td>\n",
       "      <td>2016-03-24 00:00:00</td>\n",
       "      <td>0</td>\n",
       "      <td>66954</td>\n",
       "      <td>2016-04-07 01:46:50</td>\n",
       "    </tr>\n",
       "    <tr>\n",
       "      <td>2</td>\n",
       "      <td>2016-03-14 12:52:21</td>\n",
       "      <td>9800</td>\n",
       "      <td>suv</td>\n",
       "      <td>2004</td>\n",
       "      <td>auto</td>\n",
       "      <td>163</td>\n",
       "      <td>grand</td>\n",
       "      <td>125000</td>\n",
       "      <td>8</td>\n",
       "      <td>gasoline</td>\n",
       "      <td>jeep</td>\n",
       "      <td>NaN</td>\n",
       "      <td>2016-03-14 00:00:00</td>\n",
       "      <td>0</td>\n",
       "      <td>90480</td>\n",
       "      <td>2016-04-05 12:47:46</td>\n",
       "    </tr>\n",
       "    <tr>\n",
       "      <td>3</td>\n",
       "      <td>2016-03-17 16:54:04</td>\n",
       "      <td>1500</td>\n",
       "      <td>small</td>\n",
       "      <td>2001</td>\n",
       "      <td>manual</td>\n",
       "      <td>75</td>\n",
       "      <td>golf</td>\n",
       "      <td>150000</td>\n",
       "      <td>6</td>\n",
       "      <td>petrol</td>\n",
       "      <td>volkswagen</td>\n",
       "      <td>no</td>\n",
       "      <td>2016-03-17 00:00:00</td>\n",
       "      <td>0</td>\n",
       "      <td>91074</td>\n",
       "      <td>2016-03-17 17:40:17</td>\n",
       "    </tr>\n",
       "    <tr>\n",
       "      <td>4</td>\n",
       "      <td>2016-03-31 17:25:20</td>\n",
       "      <td>3600</td>\n",
       "      <td>small</td>\n",
       "      <td>2008</td>\n",
       "      <td>manual</td>\n",
       "      <td>69</td>\n",
       "      <td>fabia</td>\n",
       "      <td>90000</td>\n",
       "      <td>7</td>\n",
       "      <td>gasoline</td>\n",
       "      <td>skoda</td>\n",
       "      <td>no</td>\n",
       "      <td>2016-03-31 00:00:00</td>\n",
       "      <td>0</td>\n",
       "      <td>60437</td>\n",
       "      <td>2016-04-06 10:17:21</td>\n",
       "    </tr>\n",
       "  </tbody>\n",
       "</table>\n",
       "</div>"
      ],
      "text/plain": [
       "           DateCrawled  Price VehicleType  RegistrationYear Gearbox  Power  \\\n",
       "0  2016-03-24 11:52:17    480         NaN              1993  manual      0   \n",
       "1  2016-03-24 10:58:45  18300       coupe              2011  manual    190   \n",
       "2  2016-03-14 12:52:21   9800         suv              2004    auto    163   \n",
       "3  2016-03-17 16:54:04   1500       small              2001  manual     75   \n",
       "4  2016-03-31 17:25:20   3600       small              2008  manual     69   \n",
       "\n",
       "   Model  Kilometer  RegistrationMonth  FuelType       Brand NotRepaired  \\\n",
       "0   golf     150000                  0    petrol  volkswagen         NaN   \n",
       "1    NaN     125000                  5  gasoline        audi         yes   \n",
       "2  grand     125000                  8  gasoline        jeep         NaN   \n",
       "3   golf     150000                  6    petrol  volkswagen          no   \n",
       "4  fabia      90000                  7  gasoline       skoda          no   \n",
       "\n",
       "           DateCreated  NumberOfPictures  PostalCode             LastSeen  \n",
       "0  2016-03-24 00:00:00                 0       70435  2016-04-07 03:16:57  \n",
       "1  2016-03-24 00:00:00                 0       66954  2016-04-07 01:46:50  \n",
       "2  2016-03-14 00:00:00                 0       90480  2016-04-05 12:47:46  \n",
       "3  2016-03-17 00:00:00                 0       91074  2016-03-17 17:40:17  \n",
       "4  2016-03-31 00:00:00                 0       60437  2016-04-06 10:17:21  "
      ]
     },
     "execution_count": 2,
     "metadata": {},
     "output_type": "execute_result"
    }
   ],
   "source": [
    "df= pd.read_csv('/datasets/autos.csv')\n",
    "#df= pd.read_csv('autos.csv')\n",
    "df.head()"
   ]
  },
  {
   "cell_type": "code",
   "execution_count": 3,
   "metadata": {},
   "outputs": [
    {
     "name": "stdout",
     "output_type": "stream",
     "text": [
      "<class 'pandas.core.frame.DataFrame'>\n",
      "RangeIndex: 354369 entries, 0 to 354368\n",
      "Data columns (total 16 columns):\n",
      "DateCrawled          354369 non-null object\n",
      "Price                354369 non-null int64\n",
      "VehicleType          316879 non-null object\n",
      "RegistrationYear     354369 non-null int64\n",
      "Gearbox              334536 non-null object\n",
      "Power                354369 non-null int64\n",
      "Model                334664 non-null object\n",
      "Kilometer            354369 non-null int64\n",
      "RegistrationMonth    354369 non-null int64\n",
      "FuelType             321474 non-null object\n",
      "Brand                354369 non-null object\n",
      "NotRepaired          283215 non-null object\n",
      "DateCreated          354369 non-null object\n",
      "NumberOfPictures     354369 non-null int64\n",
      "PostalCode           354369 non-null int64\n",
      "LastSeen             354369 non-null object\n",
      "dtypes: int64(7), object(9)\n",
      "memory usage: 43.3+ MB\n"
     ]
    }
   ],
   "source": [
    "df.info()"
   ]
  },
  {
   "cell_type": "markdown",
   "metadata": {},
   "source": [
    "#### После анализа данных методом `info` стало известно, что:\n",
    "1. Необходимо привести ко временому типу признаки:\n",
    "    1. DateCreated\n",
    "    4. LastSeen\n",
    "    5. DateCrawled\n",
    "2. PostalCode - почтовый индекс это категориальная а не количественная фича. \n",
    "3. В следующих признаках есть пропущенные значения(оставим их как есть):\n",
    "    1. VehicleType\n",
    "    2. Gearbox\n",
    "    3. Model\n",
    "    4. FuelType\n",
    "    5. NotRepaired\n",
    "    "
   ]
  },
  {
   "cell_type": "code",
   "execution_count": 4,
   "metadata": {},
   "outputs": [
    {
     "name": "stdout",
     "output_type": "stream",
     "text": [
      "<class 'pandas.core.frame.DataFrame'>\n",
      "RangeIndex: 354369 entries, 0 to 354368\n",
      "Data columns (total 3 columns):\n",
      "DateCreated    354369 non-null datetime64[ns]\n",
      "LastSeen       354369 non-null datetime64[ns]\n",
      "DateCrawled    354369 non-null datetime64[ns]\n",
      "dtypes: datetime64[ns](3)\n",
      "memory usage: 8.1 MB\n"
     ]
    }
   ],
   "source": [
    "dati=['DateCreated','LastSeen','DateCrawled'] \n",
    "df['DateCreated'] = pd.to_datetime(df['DateCreated'])\n",
    "df['LastSeen'] = pd.to_datetime(df['LastSeen'])\n",
    "df['DateCrawled'] = pd.to_datetime(df['DateCrawled'])\n",
    "df[dati].info()"
   ]
  },
  {
   "cell_type": "code",
   "execution_count": 5,
   "metadata": {},
   "outputs": [
    {
     "data": {
      "text/html": [
       "<div>\n",
       "<style scoped>\n",
       "    .dataframe tbody tr th:only-of-type {\n",
       "        vertical-align: middle;\n",
       "    }\n",
       "\n",
       "    .dataframe tbody tr th {\n",
       "        vertical-align: top;\n",
       "    }\n",
       "\n",
       "    .dataframe thead th {\n",
       "        text-align: right;\n",
       "    }\n",
       "</style>\n",
       "<table border=\"1\" class=\"dataframe\">\n",
       "  <thead>\n",
       "    <tr style=\"text-align: right;\">\n",
       "      <th></th>\n",
       "      <th>DateCreated</th>\n",
       "      <th>LastSeen</th>\n",
       "      <th>DateCrawled</th>\n",
       "    </tr>\n",
       "  </thead>\n",
       "  <tbody>\n",
       "    <tr>\n",
       "      <td>0</td>\n",
       "      <td>2016-03-24</td>\n",
       "      <td>2016-04-07 03:16:57</td>\n",
       "      <td>2016-03-24 11:52:17</td>\n",
       "    </tr>\n",
       "    <tr>\n",
       "      <td>1</td>\n",
       "      <td>2016-03-24</td>\n",
       "      <td>2016-04-07 01:46:50</td>\n",
       "      <td>2016-03-24 10:58:45</td>\n",
       "    </tr>\n",
       "    <tr>\n",
       "      <td>2</td>\n",
       "      <td>2016-03-14</td>\n",
       "      <td>2016-04-05 12:47:46</td>\n",
       "      <td>2016-03-14 12:52:21</td>\n",
       "    </tr>\n",
       "  </tbody>\n",
       "</table>\n",
       "</div>"
      ],
      "text/plain": [
       "  DateCreated            LastSeen         DateCrawled\n",
       "0  2016-03-24 2016-04-07 03:16:57 2016-03-24 11:52:17\n",
       "1  2016-03-24 2016-04-07 01:46:50 2016-03-24 10:58:45\n",
       "2  2016-03-14 2016-04-05 12:47:46 2016-03-14 12:52:21"
      ]
     },
     "execution_count": 5,
     "metadata": {},
     "output_type": "execute_result"
    }
   ],
   "source": [
    "df[dati].head(3)"
   ]
  },
  {
   "cell_type": "code",
   "execution_count": 6,
   "metadata": {},
   "outputs": [
    {
     "data": {
      "text/plain": [
       "0    70435\n",
       "Name: PostalCode, dtype: object"
      ]
     },
     "execution_count": 6,
     "metadata": {},
     "output_type": "execute_result"
    }
   ],
   "source": [
    "df['PostalCode']=df['PostalCode'].astype('object')\n",
    "df['PostalCode'].head(1)"
   ]
  },
  {
   "cell_type": "code",
   "execution_count": 7,
   "metadata": {},
   "outputs": [
    {
     "data": {
      "text/html": [
       "<div>\n",
       "<style scoped>\n",
       "    .dataframe tbody tr th:only-of-type {\n",
       "        vertical-align: middle;\n",
       "    }\n",
       "\n",
       "    .dataframe tbody tr th {\n",
       "        vertical-align: top;\n",
       "    }\n",
       "\n",
       "    .dataframe thead th {\n",
       "        text-align: right;\n",
       "    }\n",
       "</style>\n",
       "<table border=\"1\" class=\"dataframe\">\n",
       "  <thead>\n",
       "    <tr style=\"text-align: right;\">\n",
       "      <th></th>\n",
       "      <th>DateCrawled</th>\n",
       "      <th>VehicleType</th>\n",
       "      <th>Gearbox</th>\n",
       "      <th>Model</th>\n",
       "      <th>FuelType</th>\n",
       "      <th>Brand</th>\n",
       "      <th>NotRepaired</th>\n",
       "      <th>DateCreated</th>\n",
       "      <th>PostalCode</th>\n",
       "      <th>LastSeen</th>\n",
       "    </tr>\n",
       "  </thead>\n",
       "  <tbody>\n",
       "    <tr>\n",
       "      <td>0</td>\n",
       "      <td>2016-03-24 11:52:17</td>\n",
       "      <td>NaN</td>\n",
       "      <td>manual</td>\n",
       "      <td>golf</td>\n",
       "      <td>petrol</td>\n",
       "      <td>volkswagen</td>\n",
       "      <td>NaN</td>\n",
       "      <td>2016-03-24</td>\n",
       "      <td>70435</td>\n",
       "      <td>2016-04-07 03:16:57</td>\n",
       "    </tr>\n",
       "    <tr>\n",
       "      <td>1</td>\n",
       "      <td>2016-03-24 10:58:45</td>\n",
       "      <td>coupe</td>\n",
       "      <td>manual</td>\n",
       "      <td>NaN</td>\n",
       "      <td>gasoline</td>\n",
       "      <td>audi</td>\n",
       "      <td>yes</td>\n",
       "      <td>2016-03-24</td>\n",
       "      <td>66954</td>\n",
       "      <td>2016-04-07 01:46:50</td>\n",
       "    </tr>\n",
       "    <tr>\n",
       "      <td>2</td>\n",
       "      <td>2016-03-14 12:52:21</td>\n",
       "      <td>suv</td>\n",
       "      <td>auto</td>\n",
       "      <td>grand</td>\n",
       "      <td>gasoline</td>\n",
       "      <td>jeep</td>\n",
       "      <td>NaN</td>\n",
       "      <td>2016-03-14</td>\n",
       "      <td>90480</td>\n",
       "      <td>2016-04-05 12:47:46</td>\n",
       "    </tr>\n",
       "    <tr>\n",
       "      <td>3</td>\n",
       "      <td>2016-03-17 16:54:04</td>\n",
       "      <td>small</td>\n",
       "      <td>manual</td>\n",
       "      <td>golf</td>\n",
       "      <td>petrol</td>\n",
       "      <td>volkswagen</td>\n",
       "      <td>no</td>\n",
       "      <td>2016-03-17</td>\n",
       "      <td>91074</td>\n",
       "      <td>2016-03-17 17:40:17</td>\n",
       "    </tr>\n",
       "    <tr>\n",
       "      <td>4</td>\n",
       "      <td>2016-03-31 17:25:20</td>\n",
       "      <td>small</td>\n",
       "      <td>manual</td>\n",
       "      <td>fabia</td>\n",
       "      <td>gasoline</td>\n",
       "      <td>skoda</td>\n",
       "      <td>no</td>\n",
       "      <td>2016-03-31</td>\n",
       "      <td>60437</td>\n",
       "      <td>2016-04-06 10:17:21</td>\n",
       "    </tr>\n",
       "    <tr>\n",
       "      <td>...</td>\n",
       "      <td>...</td>\n",
       "      <td>...</td>\n",
       "      <td>...</td>\n",
       "      <td>...</td>\n",
       "      <td>...</td>\n",
       "      <td>...</td>\n",
       "      <td>...</td>\n",
       "      <td>...</td>\n",
       "      <td>...</td>\n",
       "      <td>...</td>\n",
       "    </tr>\n",
       "    <tr>\n",
       "      <td>354364</td>\n",
       "      <td>2016-03-21 09:50:58</td>\n",
       "      <td>NaN</td>\n",
       "      <td>manual</td>\n",
       "      <td>colt</td>\n",
       "      <td>petrol</td>\n",
       "      <td>mitsubishi</td>\n",
       "      <td>yes</td>\n",
       "      <td>2016-03-21</td>\n",
       "      <td>2694</td>\n",
       "      <td>2016-03-21 10:42:49</td>\n",
       "    </tr>\n",
       "    <tr>\n",
       "      <td>354365</td>\n",
       "      <td>2016-03-14 17:48:27</td>\n",
       "      <td>NaN</td>\n",
       "      <td>NaN</td>\n",
       "      <td>NaN</td>\n",
       "      <td>NaN</td>\n",
       "      <td>sonstige_autos</td>\n",
       "      <td>NaN</td>\n",
       "      <td>2016-03-14</td>\n",
       "      <td>39576</td>\n",
       "      <td>2016-04-06 00:46:52</td>\n",
       "    </tr>\n",
       "    <tr>\n",
       "      <td>354366</td>\n",
       "      <td>2016-03-05 19:56:21</td>\n",
       "      <td>convertible</td>\n",
       "      <td>auto</td>\n",
       "      <td>fortwo</td>\n",
       "      <td>petrol</td>\n",
       "      <td>smart</td>\n",
       "      <td>no</td>\n",
       "      <td>2016-03-05</td>\n",
       "      <td>26135</td>\n",
       "      <td>2016-03-11 18:17:12</td>\n",
       "    </tr>\n",
       "    <tr>\n",
       "      <td>354367</td>\n",
       "      <td>2016-03-19 18:57:12</td>\n",
       "      <td>bus</td>\n",
       "      <td>manual</td>\n",
       "      <td>transporter</td>\n",
       "      <td>gasoline</td>\n",
       "      <td>volkswagen</td>\n",
       "      <td>no</td>\n",
       "      <td>2016-03-19</td>\n",
       "      <td>87439</td>\n",
       "      <td>2016-04-07 07:15:26</td>\n",
       "    </tr>\n",
       "    <tr>\n",
       "      <td>354368</td>\n",
       "      <td>2016-03-20 19:41:08</td>\n",
       "      <td>wagon</td>\n",
       "      <td>manual</td>\n",
       "      <td>golf</td>\n",
       "      <td>gasoline</td>\n",
       "      <td>volkswagen</td>\n",
       "      <td>NaN</td>\n",
       "      <td>2016-03-20</td>\n",
       "      <td>40764</td>\n",
       "      <td>2016-03-24 12:45:21</td>\n",
       "    </tr>\n",
       "  </tbody>\n",
       "</table>\n",
       "<p>354369 rows × 10 columns</p>\n",
       "</div>"
      ],
      "text/plain": [
       "               DateCrawled  VehicleType Gearbox        Model  FuelType  \\\n",
       "0      2016-03-24 11:52:17          NaN  manual         golf    petrol   \n",
       "1      2016-03-24 10:58:45        coupe  manual          NaN  gasoline   \n",
       "2      2016-03-14 12:52:21          suv    auto        grand  gasoline   \n",
       "3      2016-03-17 16:54:04        small  manual         golf    petrol   \n",
       "4      2016-03-31 17:25:20        small  manual        fabia  gasoline   \n",
       "...                    ...          ...     ...          ...       ...   \n",
       "354364 2016-03-21 09:50:58          NaN  manual         colt    petrol   \n",
       "354365 2016-03-14 17:48:27          NaN     NaN          NaN       NaN   \n",
       "354366 2016-03-05 19:56:21  convertible    auto       fortwo    petrol   \n",
       "354367 2016-03-19 18:57:12          bus  manual  transporter  gasoline   \n",
       "354368 2016-03-20 19:41:08        wagon  manual         golf  gasoline   \n",
       "\n",
       "                 Brand NotRepaired DateCreated PostalCode            LastSeen  \n",
       "0           volkswagen         NaN  2016-03-24      70435 2016-04-07 03:16:57  \n",
       "1                 audi         yes  2016-03-24      66954 2016-04-07 01:46:50  \n",
       "2                 jeep         NaN  2016-03-14      90480 2016-04-05 12:47:46  \n",
       "3           volkswagen          no  2016-03-17      91074 2016-03-17 17:40:17  \n",
       "4                skoda          no  2016-03-31      60437 2016-04-06 10:17:21  \n",
       "...                ...         ...         ...        ...                 ...  \n",
       "354364      mitsubishi         yes  2016-03-21       2694 2016-03-21 10:42:49  \n",
       "354365  sonstige_autos         NaN  2016-03-14      39576 2016-04-06 00:46:52  \n",
       "354366           smart          no  2016-03-05      26135 2016-03-11 18:17:12  \n",
       "354367      volkswagen          no  2016-03-19      87439 2016-04-07 07:15:26  \n",
       "354368      volkswagen         NaN  2016-03-20      40764 2016-03-24 12:45:21  \n",
       "\n",
       "[354369 rows x 10 columns]"
      ]
     },
     "execution_count": 7,
     "metadata": {},
     "output_type": "execute_result"
    }
   ],
   "source": [
    "df.drop(df.describe().columns,axis=1)"
   ]
  },
  {
   "cell_type": "markdown",
   "metadata": {},
   "source": [
    "#### Выбросы в данных ухудшат качество обучения, к тому же они скорее всего вызваны случайными ошибками."
   ]
  },
  {
   "cell_type": "code",
   "execution_count": 8,
   "metadata": {},
   "outputs": [
    {
     "data": {
      "image/png": "[encoded data removed]",
      "text/plain": [
       "<Figure size 1152x648 with 6 Axes>"
      ]
     },
     "metadata": {},
     "output_type": "display_data"
    }
   ],
   "source": [
    "# Проверю датасет на наличие выбросов.\n",
    "df.hist(figsize=(16,9))\n",
    "plt.show()"
   ]
  },
  {
   "cell_type": "markdown",
   "metadata": {},
   "source": [
    "В первую очередь стоит обратить внимание на признаки:\n",
    "1. `NumberOfPictures` - от количества фотографий ценна может зависить\n",
    "2. `Power` - от мощности тоже\n",
    "3. `RegistrationYear`- от года регистрации тоже но подозреваю что слабее"
   ]
  },
  {
   "cell_type": "code",
   "execution_count": 9,
   "metadata": {},
   "outputs": [
    {
     "data": {
      "text/plain": [
       "0    354369\n",
       "Name: NumberOfPictures, dtype: int64"
      ]
     },
     "execution_count": 9,
     "metadata": {},
     "output_type": "execute_result"
    }
   ],
   "source": [
    "df['NumberOfPictures'].value_counts()"
   ]
  },
  {
   "cell_type": "markdown",
   "metadata": {},
   "source": [
    "В признаке `NumberOfPictures` только нули. Выкинем его он безполезен. "
   ]
  },
  {
   "cell_type": "code",
   "execution_count": 10,
   "metadata": {},
   "outputs": [],
   "source": [
    "df=df.drop('NumberOfPictures',axis=1)"
   ]
  },
  {
   "cell_type": "markdown",
   "metadata": {},
   "source": [
    "<div class=\"alert alert-block alert-info\">\n",
    "<b>Совет:</b> В датасете присуствует много неинформативных признаков, от которых хорошо было бы избавиться тоже.\n",
    "</div>"
   ]
  },
  {
   "cell_type": "markdown",
   "metadata": {},
   "source": [
    "#### Расмотрим "
   ]
  },
  {
   "cell_type": "code",
   "execution_count": 11,
   "metadata": {},
   "outputs": [
    {
     "data": {
      "image/png": "[encoded data removed]",
      "text/plain": [
       "<Figure size 1152x144 with 1 Axes>"
      ]
     },
     "metadata": {},
     "output_type": "display_data"
    }
   ],
   "source": [
    "df.boxplot('Power',figsize=(16,2))\n",
    "plt.show()"
   ]
  },
  {
   "cell_type": "code",
   "execution_count": 12,
   "metadata": {},
   "outputs": [
    {
     "data": {
      "text/plain": [
       "0             0\n",
       "182549        0\n",
       "182543        0\n",
       "182522        0\n",
       "182510        0\n",
       "          ...  \n",
       "63986     17932\n",
       "132485    19208\n",
       "114106    19211\n",
       "299180    19312\n",
       "219584    20000\n",
       "Name: Power, Length: 354369, dtype: int64"
      ]
     },
     "execution_count": 12,
     "metadata": {},
     "output_type": "execute_result"
    }
   ],
   "source": [
    "df['Power'].sort_values()"
   ]
  },
  {
   "cell_type": "code",
   "execution_count": 13,
   "metadata": {},
   "outputs": [
    {
     "data": {
      "text/plain": [
       "DateCrawled          2016-03-09 15:43:53\n",
       "Price                               4300\n",
       "VehicleType                        coupe\n",
       "RegistrationYear                    1999\n",
       "Gearbox                             auto\n",
       "Power                              20000\n",
       "Model                                clk\n",
       "Kilometer                         150000\n",
       "RegistrationMonth                      1\n",
       "FuelType                          petrol\n",
       "Brand                      mercedes_benz\n",
       "NotRepaired                           no\n",
       "DateCreated          2016-03-09 00:00:00\n",
       "PostalCode                         19406\n",
       "LastSeen             2016-03-30 08:47:08\n",
       "Name: 219584, dtype: object"
      ]
     },
     "execution_count": 13,
     "metadata": {},
     "output_type": "execute_result"
    }
   ],
   "source": [
    "df.iloc[219584]"
   ]
  },
  {
   "cell_type": "code",
   "execution_count": 14,
   "metadata": {},
   "outputs": [
    {
     "data": {
      "text/plain": [
       "302"
      ]
     },
     "execution_count": 14,
     "metadata": {},
     "output_type": "execute_result"
    }
   ],
   "source": [
    "df[df['Power']>1000]['Power'].count() "
   ]
  },
  {
   "cell_type": "markdown",
   "metadata": {},
   "source": [
    "Самый мощный автомобиль на данный момент не превосходит 1000 л.с. Всего 302 \"выброса\" по мощности двигателя. Вот почему мерседес бэнц с 20 000 л.с. - ошибка в даных\n",
    "* Возьмем 99% данных , воспользуясь 99,5 и 0,5 квантилями.\n",
    " "
   ]
  },
  {
   "cell_type": "code",
   "execution_count": 15,
   "metadata": {},
   "outputs": [],
   "source": [
    "df=df[df['Power'] < df['Power'].quantile(0.995)]\n",
    "df=df[df['Power'] > df['Power'].quantile(0.005)]"
   ]
  },
  {
   "cell_type": "code",
   "execution_count": 16,
   "metadata": {},
   "outputs": [
    {
     "data": {
      "image/png": "[encoded data removed]",
      "text/plain": [
       "<Figure size 1152x144 with 1 Axes>"
      ]
     },
     "metadata": {},
     "output_type": "display_data"
    }
   ],
   "source": [
    "df['Power'].hist(bins=20,figsize=(16,2))\n",
    "plt.show()"
   ]
  },
  {
   "cell_type": "markdown",
   "metadata": {},
   "source": [
    "Год регистрации так же должен влиять на ценну."
   ]
  },
  {
   "cell_type": "code",
   "execution_count": 17,
   "metadata": {},
   "outputs": [
    {
     "data": {
      "text/plain": [
       "count    312291.000000\n",
       "mean       2003.476283\n",
       "std          34.457946\n",
       "min        1000.000000\n",
       "25%        1999.000000\n",
       "50%        2003.000000\n",
       "75%        2008.000000\n",
       "max        9999.000000\n",
       "Name: RegistrationYear, dtype: float64"
      ]
     },
     "execution_count": 17,
     "metadata": {},
     "output_type": "execute_result"
    }
   ],
   "source": [
    "df['RegistrationYear'].describe()"
   ]
  },
  {
   "cell_type": "code",
   "execution_count": 18,
   "metadata": {},
   "outputs": [
    {
     "data": {
      "image/png": "[encoded data removed]",
      "text/plain": [
       "<Figure size 1152x144 with 1 Axes>"
      ]
     },
     "metadata": {},
     "output_type": "display_data"
    },
    {
     "data": {
      "text/plain": [
       "(312291, 15)"
      ]
     },
     "execution_count": 18,
     "metadata": {},
     "output_type": "execute_result"
    }
   ],
   "source": [
    "df.boxplot('RegistrationYear',figsize=(16,2))\n",
    "plt.show()\n",
    "df.shape"
   ]
  },
  {
   "cell_type": "code",
   "execution_count": 19,
   "metadata": {},
   "outputs": [],
   "source": [
    "df=df[df['RegistrationYear'] < df['RegistrationYear'].quantile(0.995)]\n",
    "df=df[df['RegistrationYear'] > df['RegistrationYear'].quantile(0.005)]"
   ]
  },
  {
   "cell_type": "code",
   "execution_count": 20,
   "metadata": {},
   "outputs": [
    {
     "data": {
      "image/png": "[encoded data removed]",
      "text/plain": [
       "<Figure size 1152x144 with 1 Axes>"
      ]
     },
     "metadata": {},
     "output_type": "display_data"
    }
   ],
   "source": [
    "df['RegistrationYear'].hist(bins=25,figsize=(16,2))\n",
    "plt.show()"
   ]
  },
  {
   "cell_type": "code",
   "execution_count": 21,
   "metadata": {},
   "outputs": [
    {
     "data": {
      "text/plain": [
       "(307622, 15)"
      ]
     },
     "execution_count": 21,
     "metadata": {},
     "output_type": "execute_result"
    }
   ],
   "source": [
    "df.shape"
   ]
  },
  {
   "cell_type": "markdown",
   "metadata": {},
   "source": [
    "#### Избавившись от выбросов используя для обоих случаев 99% выборки я получил достаточно адекватную картину. Также пришлось выкинуть полезный в теории признак КоличествоИзображений в связи с тем что в данных он был заполнен нулями что не скажет нам ни очем. "
   ]
  },
  {
   "cell_type": "code",
   "execution_count": 22,
   "metadata": {},
   "outputs": [],
   "source": [
    "df_OHE=df.dropna()\n",
    "encoder = OrdinalEncoder()\n",
    "categorial = ['VehicleType', 'Gearbox', 'Model', 'FuelType', 'Brand', 'NotRepaired', 'PostalCode']\n",
    "categorial_and_dati = categorial + dati"
   ]
  },
  {
   "cell_type": "code",
   "execution_count": 23,
   "metadata": {},
   "outputs": [],
   "source": [
    "data_ordinal = pd.DataFrame(encoder.fit_transform(df_OHE[categorial_and_dati]),columns = categorial_and_dati)\n",
    "df_OHE = data_ordinal.join(df_OHE.drop(data_ordinal,axis =1).reset_index())"
   ]
  },
  {
   "cell_type": "code",
   "execution_count": 24,
   "metadata": {},
   "outputs": [],
   "source": [
    "features_OHE = df_OHE.drop('Price', axis=1)\n",
    "target_OHE = df_OHE['Price']"
   ]
  },
  {
   "cell_type": "code",
   "execution_count": 25,
   "metadata": {},
   "outputs": [
    {
     "data": {
      "text/plain": [
       "233991"
      ]
     },
     "execution_count": 25,
     "metadata": {},
     "output_type": "execute_result"
    }
   ],
   "source": [
    "features_train_OHE,  features_test_OHE, target_train_OHE , target_test_OHE = train_test_split(features_OHE,target_OHE, test_size=0.20 )\n",
    "target_train_OHE.shape[0] + target_test_OHE.shape[0]"
   ]
  },
  {
   "cell_type": "markdown",
   "metadata": {},
   "source": [
    "# 2. Обучение моделей"
   ]
  },
  {
   "cell_type": "code",
   "execution_count": 26,
   "metadata": {},
   "outputs": [
    {
     "data": {
      "text/html": [
       "<div>\n",
       "<style scoped>\n",
       "    .dataframe tbody tr th:only-of-type {\n",
       "        vertical-align: middle;\n",
       "    }\n",
       "\n",
       "    .dataframe tbody tr th {\n",
       "        vertical-align: top;\n",
       "    }\n",
       "\n",
       "    .dataframe thead th {\n",
       "        text-align: right;\n",
       "    }\n",
       "</style>\n",
       "<table border=\"1\" class=\"dataframe\">\n",
       "  <thead>\n",
       "    <tr style=\"text-align: right;\">\n",
       "      <th></th>\n",
       "      <th>name</th>\n",
       "      <th>best_r2_score</th>\n",
       "      <th>best_RMSE_score</th>\n",
       "      <th>time_for_train</th>\n",
       "      <th>time_for_predict</th>\n",
       "    </tr>\n",
       "  </thead>\n",
       "  <tbody>\n",
       "  </tbody>\n",
       "</table>\n",
       "</div>"
      ],
      "text/plain": [
       "Empty DataFrame\n",
       "Columns: [name, best_r2_score, best_RMSE_score, time_for_train, time_for_predict]\n",
       "Index: []"
      ]
     },
     "execution_count": 26,
     "metadata": {},
     "output_type": "execute_result"
    }
   ],
   "source": [
    "models = pd.DataFrame(columns = ['name','best_r2_score','best_RMSE_score','time_for_train','time_for_predict'])\n",
    "models "
   ]
  },
  {
   "cell_type": "markdown",
   "metadata": {},
   "source": [
    "### Случайный лес\n",
    "#### Параметры"
   ]
  },
  {
   "cell_type": "code",
   "execution_count": 27,
   "metadata": {},
   "outputs": [],
   "source": [
    "max_depth = 10\n",
    "max_estim = 10\n",
    "RFR_parameters = { 'max_depth':range(6,max_depth,2), 'n_estimators': range(6,max_estim,2), }"
   ]
  },
  {
   "cell_type": "code",
   "execution_count": 28,
   "metadata": {},
   "outputs": [
    {
     "name": "stderr",
     "output_type": "stream",
     "text": [
      "/opt/conda/lib/python3.7/site-packages/sklearn/model_selection/_split.py:1978: FutureWarning: The default value of cv will change from 3 to 5 in version 0.22. Specify it explicitly to silence this warning.\n",
      "  warnings.warn(CV_WARNING, FutureWarning)\n"
     ]
    },
    {
     "name": "stdout",
     "output_type": "stream",
     "text": [
      "CPU times: user 47.2 s, sys: 26 ms, total: 47.2 s\n",
      "Wall time: 47.7 s\n"
     ]
    },
    {
     "data": {
      "text/plain": [
       "{'max_depth': 8, 'n_estimators': 8}"
      ]
     },
     "execution_count": 28,
     "metadata": {},
     "output_type": "execute_result"
    }
   ],
   "source": [
    "%%time\n",
    "model_RFR = RandomForestRegressor ()\n",
    "model_RFR_GSCV = GridSearchCV(model_RFR, RFR_parameters)\n",
    "model_RFR_GSCV.fit(features_train_OHE,target_train_OHE)\n",
    "model_RFR_GSCV.best_params_"
   ]
  },
  {
   "cell_type": "code",
   "execution_count": 29,
   "metadata": {},
   "outputs": [],
   "source": [
    "start_time = timeit.default_timer()\n",
    "model_RFR = RandomForestRegressor (max_depth= 8, n_estimators = 8)\n",
    "model_RFR.fit(features_train_OHE,target_train_OHE)\n",
    "time_for_RFR_train = timeit.default_timer() - start_time\n",
    "\n",
    "start_time = timeit.default_timer()\n",
    "model_RFR.predict(features_test_OHE)\n",
    "time_for_RFR_predict = timeit.default_timer() - start_time\n",
    " \n",
    "models.loc[0,'name'] = 'RandomForestRegressor'\n",
    "models.loc[0,'best_r2_score'] = model_RFR_GSCV.best_score_\n",
    "models.loc[0,'best_RMSE_score'] = mean_squared_error(target_test_OHE,model_RFR.predict(features_test_OHE))**0.5\n",
    "\n",
    "models.loc[0,'time_for_train'] = time_for_RFR_train\n",
    "models.loc[0,'time_for_predict'] = time_for_RFR_predict"
   ]
  },
  {
   "cell_type": "markdown",
   "metadata": {},
   "source": [
    "#### Дерево Решений"
   ]
  },
  {
   "cell_type": "code",
   "execution_count": 30,
   "metadata": {},
   "outputs": [
    {
     "name": "stderr",
     "output_type": "stream",
     "text": [
      "/opt/conda/lib/python3.7/site-packages/sklearn/model_selection/_split.py:1978: FutureWarning: The default value of cv will change from 3 to 5 in version 0.22. Specify it explicitly to silence this warning.\n",
      "  warnings.warn(CV_WARNING, FutureWarning)\n"
     ]
    },
    {
     "name": "stdout",
     "output_type": "stream",
     "text": [
      "CPU times: user 31.2 s, sys: 11.2 ms, total: 31.2 s\n",
      "Wall time: 31.4 s\n"
     ]
    }
   ],
   "source": [
    "%%time\n",
    "max_depth_DTR = 20\n",
    "parameters_DTR = { 'max_depth':range(2,max_depth_DTR,2), }\n",
    "model_DTR = DecisionTreeRegressor ()\n",
    "model_DTR_GSCV = GridSearchCV(model_DTR, parameters_DTR)\n",
    "model_DTR_GSCV.fit(features_train_OHE,target_train_OHE)\n",
    "model_DTR_GSCV.best_params_\n",
    "\n",
    "start_time = timeit.default_timer()\n",
    "model_DTR = DecisionTreeRegressor (max_depth = 12)\n",
    "model_DTR.fit(features_train_OHE,target_train_OHE)\n",
    "time_for_DTR_train = timeit.default_timer() - start_time\n",
    "\n",
    "start_time = timeit.default_timer()\n",
    "model_DTR.predict(features_test_OHE)\n",
    "time_for_DTR_predict = timeit.default_timer() - start_time\n",
    "\n",
    "\n",
    "models.loc[1,'name'] = 'DecisionTreeRegressor'\n",
    "models.loc[1,'best_r2_score'] = model_DTR_GSCV.best_score_\n",
    "models.loc[1,'best_RMSE_score'] = mean_squared_error(target_test_OHE,model_DTR.predict(features_test_OHE))**0.5\n",
    "\n",
    "models.loc[1,'time_for_train'] = time_for_DTR_train\n",
    "models.loc[1,'time_for_predict'] = time_for_DTR_predict"
   ]
  },
  {
   "cell_type": "code",
   "execution_count": 31,
   "metadata": {},
   "outputs": [
    {
     "data": {
      "text/html": [
       "<div>\n",
       "<style scoped>\n",
       "    .dataframe tbody tr th:only-of-type {\n",
       "        vertical-align: middle;\n",
       "    }\n",
       "\n",
       "    .dataframe tbody tr th {\n",
       "        vertical-align: top;\n",
       "    }\n",
       "\n",
       "    .dataframe thead th {\n",
       "        text-align: right;\n",
       "    }\n",
       "</style>\n",
       "<table border=\"1\" class=\"dataframe\">\n",
       "  <thead>\n",
       "    <tr style=\"text-align: right;\">\n",
       "      <th></th>\n",
       "      <th>name</th>\n",
       "      <th>best_r2_score</th>\n",
       "      <th>best_RMSE_score</th>\n",
       "      <th>time_for_train</th>\n",
       "      <th>time_for_predict</th>\n",
       "    </tr>\n",
       "  </thead>\n",
       "  <tbody>\n",
       "    <tr>\n",
       "      <td>0</td>\n",
       "      <td>RandomForestRegressor</td>\n",
       "      <td>0.813368</td>\n",
       "      <td>2013.02</td>\n",
       "      <td>6.92299</td>\n",
       "      <td>0.0348343</td>\n",
       "    </tr>\n",
       "    <tr>\n",
       "      <td>1</td>\n",
       "      <td>DecisionTreeRegressor</td>\n",
       "      <td>0.819296</td>\n",
       "      <td>1895.6</td>\n",
       "      <td>1.80917</td>\n",
       "      <td>0.0106082</td>\n",
       "    </tr>\n",
       "  </tbody>\n",
       "</table>\n",
       "</div>"
      ],
      "text/plain": [
       "                    name best_r2_score best_RMSE_score time_for_train  \\\n",
       "0  RandomForestRegressor      0.813368         2013.02        6.92299   \n",
       "1  DecisionTreeRegressor      0.819296          1895.6        1.80917   \n",
       "\n",
       "  time_for_predict  \n",
       "0        0.0348343  \n",
       "1        0.0106082  "
      ]
     },
     "execution_count": 31,
     "metadata": {},
     "output_type": "execute_result"
    }
   ],
   "source": [
    "models"
   ]
  },
  {
   "cell_type": "markdown",
   "metadata": {},
   "source": [
    "#### Стохастический градиентный спуск из sklearn"
   ]
  },
  {
   "cell_type": "code",
   "execution_count": 32,
   "metadata": {},
   "outputs": [
    {
     "name": "stdout",
     "output_type": "stream",
     "text": [
      "CPU times: user 37.7 s, sys: 140 ms, total: 37.8 s\n",
      "Wall time: 37.9 s\n"
     ]
    }
   ],
   "source": [
    "%%time\n",
    "\n",
    "model_skl_SGDR = SGDRegressor ()\n",
    "model_skl_SGDR.fit(features_train_OHE,target_train_OHE)\n",
    "r2_score(target_test_OHE,model_skl_SGDR.predict(features_test_OHE))\n",
    "time_for_skl_SGDR_train = timeit.default_timer() - start_time\n",
    "\n",
    "start_time = timeit.default_timer()\n",
    "model_skl_SGDR.predict(features_test_OHE)\n",
    "time_for_skl_SGDR_predict = timeit.default_timer() - start_time\n",
    "\n",
    "models.loc[2,'name'] = 'SGDRegressor_sklearn'\n",
    "models.loc[2,'best_r2_score'] = r2_score(target_test_OHE,model_skl_SGDR.predict(features_test_OHE))\n",
    "models.loc[2,'best_RMSE_score'] = mean_squared_error(target_test_OHE,model_skl_SGDR.predict(features_test_OHE))**0.5\n",
    "\n",
    "models.loc[2,'time_for_train'] = time_for_skl_SGDR_train\n",
    "models.loc[2,'time_for_predict'] = time_for_skl_SGDR_predict"
   ]
  },
  {
   "cell_type": "markdown",
   "metadata": {},
   "source": [
    "* SGDR стохастический градиентный спуск (регрессор) из sklearn чтото совсем не работает, наверное потому что градиентный спуск не работает с категориальными переменными.\n",
    "Попробовать стоило.  "
   ]
  },
  {
   "cell_type": "markdown",
   "metadata": {},
   "source": [
    "###  LGBM REGRESOR - Регрессор из библиотеки LightGBM"
   ]
  },
  {
   "cell_type": "code",
   "execution_count": 33,
   "metadata": {},
   "outputs": [
    {
     "name": "stdout",
     "output_type": "stream",
     "text": [
      "CPU times: user 3min 55s, sys: 1.02 s, total: 3min 56s\n",
      "Wall time: 3min 58s\n"
     ]
    }
   ],
   "source": [
    "%%time\n",
    "\n",
    "start_time = timeit.default_timer()\n",
    "model_LGBMR = LGBMRegressor ()\n",
    "model_LGBMR.fit(features_train_OHE,target_train_OHE)\n",
    "r2_score(target_test_OHE,model_LGBMR.predict(features_test_OHE))\n",
    "time_for_LGBMR_train = timeit.default_timer() - start_time\n",
    "\n",
    "start_time = timeit.default_timer()\n",
    "model_LGBMR.predict(features_test_OHE)\n",
    "time_fo_LGBMR_predict = timeit.default_timer() - start_time\n",
    "\n",
    "\n",
    "models.loc[3,'name'] = 'LightGBMRegressor'\n",
    "models.loc[3,'best_r2_score'] = r2_score(target_test_OHE,model_LGBMR.predict(features_test_OHE))\n",
    "models.loc[3,'best_RMSE_score'] = mean_squared_error(target_test_OHE,model_LGBMR.predict(features_test_OHE))**0.5\n",
    "\n",
    "models.loc[3,'time_for_train'] = time_for_LGBMR_train\n",
    "models.loc[3,'time_for_predict'] = time_fo_LGBMR_predict"
   ]
  },
  {
   "cell_type": "markdown",
   "metadata": {},
   "source": [
    "# 3. Анализ моделей"
   ]
  },
  {
   "cell_type": "code",
   "execution_count": 34,
   "metadata": {},
   "outputs": [
    {
     "name": "stdout",
     "output_type": "stream",
     "text": [
      "Время выполения всего ноутбука  370.90679503045976 секунд\n"
     ]
    }
   ],
   "source": [
    "full_time = timeit.default_timer() - start_time_all\n",
    "print('Время выполения всего ноутбука ', full_time, 'секунд')"
   ]
  },
  {
   "cell_type": "code",
   "execution_count": 35,
   "metadata": {},
   "outputs": [
    {
     "data": {
      "image/png": "[encoded data removed]",
      "text/plain": [
       "<Figure size 432x288 with 1 Axes>"
      ]
     },
     "metadata": {},
     "output_type": "display_data"
    },
    {
     "data": {
      "image/png": "[encoded data removed]",
      "text/plain": [
       "<Figure size 432x288 with 1 Axes>"
      ]
     },
     "metadata": {},
     "output_type": "display_data"
    },
    {
     "data": {
      "image/png": "[encoded data removed]",
      "text/plain": [
       "<Figure size 432x288 with 1 Axes>"
      ]
     },
     "metadata": {},
     "output_type": "display_data"
    }
   ],
   "source": [
    "plt.hist(target_test_OHE,histtype='step',label='целевой признак')\n",
    "plt.hist(model_RFR.predict(features_test_OHE),histtype='step', label = 'предсказание RandomForestRegressor')\n",
    "plt.legend()\n",
    "plt.title('Распределение целевого признака(цены)')\n",
    "plt.xlabel('Цена(евро)')\n",
    "plt.show()\n",
    "plt.hist(target_test_OHE,histtype='step',label='целевой признак')\n",
    "plt.hist(model_DTR.predict(features_test_OHE),histtype='step', label = 'предсказание DecisionTreeRegressor')\n",
    "plt.title('Распределение целевого признака(цены)')\n",
    "plt.xlabel('Цена(евро)')\n",
    "plt.legend()\n",
    "plt.show()\n",
    "plt.hist(target_test_OHE,histtype='step',label='целевой признак')\n",
    "plt.hist(model_LGBMR.predict(features_test_OHE),histtype='step', label = 'предсказание LightGBMRegressor')\n",
    "plt.title('Распределение целевого признака(цены)')\n",
    "plt.xlabel('Цена(евро)')\n",
    "plt.legend()\n",
    "plt.show()"
   ]
  },
  {
   "cell_type": "code",
   "execution_count": 36,
   "metadata": {},
   "outputs": [
    {
     "data": {
      "text/html": [
       "<div>\n",
       "<style scoped>\n",
       "    .dataframe tbody tr th:only-of-type {\n",
       "        vertical-align: middle;\n",
       "    }\n",
       "\n",
       "    .dataframe tbody tr th {\n",
       "        vertical-align: top;\n",
       "    }\n",
       "\n",
       "    .dataframe thead th {\n",
       "        text-align: right;\n",
       "    }\n",
       "</style>\n",
       "<table border=\"1\" class=\"dataframe\">\n",
       "  <thead>\n",
       "    <tr style=\"text-align: right;\">\n",
       "      <th></th>\n",
       "      <th>name</th>\n",
       "      <th>best_r2_score</th>\n",
       "      <th>best_RMSE_score</th>\n",
       "      <th>time_for_train</th>\n",
       "      <th>time_for_predict</th>\n",
       "    </tr>\n",
       "  </thead>\n",
       "  <tbody>\n",
       "    <tr>\n",
       "      <td>0</td>\n",
       "      <td>RandomForestRegressor</td>\n",
       "      <td>0.813368</td>\n",
       "      <td>2013.02</td>\n",
       "      <td>6.92299</td>\n",
       "      <td>0.0348343</td>\n",
       "    </tr>\n",
       "    <tr>\n",
       "      <td>1</td>\n",
       "      <td>DecisionTreeRegressor</td>\n",
       "      <td>0.819296</td>\n",
       "      <td>1895.6</td>\n",
       "      <td>1.80917</td>\n",
       "      <td>0.0106082</td>\n",
       "    </tr>\n",
       "    <tr>\n",
       "      <td>2</td>\n",
       "      <td>SGDRegressor_sklearn</td>\n",
       "      <td>-1.78693e+30</td>\n",
       "      <td>6.28974e+18</td>\n",
       "      <td>37.651</td>\n",
       "      <td>0.0946621</td>\n",
       "    </tr>\n",
       "    <tr>\n",
       "      <td>3</td>\n",
       "      <td>LightGBMRegressor</td>\n",
       "      <td>0.877921</td>\n",
       "      <td>1643.99</td>\n",
       "      <td>236.319</td>\n",
       "      <td>0.588426</td>\n",
       "    </tr>\n",
       "  </tbody>\n",
       "</table>\n",
       "</div>"
      ],
      "text/plain": [
       "                    name best_r2_score best_RMSE_score time_for_train  \\\n",
       "0  RandomForestRegressor      0.813368         2013.02        6.92299   \n",
       "1  DecisionTreeRegressor      0.819296          1895.6        1.80917   \n",
       "2   SGDRegressor_sklearn  -1.78693e+30     6.28974e+18         37.651   \n",
       "3      LightGBMRegressor      0.877921         1643.99        236.319   \n",
       "\n",
       "  time_for_predict  \n",
       "0        0.0348343  \n",
       "1        0.0106082  \n",
       "2        0.0946621  \n",
       "3         0.588426  "
      ]
     },
     "execution_count": 36,
     "metadata": {},
     "output_type": "execute_result"
    }
   ],
   "source": [
    "models"
   ]
  },
  {
   "cell_type": "markdown",
   "metadata": {},
   "source": [
    "# Вывод \n",
    "При работе локально самым быстрым и точным оказался LightGBMRegressor, он обучился за 2 секунды, однако время на предсказание у него на порядок больше чем у простых моделей. Поэтому компромисом можно выбрать DecisionTreeRegressor.\n",
    "Когда я загрузил проект сюда, LightGBMRegressor стал вдруг непозволительно медленным(+-3 минуты), в сравнении с тем что было локально(+-2 секунды)."
   ]
  }
 ],
 "metadata": {
  "kernelspec": {
   "display_name": "Python 3",
   "language": "python",
   "name": "python3"
  },
  "language_info": {
   "codemirror_mode": {
    "name": "ipython",
    "version": 3
   },
   "file_extension": ".py",
   "mimetype": "text/x-python",
   "name": "python",
   "nbconvert_exporter": "python",
   "pygments_lexer": "ipython3",
   "version": "3.7.6"
  }
 },
 "nbformat": 4,
 "nbformat_minor": 4
}
