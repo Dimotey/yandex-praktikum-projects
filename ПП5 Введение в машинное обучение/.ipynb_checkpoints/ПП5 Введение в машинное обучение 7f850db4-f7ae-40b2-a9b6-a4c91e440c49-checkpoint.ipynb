{
 "cells": [
  {
   "cell_type": "markdown",
   "metadata": {},
   "source": [
    "# Рекомендация тарифов"
   ]
  },
  {
   "cell_type": "markdown",
   "metadata": {},
   "source": [
    "Коментарий Ученика: Я за 1 день полной работы справился и со спринтом и с этим проектом (+-), кроме пункта 5. Волнусь что, что-то не так понял потому что было слишком легко. Если всё действительно просто, то такой проект позволит развить мне немалую смелось к экспериментам с машинным обучением. \n",
    "1. Я не стал пробовать больше трех критериев и углубляться внутрь \"черных ящиков\", я оставил это на потом, а то выясниться что я не так всё понимаю, нужна какая то точка для заземления, особено когда сделал проект вот так быстро. \n",
    "2. Проект получился небольшой и я его ещё по сути написал когда делал последнее задание в тренажере, так что я не стал писать к нему оглавление. "
   ]
  },
  {
   "cell_type": "markdown",
   "metadata": {},
   "source": [
    "## 1. Откройте и изучите файл"
   ]
  },
  {
   "cell_type": "code",
   "execution_count": 1,
   "metadata": {},
   "outputs": [],
   "source": [
    "\"\"\"Импорт необходимых библиотек и функций\"\"\"\n",
    "import pandas as pd\n",
    "from sklearn.tree import DecisionTreeClassifier\n",
    "from sklearn.ensemble import RandomForestClassifier\n",
    "from sklearn.linear_model import LogisticRegression\n",
    "from sklearn.model_selection import train_test_split\n",
    "from sklearn.metrics import accuracy_score"
   ]
  },
  {
   "cell_type": "code",
   "execution_count": 2,
   "metadata": {},
   "outputs": [],
   "source": [
    "\"\"\"Загрузка дынных\"\"\"\n",
    "df = pd.read_csv('users_behavior.csv')"
   ]
  },
  {
   "cell_type": "code",
   "execution_count": 3,
   "metadata": {},
   "outputs": [
    {
     "data": {
      "text/html": [
       "<div>\n",
       "<style scoped>\n",
       "    .dataframe tbody tr th:only-of-type {\n",
       "        vertical-align: middle;\n",
       "    }\n",
       "\n",
       "    .dataframe tbody tr th {\n",
       "        vertical-align: top;\n",
       "    }\n",
       "\n",
       "    .dataframe thead th {\n",
       "        text-align: right;\n",
       "    }\n",
       "</style>\n",
       "<table border=\"1\" class=\"dataframe\">\n",
       "  <thead>\n",
       "    <tr style=\"text-align: right;\">\n",
       "      <th></th>\n",
       "      <th>calls</th>\n",
       "      <th>minutes</th>\n",
       "      <th>messages</th>\n",
       "      <th>mb_used</th>\n",
       "      <th>is_ultra</th>\n",
       "    </tr>\n",
       "  </thead>\n",
       "  <tbody>\n",
       "    <tr>\n",
       "      <td>0</td>\n",
       "      <td>40.0</td>\n",
       "      <td>311.90</td>\n",
       "      <td>83.0</td>\n",
       "      <td>19915.42</td>\n",
       "      <td>0</td>\n",
       "    </tr>\n",
       "    <tr>\n",
       "      <td>1</td>\n",
       "      <td>85.0</td>\n",
       "      <td>516.75</td>\n",
       "      <td>56.0</td>\n",
       "      <td>22696.96</td>\n",
       "      <td>0</td>\n",
       "    </tr>\n",
       "    <tr>\n",
       "      <td>2</td>\n",
       "      <td>77.0</td>\n",
       "      <td>467.66</td>\n",
       "      <td>86.0</td>\n",
       "      <td>21060.45</td>\n",
       "      <td>0</td>\n",
       "    </tr>\n",
       "    <tr>\n",
       "      <td>3</td>\n",
       "      <td>106.0</td>\n",
       "      <td>745.53</td>\n",
       "      <td>81.0</td>\n",
       "      <td>8437.39</td>\n",
       "      <td>1</td>\n",
       "    </tr>\n",
       "    <tr>\n",
       "      <td>4</td>\n",
       "      <td>66.0</td>\n",
       "      <td>418.74</td>\n",
       "      <td>1.0</td>\n",
       "      <td>14502.75</td>\n",
       "      <td>0</td>\n",
       "    </tr>\n",
       "  </tbody>\n",
       "</table>\n",
       "</div>"
      ],
      "text/plain": [
       "   calls  minutes  messages   mb_used  is_ultra\n",
       "0   40.0   311.90      83.0  19915.42         0\n",
       "1   85.0   516.75      56.0  22696.96         0\n",
       "2   77.0   467.66      86.0  21060.45         0\n",
       "3  106.0   745.53      81.0   8437.39         1\n",
       "4   66.0   418.74       1.0  14502.75         0"
      ]
     },
     "execution_count": 3,
     "metadata": {},
     "output_type": "execute_result"
    }
   ],
   "source": [
    "\"\"\"Знакомство с данными\"\"\"\n",
    "df.head(5)"
   ]
  },
  {
   "cell_type": "markdown",
   "metadata": {},
   "source": [
    "Каждый объект в наборе данных — это информация о поведении одного пользователя за месяц. Известно:\n",
    "* сalls — количество звонков,\n",
    "* minutes — суммарная длительность звонков в минутах,\n",
    "* messages — количество sms-сообщений,\n",
    "* mb_used — израсходованный интернет-трафик в Мб,\n",
    "* is_ultra — каким тарифом пользовался в течение месяца («Ультра» — 1, «Смарт» — 0)."
   ]
  },
  {
   "cell_type": "code",
   "execution_count": 4,
   "metadata": {},
   "outputs": [
    {
     "name": "stdout",
     "output_type": "stream",
     "text": [
      "<class 'pandas.core.frame.DataFrame'>\n",
      "RangeIndex: 3214 entries, 0 to 3213\n",
      "Data columns (total 5 columns):\n",
      "calls       3214 non-null float64\n",
      "minutes     3214 non-null float64\n",
      "messages    3214 non-null float64\n",
      "mb_used     3214 non-null float64\n",
      "is_ultra    3214 non-null int64\n",
      "dtypes: float64(4), int64(1)\n",
      "memory usage: 125.7 KB\n"
     ]
    }
   ],
   "source": [
    "\"\"\"Знакомство с данными\"\"\"\n",
    "df.info()"
   ]
  },
  {
   "cell_type": "markdown",
   "metadata": {},
   "source": [
    "Столбцы `calls`, `messages` можно преобразовать к типу `int`, но в данной задаче не обязательно. "
   ]
  },
  {
   "cell_type": "code",
   "execution_count": 5,
   "metadata": {},
   "outputs": [
    {
     "data": {
      "text/html": [
       "<div>\n",
       "<style scoped>\n",
       "    .dataframe tbody tr th:only-of-type {\n",
       "        vertical-align: middle;\n",
       "    }\n",
       "\n",
       "    .dataframe tbody tr th {\n",
       "        vertical-align: top;\n",
       "    }\n",
       "\n",
       "    .dataframe thead th {\n",
       "        text-align: right;\n",
       "    }\n",
       "</style>\n",
       "<table border=\"1\" class=\"dataframe\">\n",
       "  <thead>\n",
       "    <tr style=\"text-align: right;\">\n",
       "      <th></th>\n",
       "      <th>calls</th>\n",
       "      <th>minutes</th>\n",
       "      <th>messages</th>\n",
       "      <th>mb_used</th>\n",
       "      <th>is_ultra</th>\n",
       "    </tr>\n",
       "  </thead>\n",
       "  <tbody>\n",
       "    <tr>\n",
       "      <td>count</td>\n",
       "      <td>3214.000000</td>\n",
       "      <td>3214.000000</td>\n",
       "      <td>3214.000000</td>\n",
       "      <td>3214.000000</td>\n",
       "      <td>3214.000000</td>\n",
       "    </tr>\n",
       "    <tr>\n",
       "      <td>mean</td>\n",
       "      <td>63.038892</td>\n",
       "      <td>438.208787</td>\n",
       "      <td>38.281269</td>\n",
       "      <td>17207.673836</td>\n",
       "      <td>0.306472</td>\n",
       "    </tr>\n",
       "    <tr>\n",
       "      <td>std</td>\n",
       "      <td>33.236368</td>\n",
       "      <td>234.569872</td>\n",
       "      <td>36.148326</td>\n",
       "      <td>7570.968246</td>\n",
       "      <td>0.461100</td>\n",
       "    </tr>\n",
       "    <tr>\n",
       "      <td>min</td>\n",
       "      <td>0.000000</td>\n",
       "      <td>0.000000</td>\n",
       "      <td>0.000000</td>\n",
       "      <td>0.000000</td>\n",
       "      <td>0.000000</td>\n",
       "    </tr>\n",
       "    <tr>\n",
       "      <td>25%</td>\n",
       "      <td>40.000000</td>\n",
       "      <td>274.575000</td>\n",
       "      <td>9.000000</td>\n",
       "      <td>12491.902500</td>\n",
       "      <td>0.000000</td>\n",
       "    </tr>\n",
       "    <tr>\n",
       "      <td>50%</td>\n",
       "      <td>62.000000</td>\n",
       "      <td>430.600000</td>\n",
       "      <td>30.000000</td>\n",
       "      <td>16943.235000</td>\n",
       "      <td>0.000000</td>\n",
       "    </tr>\n",
       "    <tr>\n",
       "      <td>75%</td>\n",
       "      <td>82.000000</td>\n",
       "      <td>571.927500</td>\n",
       "      <td>57.000000</td>\n",
       "      <td>21424.700000</td>\n",
       "      <td>1.000000</td>\n",
       "    </tr>\n",
       "    <tr>\n",
       "      <td>max</td>\n",
       "      <td>244.000000</td>\n",
       "      <td>1632.060000</td>\n",
       "      <td>224.000000</td>\n",
       "      <td>49745.730000</td>\n",
       "      <td>1.000000</td>\n",
       "    </tr>\n",
       "  </tbody>\n",
       "</table>\n",
       "</div>"
      ],
      "text/plain": [
       "             calls      minutes     messages       mb_used     is_ultra\n",
       "count  3214.000000  3214.000000  3214.000000   3214.000000  3214.000000\n",
       "mean     63.038892   438.208787    38.281269  17207.673836     0.306472\n",
       "std      33.236368   234.569872    36.148326   7570.968246     0.461100\n",
       "min       0.000000     0.000000     0.000000      0.000000     0.000000\n",
       "25%      40.000000   274.575000     9.000000  12491.902500     0.000000\n",
       "50%      62.000000   430.600000    30.000000  16943.235000     0.000000\n",
       "75%      82.000000   571.927500    57.000000  21424.700000     1.000000\n",
       "max     244.000000  1632.060000   224.000000  49745.730000     1.000000"
      ]
     },
     "execution_count": 5,
     "metadata": {},
     "output_type": "execute_result"
    }
   ],
   "source": [
    "\"\"\"Знакомство с данными\"\"\"\n",
    "df.describe()"
   ]
  },
  {
   "cell_type": "markdown",
   "metadata": {},
   "source": [
    "Пропусков не замеченно в датасете"
   ]
  },
  {
   "cell_type": "code",
   "execution_count": 6,
   "metadata": {},
   "outputs": [
    {
     "name": "stdout",
     "output_type": "stream",
     "text": [
      "Всего дубликатов 0\n"
     ]
    }
   ],
   "source": [
    "\"\"\"Поиск дубликатов\"\"\"\n",
    "print('Всего дубликатов',df.duplicated().sum())"
   ]
  },
  {
   "cell_type": "markdown",
   "metadata": {},
   "source": [
    "### Вывод о знакомстве с данными\n",
    "    Данные были уже предообработаны ранее не мной, что очень удобно. \n",
    "* Каждый объект в наборе данных — это информация о поведении одного пользователя за месяц.\n",
    "* Столбцы `calls`, `messages` можно преобразовать к типу `int` из типа `float64` , но в данной задаче это не критично. \n",
    "* Пропусков замеченно не было\n",
    "* Дубликатов замеченно не было"
   ]
  },
  {
   "cell_type": "markdown",
   "metadata": {},
   "source": [
    "## 2. Разбейте данные на выборки"
   ]
  },
  {
   "cell_type": "code",
   "execution_count": 7,
   "metadata": {},
   "outputs": [],
   "source": [
    "\"\"\"Подготавливаю данные для работы\"\"\"\n",
    "features = df.drop('is_ultra', axis=1) #Признаки для всей выборки\n",
    "target = df['is_ultra']# Целевой признак для всей выборки\n",
    "\n",
    "\"\"\"Делю датасет на обучающую, валидационную и тестовую выборку в соотношении 60%/20%/20% соответственно\"\"\"\n",
    "df_train, df_valid_test = train_test_split(df, test_size=0.4, random_state=12345)  # делю исходную на обучающую и валидотестовую чтобы потом её ещё на 2 разделить\n",
    "df_valid , df_test = train_test_split(df_valid_test, test_size=0.5, random_state=12345)"
   ]
  },
  {
   "cell_type": "code",
   "execution_count": 8,
   "metadata": {},
   "outputs": [],
   "source": [
    "\"\"\"Подготавливаю признаки и целевой признак для обучающей выборки\"\"\"\n",
    "features_train = df_train.drop('is_ultra', axis=1)\n",
    "target_train = df_train['is_ultra']"
   ]
  },
  {
   "cell_type": "code",
   "execution_count": 9,
   "metadata": {},
   "outputs": [],
   "source": [
    "\"\"\"Подготавливаю признаки и целевой признак для валидационной выборки\"\"\"\n",
    "features_valid = df_valid.drop('is_ultra', axis=1)\n",
    "target_valid = df_valid['is_ultra']"
   ]
  },
  {
   "cell_type": "code",
   "execution_count": 10,
   "metadata": {},
   "outputs": [],
   "source": [
    "\"\"\"Подготавливаю признаки и целевой признак для тестовой выборки\"\"\"\n",
    "features_test = df_test.drop('is_ultra', axis=1)\n",
    "target_test = df_test['is_ultra']"
   ]
  },
  {
   "cell_type": "markdown",
   "metadata": {},
   "source": [
    "## 3. Исследуйте модели"
   ]
  },
  {
   "cell_type": "markdown",
   "metadata": {},
   "source": [
    "Выбраны 3 модели:\n",
    "1. **DecisionTreeClassifier** - Дерево Решений\n",
    "2. **RandomForestClassifier** - Случайный Лес\n",
    "3. **LogisticRegression** - Логическая регрессия"
   ]
  },
  {
   "cell_type": "markdown",
   "metadata": {},
   "source": [
    "### 3.1 DecisionTreeClassifier - Дерево Решений\n",
    "Гиперпараметры:\n",
    "1. max_depth - максимальная глубина дерева;\n",
    "2. criterion - критерий разделения\n",
    "\n",
    "    **Коротко о модели:**   *Этот классификатор разбивает данные на всё меньшие и меньшие подмножества на основе разных критериев, т. е. у каждого подмножества своя сортирующая категория. С каждым разделением количество объектов определённого критерия уменьшается.   Классификация подойдёт к концу, когда сеть дойдёт до подмножества только с одним объектом. Если объединить несколько подобных деревьев решений, то получится так называемый Случайный Лес (англ. Random Forest).*"
   ]
  },
  {
   "cell_type": "code",
   "execution_count": 18,
   "metadata": {},
   "outputs": [
    {
     "name": "stdout",
     "output_type": "stream",
     "text": [
      "Решающее дерево с критерием gini:\n",
      "max_depth= 2 accurasy: 0.7822706065318819\n",
      "max_depth= 4 accurasy: 0.7791601866251944\n",
      "max_depth= 6 accurasy: 0.7838258164852255\n",
      "max_depth= 8 accurasy: 0.7791601866251944\n",
      "max_depth= 10 accurasy: 0.7744945567651633\n"
     ]
    }
   ],
   "source": [
    "print('Решающее дерево с критерием gini:')\n",
    "for i in range(2,11,2):\n",
    "    model_tree = DecisionTreeClassifier(random_state=12345, max_depth=i, criterion = 'gini')\n",
    "    model_tree.fit(features_train, target_train)\n",
    "    predicted_valid_tree = model_tree.predict(features_valid) \n",
    "    accu = accuracy_score( target_valid , predicted_valid_tree )\n",
    "    print('max_depth=', i, \"accurasy=\", accu)"
   ]
  },
  {
   "cell_type": "code",
   "execution_count": 19,
   "metadata": {},
   "outputs": [
    {
     "name": "stdout",
     "output_type": "stream",
     "text": [
      "Решающее дерево с критерием entropy:\n",
      "max_depth= 2 accurasy: 0.7822706065318819\n",
      "max_depth= 4 accurasy: 0.7838258164852255\n",
      "max_depth= 6 accurasy: 0.7853810264385692\n",
      "max_depth= 8 accurasy: 0.7776049766718507\n",
      "max_depth= 10 accurasy: 0.7729393468118196\n"
     ]
    }
   ],
   "source": [
    "print('Решающее дерево с критерием entropy:')\n",
    "for i in range(2,11,2):\n",
    "    model_tree = DecisionTreeClassifier(random_state=12345, max_depth=i, criterion = 'entropy')\n",
    "    model_tree.fit(features_train, target_train)\n",
    "    predicted_valid_tree = model_tree.predict(features_valid) \n",
    "    accu = accuracy_score( target_valid , predicted_valid_tree )\n",
    "    print('max_depth=', i, \"accurasy=\", accu)"
   ]
  },
  {
   "cell_type": "markdown",
   "metadata": {},
   "source": [
    "#### Вывод 3.1: Исследование дерева решений\n",
    "1. Максимальное значени `accurasy` = 0.7853810264385692 достигнуто при  `max_depth` = 6 и `criterion` = 'entropy'. \n",
    "2. Accurasy при различных параметрах отличается на проценты/десятые процентов."
   ]
  },
  {
   "cell_type": "markdown",
   "metadata": {},
   "source": [
    "### 3.2 **RandomForestClassifier** - Случайный Лес\n",
    "Гиперпараметры:\n",
    "\n",
    "1. max_depth - максимальная глубина дерева;\n",
    "2. criterion - критерий разделения\n",
    "3. n_estimators - количество деревьев"
   ]
  },
  {
   "cell_type": "code",
   "execution_count": 20,
   "metadata": {},
   "outputs": [
    {
     "name": "stdout",
     "output_type": "stream",
     "text": [
      "Случайный лес с критерием gini:\n",
      "n_estimators= 10\n",
      "max_depth= 2 accurasy: 0.7776049766718507\n",
      "max_depth= 4 accurasy: 0.7900466562986003\n",
      "max_depth= 6 accurasy: 0.8009331259720062\n",
      "max_depth= 8 accurasy: 0.7962674961119751\n",
      "max_depth= 10 accurasy: 0.7916018662519441\n",
      "n_estimators= 20\n",
      "max_depth= 2 accurasy: 0.7838258164852255\n",
      "max_depth= 4 accurasy: 0.7884914463452566\n",
      "max_depth= 6 accurasy: 0.7993779160186625\n",
      "max_depth= 8 accurasy: 0.7978227060653188\n",
      "max_depth= 10 accurasy: 0.7916018662519441\n",
      "n_estimators= 30\n",
      "max_depth= 2 accurasy: 0.7838258164852255\n",
      "max_depth= 4 accurasy: 0.7869362363919129\n",
      "max_depth= 6 accurasy: 0.8009331259720062\n",
      "max_depth= 8 accurasy: 0.7993779160186625\n",
      "max_depth= 10 accurasy: 0.7947122861586314\n",
      "n_estimators= 40\n",
      "max_depth= 2 accurasy: 0.7853810264385692\n",
      "max_depth= 4 accurasy: 0.7900466562986003\n",
      "max_depth= 6 accurasy: 0.80248833592535\n",
      "max_depth= 8 accurasy: 0.8087091757387247\n",
      "max_depth= 10 accurasy: 0.7962674961119751\n",
      "n_estimators= 50\n",
      "max_depth= 2 accurasy: 0.7838258164852255\n",
      "max_depth= 4 accurasy: 0.7869362363919129\n",
      "max_depth= 6 accurasy: 0.7993779160186625\n",
      "max_depth= 8 accurasy: 0.807153965785381\n",
      "max_depth= 10 accurasy: 0.7931570762052877\n"
     ]
    }
   ],
   "source": [
    "print('Случайный лес с критерием gini:')\n",
    "for j in range(10,51,10):\n",
    "    print('n_estimators=',j)\n",
    "    for i in range(2,11,2): \n",
    "        model_forest = RandomForestClassifier(random_state=12345, max_depth = i , n_estimators = j, criterion = 'gini')\n",
    "        model_forest.fit(features_train, target_train)\n",
    "        predicted_valid_forest = model_forest.predict(features_valid) \n",
    "        accu = accuracy_score( target_valid , predicted_valid_forest )\n",
    "        print('max_depth=', i, \"accurasy:\", accu)"
   ]
  },
  {
   "cell_type": "code",
   "execution_count": 21,
   "metadata": {},
   "outputs": [
    {
     "name": "stdout",
     "output_type": "stream",
     "text": [
      "Случайный лес с критерием entropy:\n",
      "n_estimators= 10\n",
      "max_depth= 2 accurasy: 0.7807153965785381\n",
      "max_depth= 4 accurasy: 0.7884914463452566\n",
      "max_depth= 6 accurasy: 0.7962674961119751\n",
      "max_depth= 8 accurasy: 0.7962674961119751\n",
      "max_depth= 10 accurasy: 0.7978227060653188\n",
      "n_estimators= 20\n",
      "max_depth= 2 accurasy: 0.7853810264385692\n",
      "max_depth= 4 accurasy: 0.7916018662519441\n",
      "max_depth= 6 accurasy: 0.8009331259720062\n",
      "max_depth= 8 accurasy: 0.7916018662519441\n",
      "max_depth= 10 accurasy: 0.80248833592535\n",
      "n_estimators= 30\n",
      "max_depth= 2 accurasy: 0.7869362363919129\n",
      "max_depth= 4 accurasy: 0.7869362363919129\n",
      "max_depth= 6 accurasy: 0.80248833592535\n",
      "max_depth= 8 accurasy: 0.7962674961119751\n",
      "max_depth= 10 accurasy: 0.7978227060653188\n",
      "n_estimators= 40\n",
      "max_depth= 2 accurasy: 0.7869362363919129\n",
      "max_depth= 4 accurasy: 0.7916018662519441\n",
      "max_depth= 6 accurasy: 0.807153965785381\n",
      "max_depth= 8 accurasy: 0.80248833592535\n",
      "max_depth= 10 accurasy: 0.7947122861586314\n",
      "n_estimators= 50\n",
      "max_depth= 2 accurasy: 0.7869362363919129\n",
      "max_depth= 4 accurasy: 0.7884914463452566\n",
      "max_depth= 6 accurasy: 0.80248833592535\n",
      "max_depth= 8 accurasy: 0.7993779160186625\n",
      "max_depth= 10 accurasy: 0.7947122861586314\n"
     ]
    }
   ],
   "source": [
    "print('Случайный лес с критерием entropy:')\n",
    "for j in range(10,51,10):\n",
    "    print('n_estimators=',j)\n",
    "    for i in range(2,11,2): \n",
    "        model_forest = RandomForestClassifier(random_state=12345, max_depth = i , n_estimators = j, criterion = 'entropy')\n",
    "        model_forest.fit(features_train, target_train)\n",
    "        predicted_valid_forest = model_forest.predict(features_valid) \n",
    "        accu = accuracy_score( target_valid , predicted_valid_forest )\n",
    "        print('max_depth=', i, \"accurasy:\", accu)"
   ]
  },
  {
   "cell_type": "markdown",
   "metadata": {},
   "source": [
    "#### Вывод 3.2: Исследование случайного леса\n",
    "1. Максимальная accurasy была на при значениях `max_dept` = 8, `n_estimators` = 40, `criterion` = 'gini'\n",
    "2. Accurasy при различных параметрах отличается на проценты/десятые процентов."
   ]
  },
  {
   "cell_type": "markdown",
   "metadata": {},
   "source": [
    "### 3.3 LogisticRegression - Логическая регрессия\n",
    "Гиперпараметры: \n",
    "1. solver -  алгоритм, использующийся для оптимизации:\n",
    "      1. `liblinear` - For small datasets, ‘liblinear’ is a good choice, whereas ‘sag’ and ‘saga’ are faster for large ones. \n",
    "      1. `lbfgs` -УСТАНОВЛЕН ПО УМАОЛЧАНИЮ - Limited-memory BFGS (L-BFGS or LM-BFGS) is an optimization algorithm in the family of quasi-Newton methods that approximates the Broyden–Fletcher–Goldfarb–Shanno algorithm (BFGS) using a limited amount of computer memory.\n",
    "      1. `newton-cg` - Метод Ньютона, простой итерационный метод.\n",
    "\n",
    "**Коротко о модели:** *Логистическая регрессия выводит прогнозы о точках в бинарном масштабе — нулевом или единичном. Если значение чего-либо равно либо больше 0.5, то объект классифицируется в большую сторону (к единице). Если значение меньше 0.5 — в меньшую (к нулю). У каждого признака есть своя метка, равная только 0 или только 1. Логистическая регрессия является линейным классификатором и поэтому используется, когда в данных прослеживается какая-то линейная зависимость.*"
   ]
  },
  {
   "cell_type": "code",
   "execution_count": 31,
   "metadata": {},
   "outputs": [
    {
     "name": "stdout",
     "output_type": "stream",
     "text": [
      "solver: liblinear . Аccuracy_score = 0.7573872472783826\n",
      "solver: lbfgs . Аccuracy_score = 0.7107309486780715\n",
      "solver: newton-cg . Аccuracy_score = 0.7558320373250389\n"
     ]
    },
    {
     "name": "stderr",
     "output_type": "stream",
     "text": [
      "C:\\Users\\Dmitr\\Anaconda3\\lib\\site-packages\\scipy\\optimize\\linesearch.py:466: LineSearchWarning: The line search algorithm did not converge\n",
      "  warn('The line search algorithm did not converge', LineSearchWarning)\n",
      "C:\\Users\\Dmitr\\Anaconda3\\lib\\site-packages\\scipy\\optimize\\linesearch.py:314: LineSearchWarning: The line search algorithm did not converge\n",
      "  warn('The line search algorithm did not converge', LineSearchWarning)\n",
      "C:\\Users\\Dmitr\\Anaconda3\\lib\\site-packages\\scipy\\optimize\\linesearch.py:466: LineSearchWarning: The line search algorithm did not converge\n",
      "  warn('The line search algorithm did not converge', LineSearchWarning)\n",
      "C:\\Users\\Dmitr\\Anaconda3\\lib\\site-packages\\scipy\\optimize\\linesearch.py:314: LineSearchWarning: The line search algorithm did not converge\n",
      "  warn('The line search algorithm did not converge', LineSearchWarning)\n"
     ]
    }
   ],
   "source": [
    "sol=['liblinear','lbfgs','newton-cg']\n",
    "for solv in sol:\n",
    "    model_logreg = LogisticRegression(random_state=12345, solver = solv)\n",
    "    model_logreg.fit(features_train, target_train)\n",
    "    predicted_valid_logreg = model_logreg.predict(features_valid) \n",
    "    accu = accuracy_score( target_valid , predicted_valid_logreg )\n",
    "    print('solver:',solv,'. Аccuracy_score =',accu)"
   ]
  },
  {
   "cell_type": "markdown",
   "metadata": {},
   "source": [
    "#### Вывод 3.4: Исследование логистической регрессии\n",
    "1. Максимальная accurasy(0.7573872472783826) была на при значениях `solver` = liblinear .\n",
    "2. Accurasy при различных параметрах отличается на проценты/десятые процентов."
   ]
  },
  {
   "cell_type": "markdown",
   "metadata": {},
   "source": [
    "### Вывод 3 о исследовании моделей\n",
    "Были ислледованы следующие параметры:\n",
    "* для дерева решений\n",
    "    * max_depth\n",
    "    * criterion\n",
    "* для случайног леса\n",
    "    * max_depth\n",
    "    * criterion\n",
    "    * n_estimators\n",
    "* для логической регресии\n",
    "    * solver\n",
    "    \n",
    "Максимальные значения `accurasy` были получены:     \n",
    "* для дерева решений(0.7853810264385692 ) при параметрах\n",
    "    * max_depth = 8\n",
    "    * criterion = entropy\n",
    "* для случайног леса(0.8087091757387247) при параметрах\n",
    "    * max_depth = 8\n",
    "    * criterion = gini\n",
    "    * n_estimators = 40\n",
    "* для логической регресии(0.7573872472783826) при параметрах\n",
    "    * solver = liblinear\n",
    "    \n",
    "    **В связи с этим стоит выбрать случайный лес с параметрами  `max_depth` = 8, `criterion` = gini, `n_estimators` = 40  для проверки на тестовой выборке**"
   ]
  },
  {
   "cell_type": "markdown",
   "metadata": {},
   "source": [
    "## 4. Проверьте модель на тестовой выборке"
   ]
  },
  {
   "cell_type": "code",
   "execution_count": 33,
   "metadata": {},
   "outputs": [
    {
     "data": {
      "text/plain": [
       "0.7962674961119751"
      ]
     },
     "execution_count": 33,
     "metadata": {},
     "output_type": "execute_result"
    }
   ],
   "source": [
    "model_forest = RandomForestClassifier(random_state=12345, max_depth = 8 , n_estimators = 40, criterion = 'gini')\n",
    "model_forest.fit(features_train, target_train)\n",
    "predicted_test_forest = model_forest.predict(features_test) \n",
    "accu = accuracy_score( target_test , predicted_test_forest )\n",
    "accu"
   ]
  },
  {
   "cell_type": "markdown",
   "metadata": {},
   "source": [
    "Достигнута требуемая точность: значение `accurasy`(0.7962674961119751) больше 0.75."
   ]
  },
  {
   "cell_type": "markdown",
   "metadata": {},
   "source": [
    "## 5. (бонус) Проверьте модели на адекватность"
   ]
  },
  {
   "cell_type": "markdown",
   "metadata": {},
   "source": [
    "Не понял что имеется ввиду..."
   ]
  },
  {
   "cell_type": "markdown",
   "metadata": {},
   "source": [
    "# Выводы по результатам исследования\n",
    "1. Ислледованны такие модели(и их параметры) как: дерево решений(max_depth, criterion), случайный лес(max_depth, criterion, n_estimators),логическая регресия(solver)\n",
    "2. Выбранна наилучашя модель - случайный лес с параметрами с параметрами  `max_depth` = 8, `criterion` = gini, `n_estimators` = 40 , которая дастигла наивысшей точности на валидационной выборке (0.8087091757387247).\n",
    "3. Достигнута требуемая точность: значение `accurasy`(0.7962674961119751) больше 0.75."
   ]
  },
  {
   "cell_type": "markdown",
   "metadata": {},
   "source": [
    "## Чек-лист готовности проекта"
   ]
  },
  {
   "cell_type": "markdown",
   "metadata": {},
   "source": [
    "Поставьте 'x' в выполненных пунктах. Далее нажмите Shift+Enter."
   ]
  },
  {
   "cell_type": "markdown",
   "metadata": {},
   "source": [
    "- [x] Jupyter Notebook открыт\n",
    "- [x] Весь код исполняется без ошибок\n",
    "- [x] Ячейки с кодом расположены в порядке исполнения\n",
    "- [x] Выполнено задание 1: данные загружены и изучены\n",
    "- [x] Выполнено задание 2: данные разбиты на три выборки\n",
    "- [x] Выполнено задание 3: проведено исследование моделей\n",
    "    - [x] Рассмотрено больше одной модели\n",
    "    - [x] Рассмотрено хотя бы 3 значения гипепараметров для какой-нибудь модели\n",
    "    - [x] Написаны выводы по результатам исследования\n",
    "- [x] Выполнено задание 3: Проведено тестирование\n",
    "- [x] Удалось достичь accuracy не меньше 0.75\n"
   ]
  },
  {
   "cell_type": "code",
   "execution_count": 6,
   "metadata": {},
   "outputs": [
    {
     "name": "stdout",
     "output_type": "stream",
     "text": [
      "0.3784551354930391\n",
      "0.16447073084035702\n"
     ]
    },
    {
     "data": {
      "text/plain": [
       "['modelRandomForestRegressorDepth11N_estim100.joblib']"
      ]
     },
     "execution_count": 6,
     "metadata": {},
     "output_type": "execute_result"
    }
   ],
   "source": [
    "\"\"\"Импорт необходимых библиотек и функций\"\"\"\n",
    "import pandas as pd\n",
    "from sklearn.tree import DecisionTreeRegressor\n",
    "from sklearn.ensemble import RandomForestRegressor\n",
    "from sklearn.linear_model import LinearRegression\n",
    "from sklearn.model_selection import train_test_split\n",
    "from sklearn.metrics import accuracy_score\n",
    "import joblib\n",
    "from joblib import dump\n",
    "\n",
    "\"\"\"Загрузка дынных\"\"\"\n",
    "df = pd.read_csv('flights_preprocessed.csv')\n",
    "\n",
    "\n",
    "df.head()\n",
    "\n",
    "\"\"\"Подготавливаю данные для работы\"\"\"\n",
    "\"\"\"Делю датасет на обучающую, валидационную и тестовую выборку в соотношении 60%/20%/20% соответственно\"\"\"\n",
    "df_train, df_valid = train_test_split(df, test_size=0.25, random_state=12345)  # делю исходную на обучающую и валидотестовую чтобы потом её ещё на 2 разделить\n",
    "\n",
    "features_train = df_train.drop('Arrival Delay', axis=1) \n",
    "target_train = df_train['Arrival Delay']\n",
    "\n",
    "features_valid = df_valid.drop('Arrival Delay', axis=1)\n",
    "target_valid = df_valid['Arrival Delay']\n",
    "model = RandomForestRegressor(n_estimators=100, max_depth= 11, random_state=12345)\n",
    "model.fit(features_train, target_train)\n",
    "print(model.score(features_train, target_train))\n",
    "print(model.score(features_valid, target_valid))\n",
    "joblib.dump(model, 'modelRandomForestRegressorDepth11N_estim100.joblib')"
   ]
  },
  {
   "cell_type": "code",
   "execution_count": null,
   "metadata": {},
   "outputs": [],
   "source": []
  }
 ],
 "metadata": {
  "kernelspec": {
   "display_name": "Python 3",
   "language": "python",
   "name": "python3"
  },
  "language_info": {
   "codemirror_mode": {
    "name": "ipython",
    "version": 3
   },
   "file_extension": ".py",
   "mimetype": "text/x-python",
   "name": "python",
   "nbconvert_exporter": "python",
   "pygments_lexer": "ipython3",
   "version": "3.7.6"
  }
 },
 "nbformat": 4,
 "nbformat_minor": 4
}
